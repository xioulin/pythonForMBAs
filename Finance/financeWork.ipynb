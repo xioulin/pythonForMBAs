{
 "cells": [
  {
   "cell_type": "code",
   "execution_count": 1,
   "metadata": {
    "collapsed": true,
    "ExecuteTime": {
     "start_time": "2023-12-25T20:30:02.123352Z",
     "end_time": "2023-12-25T20:30:08.043068Z"
    }
   },
   "outputs": [],
   "source": [
    "import yfinance as yf"
   ]
  },
  {
   "cell_type": "code",
   "execution_count": 2,
   "outputs": [],
   "source": [
    "\n",
    "tickerSymbol = 'F'"
   ],
   "metadata": {
    "collapsed": false,
    "ExecuteTime": {
     "start_time": "2023-12-25T20:30:04.547786Z",
     "end_time": "2023-12-25T20:30:08.050426Z"
    }
   }
  },
  {
   "cell_type": "code",
   "execution_count": 3,
   "outputs": [],
   "source": [
    "tickerData = yf.Ticker(tickerSymbol)"
   ],
   "metadata": {
    "collapsed": false,
    "ExecuteTime": {
     "start_time": "2023-12-25T20:30:04.559052Z",
     "end_time": "2023-12-25T20:30:08.051006Z"
    }
   }
  },
  {
   "cell_type": "code",
   "execution_count": 4,
   "outputs": [],
   "source": [
    "tickerDf = tickerData.history(period='1d', start='2010-1-1', end='2020-1-25')"
   ],
   "metadata": {
    "collapsed": false,
    "ExecuteTime": {
     "start_time": "2023-12-25T20:30:04.568200Z",
     "end_time": "2023-12-25T20:30:08.051302Z"
    }
   }
  },
  {
   "cell_type": "code",
   "execution_count": 5,
   "outputs": [
    {
     "data": {
      "text/plain": "                               Open      High       Low     Close     Volume   \nDate                                                                           \n2010-01-04 00:00:00-05:00  6.011645  6.076667  5.940711  6.076667   60855800  \\\n2010-01-05 00:00:00-05:00  6.177159  6.644140  6.147603  6.478628  215620200   \n2010-01-06 00:00:00-05:00  6.626406  6.774185  6.579117  6.720984  200070600   \n2010-01-07 00:00:00-05:00  6.774183  6.910140  6.691427  6.892406  130201700   \n2010-01-08 00:00:00-05:00  6.898319  6.939697  6.774185  6.910141  130463000   \n...                             ...       ...       ...       ...        ...   \n2020-01-17 00:00:00-05:00  7.879795  7.914093  7.828350  7.854073   41644900   \n2020-01-21 00:00:00-05:00  7.845498  7.905519  7.802627  7.896945   49556400   \n2020-01-22 00:00:00-05:00  7.905519  7.931242  7.845498  7.854073   39914800   \n2020-01-23 00:00:00-05:00  7.836925  7.854073  7.656864  7.836925   75848700   \n2020-01-24 00:00:00-05:00  7.811200  7.819775  7.682586  7.716883   68100900   \n\n                           Dividends  Stock Splits  \nDate                                                \n2010-01-04 00:00:00-05:00        0.0           0.0  \n2010-01-05 00:00:00-05:00        0.0           0.0  \n2010-01-06 00:00:00-05:00        0.0           0.0  \n2010-01-07 00:00:00-05:00        0.0           0.0  \n2010-01-08 00:00:00-05:00        0.0           0.0  \n...                              ...           ...  \n2020-01-17 00:00:00-05:00        0.0           0.0  \n2020-01-21 00:00:00-05:00        0.0           0.0  \n2020-01-22 00:00:00-05:00        0.0           0.0  \n2020-01-23 00:00:00-05:00        0.0           0.0  \n2020-01-24 00:00:00-05:00        0.0           0.0  \n\n[2532 rows x 7 columns]",
      "text/html": "<div>\n<style scoped>\n    .dataframe tbody tr th:only-of-type {\n        vertical-align: middle;\n    }\n\n    .dataframe tbody tr th {\n        vertical-align: top;\n    }\n\n    .dataframe thead th {\n        text-align: right;\n    }\n</style>\n<table border=\"1\" class=\"dataframe\">\n  <thead>\n    <tr style=\"text-align: right;\">\n      <th></th>\n      <th>Open</th>\n      <th>High</th>\n      <th>Low</th>\n      <th>Close</th>\n      <th>Volume</th>\n      <th>Dividends</th>\n      <th>Stock Splits</th>\n    </tr>\n    <tr>\n      <th>Date</th>\n      <th></th>\n      <th></th>\n      <th></th>\n      <th></th>\n      <th></th>\n      <th></th>\n      <th></th>\n    </tr>\n  </thead>\n  <tbody>\n    <tr>\n      <th>2010-01-04 00:00:00-05:00</th>\n      <td>6.011645</td>\n      <td>6.076667</td>\n      <td>5.940711</td>\n      <td>6.076667</td>\n      <td>60855800</td>\n      <td>0.0</td>\n      <td>0.0</td>\n    </tr>\n    <tr>\n      <th>2010-01-05 00:00:00-05:00</th>\n      <td>6.177159</td>\n      <td>6.644140</td>\n      <td>6.147603</td>\n      <td>6.478628</td>\n      <td>215620200</td>\n      <td>0.0</td>\n      <td>0.0</td>\n    </tr>\n    <tr>\n      <th>2010-01-06 00:00:00-05:00</th>\n      <td>6.626406</td>\n      <td>6.774185</td>\n      <td>6.579117</td>\n      <td>6.720984</td>\n      <td>200070600</td>\n      <td>0.0</td>\n      <td>0.0</td>\n    </tr>\n    <tr>\n      <th>2010-01-07 00:00:00-05:00</th>\n      <td>6.774183</td>\n      <td>6.910140</td>\n      <td>6.691427</td>\n      <td>6.892406</td>\n      <td>130201700</td>\n      <td>0.0</td>\n      <td>0.0</td>\n    </tr>\n    <tr>\n      <th>2010-01-08 00:00:00-05:00</th>\n      <td>6.898319</td>\n      <td>6.939697</td>\n      <td>6.774185</td>\n      <td>6.910141</td>\n      <td>130463000</td>\n      <td>0.0</td>\n      <td>0.0</td>\n    </tr>\n    <tr>\n      <th>...</th>\n      <td>...</td>\n      <td>...</td>\n      <td>...</td>\n      <td>...</td>\n      <td>...</td>\n      <td>...</td>\n      <td>...</td>\n    </tr>\n    <tr>\n      <th>2020-01-17 00:00:00-05:00</th>\n      <td>7.879795</td>\n      <td>7.914093</td>\n      <td>7.828350</td>\n      <td>7.854073</td>\n      <td>41644900</td>\n      <td>0.0</td>\n      <td>0.0</td>\n    </tr>\n    <tr>\n      <th>2020-01-21 00:00:00-05:00</th>\n      <td>7.845498</td>\n      <td>7.905519</td>\n      <td>7.802627</td>\n      <td>7.896945</td>\n      <td>49556400</td>\n      <td>0.0</td>\n      <td>0.0</td>\n    </tr>\n    <tr>\n      <th>2020-01-22 00:00:00-05:00</th>\n      <td>7.905519</td>\n      <td>7.931242</td>\n      <td>7.845498</td>\n      <td>7.854073</td>\n      <td>39914800</td>\n      <td>0.0</td>\n      <td>0.0</td>\n    </tr>\n    <tr>\n      <th>2020-01-23 00:00:00-05:00</th>\n      <td>7.836925</td>\n      <td>7.854073</td>\n      <td>7.656864</td>\n      <td>7.836925</td>\n      <td>75848700</td>\n      <td>0.0</td>\n      <td>0.0</td>\n    </tr>\n    <tr>\n      <th>2020-01-24 00:00:00-05:00</th>\n      <td>7.811200</td>\n      <td>7.819775</td>\n      <td>7.682586</td>\n      <td>7.716883</td>\n      <td>68100900</td>\n      <td>0.0</td>\n      <td>0.0</td>\n    </tr>\n  </tbody>\n</table>\n<p>2532 rows × 7 columns</p>\n</div>"
     },
     "execution_count": 5,
     "metadata": {},
     "output_type": "execute_result"
    }
   ],
   "source": [
    "tickerDf"
   ],
   "metadata": {
    "collapsed": false,
    "ExecuteTime": {
     "start_time": "2023-12-25T20:30:05.631896Z",
     "end_time": "2023-12-25T20:30:08.059637Z"
    }
   }
  },
  {
   "cell_type": "code",
   "execution_count": 6,
   "outputs": [
    {
     "data": {
      "text/plain": "                               Open      High       Low     Close     Volume   \nDate                                                                           \n2010-01-04 00:00:00-05:00  6.011645  6.076667  5.940711  6.076667   60855800  \\\n2010-01-05 00:00:00-05:00  6.177159  6.644140  6.147603  6.478628  215620200   \n2010-01-06 00:00:00-05:00  6.626406  6.774185  6.579117  6.720984  200070600   \n2010-01-07 00:00:00-05:00  6.774183  6.910140  6.691427  6.892406  130201700   \n2010-01-08 00:00:00-05:00  6.898319  6.939697  6.774185  6.910141  130463000   \n\n                           Dividends  Stock Splits  \nDate                                                \n2010-01-04 00:00:00-05:00        0.0           0.0  \n2010-01-05 00:00:00-05:00        0.0           0.0  \n2010-01-06 00:00:00-05:00        0.0           0.0  \n2010-01-07 00:00:00-05:00        0.0           0.0  \n2010-01-08 00:00:00-05:00        0.0           0.0  ",
      "text/html": "<div>\n<style scoped>\n    .dataframe tbody tr th:only-of-type {\n        vertical-align: middle;\n    }\n\n    .dataframe tbody tr th {\n        vertical-align: top;\n    }\n\n    .dataframe thead th {\n        text-align: right;\n    }\n</style>\n<table border=\"1\" class=\"dataframe\">\n  <thead>\n    <tr style=\"text-align: right;\">\n      <th></th>\n      <th>Open</th>\n      <th>High</th>\n      <th>Low</th>\n      <th>Close</th>\n      <th>Volume</th>\n      <th>Dividends</th>\n      <th>Stock Splits</th>\n    </tr>\n    <tr>\n      <th>Date</th>\n      <th></th>\n      <th></th>\n      <th></th>\n      <th></th>\n      <th></th>\n      <th></th>\n      <th></th>\n    </tr>\n  </thead>\n  <tbody>\n    <tr>\n      <th>2010-01-04 00:00:00-05:00</th>\n      <td>6.011645</td>\n      <td>6.076667</td>\n      <td>5.940711</td>\n      <td>6.076667</td>\n      <td>60855800</td>\n      <td>0.0</td>\n      <td>0.0</td>\n    </tr>\n    <tr>\n      <th>2010-01-05 00:00:00-05:00</th>\n      <td>6.177159</td>\n      <td>6.644140</td>\n      <td>6.147603</td>\n      <td>6.478628</td>\n      <td>215620200</td>\n      <td>0.0</td>\n      <td>0.0</td>\n    </tr>\n    <tr>\n      <th>2010-01-06 00:00:00-05:00</th>\n      <td>6.626406</td>\n      <td>6.774185</td>\n      <td>6.579117</td>\n      <td>6.720984</td>\n      <td>200070600</td>\n      <td>0.0</td>\n      <td>0.0</td>\n    </tr>\n    <tr>\n      <th>2010-01-07 00:00:00-05:00</th>\n      <td>6.774183</td>\n      <td>6.910140</td>\n      <td>6.691427</td>\n      <td>6.892406</td>\n      <td>130201700</td>\n      <td>0.0</td>\n      <td>0.0</td>\n    </tr>\n    <tr>\n      <th>2010-01-08 00:00:00-05:00</th>\n      <td>6.898319</td>\n      <td>6.939697</td>\n      <td>6.774185</td>\n      <td>6.910141</td>\n      <td>130463000</td>\n      <td>0.0</td>\n      <td>0.0</td>\n    </tr>\n  </tbody>\n</table>\n</div>"
     },
     "execution_count": 6,
     "metadata": {},
     "output_type": "execute_result"
    }
   ],
   "source": [
    "tickerDf.head()"
   ],
   "metadata": {
    "collapsed": false,
    "ExecuteTime": {
     "start_time": "2023-12-25T20:30:05.682321Z",
     "end_time": "2023-12-25T20:30:08.060474Z"
    }
   }
  }
 ],
 "metadata": {
  "kernelspec": {
   "display_name": "Python 3",
   "language": "python",
   "name": "python3"
  },
  "language_info": {
   "codemirror_mode": {
    "name": "ipython",
    "version": 2
   },
   "file_extension": ".py",
   "mimetype": "text/x-python",
   "name": "python",
   "nbconvert_exporter": "python",
   "pygments_lexer": "ipython2",
   "version": "2.7.6"
  }
 },
 "nbformat": 4,
 "nbformat_minor": 0
}
