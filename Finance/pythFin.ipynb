{
 "cells": [
  {
   "cell_type": "code",
   "execution_count": 1,
   "metadata": {
    "collapsed": true,
    "ExecuteTime": {
     "start_time": "2023-12-24T16:34:20.035281Z",
     "end_time": "2023-12-24T16:34:20.045916Z"
    }
   },
   "outputs": [],
   "source": [
    "v=[0.5,0.75,1.0,1.5,2.0]"
   ]
  },
  {
   "cell_type": "code",
   "execution_count": 55,
   "outputs": [],
   "source": [
    "m= [v,v,v,]"
   ],
   "metadata": {
    "collapsed": false,
    "ExecuteTime": {
     "start_time": "2023-12-24T16:17:38.522446Z",
     "end_time": "2023-12-24T16:17:38.738955Z"
    }
   }
  },
  {
   "cell_type": "code",
   "execution_count": 56,
   "outputs": [],
   "source": [
    "from copy import deepcopy\n",
    "n= 3*[deepcopy(v),]"
   ],
   "metadata": {
    "collapsed": false,
    "ExecuteTime": {
     "start_time": "2023-12-24T16:17:38.558119Z",
     "end_time": "2023-12-24T16:17:38.756067Z"
    }
   }
  },
  {
   "cell_type": "code",
   "execution_count": 3,
   "outputs": [],
   "source": [
    "v[1]='pyth'\n",
    "#print(m)\n",
    "#print(n)"
   ],
   "metadata": {
    "collapsed": false,
    "ExecuteTime": {
     "start_time": "2023-12-24T16:35:15.992019Z",
     "end_time": "2023-12-24T16:35:16.017074Z"
    }
   }
  },
  {
   "cell_type": "code",
   "execution_count": 4,
   "outputs": [],
   "source": [
    "u=[0.5,0.75,1.0,1.5,2.0]\n",
    "import array"
   ],
   "metadata": {
    "collapsed": false,
    "ExecuteTime": {
     "start_time": "2023-12-24T16:35:17.577144Z",
     "end_time": "2023-12-24T16:35:17.593349Z"
    }
   }
  },
  {
   "cell_type": "code",
   "execution_count": 6,
   "outputs": [
    {
     "name": "stdout",
     "output_type": "stream",
     "text": [
      "array('f', [0.5, 0.75, 1.0, 1.5, 2.0])\n"
     ]
    }
   ],
   "source": [
    "a=array.array('f',u)\n",
    "print(a)"
   ],
   "metadata": {
    "collapsed": false,
    "ExecuteTime": {
     "start_time": "2023-12-24T16:35:29.091859Z",
     "end_time": "2023-12-24T16:35:29.117565Z"
    }
   }
  },
  {
   "cell_type": "code",
   "execution_count": 7,
   "outputs": [
    {
     "name": "stdout",
     "output_type": "stream",
     "text": [
      "array('f', [0.5, 0.75, 1.0, 1.5, 2.0, 0.5, 0.75, 1.0, 1.5, 2.0])\n"
     ]
    }
   ],
   "source": [
    "a=2*a\n",
    "print(a)\n"
   ],
   "metadata": {
    "collapsed": false,
    "ExecuteTime": {
     "start_time": "2023-12-24T16:35:50.720565Z",
     "end_time": "2023-12-24T16:35:50.759231Z"
    }
   }
  },
  {
   "cell_type": "code",
   "execution_count": 9,
   "outputs": [
    {
     "data": {
      "text/plain": "[0.5, 0.75, 1.0, 1.5, 2.0, 0.5, 0.75, 1.0, 1.5, 2.0]"
     },
     "execution_count": 9,
     "metadata": {},
     "output_type": "execute_result"
    }
   ],
   "source": [
    "a.tolist()\n"
   ],
   "metadata": {
    "collapsed": false,
    "ExecuteTime": {
     "start_time": "2023-12-24T16:36:16.976903Z",
     "end_time": "2023-12-24T16:36:17.010793Z"
    }
   }
  },
  {
   "cell_type": "code",
   "execution_count": 10,
   "outputs": [],
   "source": [
    "f= open('array.apy','wb')\n",
    "a.tofile(f)\n",
    "f.close()"
   ],
   "metadata": {
    "collapsed": false,
    "ExecuteTime": {
     "start_time": "2023-12-24T16:36:31.570526Z",
     "end_time": "2023-12-24T16:36:31.595548Z"
    }
   }
  },
  {
   "cell_type": "code",
   "execution_count": 11,
   "outputs": [],
   "source": [
    "with open('array.apy','wb') as f:\n",
    "    a.tofile(f)"
   ],
   "metadata": {
    "collapsed": false,
    "ExecuteTime": {
     "start_time": "2023-12-24T16:36:54.330102Z",
     "end_time": "2023-12-24T16:36:54.349111Z"
    }
   }
  },
  {
   "cell_type": "code",
   "execution_count": 12,
   "outputs": [],
   "source": [
    "b= array.array('f')"
   ],
   "metadata": {
    "collapsed": false,
    "ExecuteTime": {
     "start_time": "2023-12-24T16:37:50.779180Z",
     "end_time": "2023-12-24T16:37:50.808151Z"
    }
   }
  },
  {
   "cell_type": "code",
   "execution_count": 13,
   "outputs": [],
   "source": [
    "with open('array.apy','rb') as f:\n",
    "    b.fromfile(f,5)"
   ],
   "metadata": {
    "collapsed": false,
    "ExecuteTime": {
     "start_time": "2023-12-24T16:38:14.477757Z",
     "end_time": "2023-12-24T16:38:14.497170Z"
    }
   }
  },
  {
   "cell_type": "code",
   "execution_count": 14,
   "outputs": [
    {
     "name": "stdout",
     "output_type": "stream",
     "text": [
      "array('f', [0.5, 0.75, 1.0, 1.5, 2.0])\n"
     ]
    }
   ],
   "source": [
    "print(b)"
   ],
   "metadata": {
    "collapsed": false,
    "ExecuteTime": {
     "start_time": "2023-12-24T16:38:29.560871Z",
     "end_time": "2023-12-24T16:38:29.576820Z"
    }
   }
  },
  {
   "cell_type": "code",
   "execution_count": 15,
   "outputs": [],
   "source": [
    "with open('array.apy','rb') as f:\n",
    "    b.fromfile(f,2)"
   ],
   "metadata": {
    "collapsed": false,
    "ExecuteTime": {
     "start_time": "2023-12-24T16:39:00.087994Z",
     "end_time": "2023-12-24T16:39:00.104793Z"
    }
   }
  },
  {
   "cell_type": "code",
   "execution_count": 16,
   "outputs": [
    {
     "name": "stdout",
     "output_type": "stream",
     "text": [
      "array('f', [0.5, 0.75, 1.0, 1.5, 2.0, 0.5, 0.75])\n"
     ]
    }
   ],
   "source": [
    "print(b)"
   ],
   "metadata": {
    "collapsed": false,
    "ExecuteTime": {
     "start_time": "2023-12-24T16:39:09.248681Z",
     "end_time": "2023-12-24T16:39:09.270487Z"
    }
   }
  },
  {
   "cell_type": "code",
   "execution_count": 17,
   "outputs": [],
   "source": [
    "import numpy as np"
   ],
   "metadata": {
    "collapsed": false,
    "ExecuteTime": {
     "start_time": "2023-12-24T16:40:19.816350Z",
     "end_time": "2023-12-24T16:40:20.131502Z"
    }
   }
  },
  {
   "cell_type": "code",
   "execution_count": 22,
   "outputs": [],
   "source": [
    "c= np.array([0,0.5,1.0,1.5,2.0])"
   ],
   "metadata": {
    "collapsed": false,
    "ExecuteTime": {
     "start_time": "2023-12-24T16:45:04.503806Z",
     "end_time": "2023-12-24T16:45:04.516448Z"
    }
   }
  },
  {
   "cell_type": "code",
   "execution_count": 19,
   "outputs": [
    {
     "name": "stdout",
     "output_type": "stream",
     "text": [
      "[ 0 10 20 30]\n"
     ]
    }
   ],
   "source": [
    "d= np.arange(0,40,10)\n",
    "print(d)"
   ],
   "metadata": {
    "collapsed": false,
    "ExecuteTime": {
     "start_time": "2023-12-24T16:41:53.195624Z",
     "end_time": "2023-12-24T16:41:53.220161Z"
    }
   }
  },
  {
   "cell_type": "code",
   "execution_count": 24,
   "outputs": [
    {
     "name": "stdout",
     "output_type": "stream",
     "text": [
      "[[0.         0.5        1.         1.5        2.        ]\n",
      " [1.         0.70710678 1.         1.83711731 4.        ]]\n"
     ]
    },
    {
     "ename": "AttributeError",
     "evalue": "'numpy.ndarray' object has no attribute 'extend'",
     "output_type": "error",
     "traceback": [
      "\u001B[0;31m---------------------------------------------------------------------------\u001B[0m",
      "\u001B[0;31mAttributeError\u001B[0m                            Traceback (most recent call last)",
      "Cell \u001B[0;32mIn[24], line 3\u001B[0m\n\u001B[1;32m      1\u001B[0m e\u001B[38;5;241m=\u001B[39m np\u001B[38;5;241m.\u001B[39marray([c,c\u001B[38;5;241m*\u001B[39m\u001B[38;5;241m*\u001B[39mc])\n\u001B[1;32m      2\u001B[0m \u001B[38;5;28mprint\u001B[39m(e)\n\u001B[0;32m----> 3\u001B[0m \u001B[43mc\u001B[49m\u001B[38;5;241;43m.\u001B[39;49m\u001B[43mextend\u001B[49m([\u001B[38;5;241m3.0\u001B[39m,\u001B[38;5;241m4.0\u001B[39m])\n\u001B[1;32m      4\u001B[0m \u001B[38;5;28mprint\u001B[39m(e)\n",
      "\u001B[0;31mAttributeError\u001B[0m: 'numpy.ndarray' object has no attribute 'extend'"
     ]
    }
   ],
   "source": [
    "e= np.array([c,c**c])\n",
    "print(e)\n",
    "c.extend([3.0,4.0])\n",
    "print(e)"
   ],
   "metadata": {
    "collapsed": false,
    "ExecuteTime": {
     "start_time": "2023-12-24T16:45:07.895109Z",
     "end_time": "2023-12-24T16:45:07.912460Z"
    }
   }
  }
 ],
 "metadata": {
  "kernelspec": {
   "display_name": "Python 3",
   "language": "python",
   "name": "python3"
  },
  "language_info": {
   "codemirror_mode": {
    "name": "ipython",
    "version": 2
   },
   "file_extension": ".py",
   "mimetype": "text/x-python",
   "name": "python",
   "nbconvert_exporter": "python",
   "pygments_lexer": "ipython2",
   "version": "2.7.6"
  }
 },
 "nbformat": 4,
 "nbformat_minor": 0
}
