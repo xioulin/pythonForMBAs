{
 "cells": [
  {
   "cell_type": "code",
   "execution_count": 1,
   "metadata": {
    "collapsed": true,
    "ExecuteTime": {
     "start_time": "2023-12-24T20:31:22.521399Z",
     "end_time": "2023-12-24T20:31:28.210706Z"
    }
   },
   "outputs": [],
   "source": [
    "import pandas as pd"
   ]
  },
  {
   "cell_type": "code",
   "execution_count": 2,
   "outputs": [],
   "source": [
    "df= pd.DataFrame([10,20,30,40],columns=[\"numbers\"],index=['a','b','c','d'])"
   ],
   "metadata": {
    "collapsed": false,
    "ExecuteTime": {
     "start_time": "2023-12-24T20:31:28.051567Z",
     "end_time": "2023-12-24T20:31:28.261805Z"
    }
   }
  },
  {
   "cell_type": "code",
   "execution_count": 3,
   "outputs": [],
   "source": [
    "df['floats']=(1.5,2.5,3.5,4.5)"
   ],
   "metadata": {
    "collapsed": false,
    "ExecuteTime": {
     "start_time": "2023-12-24T20:31:28.075721Z",
     "end_time": "2023-12-24T20:31:28.275702Z"
    }
   }
  },
  {
   "cell_type": "code",
   "execution_count": 4,
   "outputs": [],
   "source": [
    "import numpy as np"
   ],
   "metadata": {
    "collapsed": false,
    "ExecuteTime": {
     "start_time": "2023-12-24T20:31:28.223094Z",
     "end_time": "2023-12-24T20:31:29.274045Z"
    }
   }
  },
  {
   "cell_type": "code",
   "execution_count": 5,
   "outputs": [],
   "source": [
    "np.random.seed(100)"
   ],
   "metadata": {
    "collapsed": false,
    "ExecuteTime": {
     "start_time": "2023-12-24T20:31:28.286612Z",
     "end_time": "2023-12-24T20:31:29.473710Z"
    }
   }
  },
  {
   "cell_type": "code",
   "execution_count": 6,
   "outputs": [],
   "source": [
    "a= np.random.standard_normal((9,4))"
   ],
   "metadata": {
    "collapsed": false,
    "ExecuteTime": {
     "start_time": "2023-12-24T20:31:28.328749Z",
     "end_time": "2023-12-24T20:31:29.489907Z"
    }
   }
  },
  {
   "cell_type": "code",
   "execution_count": 7,
   "outputs": [],
   "source": [
    "df_a= pd.DataFrame(a)"
   ],
   "metadata": {
    "collapsed": false,
    "ExecuteTime": {
     "start_time": "2023-12-24T20:31:28.355411Z",
     "end_time": "2023-12-24T20:31:29.715402Z"
    }
   }
  },
  {
   "cell_type": "code",
   "execution_count": 8,
   "outputs": [
    {
     "name": "stdout",
     "output_type": "stream",
     "text": [
      "          0         1         2         3\n",
      "0 -1.749765  0.342680  1.153036 -0.252436\n",
      "1  0.981321  0.514219  0.221180 -1.070043\n",
      "2 -0.189496  0.255001 -0.458027  0.435163\n",
      "3 -0.583595  0.816847  0.672721 -0.104411\n",
      "4 -0.531280  1.029733 -0.438136 -1.118318\n",
      "5  1.618982  1.541605 -0.251879 -0.842436\n",
      "6  0.184519  0.937082  0.731000  1.361556\n",
      "7 -0.326238  0.055676  0.222400 -1.443217\n",
      "8 -0.756352  0.816454  0.750445 -0.455947\n"
     ]
    }
   ],
   "source": [
    "print(df_a)"
   ],
   "metadata": {
    "collapsed": false,
    "ExecuteTime": {
     "start_time": "2023-12-24T20:31:28.454019Z",
     "end_time": "2023-12-24T20:31:29.986930Z"
    }
   }
  },
  {
   "cell_type": "code",
   "execution_count": 9,
   "outputs": [],
   "source": [
    "dates= pd.date_range('2019-1-1',periods=9, freq=\"M\")"
   ],
   "metadata": {
    "collapsed": false,
    "ExecuteTime": {
     "start_time": "2023-12-24T20:31:28.730357Z",
     "end_time": "2023-12-24T20:31:30.027305Z"
    }
   }
  },
  {
   "cell_type": "code",
   "execution_count": 10,
   "outputs": [],
   "source": [
    "df_a.index=dates"
   ],
   "metadata": {
    "collapsed": false,
    "ExecuteTime": {
     "start_time": "2023-12-24T20:31:28.945270Z",
     "end_time": "2023-12-24T20:31:30.505358Z"
    }
   }
  },
  {
   "cell_type": "code",
   "execution_count": 11,
   "outputs": [],
   "source": [
    "df_a.columns=[\"First\",'Second','Third',\"Fourth\"]"
   ],
   "metadata": {
    "collapsed": false,
    "ExecuteTime": {
     "start_time": "2023-12-24T20:31:28.974488Z",
     "end_time": "2023-12-24T20:31:30.547018Z"
    }
   }
  },
  {
   "cell_type": "code",
   "execution_count": null,
   "outputs": [],
   "source": [],
   "metadata": {
    "collapsed": false
   }
  },
  {
   "cell_type": "code",
   "execution_count": 12,
   "outputs": [],
   "source": [
    "from pylab import plt, mpl"
   ],
   "metadata": {
    "collapsed": false,
    "ExecuteTime": {
     "start_time": "2023-12-24T20:31:29.143899Z",
     "end_time": "2023-12-24T20:31:34.220158Z"
    }
   }
  },
  {
   "cell_type": "code",
   "execution_count": 13,
   "outputs": [
    {
     "name": "stderr",
     "output_type": "stream",
     "text": [
      "/var/folders/gm/vqm7m4_910bbppcv8n6r549m0000gq/T/ipykernel_42396/2955780531.py:1: MatplotlibDeprecationWarning: The seaborn styles shipped by Matplotlib are deprecated since 3.6, as they no longer correspond to the styles shipped by seaborn. However, they will remain available as 'seaborn-v0_8-<style>'. Alternatively, directly use the seaborn API instead.\n",
      "  plt.style.use('seaborn')\n"
     ]
    }
   ],
   "source": [
    "plt.style.use('seaborn')"
   ],
   "metadata": {
    "collapsed": false,
    "ExecuteTime": {
     "start_time": "2023-12-24T20:31:34.150025Z",
     "end_time": "2023-12-24T20:31:34.406857Z"
    }
   }
  },
  {
   "cell_type": "code",
   "execution_count": 14,
   "outputs": [],
   "source": [
    "mpl.rcParams['font.family']='serif'"
   ],
   "metadata": {
    "collapsed": false,
    "ExecuteTime": {
     "start_time": "2023-12-24T20:31:34.178670Z",
     "end_time": "2023-12-24T20:31:34.463796Z"
    }
   }
  },
  {
   "cell_type": "code",
   "execution_count": 15,
   "outputs": [],
   "source": [
    "%matplotlib inline"
   ],
   "metadata": {
    "collapsed": false,
    "ExecuteTime": {
     "start_time": "2023-12-24T20:31:34.200876Z",
     "end_time": "2023-12-24T20:31:34.858454Z"
    }
   }
  },
  {
   "cell_type": "code",
   "execution_count": 20,
   "outputs": [
    {
     "data": {
      "text/plain": "               First    Second     Third    Fourth\n2019-01-31 -1.749765  0.342680  1.153036 -0.252436\n2019-02-28  0.981321  0.514219  0.221180 -1.070043\n2019-03-31 -0.189496  0.255001 -0.458027  0.435163\n2019-04-30 -0.583595  0.816847  0.672721 -0.104411\n2019-05-31 -0.531280  1.029733 -0.438136 -1.118318\n2019-06-30  1.618982  1.541605 -0.251879 -0.842436\n2019-07-31  0.184519  0.937082  0.731000  1.361556\n2019-08-31 -0.326238  0.055676  0.222400 -1.443217\n2019-09-30 -0.756352  0.816454  0.750445 -0.455947",
      "text/html": "<div>\n<style scoped>\n    .dataframe tbody tr th:only-of-type {\n        vertical-align: middle;\n    }\n\n    .dataframe tbody tr th {\n        vertical-align: top;\n    }\n\n    .dataframe thead th {\n        text-align: right;\n    }\n</style>\n<table border=\"1\" class=\"dataframe\">\n  <thead>\n    <tr style=\"text-align: right;\">\n      <th></th>\n      <th>First</th>\n      <th>Second</th>\n      <th>Third</th>\n      <th>Fourth</th>\n    </tr>\n  </thead>\n  <tbody>\n    <tr>\n      <th>2019-01-31</th>\n      <td>-1.749765</td>\n      <td>0.342680</td>\n      <td>1.153036</td>\n      <td>-0.252436</td>\n    </tr>\n    <tr>\n      <th>2019-02-28</th>\n      <td>0.981321</td>\n      <td>0.514219</td>\n      <td>0.221180</td>\n      <td>-1.070043</td>\n    </tr>\n    <tr>\n      <th>2019-03-31</th>\n      <td>-0.189496</td>\n      <td>0.255001</td>\n      <td>-0.458027</td>\n      <td>0.435163</td>\n    </tr>\n    <tr>\n      <th>2019-04-30</th>\n      <td>-0.583595</td>\n      <td>0.816847</td>\n      <td>0.672721</td>\n      <td>-0.104411</td>\n    </tr>\n    <tr>\n      <th>2019-05-31</th>\n      <td>-0.531280</td>\n      <td>1.029733</td>\n      <td>-0.438136</td>\n      <td>-1.118318</td>\n    </tr>\n    <tr>\n      <th>2019-06-30</th>\n      <td>1.618982</td>\n      <td>1.541605</td>\n      <td>-0.251879</td>\n      <td>-0.842436</td>\n    </tr>\n    <tr>\n      <th>2019-07-31</th>\n      <td>0.184519</td>\n      <td>0.937082</td>\n      <td>0.731000</td>\n      <td>1.361556</td>\n    </tr>\n    <tr>\n      <th>2019-08-31</th>\n      <td>-0.326238</td>\n      <td>0.055676</td>\n      <td>0.222400</td>\n      <td>-1.443217</td>\n    </tr>\n    <tr>\n      <th>2019-09-30</th>\n      <td>-0.756352</td>\n      <td>0.816454</td>\n      <td>0.750445</td>\n      <td>-0.455947</td>\n    </tr>\n  </tbody>\n</table>\n</div>"
     },
     "execution_count": 20,
     "metadata": {},
     "output_type": "execute_result"
    }
   ],
   "source": [
    "df_a"
   ],
   "metadata": {
    "collapsed": false,
    "ExecuteTime": {
     "start_time": "2023-12-24T20:34:34.385483Z",
     "end_time": "2023-12-24T20:34:34.473998Z"
    }
   }
  },
  {
   "cell_type": "code",
   "execution_count": 19,
   "outputs": [
    {
     "data": {
      "text/plain": "<Axes: >"
     },
     "execution_count": 19,
     "metadata": {},
     "output_type": "execute_result"
    },
    {
     "data": {
      "text/plain": "<Figure size 1000x600 with 1 Axes>",
      "image/png": "[encoded data removed]"
     },
     "metadata": {},
     "output_type": "display_data"
    }
   ],
   "source": [
    "df_a.cumsum().plot(lw=2.0, figsize=(10,6))"
   ],
   "metadata": {
    "collapsed": false,
    "ExecuteTime": {
     "start_time": "2023-12-24T20:33:53.625193Z",
     "end_time": "2023-12-24T20:33:56.546858Z"
    }
   }
  },
  {
   "cell_type": "code",
   "execution_count": null,
   "outputs": [],
   "source": [],
   "metadata": {
    "collapsed": false
   }
  }
 ],
 "metadata": {
  "kernelspec": {
   "display_name": "Python 3",
   "language": "python",
   "name": "python3"
  },
  "language_info": {
   "codemirror_mode": {
    "name": "ipython",
    "version": 2
   },
   "file_extension": ".py",
   "mimetype": "text/x-python",
   "name": "python",
   "nbconvert_exporter": "python",
   "pygments_lexer": "ipython2",
   "version": "2.7.6"
  }
 },
 "nbformat": 4,
 "nbformat_minor": 0
}
