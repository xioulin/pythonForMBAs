{
 "cells": [
  {
   "cell_type": "code",
   "execution_count": 1,
   "metadata": {
    "collapsed": true,
    "ExecuteTime": {
     "end_time": "2024-02-19T19:16:17.280256Z",
     "start_time": "2024-02-19T19:15:00.521263Z"
    }
   },
   "outputs": [],
   "source": [
    "import pandas as pd"
   ]
  },
  {
   "cell_type": "code",
   "execution_count": 2,
   "outputs": [],
   "source": [
    "df= pd.read_csv('vehicles.csv')"
   ],
   "metadata": {
    "collapsed": false,
    "ExecuteTime": {
     "end_time": "2024-02-19T19:18:22.527735Z",
     "start_time": "2024-02-19T19:16:17.252682Z"
    }
   }
  },
  {
   "cell_type": "code",
   "execution_count": 4,
   "outputs": [
    {
     "data": {
      "text/plain": "0         7222695916\n1         7218891961\n2         7221797935\n3         7222270760\n4         7210384030\n             ...    \n426875    7301591192\n426876    7301591187\n426877    7301591147\n426878    7301591140\n426879    7301591129\nName: id, Length: 426880, dtype: int64"
     },
     "execution_count": 4,
     "metadata": {},
     "output_type": "execute_result"
    }
   ],
   "source": [
    "df.pop('id')"
   ],
   "metadata": {
    "collapsed": false,
    "ExecuteTime": {
     "end_time": "2024-02-19T19:19:11.181675Z",
     "start_time": "2024-02-19T19:19:11.095899Z"
    }
   }
  },
  {
   "cell_type": "code",
   "execution_count": 6,
   "outputs": [
    {
     "data": {
      "text/plain": "0         https://prescott.craigslist.org/cto/d/prescott...\n1         https://fayar.craigslist.org/ctd/d/bentonville...\n2         https://keys.craigslist.org/cto/d/summerland-k...\n3         https://worcester.craigslist.org/cto/d/west-br...\n4         https://greensboro.craigslist.org/cto/d/trinit...\n                                ...                        \n426875    https://wyoming.craigslist.org/ctd/d/atlanta-2...\n426876    https://wyoming.craigslist.org/ctd/d/atlanta-2...\n426877    https://wyoming.craigslist.org/ctd/d/atlanta-2...\n426878    https://wyoming.craigslist.org/ctd/d/atlanta-2...\n426879    https://wyoming.craigslist.org/ctd/d/atlanta-2...\nName: url, Length: 426880, dtype: object"
     },
     "execution_count": 6,
     "metadata": {},
     "output_type": "execute_result"
    }
   ],
   "source": [
    "df.pop('url')"
   ],
   "metadata": {
    "collapsed": false,
    "ExecuteTime": {
     "end_time": "2024-02-19T19:19:31.116916Z",
     "start_time": "2024-02-19T19:19:31.065329Z"
    }
   }
  },
  {
   "cell_type": "code",
   "execution_count": 7,
   "outputs": [
    {
     "data": {
      "text/plain": "0           https://prescott.craigslist.org\n1              https://fayar.craigslist.org\n2               https://keys.craigslist.org\n3          https://worcester.craigslist.org\n4         https://greensboro.craigslist.org\n                        ...                \n426875       https://wyoming.craigslist.org\n426876       https://wyoming.craigslist.org\n426877       https://wyoming.craigslist.org\n426878       https://wyoming.craigslist.org\n426879       https://wyoming.craigslist.org\nName: region_url, Length: 426880, dtype: object"
     },
     "execution_count": 7,
     "metadata": {},
     "output_type": "execute_result"
    }
   ],
   "source": [
    "df.pop('region_url')"
   ],
   "metadata": {
    "collapsed": false,
    "ExecuteTime": {
     "end_time": "2024-02-19T19:19:44.163244Z",
     "start_time": "2024-02-19T19:19:44.123670Z"
    }
   }
  },
  {
   "cell_type": "code",
   "execution_count": 10,
   "outputs": [
    {
     "data": {
      "text/plain": "         region  price    year manufacturer                     model   \n426875  wyoming  23590  2019.0       nissan         maxima s sedan 4d  \\\n426876  wyoming  30590  2020.0        volvo  s60 t5 momentum sedan 4d   \n426877  wyoming  34990  2020.0     cadillac          xt4 sport suv 4d   \n426878  wyoming  28990  2018.0        lexus           es 350 sedan 4d   \n426879  wyoming  30590  2019.0          bmw  4 series 430i gran coupe   \n\n       condition    cylinders    fuel  odometer title_status  ... size   \n426875      good  6 cylinders     gas   32226.0        clean  ...  NaN  \\\n426876      good          NaN     gas   12029.0        clean  ...  NaN   \n426877      good          NaN  diesel    4174.0        clean  ...  NaN   \n426878      good  6 cylinders     gas   30112.0        clean  ...  NaN   \n426879      good          NaN     gas   22716.0        clean  ...  NaN   \n\n             type paint_color   \n426875      sedan         NaN  \\\n426876      sedan         red   \n426877  hatchback       white   \n426878      sedan      silver   \n426879      coupe         NaN   \n\n                                                image_url   \n426875  https://images.craigslist.org/00o0o_iiraFnHg8q...  \\\n426876  https://images.craigslist.org/00x0x_15sbgnxCIS...   \n426877  https://images.craigslist.org/00L0L_farM7bxnxR...   \n426878  https://images.craigslist.org/00z0z_bKnIVGLkDT...   \n426879  https://images.craigslist.org/00Y0Y_lEUocjyRxa...   \n\n                                              description county state   \n426875  Carvana is the safer way to buy a car During t...    NaN    wy  \\\n426876  Carvana is the safer way to buy a car During t...    NaN    wy   \n426877  Carvana is the safer way to buy a car During t...    NaN    wy   \n426878  Carvana is the safer way to buy a car During t...    NaN    wy   \n426879  Carvana is the safer way to buy a car During t...    NaN    wy   \n\n              lat       long              posting_date  \n426875  33.786500 -84.445400  2021-04-04T03:21:31-0600  \n426876  33.786500 -84.445400  2021-04-04T03:21:29-0600  \n426877  33.779214 -84.411811  2021-04-04T03:21:17-0600  \n426878  33.786500 -84.445400  2021-04-04T03:21:11-0600  \n426879  33.779214 -84.411811  2021-04-04T03:21:07-0600  \n\n[5 rows x 23 columns]",
      "text/html": "<div>\n<style scoped>\n    .dataframe tbody tr th:only-of-type {\n        vertical-align: middle;\n    }\n\n    .dataframe tbody tr th {\n        vertical-align: top;\n    }\n\n    .dataframe thead th {\n        text-align: right;\n    }\n</style>\n<table border=\"1\" class=\"dataframe\">\n  <thead>\n    <tr style=\"text-align: right;\">\n      <th></th>\n      <th>region</th>\n      <th>price</th>\n      <th>year</th>\n      <th>manufacturer</th>\n      <th>model</th>\n      <th>condition</th>\n      <th>cylinders</th>\n      <th>fuel</th>\n      <th>odometer</th>\n      <th>title_status</th>\n      <th>...</th>\n      <th>size</th>\n      <th>type</th>\n      <th>paint_color</th>\n      <th>image_url</th>\n      <th>description</th>\n      <th>county</th>\n      <th>state</th>\n      <th>lat</th>\n      <th>long</th>\n      <th>posting_date</th>\n    </tr>\n  </thead>\n  <tbody>\n    <tr>\n      <th>426875</th>\n      <td>wyoming</td>\n      <td>23590</td>\n      <td>2019.0</td>\n      <td>nissan</td>\n      <td>maxima s sedan 4d</td>\n      <td>good</td>\n      <td>6 cylinders</td>\n      <td>gas</td>\n      <td>32226.0</td>\n      <td>clean</td>\n      <td>...</td>\n      <td>NaN</td>\n      <td>sedan</td>\n      <td>NaN</td>\n      <td>https://images.craigslist.org/00o0o_iiraFnHg8q...</td>\n      <td>Carvana is the safer way to buy a car During t...</td>\n      <td>NaN</td>\n      <td>wy</td>\n      <td>33.786500</td>\n      <td>-84.445400</td>\n      <td>2021-04-04T03:21:31-0600</td>\n    </tr>\n    <tr>\n      <th>426876</th>\n      <td>wyoming</td>\n      <td>30590</td>\n      <td>2020.0</td>\n      <td>volvo</td>\n      <td>s60 t5 momentum sedan 4d</td>\n      <td>good</td>\n      <td>NaN</td>\n      <td>gas</td>\n      <td>12029.0</td>\n      <td>clean</td>\n      <td>...</td>\n      <td>NaN</td>\n      <td>sedan</td>\n      <td>red</td>\n      <td>https://images.craigslist.org/00x0x_15sbgnxCIS...</td>\n      <td>Carvana is the safer way to buy a car During t...</td>\n      <td>NaN</td>\n      <td>wy</td>\n      <td>33.786500</td>\n      <td>-84.445400</td>\n      <td>2021-04-04T03:21:29-0600</td>\n    </tr>\n    <tr>\n      <th>426877</th>\n      <td>wyoming</td>\n      <td>34990</td>\n      <td>2020.0</td>\n      <td>cadillac</td>\n      <td>xt4 sport suv 4d</td>\n      <td>good</td>\n      <td>NaN</td>\n      <td>diesel</td>\n      <td>4174.0</td>\n      <td>clean</td>\n      <td>...</td>\n      <td>NaN</td>\n      <td>hatchback</td>\n      <td>white</td>\n      <td>https://images.craigslist.org/00L0L_farM7bxnxR...</td>\n      <td>Carvana is the safer way to buy a car During t...</td>\n      <td>NaN</td>\n      <td>wy</td>\n      <td>33.779214</td>\n      <td>-84.411811</td>\n      <td>2021-04-04T03:21:17-0600</td>\n    </tr>\n    <tr>\n      <th>426878</th>\n      <td>wyoming</td>\n      <td>28990</td>\n      <td>2018.0</td>\n      <td>lexus</td>\n      <td>es 350 sedan 4d</td>\n      <td>good</td>\n      <td>6 cylinders</td>\n      <td>gas</td>\n      <td>30112.0</td>\n      <td>clean</td>\n      <td>...</td>\n      <td>NaN</td>\n      <td>sedan</td>\n      <td>silver</td>\n      <td>https://images.craigslist.org/00z0z_bKnIVGLkDT...</td>\n      <td>Carvana is the safer way to buy a car During t...</td>\n      <td>NaN</td>\n      <td>wy</td>\n      <td>33.786500</td>\n      <td>-84.445400</td>\n      <td>2021-04-04T03:21:11-0600</td>\n    </tr>\n    <tr>\n      <th>426879</th>\n      <td>wyoming</td>\n      <td>30590</td>\n      <td>2019.0</td>\n      <td>bmw</td>\n      <td>4 series 430i gran coupe</td>\n      <td>good</td>\n      <td>NaN</td>\n      <td>gas</td>\n      <td>22716.0</td>\n      <td>clean</td>\n      <td>...</td>\n      <td>NaN</td>\n      <td>coupe</td>\n      <td>NaN</td>\n      <td>https://images.craigslist.org/00Y0Y_lEUocjyRxa...</td>\n      <td>Carvana is the safer way to buy a car During t...</td>\n      <td>NaN</td>\n      <td>wy</td>\n      <td>33.779214</td>\n      <td>-84.411811</td>\n      <td>2021-04-04T03:21:07-0600</td>\n    </tr>\n  </tbody>\n</table>\n<p>5 rows × 23 columns</p>\n</div>"
     },
     "execution_count": 10,
     "metadata": {},
     "output_type": "execute_result"
    }
   ],
   "source": [
    "df.tail()"
   ],
   "metadata": {
    "collapsed": false,
    "ExecuteTime": {
     "end_time": "2024-02-19T19:21:13.801154Z",
     "start_time": "2024-02-19T19:21:13.704401Z"
    }
   }
  },
  {
   "cell_type": "code",
   "execution_count": 12,
   "outputs": [
    {
     "data": {
      "text/plain": "                        region  price    year manufacturer   \n0                     prescott   6000     NaN          NaN  \\\n1                 fayetteville  11900     NaN          NaN   \n2                 florida keys  21000     NaN          NaN   \n3       worcester / central MA   1500     NaN          NaN   \n4                   greensboro   4900     NaN          NaN   \n...                        ...    ...     ...          ...   \n426875                 wyoming  23590  2019.0       nissan   \n426876                 wyoming  30590  2020.0        volvo   \n426877                 wyoming  34990  2020.0     cadillac   \n426878                 wyoming  28990  2018.0        lexus   \n426879                 wyoming  30590  2019.0          bmw   \n\n                           model condition    cylinders    fuel  odometer   \n0                            NaN       NaN          NaN     NaN       NaN  \\\n1                            NaN       NaN          NaN     NaN       NaN   \n2                            NaN       NaN          NaN     NaN       NaN   \n3                            NaN       NaN          NaN     NaN       NaN   \n4                            NaN       NaN          NaN     NaN       NaN   \n...                          ...       ...          ...     ...       ...   \n426875         maxima s sedan 4d      good  6 cylinders     gas   32226.0   \n426876  s60 t5 momentum sedan 4d      good          NaN     gas   12029.0   \n426877          xt4 sport suv 4d      good          NaN  diesel    4174.0   \n426878           es 350 sedan 4d      good  6 cylinders     gas   30112.0   \n426879  4 series 430i gran coupe      good          NaN     gas   22716.0   \n\n       title_status transmission drive size       type paint_color  county   \n0               NaN          NaN   NaN  NaN        NaN         NaN     NaN  \\\n1               NaN          NaN   NaN  NaN        NaN         NaN     NaN   \n2               NaN          NaN   NaN  NaN        NaN         NaN     NaN   \n3               NaN          NaN   NaN  NaN        NaN         NaN     NaN   \n4               NaN          NaN   NaN  NaN        NaN         NaN     NaN   \n...             ...          ...   ...  ...        ...         ...     ...   \n426875        clean        other   fwd  NaN      sedan         NaN     NaN   \n426876        clean        other   fwd  NaN      sedan         red     NaN   \n426877        clean        other   NaN  NaN  hatchback       white     NaN   \n426878        clean        other   fwd  NaN      sedan      silver     NaN   \n426879        clean        other   rwd  NaN      coupe         NaN     NaN   \n\n       state        lat       long  \n0         az        NaN        NaN  \n1         ar        NaN        NaN  \n2         fl        NaN        NaN  \n3         ma        NaN        NaN  \n4         nc        NaN        NaN  \n...      ...        ...        ...  \n426875    wy  33.786500 -84.445400  \n426876    wy  33.786500 -84.445400  \n426877    wy  33.779214 -84.411811  \n426878    wy  33.786500 -84.445400  \n426879    wy  33.779214 -84.411811  \n\n[426880 rows x 19 columns]",
      "text/html": "<div>\n<style scoped>\n    .dataframe tbody tr th:only-of-type {\n        vertical-align: middle;\n    }\n\n    .dataframe tbody tr th {\n        vertical-align: top;\n    }\n\n    .dataframe thead th {\n        text-align: right;\n    }\n</style>\n<table border=\"1\" class=\"dataframe\">\n  <thead>\n    <tr style=\"text-align: right;\">\n      <th></th>\n      <th>region</th>\n      <th>price</th>\n      <th>year</th>\n      <th>manufacturer</th>\n      <th>model</th>\n      <th>condition</th>\n      <th>cylinders</th>\n      <th>fuel</th>\n      <th>odometer</th>\n      <th>title_status</th>\n      <th>transmission</th>\n      <th>drive</th>\n      <th>size</th>\n      <th>type</th>\n      <th>paint_color</th>\n      <th>county</th>\n      <th>state</th>\n      <th>lat</th>\n      <th>long</th>\n    </tr>\n  </thead>\n  <tbody>\n    <tr>\n      <th>0</th>\n      <td>prescott</td>\n      <td>6000</td>\n      <td>NaN</td>\n      <td>NaN</td>\n      <td>NaN</td>\n      <td>NaN</td>\n      <td>NaN</td>\n      <td>NaN</td>\n      <td>NaN</td>\n      <td>NaN</td>\n      <td>NaN</td>\n      <td>NaN</td>\n      <td>NaN</td>\n      <td>NaN</td>\n      <td>NaN</td>\n      <td>NaN</td>\n      <td>az</td>\n      <td>NaN</td>\n      <td>NaN</td>\n    </tr>\n    <tr>\n      <th>1</th>\n      <td>fayetteville</td>\n      <td>11900</td>\n      <td>NaN</td>\n      <td>NaN</td>\n      <td>NaN</td>\n      <td>NaN</td>\n      <td>NaN</td>\n      <td>NaN</td>\n      <td>NaN</td>\n      <td>NaN</td>\n      <td>NaN</td>\n      <td>NaN</td>\n      <td>NaN</td>\n      <td>NaN</td>\n      <td>NaN</td>\n      <td>NaN</td>\n      <td>ar</td>\n      <td>NaN</td>\n      <td>NaN</td>\n    </tr>\n    <tr>\n      <th>2</th>\n      <td>florida keys</td>\n      <td>21000</td>\n      <td>NaN</td>\n      <td>NaN</td>\n      <td>NaN</td>\n      <td>NaN</td>\n      <td>NaN</td>\n      <td>NaN</td>\n      <td>NaN</td>\n      <td>NaN</td>\n      <td>NaN</td>\n      <td>NaN</td>\n      <td>NaN</td>\n      <td>NaN</td>\n      <td>NaN</td>\n      <td>NaN</td>\n      <td>fl</td>\n      <td>NaN</td>\n      <td>NaN</td>\n    </tr>\n    <tr>\n      <th>3</th>\n      <td>worcester / central MA</td>\n      <td>1500</td>\n      <td>NaN</td>\n      <td>NaN</td>\n      <td>NaN</td>\n      <td>NaN</td>\n      <td>NaN</td>\n      <td>NaN</td>\n      <td>NaN</td>\n      <td>NaN</td>\n      <td>NaN</td>\n      <td>NaN</td>\n      <td>NaN</td>\n      <td>NaN</td>\n      <td>NaN</td>\n      <td>NaN</td>\n      <td>ma</td>\n      <td>NaN</td>\n      <td>NaN</td>\n    </tr>\n    <tr>\n      <th>4</th>\n      <td>greensboro</td>\n      <td>4900</td>\n      <td>NaN</td>\n      <td>NaN</td>\n      <td>NaN</td>\n      <td>NaN</td>\n      <td>NaN</td>\n      <td>NaN</td>\n      <td>NaN</td>\n      <td>NaN</td>\n      <td>NaN</td>\n      <td>NaN</td>\n      <td>NaN</td>\n      <td>NaN</td>\n      <td>NaN</td>\n      <td>NaN</td>\n      <td>nc</td>\n      <td>NaN</td>\n      <td>NaN</td>\n    </tr>\n    <tr>\n      <th>...</th>\n      <td>...</td>\n      <td>...</td>\n      <td>...</td>\n      <td>...</td>\n      <td>...</td>\n      <td>...</td>\n      <td>...</td>\n      <td>...</td>\n      <td>...</td>\n      <td>...</td>\n      <td>...</td>\n      <td>...</td>\n      <td>...</td>\n      <td>...</td>\n      <td>...</td>\n      <td>...</td>\n      <td>...</td>\n      <td>...</td>\n      <td>...</td>\n    </tr>\n    <tr>\n      <th>426875</th>\n      <td>wyoming</td>\n      <td>23590</td>\n      <td>2019.0</td>\n      <td>nissan</td>\n      <td>maxima s sedan 4d</td>\n      <td>good</td>\n      <td>6 cylinders</td>\n      <td>gas</td>\n      <td>32226.0</td>\n      <td>clean</td>\n      <td>other</td>\n      <td>fwd</td>\n      <td>NaN</td>\n      <td>sedan</td>\n      <td>NaN</td>\n      <td>NaN</td>\n      <td>wy</td>\n      <td>33.786500</td>\n      <td>-84.445400</td>\n    </tr>\n    <tr>\n      <th>426876</th>\n      <td>wyoming</td>\n      <td>30590</td>\n      <td>2020.0</td>\n      <td>volvo</td>\n      <td>s60 t5 momentum sedan 4d</td>\n      <td>good</td>\n      <td>NaN</td>\n      <td>gas</td>\n      <td>12029.0</td>\n      <td>clean</td>\n      <td>other</td>\n      <td>fwd</td>\n      <td>NaN</td>\n      <td>sedan</td>\n      <td>red</td>\n      <td>NaN</td>\n      <td>wy</td>\n      <td>33.786500</td>\n      <td>-84.445400</td>\n    </tr>\n    <tr>\n      <th>426877</th>\n      <td>wyoming</td>\n      <td>34990</td>\n      <td>2020.0</td>\n      <td>cadillac</td>\n      <td>xt4 sport suv 4d</td>\n      <td>good</td>\n      <td>NaN</td>\n      <td>diesel</td>\n      <td>4174.0</td>\n      <td>clean</td>\n      <td>other</td>\n      <td>NaN</td>\n      <td>NaN</td>\n      <td>hatchback</td>\n      <td>white</td>\n      <td>NaN</td>\n      <td>wy</td>\n      <td>33.779214</td>\n      <td>-84.411811</td>\n    </tr>\n    <tr>\n      <th>426878</th>\n      <td>wyoming</td>\n      <td>28990</td>\n      <td>2018.0</td>\n      <td>lexus</td>\n      <td>es 350 sedan 4d</td>\n      <td>good</td>\n      <td>6 cylinders</td>\n      <td>gas</td>\n      <td>30112.0</td>\n      <td>clean</td>\n      <td>other</td>\n      <td>fwd</td>\n      <td>NaN</td>\n      <td>sedan</td>\n      <td>silver</td>\n      <td>NaN</td>\n      <td>wy</td>\n      <td>33.786500</td>\n      <td>-84.445400</td>\n    </tr>\n    <tr>\n      <th>426879</th>\n      <td>wyoming</td>\n      <td>30590</td>\n      <td>2019.0</td>\n      <td>bmw</td>\n      <td>4 series 430i gran coupe</td>\n      <td>good</td>\n      <td>NaN</td>\n      <td>gas</td>\n      <td>22716.0</td>\n      <td>clean</td>\n      <td>other</td>\n      <td>rwd</td>\n      <td>NaN</td>\n      <td>coupe</td>\n      <td>NaN</td>\n      <td>NaN</td>\n      <td>wy</td>\n      <td>33.779214</td>\n      <td>-84.411811</td>\n    </tr>\n  </tbody>\n</table>\n<p>426880 rows × 19 columns</p>\n</div>"
     },
     "execution_count": 12,
     "metadata": {},
     "output_type": "execute_result"
    }
   ],
   "source": [
    "df.drop(['VIN','image_url','description','posting_date'],axis=1)"
   ],
   "metadata": {
    "collapsed": false,
    "ExecuteTime": {
     "end_time": "2024-02-19T19:24:53.310873Z",
     "start_time": "2024-02-19T19:24:52.911Z"
    }
   }
  },
  {
   "cell_type": "code",
   "execution_count": 16,
   "outputs": [
    {
     "data": {
      "text/plain": "price\nFalse    426880\nName: count, dtype: int64"
     },
     "execution_count": 16,
     "metadata": {},
     "output_type": "execute_result"
    }
   ],
   "source": [
    "df.price.isnull().value_counts()"
   ],
   "metadata": {
    "collapsed": false,
    "ExecuteTime": {
     "end_time": "2024-02-19T19:29:07.800453Z",
     "start_time": "2024-02-19T19:29:07.590453Z"
    }
   }
  }
 ],
 "metadata": {
  "kernelspec": {
   "display_name": "Python 3",
   "language": "python",
   "name": "python3"
  },
  "language_info": {
   "codemirror_mode": {
    "name": "ipython",
    "version": 2
   },
   "file_extension": ".py",
   "mimetype": "text/x-python",
   "name": "python",
   "nbconvert_exporter": "python",
   "pygments_lexer": "ipython2",
   "version": "2.7.6"
  }
 },
 "nbformat": 4,
 "nbformat_minor": 0
}
