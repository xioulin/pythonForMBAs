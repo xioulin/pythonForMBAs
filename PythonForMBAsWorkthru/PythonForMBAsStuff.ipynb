{
 "cells": [
  {
   "cell_type": "code",
   "execution_count": 1,
   "metadata": {
    "collapsed": true,
    "ExecuteTime": {
     "start_time": "2023-11-28T13:43:30.502678Z",
     "end_time": "2023-11-28T13:43:32.837443Z"
    }
   },
   "outputs": [],
   "source": [
    "import pandas"
   ]
  },
  {
   "cell_type": "code",
   "execution_count": 2,
   "outputs": [],
   "source": [
    "df_restaurants = pandas.read_csv('/Users/pkc/Dropbox/Mac/Desktop/Python/python-for-mbas/Part 2/raw data/Restaurants.csv')"
   ],
   "metadata": {
    "collapsed": false,
    "ExecuteTime": {
     "start_time": "2023-11-28T13:43:32.833685Z",
     "end_time": "2023-11-28T13:43:32.919248Z"
    }
   }
  },
  {
   "cell_type": "code",
   "execution_count": 3,
   "outputs": [
    {
     "data": {
      "text/plain": "  RESTAURANT_ID          NAME                               ADDRESS   \n0        R10001      Columbia     2884 Broadway, New York, NY 10025  \\\n1        R10002       Midtown      1379 6th Ave, New York, NY 10019   \n2        R10005      Flatiron      40 W 25th St, New York, NY 10010   \n3        R10008  Williamsburg       45 S 3rd St, Brooklyn, NY 11249   \n4        R10004           NYU  109 Macdougal St, New York, NY 10012   \n\n         LAT       LONG OPENING_DATE DELIVERY_START  \n0  40.811470 -73.961230     8/9/2014     2017-01-01  \n1  40.763640 -73.977960    3/19/2013     2018-05-01  \n2  40.743600 -73.991070   11/14/2013     2016-03-05  \n3  40.713749 -73.965782   10/12/2015     2017-01-01  \n4  40.729930 -74.000820    1/10/2014     2017-01-01  ",
      "text/html": "<div>\n<style scoped>\n    .dataframe tbody tr th:only-of-type {\n        vertical-align: middle;\n    }\n\n    .dataframe tbody tr th {\n        vertical-align: top;\n    }\n\n    .dataframe thead th {\n        text-align: right;\n    }\n</style>\n<table border=\"1\" class=\"dataframe\">\n  <thead>\n    <tr style=\"text-align: right;\">\n      <th></th>\n      <th>RESTAURANT_ID</th>\n      <th>NAME</th>\n      <th>ADDRESS</th>\n      <th>LAT</th>\n      <th>LONG</th>\n      <th>OPENING_DATE</th>\n      <th>DELIVERY_START</th>\n    </tr>\n  </thead>\n  <tbody>\n    <tr>\n      <th>0</th>\n      <td>R10001</td>\n      <td>Columbia</td>\n      <td>2884 Broadway, New York, NY 10025</td>\n      <td>40.811470</td>\n      <td>-73.961230</td>\n      <td>8/9/2014</td>\n      <td>2017-01-01</td>\n    </tr>\n    <tr>\n      <th>1</th>\n      <td>R10002</td>\n      <td>Midtown</td>\n      <td>1379 6th Ave, New York, NY 10019</td>\n      <td>40.763640</td>\n      <td>-73.977960</td>\n      <td>3/19/2013</td>\n      <td>2018-05-01</td>\n    </tr>\n    <tr>\n      <th>2</th>\n      <td>R10005</td>\n      <td>Flatiron</td>\n      <td>40 W 25th St, New York, NY 10010</td>\n      <td>40.743600</td>\n      <td>-73.991070</td>\n      <td>11/14/2013</td>\n      <td>2016-03-05</td>\n    </tr>\n    <tr>\n      <th>3</th>\n      <td>R10008</td>\n      <td>Williamsburg</td>\n      <td>45 S 3rd St, Brooklyn, NY 11249</td>\n      <td>40.713749</td>\n      <td>-73.965782</td>\n      <td>10/12/2015</td>\n      <td>2017-01-01</td>\n    </tr>\n    <tr>\n      <th>4</th>\n      <td>R10004</td>\n      <td>NYU</td>\n      <td>109 Macdougal St, New York, NY 10012</td>\n      <td>40.729930</td>\n      <td>-74.000820</td>\n      <td>1/10/2014</td>\n      <td>2017-01-01</td>\n    </tr>\n  </tbody>\n</table>\n</div>"
     },
     "execution_count": 3,
     "metadata": {},
     "output_type": "execute_result"
    }
   ],
   "source": [
    "#df_restaurants.head()"
   ],
   "metadata": {
    "collapsed": false,
    "ExecuteTime": {
     "start_time": "2023-11-28T13:43:32.943062Z",
     "end_time": "2023-11-28T13:43:33.167630Z"
    }
   }
  },
  {
   "cell_type": "code",
   "execution_count": 4,
   "outputs": [],
   "source": [
    "df_students1=pandas.read_excel('/Users/pkc/Dropbox/Mac/Desktop/Python/python-for-mbas/Part 2/raw data/Students.xlsx')"
   ],
   "metadata": {
    "collapsed": false,
    "ExecuteTime": {
     "start_time": "2023-11-28T13:43:33.039705Z",
     "end_time": "2023-11-28T13:43:34.441191Z"
    }
   }
  },
  {
   "cell_type": "code",
   "execution_count": 5,
   "outputs": [],
   "source": [
    "df_summarized_orders = pandas.read_csv('/Users/pkc/Dropbox/Mac/Desktop/Python/python-for-mbas/Part 2/raw data/Summarized orders.csv')"
   ],
   "metadata": {
    "collapsed": false,
    "ExecuteTime": {
     "start_time": "2023-11-28T13:43:34.413489Z",
     "end_time": "2023-11-28T13:43:34.599404Z"
    }
   }
  },
  {
   "cell_type": "code",
   "execution_count": 6,
   "outputs": [
    {
     "data": {
      "text/plain": "      location         day  number of orders  percentage of deliveries\n0  Bryant Park  2018-01-01               373                       0.0\n1  Bryant Park  2018-01-02               789                       0.0\n2  Bryant Park  2018-01-03               818                       0.0\n3  Bryant Park  2018-01-04               782                       0.0\n4  Bryant Park  2018-01-05               719                       0.0",
      "text/html": "<div>\n<style scoped>\n    .dataframe tbody tr th:only-of-type {\n        vertical-align: middle;\n    }\n\n    .dataframe tbody tr th {\n        vertical-align: top;\n    }\n\n    .dataframe thead th {\n        text-align: right;\n    }\n</style>\n<table border=\"1\" class=\"dataframe\">\n  <thead>\n    <tr style=\"text-align: right;\">\n      <th></th>\n      <th>location</th>\n      <th>day</th>\n      <th>number of orders</th>\n      <th>percentage of deliveries</th>\n    </tr>\n  </thead>\n  <tbody>\n    <tr>\n      <th>0</th>\n      <td>Bryant Park</td>\n      <td>2018-01-01</td>\n      <td>373</td>\n      <td>0.0</td>\n    </tr>\n    <tr>\n      <th>1</th>\n      <td>Bryant Park</td>\n      <td>2018-01-02</td>\n      <td>789</td>\n      <td>0.0</td>\n    </tr>\n    <tr>\n      <th>2</th>\n      <td>Bryant Park</td>\n      <td>2018-01-03</td>\n      <td>818</td>\n      <td>0.0</td>\n    </tr>\n    <tr>\n      <th>3</th>\n      <td>Bryant Park</td>\n      <td>2018-01-04</td>\n      <td>782</td>\n      <td>0.0</td>\n    </tr>\n    <tr>\n      <th>4</th>\n      <td>Bryant Park</td>\n      <td>2018-01-05</td>\n      <td>719</td>\n      <td>0.0</td>\n    </tr>\n  </tbody>\n</table>\n</div>"
     },
     "execution_count": 6,
     "metadata": {},
     "output_type": "execute_result"
    }
   ],
   "source": [
    "#df_summarized_orders.head()"
   ],
   "metadata": {
    "collapsed": false,
    "ExecuteTime": {
     "start_time": "2023-11-28T13:43:34.533406Z",
     "end_time": "2023-11-28T13:43:34.730239Z"
    }
   }
  },
  {
   "cell_type": "code",
   "execution_count": 7,
   "outputs": [
    {
     "data": {
      "text/plain": "(2806, 4)"
     },
     "execution_count": 7,
     "metadata": {},
     "output_type": "execute_result"
    }
   ],
   "source": [
    "#df_summarized_orders.shape"
   ],
   "metadata": {
    "collapsed": false,
    "ExecuteTime": {
     "start_time": "2023-11-28T13:43:34.580476Z",
     "end_time": "2023-11-28T13:43:34.890299Z"
    }
   }
  },
  {
   "cell_type": "code",
   "execution_count": 8,
   "outputs": [],
   "source": [
    "df_summarized_orders.columns = ['restaurant', 'date','num_orders','perc_deliv']"
   ],
   "metadata": {
    "collapsed": false,
    "ExecuteTime": {
     "start_time": "2023-11-28T13:43:34.630275Z",
     "end_time": "2023-11-28T13:43:35.367855Z"
    }
   }
  },
  {
   "cell_type": "code",
   "execution_count": 9,
   "outputs": [
    {
     "data": {
      "text/plain": "    restaurant        date  num_orders  perc_deliv\n0  Bryant Park  2018-01-01         373         0.0\n1  Bryant Park  2018-01-02         789         0.0\n2  Bryant Park  2018-01-03         818         0.0\n3  Bryant Park  2018-01-04         782         0.0\n4  Bryant Park  2018-01-05         719         0.0",
      "text/html": "<div>\n<style scoped>\n    .dataframe tbody tr th:only-of-type {\n        vertical-align: middle;\n    }\n\n    .dataframe tbody tr th {\n        vertical-align: top;\n    }\n\n    .dataframe thead th {\n        text-align: right;\n    }\n</style>\n<table border=\"1\" class=\"dataframe\">\n  <thead>\n    <tr style=\"text-align: right;\">\n      <th></th>\n      <th>restaurant</th>\n      <th>date</th>\n      <th>num_orders</th>\n      <th>perc_deliv</th>\n    </tr>\n  </thead>\n  <tbody>\n    <tr>\n      <th>0</th>\n      <td>Bryant Park</td>\n      <td>2018-01-01</td>\n      <td>373</td>\n      <td>0.0</td>\n    </tr>\n    <tr>\n      <th>1</th>\n      <td>Bryant Park</td>\n      <td>2018-01-02</td>\n      <td>789</td>\n      <td>0.0</td>\n    </tr>\n    <tr>\n      <th>2</th>\n      <td>Bryant Park</td>\n      <td>2018-01-03</td>\n      <td>818</td>\n      <td>0.0</td>\n    </tr>\n    <tr>\n      <th>3</th>\n      <td>Bryant Park</td>\n      <td>2018-01-04</td>\n      <td>782</td>\n      <td>0.0</td>\n    </tr>\n    <tr>\n      <th>4</th>\n      <td>Bryant Park</td>\n      <td>2018-01-05</td>\n      <td>719</td>\n      <td>0.0</td>\n    </tr>\n  </tbody>\n</table>\n</div>"
     },
     "execution_count": 9,
     "metadata": {},
     "output_type": "execute_result"
    }
   ],
   "source": [
    "#df_summarized_orders.head()"
   ],
   "metadata": {
    "collapsed": false,
    "ExecuteTime": {
     "start_time": "2023-11-28T13:43:34.663516Z",
     "end_time": "2023-11-28T13:43:35.542027Z"
    }
   }
  },
  {
   "cell_type": "code",
   "execution_count": 10,
   "outputs": [],
   "source": [
    "df_orders = pandas.read_csv('/Users/pkc/Dropbox/Mac/Desktop/Python/python-for-mbas/Part 2/raw data/Simplified orders.zip')"
   ],
   "metadata": {
    "collapsed": false,
    "ExecuteTime": {
     "start_time": "2023-11-28T13:43:34.790989Z",
     "end_time": "2023-11-28T13:43:59.350121Z"
    }
   }
  },
  {
   "cell_type": "code",
   "execution_count": 11,
   "outputs": [],
   "source": [
    "df_students1.to_pickle('/Users/pkc/Dropbox/Mac/Desktop/Python/python-for-mbas/Part 2/pickles/df_students.pickle')"
   ],
   "metadata": {
    "collapsed": false,
    "ExecuteTime": {
     "start_time": "2023-11-28T13:43:59.304067Z",
     "end_time": "2023-11-28T13:43:59.378321Z"
    }
   }
  },
  {
   "cell_type": "code",
   "execution_count": 12,
   "outputs": [],
   "source": [
    "df_summarized_orders.to_csv('/Users/pkc/Dropbox/Mac/Desktop/Python/python-for-mbas/Part 2/df_summarizedOrdeur.csv')"
   ],
   "metadata": {
    "collapsed": false,
    "ExecuteTime": {
     "start_time": "2023-11-28T13:43:59.345376Z",
     "end_time": "2023-11-28T13:43:59.545980Z"
    }
   }
  },
  {
   "cell_type": "code",
   "execution_count": 13,
   "outputs": [],
   "source": [
    "df_summarized_orders.to_csv('/Users/pkc/Dropbox/Mac/Desktop/Python/python-for-mbas/Part 2/df_summarizedOrdeur.csv')"
   ],
   "metadata": {
    "collapsed": false,
    "ExecuteTime": {
     "start_time": "2023-11-28T13:43:59.514590Z",
     "end_time": "2023-11-28T13:43:59.646437Z"
    }
   }
  },
  {
   "cell_type": "code",
   "execution_count": 14,
   "outputs": [
    {
     "name": "stdout",
     "output_type": "stream",
     "text": [
      "<class 'pandas.core.frame.DataFrame'>\n",
      "RangeIndex: 2387224 entries, 0 to 2387223\n",
      "Data columns (total 10 columns):\n",
      " #   Column         Dtype  \n",
      "---  ------         -----  \n",
      " 0   ORDER_ID       object \n",
      " 1   DATETIME       object \n",
      " 2   RESTAURANT_ID  object \n",
      " 3   TYPE           object \n",
      " 4   DRINKS         float64\n",
      " 5   COOKIES        float64\n",
      " 6   MAIN           object \n",
      " 7   BASE           object \n",
      " 8   SIDE_1         object \n",
      " 9   SIDE_2         object \n",
      "dtypes: float64(2), object(8)\n",
      "memory usage: 182.1+ MB\n"
     ]
    }
   ],
   "source": [
    "#df_orders.info()"
   ],
   "metadata": {
    "collapsed": false,
    "ExecuteTime": {
     "start_time": "2023-11-28T13:43:59.562307Z",
     "end_time": "2023-11-28T13:43:59.828928Z"
    }
   }
  },
  {
   "cell_type": "code",
   "execution_count": 15,
   "outputs": [],
   "source": [
    "df_orders.DATETIME = pandas.to_datetime(df_orders.DATETIME)"
   ],
   "metadata": {
    "collapsed": false,
    "ExecuteTime": {
     "start_time": "2023-11-28T13:43:59.614400Z",
     "end_time": "2023-11-28T13:44:04.245997Z"
    }
   }
  },
  {
   "cell_type": "code",
   "execution_count": 17,
   "outputs": [],
   "source": [
    "df_orders.to_pickle('/Users/pkc/Dropbox/Mac/Desktop/Python/python-for-mbas/Part 2/pickles/df_orders.pickle')"
   ],
   "metadata": {
    "collapsed": false,
    "ExecuteTime": {
     "start_time": "2023-11-28T13:44:04.310256Z",
     "end_time": "2023-11-28T13:44:11.064538Z"
    }
   }
  },
  {
   "cell_type": "code",
   "execution_count": 18,
   "outputs": [],
   "source": [
    "df_summarized_orders.to_pickle('/Users/pkc/Dropbox/Mac/Desktop/Python/python-for-mbas/Part 2/pickles/df_summarized_orders.pickle')"
   ],
   "metadata": {
    "collapsed": false,
    "ExecuteTime": {
     "start_time": "2023-11-28T13:44:11.061252Z",
     "end_time": "2023-11-28T13:44:11.185280Z"
    }
   }
  },
  {
   "cell_type": "code",
   "execution_count": 19,
   "outputs": [],
   "source": [
    "df_restaurants.to_pickle('/Users/pkc/Dropbox/Mac/Desktop/Python/python-for-mbas/Part 2/pickles/df_restaurants.pickle')"
   ],
   "metadata": {
    "collapsed": false,
    "ExecuteTime": {
     "start_time": "2023-11-28T13:44:11.094180Z",
     "end_time": "2023-11-28T13:44:11.195501Z"
    }
   }
  },
  {
   "cell_type": "code",
   "execution_count": 20,
   "outputs": [],
   "source": [
    "df_items = pandas.read_csv('/Users/pkc/Dropbox/Mac/Desktop/Python/python-for-mbas/Part 2/raw data/Items.csv')"
   ],
   "metadata": {
    "collapsed": false,
    "ExecuteTime": {
     "start_time": "2023-11-28T13:44:11.125666Z",
     "end_time": "2023-11-28T13:44:11.233559Z"
    }
   }
  },
  {
   "cell_type": "code",
   "execution_count": 21,
   "outputs": [
    {
     "ename": "OSError",
     "evalue": "Cannot save file into a non-existent directory: '/Users/pkc/Dbropbox/Mac/Desktop/Python/python-for-mbas/Part 2/pickles'",
     "output_type": "error",
     "traceback": [
      "\u001B[0;31m---------------------------------------------------------------------------\u001B[0m",
      "\u001B[0;31mOSError\u001B[0m                                   Traceback (most recent call last)",
      "Cell \u001B[0;32mIn[21], line 1\u001B[0m\n\u001B[0;32m----> 1\u001B[0m \u001B[43mdf_items\u001B[49m\u001B[38;5;241;43m.\u001B[39;49m\u001B[43mto_pickle\u001B[49m\u001B[43m(\u001B[49m\u001B[38;5;124;43m'\u001B[39;49m\u001B[38;5;124;43m/Users/pkc/Dbropbox/Mac/Desktop/Python/python-for-mbas/Part 2/pickles/df_items.pickle\u001B[39;49m\u001B[38;5;124;43m'\u001B[39;49m\u001B[43m)\u001B[49m\n",
      "File \u001B[0;32m~/PycharmProjects/pythonProject/venv/lib/python3.9/site-packages/pandas/core/generic.py:2955\u001B[0m, in \u001B[0;36mNDFrame.to_pickle\u001B[0;34m(self, path, compression, protocol, storage_options)\u001B[0m\n\u001B[1;32m   2903\u001B[0m \u001B[38;5;250m\u001B[39m\u001B[38;5;124;03m\"\"\"\u001B[39;00m\n\u001B[1;32m   2904\u001B[0m \u001B[38;5;124;03mPickle (serialize) object to file.\u001B[39;00m\n\u001B[1;32m   2905\u001B[0m \n\u001B[0;32m   (...)\u001B[0m\n\u001B[1;32m   2951\u001B[0m \u001B[38;5;124;03m4    4    9\u001B[39;00m\n\u001B[1;32m   2952\u001B[0m \u001B[38;5;124;03m\"\"\"\u001B[39;00m  \u001B[38;5;66;03m# noqa: E501\u001B[39;00m\n\u001B[1;32m   2953\u001B[0m \u001B[38;5;28;01mfrom\u001B[39;00m \u001B[38;5;21;01mpandas\u001B[39;00m\u001B[38;5;21;01m.\u001B[39;00m\u001B[38;5;21;01mio\u001B[39;00m\u001B[38;5;21;01m.\u001B[39;00m\u001B[38;5;21;01mpickle\u001B[39;00m \u001B[38;5;28;01mimport\u001B[39;00m to_pickle\n\u001B[0;32m-> 2955\u001B[0m \u001B[43mto_pickle\u001B[49m\u001B[43m(\u001B[49m\n\u001B[1;32m   2956\u001B[0m \u001B[43m    \u001B[49m\u001B[38;5;28;43mself\u001B[39;49m\u001B[43m,\u001B[49m\n\u001B[1;32m   2957\u001B[0m \u001B[43m    \u001B[49m\u001B[43mpath\u001B[49m\u001B[43m,\u001B[49m\n\u001B[1;32m   2958\u001B[0m \u001B[43m    \u001B[49m\u001B[43mcompression\u001B[49m\u001B[38;5;241;43m=\u001B[39;49m\u001B[43mcompression\u001B[49m\u001B[43m,\u001B[49m\n\u001B[1;32m   2959\u001B[0m \u001B[43m    \u001B[49m\u001B[43mprotocol\u001B[49m\u001B[38;5;241;43m=\u001B[39;49m\u001B[43mprotocol\u001B[49m\u001B[43m,\u001B[49m\n\u001B[1;32m   2960\u001B[0m \u001B[43m    \u001B[49m\u001B[43mstorage_options\u001B[49m\u001B[38;5;241;43m=\u001B[39;49m\u001B[43mstorage_options\u001B[49m\u001B[43m,\u001B[49m\n\u001B[1;32m   2961\u001B[0m \u001B[43m\u001B[49m\u001B[43m)\u001B[49m\n",
      "File \u001B[0;32m~/PycharmProjects/pythonProject/venv/lib/python3.9/site-packages/pandas/io/pickle.py:95\u001B[0m, in \u001B[0;36mto_pickle\u001B[0;34m(obj, filepath_or_buffer, compression, protocol, storage_options)\u001B[0m\n\u001B[1;32m     92\u001B[0m \u001B[38;5;28;01mif\u001B[39;00m protocol \u001B[38;5;241m<\u001B[39m \u001B[38;5;241m0\u001B[39m:\n\u001B[1;32m     93\u001B[0m     protocol \u001B[38;5;241m=\u001B[39m pickle\u001B[38;5;241m.\u001B[39mHIGHEST_PROTOCOL\n\u001B[0;32m---> 95\u001B[0m \u001B[38;5;28;01mwith\u001B[39;00m \u001B[43mget_handle\u001B[49m\u001B[43m(\u001B[49m\n\u001B[1;32m     96\u001B[0m \u001B[43m    \u001B[49m\u001B[43mfilepath_or_buffer\u001B[49m\u001B[43m,\u001B[49m\n\u001B[1;32m     97\u001B[0m \u001B[43m    \u001B[49m\u001B[38;5;124;43m\"\u001B[39;49m\u001B[38;5;124;43mwb\u001B[39;49m\u001B[38;5;124;43m\"\u001B[39;49m\u001B[43m,\u001B[49m\n\u001B[1;32m     98\u001B[0m \u001B[43m    \u001B[49m\u001B[43mcompression\u001B[49m\u001B[38;5;241;43m=\u001B[39;49m\u001B[43mcompression\u001B[49m\u001B[43m,\u001B[49m\n\u001B[1;32m     99\u001B[0m \u001B[43m    \u001B[49m\u001B[43mis_text\u001B[49m\u001B[38;5;241;43m=\u001B[39;49m\u001B[38;5;28;43;01mFalse\u001B[39;49;00m\u001B[43m,\u001B[49m\n\u001B[1;32m    100\u001B[0m \u001B[43m    \u001B[49m\u001B[43mstorage_options\u001B[49m\u001B[38;5;241;43m=\u001B[39;49m\u001B[43mstorage_options\u001B[49m\u001B[43m,\u001B[49m\n\u001B[1;32m    101\u001B[0m \u001B[43m\u001B[49m\u001B[43m)\u001B[49m \u001B[38;5;28;01mas\u001B[39;00m handles:\n\u001B[1;32m    102\u001B[0m     \u001B[38;5;66;03m# letting pickle write directly to the buffer is more memory-efficient\u001B[39;00m\n\u001B[1;32m    103\u001B[0m     pickle\u001B[38;5;241m.\u001B[39mdump(obj, handles\u001B[38;5;241m.\u001B[39mhandle, protocol\u001B[38;5;241m=\u001B[39mprotocol)\n",
      "File \u001B[0;32m~/PycharmProjects/pythonProject/venv/lib/python3.9/site-packages/pandas/io/common.py:737\u001B[0m, in \u001B[0;36mget_handle\u001B[0;34m(path_or_buf, mode, encoding, compression, memory_map, is_text, errors, storage_options)\u001B[0m\n\u001B[1;32m    735\u001B[0m \u001B[38;5;66;03m# Only for write methods\u001B[39;00m\n\u001B[1;32m    736\u001B[0m \u001B[38;5;28;01mif\u001B[39;00m \u001B[38;5;124m\"\u001B[39m\u001B[38;5;124mr\u001B[39m\u001B[38;5;124m\"\u001B[39m \u001B[38;5;129;01mnot\u001B[39;00m \u001B[38;5;129;01min\u001B[39;00m mode \u001B[38;5;129;01mand\u001B[39;00m is_path:\n\u001B[0;32m--> 737\u001B[0m     \u001B[43mcheck_parent_directory\u001B[49m\u001B[43m(\u001B[49m\u001B[38;5;28;43mstr\u001B[39;49m\u001B[43m(\u001B[49m\u001B[43mhandle\u001B[49m\u001B[43m)\u001B[49m\u001B[43m)\u001B[49m\n\u001B[1;32m    739\u001B[0m \u001B[38;5;28;01mif\u001B[39;00m compression:\n\u001B[1;32m    740\u001B[0m     \u001B[38;5;28;01mif\u001B[39;00m compression \u001B[38;5;241m!=\u001B[39m \u001B[38;5;124m\"\u001B[39m\u001B[38;5;124mzstd\u001B[39m\u001B[38;5;124m\"\u001B[39m:\n\u001B[1;32m    741\u001B[0m         \u001B[38;5;66;03m# compression libraries do not like an explicit text-mode\u001B[39;00m\n",
      "File \u001B[0;32m~/PycharmProjects/pythonProject/venv/lib/python3.9/site-packages/pandas/io/common.py:600\u001B[0m, in \u001B[0;36mcheck_parent_directory\u001B[0;34m(path)\u001B[0m\n\u001B[1;32m    598\u001B[0m parent \u001B[38;5;241m=\u001B[39m Path(path)\u001B[38;5;241m.\u001B[39mparent\n\u001B[1;32m    599\u001B[0m \u001B[38;5;28;01mif\u001B[39;00m \u001B[38;5;129;01mnot\u001B[39;00m parent\u001B[38;5;241m.\u001B[39mis_dir():\n\u001B[0;32m--> 600\u001B[0m     \u001B[38;5;28;01mraise\u001B[39;00m \u001B[38;5;167;01mOSError\u001B[39;00m(\u001B[38;5;124mrf\u001B[39m\u001B[38;5;124m\"\u001B[39m\u001B[38;5;124mCannot save file into a non-existent directory: \u001B[39m\u001B[38;5;124m'\u001B[39m\u001B[38;5;132;01m{\u001B[39;00mparent\u001B[38;5;132;01m}\u001B[39;00m\u001B[38;5;124m'\u001B[39m\u001B[38;5;124m\"\u001B[39m)\n",
      "\u001B[0;31mOSError\u001B[0m: Cannot save file into a non-existent directory: '/Users/pkc/Dbropbox/Mac/Desktop/Python/python-for-mbas/Part 2/pickles'"
     ]
    }
   ],
   "source": [
    "df_items.to_pickle('/Users/pkc/Dbropbox/Mac/Desktop/Python/python-for-mbas/Part 2/pickles/df_items.pickle')"
   ],
   "metadata": {
    "collapsed": false,
    "ExecuteTime": {
     "start_time": "2023-11-28T13:33:47.842688Z",
     "end_time": "2023-11-28T13:33:47.861070Z"
    }
   }
  },
  {
   "cell_type": "code",
   "execution_count": null,
   "outputs": [],
   "source": [],
   "metadata": {
    "collapsed": false,
    "ExecuteTime": {
     "start_time": "2023-11-28T13:37:25.759849Z",
     "end_time": "2023-11-28T13:37:25.772466Z"
    }
   }
  },
  {
   "cell_type": "code",
   "execution_count": null,
   "outputs": [],
   "source": [
    "df_orders.head()"
   ],
   "metadata": {
    "collapsed": false,
    "ExecuteTime": {
     "start_time": "2023-11-28T13:37:40.433092Z",
     "end_time": "2023-11-28T13:37:40.459035Z"
    }
   }
  },
  {
   "cell_type": "code",
   "execution_count": null,
   "outputs": [],
   "source": [
    "df_orders.DATETIME.dt.day_name().head()"
   ],
   "metadata": {
    "collapsed": false,
    "ExecuteTime": {
     "start_time": "2023-11-28T13:36:55.725472Z",
     "end_time": "2023-11-28T13:36:57.084218Z"
    }
   }
  }
 ],
 "metadata": {
  "kernelspec": {
   "display_name": "Python 3",
   "language": "python",
   "name": "python3"
  },
  "language_info": {
   "codemirror_mode": {
    "name": "ipython",
    "version": 2
   },
   "file_extension": ".py",
   "mimetype": "text/x-python",
   "name": "python",
   "nbconvert_exporter": "python",
   "pygments_lexer": "ipython2",
   "version": "2.7.6"
  }
 },
 "nbformat": 4,
 "nbformat_minor": 0
}
