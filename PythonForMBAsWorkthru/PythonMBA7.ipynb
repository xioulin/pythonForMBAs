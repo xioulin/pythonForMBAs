{
 "cells": [
  {
   "cell_type": "code",
   "execution_count": 40,
   "metadata": {
    "collapsed": true,
    "ExecuteTime": {
     "start_time": "2023-12-01T15:27:38.758312Z",
     "end_time": "2023-12-01T15:27:38.930621Z"
    }
   },
   "outputs": [],
   "source": [
    "import pandas as pd\n",
    "import matplotlib.pyplot as plt"
   ]
  },
  {
   "cell_type": "code",
   "execution_count": 41,
   "outputs": [],
   "source": [
    "df_orders = pd.read_pickle('/Users/pkc/Dropbox/Mac/Desktop/Python/python-for-mbas/Part 2/pickles/df_orders.pickle')"
   ],
   "metadata": {
    "collapsed": false,
    "ExecuteTime": {
     "start_time": "2023-12-01T15:27:38.784603Z",
     "end_time": "2023-12-01T15:27:40.987302Z"
    }
   }
  },
  {
   "cell_type": "code",
   "execution_count": 42,
   "outputs": [],
   "source": [
    "df_items = pd.read_pickle('/Users/pkc/Dropbox/Mac/Desktop/Python/python-for-mbas/Part 2/pickles/df_items.pickle')"
   ],
   "metadata": {
    "collapsed": false,
    "ExecuteTime": {
     "start_time": "2023-12-01T15:27:40.988026Z",
     "end_time": "2023-12-01T15:27:40.996780Z"
    }
   }
  },
  {
   "cell_type": "code",
   "execution_count": 43,
   "outputs": [],
   "source": [
    "df_restaurants = (pd.read_pickle('/Users/pkc/Dropbox/Mac/Desktop/Python/python-for-mbas/Part 2/pickles/df_restaurants.pickle'))"
   ],
   "metadata": {
    "collapsed": false,
    "ExecuteTime": {
     "start_time": "2023-12-01T15:27:41.003193Z",
     "end_time": "2023-12-01T15:27:41.012178Z"
    }
   }
  },
  {
   "cell_type": "code",
   "execution_count": 44,
   "outputs": [],
   "source": [
    "df_full_time = pd.read_excel('/Users/pkc/Dropbox/Mac/Desktop/Python/python-for-mbas/Part 2/raw data/university.xlsx',sheet_name='full_time')\n"
   ],
   "metadata": {
    "collapsed": false,
    "ExecuteTime": {
     "start_time": "2023-12-01T15:27:41.042554Z",
     "end_time": "2023-12-01T15:27:41.140960Z"
    }
   }
  },
  {
   "cell_type": "code",
   "execution_count": 45,
   "outputs": [],
   "source": [
    "df_part_time = pd.read_excel('/Users/pkc/Dropbox/Mac/Desktop/Python/python-for-mbas/Part 2/raw data/university.xlsx',sheet_name='part_time')"
   ],
   "metadata": {
    "collapsed": false,
    "ExecuteTime": {
     "start_time": "2023-12-01T15:27:41.146866Z",
     "end_time": "2023-12-01T15:27:41.171393Z"
    }
   }
  },
  {
   "cell_type": "code",
   "execution_count": 46,
   "outputs": [],
   "source": [
    "df_grades = pd.read_excel('/Users/pkc/Dropbox/Mac/Desktop/Python/python-for-mbas/Part 2/raw data/university.xlsx',sheet_name='grades')"
   ],
   "metadata": {
    "collapsed": false,
    "ExecuteTime": {
     "start_time": "2023-12-01T15:27:41.175184Z",
     "end_time": "2023-12-01T15:27:41.204601Z"
    }
   }
  },
  {
   "cell_type": "code",
   "execution_count": 47,
   "outputs": [
    {
     "data": {
      "text/plain": "   student_id  final_grade\n0           1           95\n1           3           71\n2           6           76\n3           7           91\n4           8           75\n5          11           59\n6          15           86",
      "text/html": "<div>\n<style scoped>\n    .dataframe tbody tr th:only-of-type {\n        vertical-align: middle;\n    }\n\n    .dataframe tbody tr th {\n        vertical-align: top;\n    }\n\n    .dataframe thead th {\n        text-align: right;\n    }\n</style>\n<table border=\"1\" class=\"dataframe\">\n  <thead>\n    <tr style=\"text-align: right;\">\n      <th></th>\n      <th>student_id</th>\n      <th>final_grade</th>\n    </tr>\n  </thead>\n  <tbody>\n    <tr>\n      <th>0</th>\n      <td>1</td>\n      <td>95</td>\n    </tr>\n    <tr>\n      <th>1</th>\n      <td>3</td>\n      <td>71</td>\n    </tr>\n    <tr>\n      <th>2</th>\n      <td>6</td>\n      <td>76</td>\n    </tr>\n    <tr>\n      <th>3</th>\n      <td>7</td>\n      <td>91</td>\n    </tr>\n    <tr>\n      <th>4</th>\n      <td>8</td>\n      <td>75</td>\n    </tr>\n    <tr>\n      <th>5</th>\n      <td>11</td>\n      <td>59</td>\n    </tr>\n    <tr>\n      <th>6</th>\n      <td>15</td>\n      <td>86</td>\n    </tr>\n  </tbody>\n</table>\n</div>"
     },
     "execution_count": 47,
     "metadata": {},
     "output_type": "execute_result"
    }
   ],
   "source": [
    "df_grades"
   ],
   "metadata": {
    "collapsed": false,
    "ExecuteTime": {
     "start_time": "2023-12-01T15:27:41.215371Z",
     "end_time": "2023-12-01T15:27:41.224980Z"
    }
   }
  },
  {
   "cell_type": "code",
   "execution_count": 48,
   "outputs": [],
   "source": [
    "df_students = (pd.concat([df_full_time,df_part_time]).reset_index(drop=True))"
   ],
   "metadata": {
    "collapsed": false,
    "ExecuteTime": {
     "start_time": "2023-12-01T15:27:41.229930Z",
     "end_time": "2023-12-01T15:27:41.247781Z"
    }
   }
  },
  {
   "cell_type": "code",
   "execution_count": 49,
   "outputs": [
    {
     "data": {
      "text/plain": "    student_id first_name last_name       adviser\n0            1     Melvin      Ware   Prof Duncan\n1            2     Thomas     Moore    Prof Brown\n2            3     Joseph      Paul  Prof Alvarez\n3            4      Sarah      Cruz   Prof Duncan\n4            5      David   Freeman   Prof Duncan\n5            6  Elizabeth     Brown   Prof Duncan\n6            7     Amanda   Schultz  Prof Kennedy\n7            8     Tanner   Perkins  Prof Alvarez\n8            9     Ashley  Gonzales  Prof Kennedy\n9           10    Latonya    Porter  Prof Alvarez\n10          11    Jacinda  Peterson  Prof Alvarez",
      "text/html": "<div>\n<style scoped>\n    .dataframe tbody tr th:only-of-type {\n        vertical-align: middle;\n    }\n\n    .dataframe tbody tr th {\n        vertical-align: top;\n    }\n\n    .dataframe thead th {\n        text-align: right;\n    }\n</style>\n<table border=\"1\" class=\"dataframe\">\n  <thead>\n    <tr style=\"text-align: right;\">\n      <th></th>\n      <th>student_id</th>\n      <th>first_name</th>\n      <th>last_name</th>\n      <th>adviser</th>\n    </tr>\n  </thead>\n  <tbody>\n    <tr>\n      <th>0</th>\n      <td>1</td>\n      <td>Melvin</td>\n      <td>Ware</td>\n      <td>Prof Duncan</td>\n    </tr>\n    <tr>\n      <th>1</th>\n      <td>2</td>\n      <td>Thomas</td>\n      <td>Moore</td>\n      <td>Prof Brown</td>\n    </tr>\n    <tr>\n      <th>2</th>\n      <td>3</td>\n      <td>Joseph</td>\n      <td>Paul</td>\n      <td>Prof Alvarez</td>\n    </tr>\n    <tr>\n      <th>3</th>\n      <td>4</td>\n      <td>Sarah</td>\n      <td>Cruz</td>\n      <td>Prof Duncan</td>\n    </tr>\n    <tr>\n      <th>4</th>\n      <td>5</td>\n      <td>David</td>\n      <td>Freeman</td>\n      <td>Prof Duncan</td>\n    </tr>\n    <tr>\n      <th>5</th>\n      <td>6</td>\n      <td>Elizabeth</td>\n      <td>Brown</td>\n      <td>Prof Duncan</td>\n    </tr>\n    <tr>\n      <th>6</th>\n      <td>7</td>\n      <td>Amanda</td>\n      <td>Schultz</td>\n      <td>Prof Kennedy</td>\n    </tr>\n    <tr>\n      <th>7</th>\n      <td>8</td>\n      <td>Tanner</td>\n      <td>Perkins</td>\n      <td>Prof Alvarez</td>\n    </tr>\n    <tr>\n      <th>8</th>\n      <td>9</td>\n      <td>Ashley</td>\n      <td>Gonzales</td>\n      <td>Prof Kennedy</td>\n    </tr>\n    <tr>\n      <th>9</th>\n      <td>10</td>\n      <td>Latonya</td>\n      <td>Porter</td>\n      <td>Prof Alvarez</td>\n    </tr>\n    <tr>\n      <th>10</th>\n      <td>11</td>\n      <td>Jacinda</td>\n      <td>Peterson</td>\n      <td>Prof Alvarez</td>\n    </tr>\n  </tbody>\n</table>\n</div>"
     },
     "execution_count": 49,
     "metadata": {},
     "output_type": "execute_result"
    }
   ],
   "source": [
    "df_students"
   ],
   "metadata": {
    "collapsed": false,
    "ExecuteTime": {
     "start_time": "2023-12-01T15:27:41.247068Z",
     "end_time": "2023-12-01T15:27:41.370792Z"
    }
   }
  },
  {
   "cell_type": "code",
   "execution_count": 50,
   "outputs": [],
   "source": [
    "fullMerge = pd.merge(df_grades,df_students,left_on='student_id',right_on='student_id',how='outer')"
   ],
   "metadata": {
    "collapsed": false,
    "ExecuteTime": {
     "start_time": "2023-12-01T15:27:41.278288Z",
     "end_time": "2023-12-01T15:27:41.450430Z"
    }
   }
  },
  {
   "cell_type": "code",
   "execution_count": 51,
   "outputs": [],
   "source": [
    "gradeMerge = pd.merge(df_grades,df_students,left_on='student_id',right_on='student_id',how='left',validate='one_to_one')"
   ],
   "metadata": {
    "collapsed": false,
    "ExecuteTime": {
     "start_time": "2023-12-01T15:27:41.311207Z",
     "end_time": "2023-12-01T15:27:41.475333Z"
    }
   }
  },
  {
   "cell_type": "code",
   "execution_count": 52,
   "outputs": [],
   "source": [
    "df_grades_2 = df_grades.copy().set_index('student_id')"
   ],
   "metadata": {
    "collapsed": false,
    "ExecuteTime": {
     "start_time": "2023-12-01T15:27:41.330723Z",
     "end_time": "2023-12-01T15:27:41.475834Z"
    }
   }
  },
  {
   "cell_type": "code",
   "execution_count": 53,
   "outputs": [],
   "source": [
    "df_students_2 = df_students.copy().set_index('student_id')"
   ],
   "metadata": {
    "collapsed": false,
    "ExecuteTime": {
     "start_time": "2023-12-01T15:27:41.351480Z",
     "end_time": "2023-12-01T15:27:41.476979Z"
    }
   }
  },
  {
   "cell_type": "code",
   "execution_count": 54,
   "outputs": [],
   "source": [
    "df_students_2['python_grade']=df_grades_2.final_grade"
   ],
   "metadata": {
    "collapsed": false,
    "ExecuteTime": {
     "start_time": "2023-12-01T15:27:41.367631Z",
     "end_time": "2023-12-01T15:27:41.477716Z"
    }
   }
  },
  {
   "cell_type": "code",
   "execution_count": 55,
   "outputs": [],
   "source": [
    "df_result = pd.merge(df_grades, df_students[['student_id','first_name','last_name']], left_on='student_id',right_on='student_id',how='left')"
   ],
   "metadata": {
    "collapsed": false,
    "ExecuteTime": {
     "start_time": "2023-12-01T15:27:41.384804Z",
     "end_time": "2023-12-01T15:27:41.519134Z"
    }
   }
  },
  {
   "cell_type": "code",
   "execution_count": 56,
   "outputs": [
    {
     "name": "stdout",
     "output_type": "stream",
     "text": [
      "warning, df_students is missing some students\n"
     ]
    }
   ],
   "source": [
    "if df_result.first_name.isnull().sum()>0 :\n",
    "    print('warning, df_students is missing some students')"
   ],
   "metadata": {
    "collapsed": false,
    "ExecuteTime": {
     "start_time": "2023-12-01T15:27:41.396383Z",
     "end_time": "2023-12-01T15:27:41.546397Z"
    }
   }
  },
  {
   "cell_type": "code",
   "execution_count": 57,
   "outputs": [],
   "source": [
    "df_result = df_result[df_result.first_name.notnull()]"
   ],
   "metadata": {
    "collapsed": false,
    "ExecuteTime": {
     "start_time": "2023-12-01T15:27:41.409842Z",
     "end_time": "2023-12-01T15:27:41.546640Z"
    }
   }
  },
  {
   "cell_type": "code",
   "execution_count": 58,
   "outputs": [
    {
     "data": {
      "text/plain": "   ORDER_ID            DATETIME RESTAURANT_ID      TYPE  DRINKS  COOKIES MAIN   \n0  O1820060 2018-10-11 17:25:50        R10002  IN_STORE     1.0      2.0  NaN  \\\n1  O1011112 2018-05-31 11:35:00        R10003  IN_STORE     0.0      0.0  NaN   \n2   O752854 2018-04-21 18:12:57        R10001  DELIVERY     0.0      2.0   I0   \n3  O2076864 2018-11-17 12:50:52        R10005    PICKUP     1.0      0.0   I0   \n4  O1988898 2018-11-04 18:37:24        R10008  IN_STORE     0.0      0.0   I1   \n\n  BASE SIDE_1 SIDE_2  \n0  NaN    NaN    NaN  \n1  NaN    NaN    NaN  \n2   I7    I15    I14  \n3   I5     I9    I12  \n4   I7     I9     I9  ",
      "text/html": "<div>\n<style scoped>\n    .dataframe tbody tr th:only-of-type {\n        vertical-align: middle;\n    }\n\n    .dataframe tbody tr th {\n        vertical-align: top;\n    }\n\n    .dataframe thead th {\n        text-align: right;\n    }\n</style>\n<table border=\"1\" class=\"dataframe\">\n  <thead>\n    <tr style=\"text-align: right;\">\n      <th></th>\n      <th>ORDER_ID</th>\n      <th>DATETIME</th>\n      <th>RESTAURANT_ID</th>\n      <th>TYPE</th>\n      <th>DRINKS</th>\n      <th>COOKIES</th>\n      <th>MAIN</th>\n      <th>BASE</th>\n      <th>SIDE_1</th>\n      <th>SIDE_2</th>\n    </tr>\n  </thead>\n  <tbody>\n    <tr>\n      <th>0</th>\n      <td>O1820060</td>\n      <td>2018-10-11 17:25:50</td>\n      <td>R10002</td>\n      <td>IN_STORE</td>\n      <td>1.0</td>\n      <td>2.0</td>\n      <td>NaN</td>\n      <td>NaN</td>\n      <td>NaN</td>\n      <td>NaN</td>\n    </tr>\n    <tr>\n      <th>1</th>\n      <td>O1011112</td>\n      <td>2018-05-31 11:35:00</td>\n      <td>R10003</td>\n      <td>IN_STORE</td>\n      <td>0.0</td>\n      <td>0.0</td>\n      <td>NaN</td>\n      <td>NaN</td>\n      <td>NaN</td>\n      <td>NaN</td>\n    </tr>\n    <tr>\n      <th>2</th>\n      <td>O752854</td>\n      <td>2018-04-21 18:12:57</td>\n      <td>R10001</td>\n      <td>DELIVERY</td>\n      <td>0.0</td>\n      <td>2.0</td>\n      <td>I0</td>\n      <td>I7</td>\n      <td>I15</td>\n      <td>I14</td>\n    </tr>\n    <tr>\n      <th>3</th>\n      <td>O2076864</td>\n      <td>2018-11-17 12:50:52</td>\n      <td>R10005</td>\n      <td>PICKUP</td>\n      <td>1.0</td>\n      <td>0.0</td>\n      <td>I0</td>\n      <td>I5</td>\n      <td>I9</td>\n      <td>I12</td>\n    </tr>\n    <tr>\n      <th>4</th>\n      <td>O1988898</td>\n      <td>2018-11-04 18:37:24</td>\n      <td>R10008</td>\n      <td>IN_STORE</td>\n      <td>0.0</td>\n      <td>0.0</td>\n      <td>I1</td>\n      <td>I7</td>\n      <td>I9</td>\n      <td>I9</td>\n    </tr>\n  </tbody>\n</table>\n</div>"
     },
     "execution_count": 58,
     "metadata": {},
     "output_type": "execute_result"
    }
   ],
   "source": [
    "df_orders.head()"
   ],
   "metadata": {
    "collapsed": false,
    "ExecuteTime": {
     "start_time": "2023-12-01T15:27:41.440126Z",
     "end_time": "2023-12-01T15:27:41.547747Z"
    }
   }
  },
  {
   "cell_type": "code",
   "execution_count": 59,
   "outputs": [
    {
     "data": {
      "text/plain": "  RESTAURANT_ID          NAME                               ADDRESS   \n0        R10001      Columbia     2884 Broadway, New York, NY 10025  \\\n1        R10002       Midtown      1379 6th Ave, New York, NY 10019   \n2        R10005      Flatiron      40 W 25th St, New York, NY 10010   \n3        R10008  Williamsburg       45 S 3rd St, Brooklyn, NY 11249   \n4        R10004           NYU  109 Macdougal St, New York, NY 10012   \n\n         LAT       LONG OPENING_DATE DELIVERY_START  \n0  40.811470 -73.961230     8/9/2014     2017-01-01  \n1  40.763640 -73.977960    3/19/2013     2018-05-01  \n2  40.743600 -73.991070   11/14/2013     2016-03-05  \n3  40.713749 -73.965782   10/12/2015     2017-01-01  \n4  40.729930 -74.000820    1/10/2014     2017-01-01  ",
      "text/html": "<div>\n<style scoped>\n    .dataframe tbody tr th:only-of-type {\n        vertical-align: middle;\n    }\n\n    .dataframe tbody tr th {\n        vertical-align: top;\n    }\n\n    .dataframe thead th {\n        text-align: right;\n    }\n</style>\n<table border=\"1\" class=\"dataframe\">\n  <thead>\n    <tr style=\"text-align: right;\">\n      <th></th>\n      <th>RESTAURANT_ID</th>\n      <th>NAME</th>\n      <th>ADDRESS</th>\n      <th>LAT</th>\n      <th>LONG</th>\n      <th>OPENING_DATE</th>\n      <th>DELIVERY_START</th>\n    </tr>\n  </thead>\n  <tbody>\n    <tr>\n      <th>0</th>\n      <td>R10001</td>\n      <td>Columbia</td>\n      <td>2884 Broadway, New York, NY 10025</td>\n      <td>40.811470</td>\n      <td>-73.961230</td>\n      <td>8/9/2014</td>\n      <td>2017-01-01</td>\n    </tr>\n    <tr>\n      <th>1</th>\n      <td>R10002</td>\n      <td>Midtown</td>\n      <td>1379 6th Ave, New York, NY 10019</td>\n      <td>40.763640</td>\n      <td>-73.977960</td>\n      <td>3/19/2013</td>\n      <td>2018-05-01</td>\n    </tr>\n    <tr>\n      <th>2</th>\n      <td>R10005</td>\n      <td>Flatiron</td>\n      <td>40 W 25th St, New York, NY 10010</td>\n      <td>40.743600</td>\n      <td>-73.991070</td>\n      <td>11/14/2013</td>\n      <td>2016-03-05</td>\n    </tr>\n    <tr>\n      <th>3</th>\n      <td>R10008</td>\n      <td>Williamsburg</td>\n      <td>45 S 3rd St, Brooklyn, NY 11249</td>\n      <td>40.713749</td>\n      <td>-73.965782</td>\n      <td>10/12/2015</td>\n      <td>2017-01-01</td>\n    </tr>\n    <tr>\n      <th>4</th>\n      <td>R10004</td>\n      <td>NYU</td>\n      <td>109 Macdougal St, New York, NY 10012</td>\n      <td>40.729930</td>\n      <td>-74.000820</td>\n      <td>1/10/2014</td>\n      <td>2017-01-01</td>\n    </tr>\n  </tbody>\n</table>\n</div>"
     },
     "execution_count": 59,
     "metadata": {},
     "output_type": "execute_result"
    }
   ],
   "source": [
    "df_restaurants.head()"
   ],
   "metadata": {
    "collapsed": false,
    "ExecuteTime": {
     "start_time": "2023-12-01T15:27:41.476561Z",
     "end_time": "2023-12-01T15:27:41.618765Z"
    }
   }
  },
  {
   "cell_type": "code",
   "execution_count": 60,
   "outputs": [],
   "source": [
    "df_res = ( pd.merge(df_orders, df_restaurants[['RESTAURANT_ID','NAME']],\n",
    "                    left_on='RESTAURANT_ID',\n",
    "                    right_on='RESTAURANT_ID',\n",
    "                    how='left')\n",
    "           .rename(columns={'NAME':'RESTAURANT_NAME'}\n",
    "                    ))"
   ],
   "metadata": {
    "collapsed": false,
    "ExecuteTime": {
     "start_time": "2023-12-01T15:27:41.781657Z",
     "end_time": "2023-12-01T15:27:44.662324Z"
    }
   }
  },
  {
   "cell_type": "code",
   "execution_count": 61,
   "outputs": [
    {
     "data": {
      "text/plain": "   ORDER_ID            DATETIME RESTAURANT_ID      TYPE  DRINKS  COOKIES MAIN   \n0  O1820060 2018-10-11 17:25:50        R10002  IN_STORE     1.0      2.0  NaN  \\\n1  O1011112 2018-05-31 11:35:00        R10003  IN_STORE     0.0      0.0  NaN   \n2   O752854 2018-04-21 18:12:57        R10001  DELIVERY     0.0      2.0   I0   \n3  O2076864 2018-11-17 12:50:52        R10005    PICKUP     1.0      0.0   I0   \n4  O1988898 2018-11-04 18:37:24        R10008  IN_STORE     0.0      0.0   I1   \n\n  BASE SIDE_1 SIDE_2 RESTAURANT_NAME  \n0  NaN    NaN    NaN         Midtown  \n1  NaN    NaN    NaN     Bryant Park  \n2   I7    I15    I14        Columbia  \n3   I5     I9    I12        Flatiron  \n4   I7     I9     I9    Williamsburg  ",
      "text/html": "<div>\n<style scoped>\n    .dataframe tbody tr th:only-of-type {\n        vertical-align: middle;\n    }\n\n    .dataframe tbody tr th {\n        vertical-align: top;\n    }\n\n    .dataframe thead th {\n        text-align: right;\n    }\n</style>\n<table border=\"1\" class=\"dataframe\">\n  <thead>\n    <tr style=\"text-align: right;\">\n      <th></th>\n      <th>ORDER_ID</th>\n      <th>DATETIME</th>\n      <th>RESTAURANT_ID</th>\n      <th>TYPE</th>\n      <th>DRINKS</th>\n      <th>COOKIES</th>\n      <th>MAIN</th>\n      <th>BASE</th>\n      <th>SIDE_1</th>\n      <th>SIDE_2</th>\n      <th>RESTAURANT_NAME</th>\n    </tr>\n  </thead>\n  <tbody>\n    <tr>\n      <th>0</th>\n      <td>O1820060</td>\n      <td>2018-10-11 17:25:50</td>\n      <td>R10002</td>\n      <td>IN_STORE</td>\n      <td>1.0</td>\n      <td>2.0</td>\n      <td>NaN</td>\n      <td>NaN</td>\n      <td>NaN</td>\n      <td>NaN</td>\n      <td>Midtown</td>\n    </tr>\n    <tr>\n      <th>1</th>\n      <td>O1011112</td>\n      <td>2018-05-31 11:35:00</td>\n      <td>R10003</td>\n      <td>IN_STORE</td>\n      <td>0.0</td>\n      <td>0.0</td>\n      <td>NaN</td>\n      <td>NaN</td>\n      <td>NaN</td>\n      <td>NaN</td>\n      <td>Bryant Park</td>\n    </tr>\n    <tr>\n      <th>2</th>\n      <td>O752854</td>\n      <td>2018-04-21 18:12:57</td>\n      <td>R10001</td>\n      <td>DELIVERY</td>\n      <td>0.0</td>\n      <td>2.0</td>\n      <td>I0</td>\n      <td>I7</td>\n      <td>I15</td>\n      <td>I14</td>\n      <td>Columbia</td>\n    </tr>\n    <tr>\n      <th>3</th>\n      <td>O2076864</td>\n      <td>2018-11-17 12:50:52</td>\n      <td>R10005</td>\n      <td>PICKUP</td>\n      <td>1.0</td>\n      <td>0.0</td>\n      <td>I0</td>\n      <td>I5</td>\n      <td>I9</td>\n      <td>I12</td>\n      <td>Flatiron</td>\n    </tr>\n    <tr>\n      <th>4</th>\n      <td>O1988898</td>\n      <td>2018-11-04 18:37:24</td>\n      <td>R10008</td>\n      <td>IN_STORE</td>\n      <td>0.0</td>\n      <td>0.0</td>\n      <td>I1</td>\n      <td>I7</td>\n      <td>I9</td>\n      <td>I9</td>\n      <td>Williamsburg</td>\n    </tr>\n  </tbody>\n</table>\n</div>"
     },
     "execution_count": 61,
     "metadata": {},
     "output_type": "execute_result"
    }
   ],
   "source": [
    "df_res.head()"
   ],
   "metadata": {
    "collapsed": false,
    "ExecuteTime": {
     "start_time": "2023-12-01T15:27:44.627972Z",
     "end_time": "2023-12-01T15:27:44.663020Z"
    }
   }
  },
  {
   "cell_type": "code",
   "execution_count": 62,
   "outputs": [
    {
     "data": {
      "text/plain": "   ORDER_ID            DATETIME RESTAURANT_ID      TYPE  DRINKS  COOKIES MAIN   \n0  O1820060 2018-10-11 17:25:50        R10002  IN_STORE     1.0      2.0  NaN  \\\n1  O1011112 2018-05-31 11:35:00        R10003  IN_STORE     0.0      0.0  NaN   \n2   O752854 2018-04-21 18:12:57        R10001  DELIVERY     0.0      2.0   I0   \n3  O2076864 2018-11-17 12:50:52        R10005    PICKUP     1.0      0.0   I0   \n4  O1988898 2018-11-04 18:37:24        R10008  IN_STORE     0.0      0.0   I1   \n\n  BASE SIDE_1 SIDE_2 RESTAURANT_NAME ITEM_ID                   MAIN_NAME  \n0  NaN    NaN    NaN         Midtown     NaN                         NaN  \n1  NaN    NaN    NaN     Bryant Park     NaN                         NaN  \n2   I7    I15    I14        Columbia      I0  Charred Chicken Marketbowl  \n3   I5     I9    I12        Flatiron      I0  Charred Chicken Marketbowl  \n4   I7     I9     I9    Williamsburg      I1  Spicy Meatballs Marketbowl  ",
      "text/html": "<div>\n<style scoped>\n    .dataframe tbody tr th:only-of-type {\n        vertical-align: middle;\n    }\n\n    .dataframe tbody tr th {\n        vertical-align: top;\n    }\n\n    .dataframe thead th {\n        text-align: right;\n    }\n</style>\n<table border=\"1\" class=\"dataframe\">\n  <thead>\n    <tr style=\"text-align: right;\">\n      <th></th>\n      <th>ORDER_ID</th>\n      <th>DATETIME</th>\n      <th>RESTAURANT_ID</th>\n      <th>TYPE</th>\n      <th>DRINKS</th>\n      <th>COOKIES</th>\n      <th>MAIN</th>\n      <th>BASE</th>\n      <th>SIDE_1</th>\n      <th>SIDE_2</th>\n      <th>RESTAURANT_NAME</th>\n      <th>ITEM_ID</th>\n      <th>MAIN_NAME</th>\n    </tr>\n  </thead>\n  <tbody>\n    <tr>\n      <th>0</th>\n      <td>O1820060</td>\n      <td>2018-10-11 17:25:50</td>\n      <td>R10002</td>\n      <td>IN_STORE</td>\n      <td>1.0</td>\n      <td>2.0</td>\n      <td>NaN</td>\n      <td>NaN</td>\n      <td>NaN</td>\n      <td>NaN</td>\n      <td>Midtown</td>\n      <td>NaN</td>\n      <td>NaN</td>\n    </tr>\n    <tr>\n      <th>1</th>\n      <td>O1011112</td>\n      <td>2018-05-31 11:35:00</td>\n      <td>R10003</td>\n      <td>IN_STORE</td>\n      <td>0.0</td>\n      <td>0.0</td>\n      <td>NaN</td>\n      <td>NaN</td>\n      <td>NaN</td>\n      <td>NaN</td>\n      <td>Bryant Park</td>\n      <td>NaN</td>\n      <td>NaN</td>\n    </tr>\n    <tr>\n      <th>2</th>\n      <td>O752854</td>\n      <td>2018-04-21 18:12:57</td>\n      <td>R10001</td>\n      <td>DELIVERY</td>\n      <td>0.0</td>\n      <td>2.0</td>\n      <td>I0</td>\n      <td>I7</td>\n      <td>I15</td>\n      <td>I14</td>\n      <td>Columbia</td>\n      <td>I0</td>\n      <td>Charred Chicken Marketbowl</td>\n    </tr>\n    <tr>\n      <th>3</th>\n      <td>O2076864</td>\n      <td>2018-11-17 12:50:52</td>\n      <td>R10005</td>\n      <td>PICKUP</td>\n      <td>1.0</td>\n      <td>0.0</td>\n      <td>I0</td>\n      <td>I5</td>\n      <td>I9</td>\n      <td>I12</td>\n      <td>Flatiron</td>\n      <td>I0</td>\n      <td>Charred Chicken Marketbowl</td>\n    </tr>\n    <tr>\n      <th>4</th>\n      <td>O1988898</td>\n      <td>2018-11-04 18:37:24</td>\n      <td>R10008</td>\n      <td>IN_STORE</td>\n      <td>0.0</td>\n      <td>0.0</td>\n      <td>I1</td>\n      <td>I7</td>\n      <td>I9</td>\n      <td>I9</td>\n      <td>Williamsburg</td>\n      <td>I1</td>\n      <td>Spicy Meatballs Marketbowl</td>\n    </tr>\n  </tbody>\n</table>\n</div>"
     },
     "execution_count": 62,
     "metadata": {},
     "output_type": "execute_result"
    }
   ],
   "source": [
    "( pd.merge(df_res,\n",
    "           df_items[['ITEM_ID','ITEM_NAME']],\n",
    "           left_on='MAIN',\n",
    "           right_on='ITEM_ID',\n",
    "           how='left'\n",
    "           )\n",
    "  .rename(columns={'ITEM_NAME':'MAIN_NAME'})).head()"
   ],
   "metadata": {
    "collapsed": false,
    "ExecuteTime": {
     "start_time": "2023-12-01T15:27:44.863300Z",
     "end_time": "2023-12-01T15:27:47.065310Z"
    }
   }
  },
  {
   "cell_type": "code",
   "execution_count": 63,
   "outputs": [],
   "source": [
    "df_res = ( pd.merge(df_res,\n",
    "                    df_items[['ITEM_ID','ITEM_NAME']],\n",
    "                    left_on='MAIN',\n",
    "                    right_on='ITEM_ID',\n",
    "                    how='left'\n",
    "                    )\n",
    "           .rename(columns={'ITEM_NAME':'MAIN_NAME'}).drop(columns='ITEM_ID'))"
   ],
   "metadata": {
    "collapsed": false,
    "ExecuteTime": {
     "start_time": "2023-12-01T15:27:47.380164Z",
     "end_time": "2023-12-01T15:27:50.795676Z"
    }
   }
  },
  {
   "cell_type": "code",
   "execution_count": 64,
   "outputs": [
    {
     "data": {
      "text/plain": "   ORDER_ID            DATETIME RESTAURANT_ID      TYPE  DRINKS  COOKIES MAIN   \n0  O1820060 2018-10-11 17:25:50        R10002  IN_STORE     1.0      2.0  NaN  \\\n1  O1011112 2018-05-31 11:35:00        R10003  IN_STORE     0.0      0.0  NaN   \n2   O752854 2018-04-21 18:12:57        R10001  DELIVERY     0.0      2.0   I0   \n3  O2076864 2018-11-17 12:50:52        R10005    PICKUP     1.0      0.0   I0   \n4  O1988898 2018-11-04 18:37:24        R10008  IN_STORE     0.0      0.0   I1   \n\n  BASE SIDE_1 SIDE_2 RESTAURANT_NAME                   MAIN_NAME  \n0  NaN    NaN    NaN         Midtown                         NaN  \n1  NaN    NaN    NaN     Bryant Park                         NaN  \n2   I7    I15    I14        Columbia  Charred Chicken Marketbowl  \n3   I5     I9    I12        Flatiron  Charred Chicken Marketbowl  \n4   I7     I9     I9    Williamsburg  Spicy Meatballs Marketbowl  ",
      "text/html": "<div>\n<style scoped>\n    .dataframe tbody tr th:only-of-type {\n        vertical-align: middle;\n    }\n\n    .dataframe tbody tr th {\n        vertical-align: top;\n    }\n\n    .dataframe thead th {\n        text-align: right;\n    }\n</style>\n<table border=\"1\" class=\"dataframe\">\n  <thead>\n    <tr style=\"text-align: right;\">\n      <th></th>\n      <th>ORDER_ID</th>\n      <th>DATETIME</th>\n      <th>RESTAURANT_ID</th>\n      <th>TYPE</th>\n      <th>DRINKS</th>\n      <th>COOKIES</th>\n      <th>MAIN</th>\n      <th>BASE</th>\n      <th>SIDE_1</th>\n      <th>SIDE_2</th>\n      <th>RESTAURANT_NAME</th>\n      <th>MAIN_NAME</th>\n    </tr>\n  </thead>\n  <tbody>\n    <tr>\n      <th>0</th>\n      <td>O1820060</td>\n      <td>2018-10-11 17:25:50</td>\n      <td>R10002</td>\n      <td>IN_STORE</td>\n      <td>1.0</td>\n      <td>2.0</td>\n      <td>NaN</td>\n      <td>NaN</td>\n      <td>NaN</td>\n      <td>NaN</td>\n      <td>Midtown</td>\n      <td>NaN</td>\n    </tr>\n    <tr>\n      <th>1</th>\n      <td>O1011112</td>\n      <td>2018-05-31 11:35:00</td>\n      <td>R10003</td>\n      <td>IN_STORE</td>\n      <td>0.0</td>\n      <td>0.0</td>\n      <td>NaN</td>\n      <td>NaN</td>\n      <td>NaN</td>\n      <td>NaN</td>\n      <td>Bryant Park</td>\n      <td>NaN</td>\n    </tr>\n    <tr>\n      <th>2</th>\n      <td>O752854</td>\n      <td>2018-04-21 18:12:57</td>\n      <td>R10001</td>\n      <td>DELIVERY</td>\n      <td>0.0</td>\n      <td>2.0</td>\n      <td>I0</td>\n      <td>I7</td>\n      <td>I15</td>\n      <td>I14</td>\n      <td>Columbia</td>\n      <td>Charred Chicken Marketbowl</td>\n    </tr>\n    <tr>\n      <th>3</th>\n      <td>O2076864</td>\n      <td>2018-11-17 12:50:52</td>\n      <td>R10005</td>\n      <td>PICKUP</td>\n      <td>1.0</td>\n      <td>0.0</td>\n      <td>I0</td>\n      <td>I5</td>\n      <td>I9</td>\n      <td>I12</td>\n      <td>Flatiron</td>\n      <td>Charred Chicken Marketbowl</td>\n    </tr>\n    <tr>\n      <th>4</th>\n      <td>O1988898</td>\n      <td>2018-11-04 18:37:24</td>\n      <td>R10008</td>\n      <td>IN_STORE</td>\n      <td>0.0</td>\n      <td>0.0</td>\n      <td>I1</td>\n      <td>I7</td>\n      <td>I9</td>\n      <td>I9</td>\n      <td>Williamsburg</td>\n      <td>Spicy Meatballs Marketbowl</td>\n    </tr>\n  </tbody>\n</table>\n</div>"
     },
     "execution_count": 64,
     "metadata": {},
     "output_type": "execute_result"
    }
   ],
   "source": [
    "df_res.head()"
   ],
   "metadata": {
    "collapsed": false,
    "ExecuteTime": {
     "start_time": "2023-12-01T15:27:50.806094Z",
     "end_time": "2023-12-01T15:27:50.837507Z"
    }
   }
  },
  {
   "cell_type": "code",
   "execution_count": 65,
   "outputs": [
    {
     "data": {
      "text/plain": "<Axes: xlabel='MAIN_NAME'>"
     },
     "execution_count": 65,
     "metadata": {},
     "output_type": "execute_result"
    },
    {
     "data": {
      "text/plain": "<Figure size 640x480 with 1 Axes>",
      "image/png": "[encoded data removed]"
     },
     "metadata": {},
     "output_type": "display_data"
    }
   ],
   "source": [
    "df_res.MAIN_NAME.value_counts().plot(kind='bar')"
   ],
   "metadata": {
    "collapsed": false,
    "ExecuteTime": {
     "start_time": "2023-12-01T15:27:51.052157Z",
     "end_time": "2023-12-01T15:27:51.683152Z"
    }
   }
  },
  {
   "cell_type": "code",
   "execution_count": 66,
   "outputs": [],
   "source": [
    "df_res.to_pickle('/Users/pkc/Dropbox/Mac/Desktop/Python/python-for-mbas/Part 2/Chapter 7/orders.pickle')"
   ],
   "metadata": {
    "collapsed": false,
    "ExecuteTime": {
     "start_time": "2023-12-01T15:27:51.680323Z",
     "end_time": "2023-12-01T15:27:54.645858Z"
    }
   }
  }
 ],
 "metadata": {
  "kernelspec": {
   "display_name": "Python 3",
   "language": "python",
   "name": "python3"
  },
  "language_info": {
   "codemirror_mode": {
    "name": "ipython",
    "version": 2
   },
   "file_extension": ".py",
   "mimetype": "text/x-python",
   "name": "python",
   "nbconvert_exporter": "python",
   "pygments_lexer": "ipython2",
   "version": "2.7.6"
  }
 },
 "nbformat": 4,
 "nbformat_minor": 0
}
