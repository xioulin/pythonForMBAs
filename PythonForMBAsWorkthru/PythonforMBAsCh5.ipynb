{
 "cells": [
  {
   "cell_type": "code",
   "execution_count": 3,
   "metadata": {
    "collapsed": true,
    "ExecuteTime": {
     "start_time": "2023-11-28T13:51:15.539313Z",
     "end_time": "2023-11-28T13:51:16.692299Z"
    }
   },
   "outputs": [],
   "source": [
    "import pandas as pd"
   ]
  },
  {
   "cell_type": "code",
   "execution_count": 4,
   "outputs": [],
   "source": [
    "import matplotlib.pyplot as plt"
   ],
   "metadata": {
    "collapsed": false,
    "ExecuteTime": {
     "start_time": "2023-11-28T13:51:16.697960Z",
     "end_time": "2023-11-28T13:51:17.857433Z"
    }
   }
  },
  {
   "cell_type": "code",
   "execution_count": 5,
   "outputs": [],
   "source": [
    "students = (\n",
    "    {'FIRST_NAME': ['Daniel','Ben','Kavita','Linda','Omar','Jane','Felicia','Rachel','Bob'],\n",
    "     'LAST_NAME':['Smith','Leibstrom','Kanabar','Thiel','Reichel','OConner','Rao','Crock','McDonald'],\n",
    "\n",
    "     'YEAR':[1,1,1,4,2,2,3,1,1,],\n",
    "     'HOME_STATE':['NY','NY','PA','CA','OK','HI','NY','FL','FL'],\n",
    "     'AGE':[18,19,19,22,21,19,20,17,18],\n",
    "     'CALC_101_FINAL':[90,80,None,60,70,None,None,None,98],\n",
    "     'ENGLISH_101_FINAL':[80,None,None,40,50,None,None,60,65]\n",
    "    }\n",
    ")"
   ],
   "metadata": {
    "collapsed": false,
    "ExecuteTime": {
     "start_time": "2023-11-28T13:51:17.868300Z",
     "end_time": "2023-11-28T13:51:17.875138Z"
    }
   }
  },
  {
   "cell_type": "code",
   "execution_count": 6,
   "outputs": [],
   "source": [
    "df_students = pd.DataFrame(students)"
   ],
   "metadata": {
    "collapsed": false,
    "ExecuteTime": {
     "start_time": "2023-11-28T13:51:17.884472Z",
     "end_time": "2023-11-28T13:51:17.919087Z"
    }
   }
  },
  {
   "cell_type": "markdown",
   "source": [
    "this plot returns the first string column as the x axis and the second as y with the type of plot as bar chart"
   ],
   "metadata": {
    "collapsed": false
   }
  },
  {
   "cell_type": "code",
   "execution_count": 7,
   "outputs": [],
   "source": [
    "#df_students.plot('FIRST_NAME','CALC_101_FINAL',kind='bar')"
   ],
   "metadata": {
    "collapsed": false,
    "ExecuteTime": {
     "start_time": "2023-11-28T13:51:17.900797Z",
     "end_time": "2023-11-28T13:51:17.919533Z"
    }
   }
  },
  {
   "cell_type": "markdown",
   "source": [
    "replace the column with NaN values with the same column with 0 filled in for NaN"
   ],
   "metadata": {
    "collapsed": false
   }
  },
  {
   "cell_type": "code",
   "execution_count": 8,
   "outputs": [],
   "source": [
    "df_students.CALC_101_FINAL = df_students.CALC_101_FINAL.fillna(0)"
   ],
   "metadata": {
    "collapsed": false,
    "ExecuteTime": {
     "start_time": "2023-11-28T13:51:17.920856Z",
     "end_time": "2023-11-28T13:51:17.933010Z"
    }
   }
  },
  {
   "cell_type": "code",
   "execution_count": 9,
   "outputs": [],
   "source": [
    "df_students.LAST_NAME = df_students.LAST_NAME.fillna(0)"
   ],
   "metadata": {
    "collapsed": false,
    "ExecuteTime": {
     "start_time": "2023-11-28T13:51:17.939586Z",
     "end_time": "2023-11-28T13:51:17.976898Z"
    }
   }
  },
  {
   "cell_type": "code",
   "execution_count": 10,
   "outputs": [],
   "source": [
    "df_summarized_orders=pd.read_csv('/Users/pkc/Dropbox/Mac/Desktop/Python/python-for-mbas/Part 2/raw data/Summarized orders.csv')"
   ],
   "metadata": {
    "collapsed": false,
    "ExecuteTime": {
     "start_time": "2023-11-28T13:51:17.958698Z",
     "end_time": "2023-11-28T13:51:18.011203Z"
    }
   }
  },
  {
   "cell_type": "code",
   "execution_count": 11,
   "outputs": [],
   "source": [
    "df_summarized_orders.columns = ['RESTAURANT_NAME','DATE','NUM_ORDERS','PERC_DELIVERY']"
   ],
   "metadata": {
    "collapsed": false,
    "ExecuteTime": {
     "start_time": "2023-11-28T13:51:17.977836Z",
     "end_time": "2023-11-28T13:51:18.013850Z"
    }
   }
  },
  {
   "cell_type": "code",
   "execution_count": 12,
   "outputs": [],
   "source": [
    "df_items = pd.read_csv('/Users/pkc/Dropbox/Mac/Desktop/Python/python-for-mbas/Part 2/raw data/Items.csv')"
   ],
   "metadata": {
    "collapsed": false,
    "ExecuteTime": {
     "start_time": "2023-11-28T13:51:18.018984Z",
     "end_time": "2023-11-28T13:51:18.057084Z"
    }
   }
  },
  {
   "cell_type": "code",
   "execution_count": 13,
   "outputs": [],
   "source": [
    "df_restaurants = pd.read_csv('/Users/pkc/Dropbox/Mac/Desktop/Python/python-for-mbas/Part 2/raw data/Restaurants.csv')"
   ],
   "metadata": {
    "collapsed": false,
    "ExecuteTime": {
     "start_time": "2023-11-28T13:51:18.061687Z",
     "end_time": "2023-11-28T13:51:18.076469Z"
    }
   }
  },
  {
   "cell_type": "code",
   "execution_count": 14,
   "outputs": [],
   "source": [
    "df_orders= pd.read_csv('/Users/pkc/Dropbox/Mac/Desktop/Python/python-for-mbas/Part 2/raw data/Simplified orders.zip')"
   ],
   "metadata": {
    "collapsed": false,
    "ExecuteTime": {
     "start_time": "2023-11-28T13:51:18.080415Z",
     "end_time": "2023-11-28T13:51:26.137910Z"
    }
   }
  },
  {
   "cell_type": "markdown",
   "source": [
    "this takes the column ITEM_TYPE and sorts them alphabetically, ascending set at False makes it descending so setting it as true means ascending alphabetlically"
   ],
   "metadata": {
    "collapsed": false
   }
  },
  {
   "cell_type": "code",
   "execution_count": 32,
   "outputs": [
    {
     "data": {
      "text/plain": "   ITEM_ID                               ITEM_NAME     ITEM_TYPE\n24     I19                        Tarragon Mustard        Sauces\n14     I16                      Housemade Sriracha        Sauces\n25     I17                                   Pesto        Sauces\n10     I18                           Garlic Aioli         Sauces\n8      I11             Charred Broccoli with Lemon  Market Sides\n23     I10                  Roasted Sweet Potatoes  Market Sides\n18     I15                               Snap Peas  Market Sides\n17      I9                Jasper Hill Mac & Cheese  Market Sides\n15     I14         Green Goddess Beans with Sesame  Market Sides\n6      I12                      Cashew Kale Caesar  Market Sides\n4       I8    Cauliflower with Garlic and Parmesan  Market Sides\n29     I13                     Blistered Shishitos  Market Sides\n28      I2         Grilled Organic Tofu Marketbowl         Mains\n11      I4  Roasted Wild Alaskan Salmon Marketbowl         Mains\n20      I0              Charred Chicken Marketbowl         Mains\n21      I1              Spicy Meatballs Marketbowl         Mains\n12      I3         Herb Roasted Chicken Marketbowl         Mains\n9      I33   Cawston Press Rhubarb Sparkling Drink        Drinks\n13     I34              Fresh Ginger Mint Lemonade        Drinks\n5      I37                        Organic Iced Tea        Drinks\n1      I39                         Spindrift Lemon        Drinks\n27     I38                    Spindrift Grapefruit        Drinks\n3      I36                                Kombucha        Drinks\n19     I35               Hibiscus Rooibos Iced Tea        Drinks\n22     I32                   Boxed Water is Better        Drinks\n30     I40          Himalayan Pink Organic Popcorn      Desserts\n7      I31                     Kitchen Sink Cookie      Desserts\n16     I24                                 Avocado    Cold Sides\n26      I6                   Farm Greens with Mint         Bases\n2       I5                      Classic Brown Rice         Bases\n0       I7            Farro with Summer Vegetables         Bases",
      "text/html": "<div>\n<style scoped>\n    .dataframe tbody tr th:only-of-type {\n        vertical-align: middle;\n    }\n\n    .dataframe tbody tr th {\n        vertical-align: top;\n    }\n\n    .dataframe thead th {\n        text-align: right;\n    }\n</style>\n<table border=\"1\" class=\"dataframe\">\n  <thead>\n    <tr style=\"text-align: right;\">\n      <th></th>\n      <th>ITEM_ID</th>\n      <th>ITEM_NAME</th>\n      <th>ITEM_TYPE</th>\n    </tr>\n  </thead>\n  <tbody>\n    <tr>\n      <th>24</th>\n      <td>I19</td>\n      <td>Tarragon Mustard</td>\n      <td>Sauces</td>\n    </tr>\n    <tr>\n      <th>14</th>\n      <td>I16</td>\n      <td>Housemade Sriracha</td>\n      <td>Sauces</td>\n    </tr>\n    <tr>\n      <th>25</th>\n      <td>I17</td>\n      <td>Pesto</td>\n      <td>Sauces</td>\n    </tr>\n    <tr>\n      <th>10</th>\n      <td>I18</td>\n      <td>Garlic Aioli</td>\n      <td>Sauces</td>\n    </tr>\n    <tr>\n      <th>8</th>\n      <td>I11</td>\n      <td>Charred Broccoli with Lemon</td>\n      <td>Market Sides</td>\n    </tr>\n    <tr>\n      <th>23</th>\n      <td>I10</td>\n      <td>Roasted Sweet Potatoes</td>\n      <td>Market Sides</td>\n    </tr>\n    <tr>\n      <th>18</th>\n      <td>I15</td>\n      <td>Snap Peas</td>\n      <td>Market Sides</td>\n    </tr>\n    <tr>\n      <th>17</th>\n      <td>I9</td>\n      <td>Jasper Hill Mac &amp; Cheese</td>\n      <td>Market Sides</td>\n    </tr>\n    <tr>\n      <th>15</th>\n      <td>I14</td>\n      <td>Green Goddess Beans with Sesame</td>\n      <td>Market Sides</td>\n    </tr>\n    <tr>\n      <th>6</th>\n      <td>I12</td>\n      <td>Cashew Kale Caesar</td>\n      <td>Market Sides</td>\n    </tr>\n    <tr>\n      <th>4</th>\n      <td>I8</td>\n      <td>Cauliflower with Garlic and Parmesan</td>\n      <td>Market Sides</td>\n    </tr>\n    <tr>\n      <th>29</th>\n      <td>I13</td>\n      <td>Blistered Shishitos</td>\n      <td>Market Sides</td>\n    </tr>\n    <tr>\n      <th>28</th>\n      <td>I2</td>\n      <td>Grilled Organic Tofu Marketbowl</td>\n      <td>Mains</td>\n    </tr>\n    <tr>\n      <th>11</th>\n      <td>I4</td>\n      <td>Roasted Wild Alaskan Salmon Marketbowl</td>\n      <td>Mains</td>\n    </tr>\n    <tr>\n      <th>20</th>\n      <td>I0</td>\n      <td>Charred Chicken Marketbowl</td>\n      <td>Mains</td>\n    </tr>\n    <tr>\n      <th>21</th>\n      <td>I1</td>\n      <td>Spicy Meatballs Marketbowl</td>\n      <td>Mains</td>\n    </tr>\n    <tr>\n      <th>12</th>\n      <td>I3</td>\n      <td>Herb Roasted Chicken Marketbowl</td>\n      <td>Mains</td>\n    </tr>\n    <tr>\n      <th>9</th>\n      <td>I33</td>\n      <td>Cawston Press Rhubarb Sparkling Drink</td>\n      <td>Drinks</td>\n    </tr>\n    <tr>\n      <th>13</th>\n      <td>I34</td>\n      <td>Fresh Ginger Mint Lemonade</td>\n      <td>Drinks</td>\n    </tr>\n    <tr>\n      <th>5</th>\n      <td>I37</td>\n      <td>Organic Iced Tea</td>\n      <td>Drinks</td>\n    </tr>\n    <tr>\n      <th>1</th>\n      <td>I39</td>\n      <td>Spindrift Lemon</td>\n      <td>Drinks</td>\n    </tr>\n    <tr>\n      <th>27</th>\n      <td>I38</td>\n      <td>Spindrift Grapefruit</td>\n      <td>Drinks</td>\n    </tr>\n    <tr>\n      <th>3</th>\n      <td>I36</td>\n      <td>Kombucha</td>\n      <td>Drinks</td>\n    </tr>\n    <tr>\n      <th>19</th>\n      <td>I35</td>\n      <td>Hibiscus Rooibos Iced Tea</td>\n      <td>Drinks</td>\n    </tr>\n    <tr>\n      <th>22</th>\n      <td>I32</td>\n      <td>Boxed Water is Better</td>\n      <td>Drinks</td>\n    </tr>\n    <tr>\n      <th>30</th>\n      <td>I40</td>\n      <td>Himalayan Pink Organic Popcorn</td>\n      <td>Desserts</td>\n    </tr>\n    <tr>\n      <th>7</th>\n      <td>I31</td>\n      <td>Kitchen Sink Cookie</td>\n      <td>Desserts</td>\n    </tr>\n    <tr>\n      <th>16</th>\n      <td>I24</td>\n      <td>Avocado</td>\n      <td>Cold Sides</td>\n    </tr>\n    <tr>\n      <th>26</th>\n      <td>I6</td>\n      <td>Farm Greens with Mint</td>\n      <td>Bases</td>\n    </tr>\n    <tr>\n      <th>2</th>\n      <td>I5</td>\n      <td>Classic Brown Rice</td>\n      <td>Bases</td>\n    </tr>\n    <tr>\n      <th>0</th>\n      <td>I7</td>\n      <td>Farro with Summer Vegetables</td>\n      <td>Bases</td>\n    </tr>\n  </tbody>\n</table>\n</div>"
     },
     "execution_count": 32,
     "metadata": {},
     "output_type": "execute_result"
    }
   ],
   "source": [
    "df_items.sort_values('ITEM_TYPE',ascending=False)"
   ],
   "metadata": {
    "collapsed": false,
    "ExecuteTime": {
     "start_time": "2023-11-28T13:51:36.479278Z",
     "end_time": "2023-11-28T13:51:36.554471Z"
    }
   }
  },
  {
   "cell_type": "markdown",
   "source": [
    "summarize the values in column TYPE and the normalize sets them as fraction of total in decimal value"
   ],
   "metadata": {
    "collapsed": false
   }
  },
  {
   "cell_type": "code",
   "execution_count": 16,
   "outputs": [
    {
     "data": {
      "text/plain": "TYPE\nIN_STORE    0.717627\nPICKUP      0.168162\nDELIVERY    0.114211\nName: proportion, dtype: float64"
     },
     "execution_count": 16,
     "metadata": {},
     "output_type": "execute_result"
    }
   ],
   "source": [
    "df_orders['TYPE'].value_counts(normalize=True)"
   ],
   "metadata": {
    "collapsed": false,
    "ExecuteTime": {
     "start_time": "2023-11-28T13:51:26.573710Z",
     "end_time": "2023-11-28T13:51:26.639344Z"
    }
   }
  },
  {
   "cell_type": "code",
   "execution_count": 17,
   "outputs": [
    {
     "data": {
      "text/plain": "<Axes: xlabel='RESTAURANT_ID'>"
     },
     "execution_count": 17,
     "metadata": {},
     "output_type": "execute_result"
    },
    {
     "data": {
      "text/plain": "<Figure size 640x480 with 1 Axes>",
      "image/png": "[encoded data removed]"
     },
     "metadata": {},
     "output_type": "display_data"
    }
   ],
   "source": [
    "df_orders.RESTAURANT_ID.value_counts().plot(kind='bar')"
   ],
   "metadata": {
    "collapsed": false,
    "ExecuteTime": {
     "start_time": "2023-11-28T13:51:26.973894Z",
     "end_time": "2023-11-28T13:51:28.205894Z"
    }
   }
  },
  {
   "cell_type": "code",
   "execution_count": 18,
   "outputs": [
    {
     "data": {
      "text/plain": "count    2806.000000\nmean      850.756949\nstd       195.490367\nmin       200.000000\n25%       739.000000\n50%       833.000000\n75%       949.000000\nmax      1396.000000\nName: NUM_ORDERS, dtype: float64"
     },
     "execution_count": 18,
     "metadata": {},
     "output_type": "execute_result"
    }
   ],
   "source": [
    "df_summarized_orders.NUM_ORDERS.describe()"
   ],
   "metadata": {
    "collapsed": false,
    "ExecuteTime": {
     "start_time": "2023-11-28T13:51:28.100612Z",
     "end_time": "2023-11-28T13:51:28.209399Z"
    }
   }
  },
  {
   "cell_type": "code",
   "execution_count": 19,
   "outputs": [],
   "source": [
    "restNameList = list(df_summarized_orders.RESTAURANT_NAME.unique())"
   ],
   "metadata": {
    "collapsed": false,
    "ExecuteTime": {
     "start_time": "2023-11-28T13:51:28.151033Z",
     "end_time": "2023-11-28T13:51:28.210147Z"
    }
   }
  },
  {
   "cell_type": "code",
   "execution_count": 20,
   "outputs": [
    {
     "data": {
      "text/plain": "count    2806.000000\nmean      850.756949\nstd       195.490367\nmin       200.000000\n25%       739.000000\n50%       833.000000\n75%       949.000000\nmax      1396.000000\nName: NUM_ORDERS, dtype: float64"
     },
     "execution_count": 20,
     "metadata": {},
     "output_type": "execute_result"
    }
   ],
   "source": [
    "df_summarized_orders.NUM_ORDERS.describe()"
   ],
   "metadata": {
    "collapsed": false,
    "ExecuteTime": {
     "start_time": "2023-11-28T13:51:28.177940Z",
     "end_time": "2023-11-28T13:51:28.216062Z"
    }
   }
  },
  {
   "cell_type": "code",
   "execution_count": 21,
   "outputs": [
    {
     "data": {
      "text/plain": "RESTAURANT_NAME    1409\nDATE               1409\nNUM_ORDERS         1409\nPERC_DELIVERY      1409\ndtype: int64"
     },
     "execution_count": 21,
     "metadata": {},
     "output_type": "execute_result"
    }
   ],
   "source": [
    "df_summarized_orders[df_summarized_orders.NUM_ORDERS >= 833].count()"
   ],
   "metadata": {
    "collapsed": false,
    "ExecuteTime": {
     "start_time": "2023-11-28T13:51:28.203651Z",
     "end_time": "2023-11-28T13:51:28.411161Z"
    }
   }
  },
  {
   "cell_type": "code",
   "execution_count": 22,
   "outputs": [
    {
     "data": {
      "text/plain": "(2387224, 10)"
     },
     "execution_count": 22,
     "metadata": {},
     "output_type": "execute_result"
    }
   ],
   "source": [
    "df_orders.shape"
   ],
   "metadata": {
    "collapsed": false,
    "ExecuteTime": {
     "start_time": "2023-11-28T13:51:28.247084Z",
     "end_time": "2023-11-28T13:51:28.412023Z"
    }
   }
  },
  {
   "cell_type": "code",
   "execution_count": 23,
   "outputs": [
    {
     "data": {
      "text/plain": "numpy.float64"
     },
     "execution_count": 23,
     "metadata": {},
     "output_type": "execute_result"
    }
   ],
   "source": [
    "type(df_orders.DRINKS.max())"
   ],
   "metadata": {
    "collapsed": false,
    "ExecuteTime": {
     "start_time": "2023-11-28T13:51:28.267037Z",
     "end_time": "2023-11-28T13:51:28.413623Z"
    }
   }
  },
  {
   "cell_type": "code",
   "execution_count": 24,
   "outputs": [],
   "source": [
    "maxDrinks = int(df_orders.DRINKS.max())"
   ],
   "metadata": {
    "collapsed": false,
    "ExecuteTime": {
     "start_time": "2023-11-28T13:51:28.300702Z",
     "end_time": "2023-11-28T13:51:28.414172Z"
    }
   }
  },
  {
   "cell_type": "code",
   "execution_count": 25,
   "outputs": [
    {
     "data": {
      "text/plain": "2387224"
     },
     "execution_count": 25,
     "metadata": {},
     "output_type": "execute_result"
    }
   ],
   "source": [
    "df_orders.DRINKS.count()"
   ],
   "metadata": {
    "collapsed": false,
    "ExecuteTime": {
     "start_time": "2023-11-28T13:51:28.324610Z",
     "end_time": "2023-11-28T13:51:28.414944Z"
    }
   }
  },
  {
   "cell_type": "code",
   "execution_count": 26,
   "outputs": [
    {
     "data": {
      "text/plain": "DRINKS\n0.0     2199828\n1.0      154423\n2.0       26914\n3.0        4704\n4.0         915\n5.0         139\n6.0          35\n13.0         33\n7.0          29\n14.0         28\n15.0         22\n12.0         21\n11.0         21\n9.0          21\n10.0         21\n8.0          20\n18.0         10\n19.0          8\n24.0          7\n23.0          6\n25.0          6\n17.0          6\n20.0          3\n16.0          3\n22.0          1\nName: count, dtype: int64"
     },
     "execution_count": 26,
     "metadata": {},
     "output_type": "execute_result"
    }
   ],
   "source": [
    "df_orders.DRINKS.value_counts()"
   ],
   "metadata": {
    "collapsed": false,
    "ExecuteTime": {
     "start_time": "2023-11-28T13:51:28.403627Z",
     "end_time": "2023-11-28T13:51:28.452853Z"
    }
   }
  },
  {
   "cell_type": "code",
   "execution_count": 27,
   "outputs": [
    {
     "data": {
      "text/plain": "[<matplotlib.lines.Line2D at 0x7fbe1ed55640>]"
     },
     "execution_count": 27,
     "metadata": {},
     "output_type": "execute_result"
    },
    {
     "data": {
      "text/plain": "<Figure size 640x480 with 1 Axes>",
      "image/png": "[encoded data removed]"
     },
     "metadata": {},
     "output_type": "display_data"
    }
   ],
   "source": [
    "plt.plot(df_orders[df_orders.DRINKS <4].DRINKS.value_counts())"
   ],
   "metadata": {
    "collapsed": false,
    "ExecuteTime": {
     "start_time": "2023-11-28T13:51:28.434407Z",
     "end_time": "2023-11-28T13:51:29.707791Z"
    }
   }
  },
  {
   "cell_type": "code",
   "execution_count": 28,
   "outputs": [
    {
     "data": {
      "text/plain": "DRINKS\n0.0    92.2%\n1.0     6.5%\n2.0     1.1%\n3.0     0.2%\n4.0     0.0%\nName: proportion, dtype: object"
     },
     "execution_count": 28,
     "metadata": {},
     "output_type": "execute_result"
    }
   ],
   "source": [
    "df_orders[df_orders.DRINKS <=4].DRINKS.value_counts(normalize=True).mul(100).round(1).astype(str)+'%'"
   ],
   "metadata": {
    "collapsed": false,
    "ExecuteTime": {
     "start_time": "2023-11-28T13:51:29.713658Z",
     "end_time": "2023-11-28T13:51:30.272300Z"
    }
   }
  },
  {
   "cell_type": "code",
   "execution_count": 29,
   "outputs": [
    {
     "name": "stdout",
     "output_type": "stream",
     "text": [
      "2199828\n",
      "154423\n",
      "26914\n",
      "4704\n",
      "915\n"
     ]
    }
   ],
   "source": [
    "for i in range(5):\n",
    "    print(df_orders[df_orders.DRINKS == i].DRINKS.count())"
   ],
   "metadata": {
    "collapsed": false,
    "ExecuteTime": {
     "start_time": "2023-11-28T13:51:30.280410Z",
     "end_time": "2023-11-28T13:51:30.795902Z"
    }
   }
  },
  {
   "cell_type": "code",
   "execution_count": 30,
   "outputs": [
    {
     "data": {
      "text/plain": "([<matplotlib.patches.Wedge at 0x7fbe256f47f0>,\n  <matplotlib.patches.Wedge at 0x7fbe1ecebe80>,\n  <matplotlib.patches.Wedge at 0x7fbe1ee29160>,\n  <matplotlib.patches.Wedge at 0x7fbe1ee295e0>],\n [Text(-1.067159183722808, 0.2667794530995037, ''),\n  Text(1.0551308146023737, -0.3109645704522161, ''),\n  Text(1.098742149612886, -0.05258981521221176, ''),\n  Text(1.0999788978993148, -0.006813528910109434, '')])"
     },
     "execution_count": 30,
     "metadata": {},
     "output_type": "execute_result"
    },
    {
     "data": {
      "text/plain": "<Figure size 640x480 with 1 Axes>",
      "image/png": "[encoded data removed]"
     },
     "metadata": {},
     "output_type": "display_data"
    }
   ],
   "source": [
    "fig, ax = plt.subplots()\n",
    "ax.pie(df_orders[df_orders.DRINKS<4].DRINKS.value_counts())"
   ],
   "metadata": {
    "collapsed": false,
    "ExecuteTime": {
     "start_time": "2023-11-28T13:51:30.834451Z",
     "end_time": "2023-11-28T13:51:31.926643Z"
    }
   }
  },
  {
   "cell_type": "code",
   "execution_count": 31,
   "outputs": [
    {
     "data": {
      "text/plain": "DRINKS\n0.0     2199828\n1.0      154423\n2.0       26914\n3.0        4704\n4.0         915\n5.0         139\n6.0          35\n13.0         33\n7.0          29\n14.0         28\n15.0         22\n12.0         21\n11.0         21\n9.0          21\n10.0         21\n8.0          20\n18.0         10\n19.0          8\n24.0          7\n23.0          6\n25.0          6\n17.0          6\n20.0          3\n16.0          3\n22.0          1\nName: count, dtype: int64"
     },
     "execution_count": 31,
     "metadata": {},
     "output_type": "execute_result"
    }
   ],
   "source": [
    "df_orders.DRINKS.value_counts()"
   ],
   "metadata": {
    "collapsed": false,
    "ExecuteTime": {
     "start_time": "2023-11-28T13:51:31.925878Z",
     "end_time": "2023-11-28T13:51:32.030878Z"
    }
   }
  },
  {
   "cell_type": "code",
   "execution_count": 34,
   "outputs": [
    {
     "data": {
      "text/plain": "         ORDER_ID             DATETIME RESTAURANT_ID      TYPE  DRINKS   \n1591111        O0  2018-01-01 10:03:29        R10005  IN_STORE     0.0  \\\n173632         O1  2018-01-01 10:06:51        R10002  IN_STORE     0.0   \n2042763        O2  2018-01-01 10:26:27        R10001  IN_STORE     0.0   \n1591707        O3  2018-01-01 10:27:29        R10005  IN_STORE     0.0   \n56913          O4  2018-01-01 10:27:35        R10001  IN_STORE     0.0   \n...           ...                  ...           ...       ...     ...   \n1783634  O2387219  2018-12-31 22:53:29        R10007  DELIVERY     0.0   \n1874599  O2387220  2018-12-31 22:56:07        R10003  IN_STORE     0.0   \n731228   O2387221  2018-12-31 22:56:32        R10006  DELIVERY     0.0   \n139744   O2387223  2018-12-31 22:57:15        R10007    PICKUP     0.0   \n410932   O2387222  2018-12-31 22:57:15        R10007  DELIVERY     2.0   \n\n         COOKIES MAIN BASE SIDE_1 SIDE_2  \n1591111      0.0   I3   I5    I14    I11  \n173632       0.0   I2   I7     I8     I9  \n2042763      0.0   I0   I5    I11     I9  \n1591707      0.0   I3   I7    I12    I10  \n56913        2.0   I0   I5     I8     I9  \n...          ...  ...  ...    ...    ...  \n1783634      0.0   I3   I7    I12    I10  \n1874599      0.0   I3   I5    I10     I8  \n731228       0.0   I2   I6    I14    I10  \n139744       0.0   I3   I5    I15    I11  \n410932       0.0   I3   I5    I10    I11  \n\n[2387224 rows x 10 columns]",
      "text/html": "<div>\n<style scoped>\n    .dataframe tbody tr th:only-of-type {\n        vertical-align: middle;\n    }\n\n    .dataframe tbody tr th {\n        vertical-align: top;\n    }\n\n    .dataframe thead th {\n        text-align: right;\n    }\n</style>\n<table border=\"1\" class=\"dataframe\">\n  <thead>\n    <tr style=\"text-align: right;\">\n      <th></th>\n      <th>ORDER_ID</th>\n      <th>DATETIME</th>\n      <th>RESTAURANT_ID</th>\n      <th>TYPE</th>\n      <th>DRINKS</th>\n      <th>COOKIES</th>\n      <th>MAIN</th>\n      <th>BASE</th>\n      <th>SIDE_1</th>\n      <th>SIDE_2</th>\n    </tr>\n  </thead>\n  <tbody>\n    <tr>\n      <th>1591111</th>\n      <td>O0</td>\n      <td>2018-01-01 10:03:29</td>\n      <td>R10005</td>\n      <td>IN_STORE</td>\n      <td>0.0</td>\n      <td>0.0</td>\n      <td>I3</td>\n      <td>I5</td>\n      <td>I14</td>\n      <td>I11</td>\n    </tr>\n    <tr>\n      <th>173632</th>\n      <td>O1</td>\n      <td>2018-01-01 10:06:51</td>\n      <td>R10002</td>\n      <td>IN_STORE</td>\n      <td>0.0</td>\n      <td>0.0</td>\n      <td>I2</td>\n      <td>I7</td>\n      <td>I8</td>\n      <td>I9</td>\n    </tr>\n    <tr>\n      <th>2042763</th>\n      <td>O2</td>\n      <td>2018-01-01 10:26:27</td>\n      <td>R10001</td>\n      <td>IN_STORE</td>\n      <td>0.0</td>\n      <td>0.0</td>\n      <td>I0</td>\n      <td>I5</td>\n      <td>I11</td>\n      <td>I9</td>\n    </tr>\n    <tr>\n      <th>1591707</th>\n      <td>O3</td>\n      <td>2018-01-01 10:27:29</td>\n      <td>R10005</td>\n      <td>IN_STORE</td>\n      <td>0.0</td>\n      <td>0.0</td>\n      <td>I3</td>\n      <td>I7</td>\n      <td>I12</td>\n      <td>I10</td>\n    </tr>\n    <tr>\n      <th>56913</th>\n      <td>O4</td>\n      <td>2018-01-01 10:27:35</td>\n      <td>R10001</td>\n      <td>IN_STORE</td>\n      <td>0.0</td>\n      <td>2.0</td>\n      <td>I0</td>\n      <td>I5</td>\n      <td>I8</td>\n      <td>I9</td>\n    </tr>\n    <tr>\n      <th>...</th>\n      <td>...</td>\n      <td>...</td>\n      <td>...</td>\n      <td>...</td>\n      <td>...</td>\n      <td>...</td>\n      <td>...</td>\n      <td>...</td>\n      <td>...</td>\n      <td>...</td>\n    </tr>\n    <tr>\n      <th>1783634</th>\n      <td>O2387219</td>\n      <td>2018-12-31 22:53:29</td>\n      <td>R10007</td>\n      <td>DELIVERY</td>\n      <td>0.0</td>\n      <td>0.0</td>\n      <td>I3</td>\n      <td>I7</td>\n      <td>I12</td>\n      <td>I10</td>\n    </tr>\n    <tr>\n      <th>1874599</th>\n      <td>O2387220</td>\n      <td>2018-12-31 22:56:07</td>\n      <td>R10003</td>\n      <td>IN_STORE</td>\n      <td>0.0</td>\n      <td>0.0</td>\n      <td>I3</td>\n      <td>I5</td>\n      <td>I10</td>\n      <td>I8</td>\n    </tr>\n    <tr>\n      <th>731228</th>\n      <td>O2387221</td>\n      <td>2018-12-31 22:56:32</td>\n      <td>R10006</td>\n      <td>DELIVERY</td>\n      <td>0.0</td>\n      <td>0.0</td>\n      <td>I2</td>\n      <td>I6</td>\n      <td>I14</td>\n      <td>I10</td>\n    </tr>\n    <tr>\n      <th>139744</th>\n      <td>O2387223</td>\n      <td>2018-12-31 22:57:15</td>\n      <td>R10007</td>\n      <td>PICKUP</td>\n      <td>0.0</td>\n      <td>0.0</td>\n      <td>I3</td>\n      <td>I5</td>\n      <td>I15</td>\n      <td>I11</td>\n    </tr>\n    <tr>\n      <th>410932</th>\n      <td>O2387222</td>\n      <td>2018-12-31 22:57:15</td>\n      <td>R10007</td>\n      <td>DELIVERY</td>\n      <td>2.0</td>\n      <td>0.0</td>\n      <td>I3</td>\n      <td>I5</td>\n      <td>I10</td>\n      <td>I11</td>\n    </tr>\n  </tbody>\n</table>\n<p>2387224 rows × 10 columns</p>\n</div>"
     },
     "execution_count": 34,
     "metadata": {},
     "output_type": "execute_result"
    }
   ],
   "source": [
    "df_orders.sort_values('DATETIME')"
   ],
   "metadata": {
    "collapsed": false,
    "ExecuteTime": {
     "start_time": "2023-11-28T13:59:40.511072Z",
     "end_time": "2023-11-28T13:59:47.832371Z"
    }
   }
  },
  {
   "cell_type": "code",
   "execution_count": 36,
   "outputs": [],
   "source": [
    "df_orders.DATETIME = pd.to_datetime(df_orders.DATETIME)"
   ],
   "metadata": {
    "collapsed": false,
    "ExecuteTime": {
     "start_time": "2023-11-28T14:03:11.724240Z",
     "end_time": "2023-11-28T14:03:13.298972Z"
    }
   }
  },
  {
   "cell_type": "code",
   "execution_count": 77,
   "outputs": [
    {
     "data": {
      "text/plain": "DATETIME\n12    0.123864\n13    0.121807\n14    0.097853\n18    0.088573\n11    0.082672\n17    0.082203\n19    0.082049\n15    0.071993\n16    0.070943\n20    0.069034\n21    0.056311\n22    0.036139\n10    0.016253\n23    0.000299\n9     0.000006\nName: proportion, dtype: float64"
     },
     "execution_count": 77,
     "metadata": {},
     "output_type": "execute_result"
    }
   ],
   "source": [
    "df_orders.DATETIME.dt.hour.value_counts(normalize=True)"
   ],
   "metadata": {
    "collapsed": false,
    "ExecuteTime": {
     "start_time": "2023-11-28T14:25:53.569600Z",
     "end_time": "2023-11-28T14:25:53.818800Z"
    }
   }
  },
  {
   "cell_type": "code",
   "execution_count": 88,
   "outputs": [
    {
     "data": {
      "text/plain": "RESTAURANT_ID\nR10004    430860\nR10002    325265\nR10008    314674\nR10005    281983\nR10007    281186\nR10006    275001\nR10001    250810\nR10003    227445\nName: count, dtype: int64"
     },
     "execution_count": 88,
     "metadata": {},
     "output_type": "execute_result"
    }
   ],
   "source": [
    "df_orders.RESTAURANT_ID.value_counts()"
   ],
   "metadata": {
    "collapsed": false,
    "ExecuteTime": {
     "start_time": "2023-11-28T14:34:27.966221Z",
     "end_time": "2023-11-28T14:34:27.978881Z"
    }
   }
  },
  {
   "cell_type": "code",
   "execution_count": 82,
   "outputs": [
    {
     "data": {
      "text/plain": "DATETIME\n13    44724\n12    44244\n14    38184\n11    31643\n15    27537\n16    24132\n17    23185\n18    22068\n19    17859\n21    15813\n20    15745\n22    11925\n10     8106\n23       97\n9         3\nName: count, dtype: int64"
     },
     "execution_count": 82,
     "metadata": {},
     "output_type": "execute_result"
    }
   ],
   "source": [
    "df_orders[df_orders.RESTAURANT_ID == 'R10002'].DATETIME.dt.hour.value_counts()"
   ],
   "metadata": {
    "collapsed": false,
    "ExecuteTime": {
     "start_time": "2023-11-28T14:31:45.102504Z",
     "end_time": "2023-11-28T14:31:45.637708Z"
    }
   }
  },
  {
   "cell_type": "code",
   "execution_count": 90,
   "outputs": [
    {
     "data": {
      "text/plain": "<Axes: xlabel='DATETIME'>"
     },
     "execution_count": 90,
     "metadata": {},
     "output_type": "execute_result"
    },
    {
     "data": {
      "text/plain": "<Figure size 640x480 with 1 Axes>",
      "image/png": "[encoded data removed]"
     },
     "metadata": {},
     "output_type": "display_data"
    }
   ],
   "source": [
    "df_orders.DATETIME.dt.hour.value_counts().plot(kind='bar')"
   ],
   "metadata": {
    "collapsed": false,
    "ExecuteTime": {
     "start_time": "2023-11-28T14:38:34.104977Z",
     "end_time": "2023-11-28T14:38:34.844219Z"
    }
   }
  },
  {
   "cell_type": "code",
   "execution_count": 44,
   "outputs": [
    {
     "data": {
      "text/plain": "0   2018-10-11 17:25:50\n1   2018-05-31 11:35:00\n2   2018-04-21 18:12:57\n3   2018-11-17 12:50:52\n4   2018-11-04 18:37:24\nName: DATETIME, dtype: datetime64[ns]"
     },
     "execution_count": 44,
     "metadata": {},
     "output_type": "execute_result"
    }
   ],
   "source": [
    "df_orders.DATETIME.head()"
   ],
   "metadata": {
    "collapsed": false,
    "ExecuteTime": {
     "start_time": "2023-11-28T14:10:49.779698Z",
     "end_time": "2023-11-28T14:10:49.800559Z"
    }
   }
  },
  {
   "cell_type": "code",
   "execution_count": 49,
   "outputs": [
    {
     "data": {
      "text/plain": "0   2018-10-11 17:00:00\n1   2018-05-31 12:00:00\n2   2018-04-21 18:00:00\n3   2018-11-17 13:00:00\n4   2018-11-04 19:00:00\nName: DATETIME, dtype: datetime64[ns]"
     },
     "execution_count": 49,
     "metadata": {},
     "output_type": "execute_result"
    }
   ],
   "source": [
    "df_orders.DATETIME.dt.round('H').head()"
   ],
   "metadata": {
    "collapsed": false,
    "ExecuteTime": {
     "start_time": "2023-11-28T14:13:19.009525Z",
     "end_time": "2023-11-28T14:13:19.157964Z"
    }
   }
  },
  {
   "cell_type": "code",
   "execution_count": 95,
   "outputs": [
    {
     "data": {
      "text/plain": "<Axes: xlabel='DATETIME'>"
     },
     "execution_count": 95,
     "metadata": {},
     "output_type": "execute_result"
    },
    {
     "data": {
      "text/plain": "<Figure size 640x480 with 1 Axes>",
      "image/png": "[encoded data removed]"
     },
     "metadata": {},
     "output_type": "display_data"
    }
   ],
   "source": [
    "df_orders.DATETIME.dt.month_name().value_counts().plot(kind='bar')"
   ],
   "metadata": {
    "collapsed": false,
    "ExecuteTime": {
     "start_time": "2023-11-28T14:41:43.454438Z",
     "end_time": "2023-11-28T14:41:45.370528Z"
    }
   }
  },
  {
   "cell_type": "code",
   "execution_count": 99,
   "outputs": [],
   "source": [
    "df_orders['DAY_OF_WEEK']= df_orders.DATETIME.dt.day_name()"
   ],
   "metadata": {
    "collapsed": false,
    "ExecuteTime": {
     "start_time": "2023-11-28T14:55:07.946433Z",
     "end_time": "2023-11-28T14:55:09.580536Z"
    }
   }
  },
  {
   "cell_type": "code",
   "execution_count": 108,
   "outputs": [],
   "source": [
    "df_orders=df_orders.drop(columns='DAY_OF_WEEK')"
   ],
   "metadata": {
    "collapsed": false,
    "ExecuteTime": {
     "start_time": "2023-11-28T14:57:54.541238Z",
     "end_time": "2023-11-28T14:57:56.516128Z"
    }
   }
  },
  {
   "cell_type": "code",
   "execution_count": 109,
   "outputs": [
    {
     "data": {
      "text/plain": "Index(['ORDER_ID', 'DATETIME', 'RESTAURANT_ID', 'TYPE', 'DRINKS', 'COOKIES',\n       'MAIN', 'BASE', 'SIDE_1', 'SIDE_2'],\n      dtype='object')"
     },
     "execution_count": 109,
     "metadata": {},
     "output_type": "execute_result"
    }
   ],
   "source": [
    "df_orders.columns"
   ],
   "metadata": {
    "collapsed": false,
    "ExecuteTime": {
     "start_time": "2023-11-28T14:58:02.615374Z",
     "end_time": "2023-11-28T14:58:02.631801Z"
    }
   }
  }
 ],
 "metadata": {
  "kernelspec": {
   "display_name": "Python 3",
   "language": "python",
   "name": "python3"
  },
  "language_info": {
   "codemirror_mode": {
    "name": "ipython",
    "version": 2
   },
   "file_extension": ".py",
   "mimetype": "text/x-python",
   "name": "python",
   "nbconvert_exporter": "python",
   "pygments_lexer": "ipython2",
   "version": "2.7.6"
  }
 },
 "nbformat": 4,
 "nbformat_minor": 0
}
