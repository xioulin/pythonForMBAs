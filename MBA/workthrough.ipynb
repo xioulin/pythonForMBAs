{
 "cells": [
  {
   "cell_type": "code",
   "execution_count": 5,
   "outputs": [],
   "source": [
    "import pandas as pd"
   ],
   "metadata": {
    "collapsed": false,
    "ExecuteTime": {
     "start_time": "2023-04-03T21:15:05.312901Z",
     "end_time": "2023-04-03T21:15:06.478492Z"
    }
   }
  },
  {
   "cell_type": "code",
   "execution_count": 7,
   "outputs": [],
   "source": [
    "see = pd.read_csv(r\"/Users/pkc/Dropbox/Mac/Desktop/python-for-mbas/Part 1/census.csv\")\n"
   ],
   "metadata": {
    "collapsed": false,
    "ExecuteTime": {
     "start_time": "2023-04-03T21:17:18.137816Z",
     "end_time": "2023-04-03T21:17:18.156740Z"
    }
   }
  },
  {
   "cell_type": "code",
   "execution_count": 8,
   "outputs": [
    {
     "data": {
      "text/plain": "    FIPS                Geography  2017 Population  2017 Median Age   \n0  10100  Aberdeen, SD Micro Area            42608             37.8  \\\n1  10140  Aberdeen, WA Micro Area            71454             43.5   \n2  10180   Abilene, TX Metro Area           169000             33.9   \n3  10220       Ada, OK Micro Area            38289             35.5   \n4  10300    Adrian, MI Micro Area            98585             41.6   \n\n   2017 Total households  2017 Median HHIncome  2017 Average household size   \n0                  17907                 54533                         2.29  \\\n1                  28070                 45483                         2.44   \n2                  60369                 48156                         2.57   \n3                  14512                 46689                         2.54   \n4                  38115                 51339                         2.45   \n\n   2017 Total families  2017 Average family size   \n0                11172                      2.89  \\\n1                17782                      3.00   \n2                39949                      3.12   \n3                 9459                      3.07   \n4                25130                      3.00   \n\n   2017 Percent owner-occupied housing units   \n0                                       67.5  \\\n1                                       66.1   \n2                                       62.4   \n3                                       64.0   \n4                                       77.7   \n\n   2017 Percent renter-occupied housing units   \n0                                        32.5  \\\n1                                        33.9   \n2                                        37.6   \n3                                        36.0   \n4                                        22.3   \n\n   2017 Population 16 years and over   \n0                              33671  \\\n1                              58156   \n2                             133221   \n3                              30079   \n4                              79966   \n\n   2017 Unemployment rate (Population 16 years and over)  \n0                                                1.8      \n1                                               10.1      \n2                                                4.4      \n3                                                5.1      \n4                                                5.9      ",
      "text/html": "<div>\n<style scoped>\n    .dataframe tbody tr th:only-of-type {\n        vertical-align: middle;\n    }\n\n    .dataframe tbody tr th {\n        vertical-align: top;\n    }\n\n    .dataframe thead th {\n        text-align: right;\n    }\n</style>\n<table border=\"1\" class=\"dataframe\">\n  <thead>\n    <tr style=\"text-align: right;\">\n      <th></th>\n      <th>FIPS</th>\n      <th>Geography</th>\n      <th>2017 Population</th>\n      <th>2017 Median Age</th>\n      <th>2017 Total households</th>\n      <th>2017 Median HHIncome</th>\n      <th>2017 Average household size</th>\n      <th>2017 Total families</th>\n      <th>2017 Average family size</th>\n      <th>2017 Percent owner-occupied housing units</th>\n      <th>2017 Percent renter-occupied housing units</th>\n      <th>2017 Population 16 years and over</th>\n      <th>2017 Unemployment rate (Population 16 years and over)</th>\n    </tr>\n  </thead>\n  <tbody>\n    <tr>\n      <th>0</th>\n      <td>10100</td>\n      <td>Aberdeen, SD Micro Area</td>\n      <td>42608</td>\n      <td>37.8</td>\n      <td>17907</td>\n      <td>54533</td>\n      <td>2.29</td>\n      <td>11172</td>\n      <td>2.89</td>\n      <td>67.5</td>\n      <td>32.5</td>\n      <td>33671</td>\n      <td>1.8</td>\n    </tr>\n    <tr>\n      <th>1</th>\n      <td>10140</td>\n      <td>Aberdeen, WA Micro Area</td>\n      <td>71454</td>\n      <td>43.5</td>\n      <td>28070</td>\n      <td>45483</td>\n      <td>2.44</td>\n      <td>17782</td>\n      <td>3.00</td>\n      <td>66.1</td>\n      <td>33.9</td>\n      <td>58156</td>\n      <td>10.1</td>\n    </tr>\n    <tr>\n      <th>2</th>\n      <td>10180</td>\n      <td>Abilene, TX Metro Area</td>\n      <td>169000</td>\n      <td>33.9</td>\n      <td>60369</td>\n      <td>48156</td>\n      <td>2.57</td>\n      <td>39949</td>\n      <td>3.12</td>\n      <td>62.4</td>\n      <td>37.6</td>\n      <td>133221</td>\n      <td>4.4</td>\n    </tr>\n    <tr>\n      <th>3</th>\n      <td>10220</td>\n      <td>Ada, OK Micro Area</td>\n      <td>38289</td>\n      <td>35.5</td>\n      <td>14512</td>\n      <td>46689</td>\n      <td>2.54</td>\n      <td>9459</td>\n      <td>3.07</td>\n      <td>64.0</td>\n      <td>36.0</td>\n      <td>30079</td>\n      <td>5.1</td>\n    </tr>\n    <tr>\n      <th>4</th>\n      <td>10300</td>\n      <td>Adrian, MI Micro Area</td>\n      <td>98585</td>\n      <td>41.6</td>\n      <td>38115</td>\n      <td>51339</td>\n      <td>2.45</td>\n      <td>25130</td>\n      <td>3.00</td>\n      <td>77.7</td>\n      <td>22.3</td>\n      <td>79966</td>\n      <td>5.9</td>\n    </tr>\n  </tbody>\n</table>\n</div>"
     },
     "execution_count": 8,
     "metadata": {},
     "output_type": "execute_result"
    }
   ],
   "source": [
    "see.head()"
   ],
   "metadata": {
    "collapsed": false,
    "ExecuteTime": {
     "start_time": "2023-04-03T21:27:22.255139Z",
     "end_time": "2023-04-03T21:27:22.394982Z"
    }
   }
  },
  {
   "cell_type": "code",
   "execution_count": 9,
   "outputs": [],
   "source": [
    "census = see"
   ],
   "metadata": {
    "collapsed": false,
    "ExecuteTime": {
     "start_time": "2023-04-03T21:27:39.080867Z",
     "end_time": "2023-04-03T21:27:39.128097Z"
    }
   }
  },
  {
   "cell_type": "code",
   "execution_count": 10,
   "outputs": [
    {
     "data": {
      "text/plain": "               FIPS  2017 Population  2017 Median Age  2017 Total households   \ncount    917.000000     9.170000e+02       917.000000           9.170000e+02  \\\nmean   29793.042530     3.294721e+05        38.818212           1.215258e+05   \nstd    11351.470867     1.110860e+06         4.933767           3.937578e+05   \nmin    10100.000000     1.297200e+04        24.400000           3.731000e+03   \n25%    20020.000000     4.034500e+04        36.000000           1.537500e+04   \n50%    29820.000000     7.601200e+04        39.000000           3.020400e+04   \n75%    39460.000000     1.844540e+05        41.600000           6.966200e+04   \nmax    49820.000000     2.019204e+07        66.400000           7.168027e+06   \n\n       2017 Median HHIncome  2017 Average household size  2017 Total families   \ncount            917.000000                   917.000000         9.170000e+02  \\\nmean           50162.984733                     2.542519         8.001179e+04   \nstd            10551.957266                     0.234669         2.613062e+05   \nmin            23558.000000                     2.050000         2.589000e+03   \n25%            43526.000000                     2.390000         1.032800e+04   \n50%            49089.000000                     2.500000         1.947200e+04   \n75%            55021.000000                     2.620000         4.529200e+04   \nmax           110190.000000                     3.850000         4.738901e+06   \n\n       2017 Average family size  2017 Percent owner-occupied housing units   \ncount                917.000000                                 917.000000  \\\nmean                   3.102912                                  67.353544   \nstd                    0.250603                                   6.310352   \nmin                    2.430000                                  39.000000   \n25%                    2.940000                                  63.900000   \n50%                    3.050000                                  68.100000   \n75%                    3.210000                                  71.600000   \nmax                    4.610000                                  90.100000   \n\n       2017 Percent renter-occupied housing units   \ncount                                  917.000000  \\\nmean                                    32.646456   \nstd                                      6.310352   \nmin                                      9.900000   \n25%                                     28.400000   \n50%                                     31.900000   \n75%                                     36.100000   \nmax                                     61.000000   \n\n       2017 Population 16 years and over   \ncount                       9.170000e+02  \\\nmean                        2.623577e+05   \nstd                         8.867599e+05   \nmin                         9.987000e+03   \n25%                         3.186400e+04   \n50%                         6.164900e+04   \n75%                         1.513270e+05   \nmax                         1.628735e+07   \n\n       2017 Unemployment rate (Population 16 years and over)  \ncount                                         917.000000      \nmean                                            6.653871      \nstd                                             2.307482      \nmin                                             1.500000      \n25%                                             5.200000      \n50%                                             6.400000      \n75%                                             7.700000      \nmax                                            19.000000      ",
      "text/html": "<div>\n<style scoped>\n    .dataframe tbody tr th:only-of-type {\n        vertical-align: middle;\n    }\n\n    .dataframe tbody tr th {\n        vertical-align: top;\n    }\n\n    .dataframe thead th {\n        text-align: right;\n    }\n</style>\n<table border=\"1\" class=\"dataframe\">\n  <thead>\n    <tr style=\"text-align: right;\">\n      <th></th>\n      <th>FIPS</th>\n      <th>2017 Population</th>\n      <th>2017 Median Age</th>\n      <th>2017 Total households</th>\n      <th>2017 Median HHIncome</th>\n      <th>2017 Average household size</th>\n      <th>2017 Total families</th>\n      <th>2017 Average family size</th>\n      <th>2017 Percent owner-occupied housing units</th>\n      <th>2017 Percent renter-occupied housing units</th>\n      <th>2017 Population 16 years and over</th>\n      <th>2017 Unemployment rate (Population 16 years and over)</th>\n    </tr>\n  </thead>\n  <tbody>\n    <tr>\n      <th>count</th>\n      <td>917.000000</td>\n      <td>9.170000e+02</td>\n      <td>917.000000</td>\n      <td>9.170000e+02</td>\n      <td>917.000000</td>\n      <td>917.000000</td>\n      <td>9.170000e+02</td>\n      <td>917.000000</td>\n      <td>917.000000</td>\n      <td>917.000000</td>\n      <td>9.170000e+02</td>\n      <td>917.000000</td>\n    </tr>\n    <tr>\n      <th>mean</th>\n      <td>29793.042530</td>\n      <td>3.294721e+05</td>\n      <td>38.818212</td>\n      <td>1.215258e+05</td>\n      <td>50162.984733</td>\n      <td>2.542519</td>\n      <td>8.001179e+04</td>\n      <td>3.102912</td>\n      <td>67.353544</td>\n      <td>32.646456</td>\n      <td>2.623577e+05</td>\n      <td>6.653871</td>\n    </tr>\n    <tr>\n      <th>std</th>\n      <td>11351.470867</td>\n      <td>1.110860e+06</td>\n      <td>4.933767</td>\n      <td>3.937578e+05</td>\n      <td>10551.957266</td>\n      <td>0.234669</td>\n      <td>2.613062e+05</td>\n      <td>0.250603</td>\n      <td>6.310352</td>\n      <td>6.310352</td>\n      <td>8.867599e+05</td>\n      <td>2.307482</td>\n    </tr>\n    <tr>\n      <th>min</th>\n      <td>10100.000000</td>\n      <td>1.297200e+04</td>\n      <td>24.400000</td>\n      <td>3.731000e+03</td>\n      <td>23558.000000</td>\n      <td>2.050000</td>\n      <td>2.589000e+03</td>\n      <td>2.430000</td>\n      <td>39.000000</td>\n      <td>9.900000</td>\n      <td>9.987000e+03</td>\n      <td>1.500000</td>\n    </tr>\n    <tr>\n      <th>25%</th>\n      <td>20020.000000</td>\n      <td>4.034500e+04</td>\n      <td>36.000000</td>\n      <td>1.537500e+04</td>\n      <td>43526.000000</td>\n      <td>2.390000</td>\n      <td>1.032800e+04</td>\n      <td>2.940000</td>\n      <td>63.900000</td>\n      <td>28.400000</td>\n      <td>3.186400e+04</td>\n      <td>5.200000</td>\n    </tr>\n    <tr>\n      <th>50%</th>\n      <td>29820.000000</td>\n      <td>7.601200e+04</td>\n      <td>39.000000</td>\n      <td>3.020400e+04</td>\n      <td>49089.000000</td>\n      <td>2.500000</td>\n      <td>1.947200e+04</td>\n      <td>3.050000</td>\n      <td>68.100000</td>\n      <td>31.900000</td>\n      <td>6.164900e+04</td>\n      <td>6.400000</td>\n    </tr>\n    <tr>\n      <th>75%</th>\n      <td>39460.000000</td>\n      <td>1.844540e+05</td>\n      <td>41.600000</td>\n      <td>6.966200e+04</td>\n      <td>55021.000000</td>\n      <td>2.620000</td>\n      <td>4.529200e+04</td>\n      <td>3.210000</td>\n      <td>71.600000</td>\n      <td>36.100000</td>\n      <td>1.513270e+05</td>\n      <td>7.700000</td>\n    </tr>\n    <tr>\n      <th>max</th>\n      <td>49820.000000</td>\n      <td>2.019204e+07</td>\n      <td>66.400000</td>\n      <td>7.168027e+06</td>\n      <td>110190.000000</td>\n      <td>3.850000</td>\n      <td>4.738901e+06</td>\n      <td>4.610000</td>\n      <td>90.100000</td>\n      <td>61.000000</td>\n      <td>1.628735e+07</td>\n      <td>19.000000</td>\n    </tr>\n  </tbody>\n</table>\n</div>"
     },
     "execution_count": 10,
     "metadata": {},
     "output_type": "execute_result"
    }
   ],
   "source": [
    "census.describe()"
   ],
   "metadata": {
    "collapsed": false,
    "ExecuteTime": {
     "start_time": "2023-04-03T21:27:50.625570Z",
     "end_time": "2023-04-03T21:27:50.774338Z"
    }
   }
  },
  {
   "cell_type": "code",
   "execution_count": null,
   "outputs": [],
   "source": [],
   "metadata": {
    "collapsed": false
   }
  }
 ],
 "metadata": {
  "kernelspec": {
   "display_name": "Python 3",
   "language": "python",
   "name": "python3"
  },
  "language_info": {
   "codemirror_mode": {
    "name": "ipython",
    "version": 2
   },
   "file_extension": ".py",
   "mimetype": "text/x-python",
   "name": "python",
   "nbconvert_exporter": "python",
   "pygments_lexer": "ipython2",
   "version": "2.7.6"
  }
 },
 "nbformat": 4,
 "nbformat_minor": 0
}
