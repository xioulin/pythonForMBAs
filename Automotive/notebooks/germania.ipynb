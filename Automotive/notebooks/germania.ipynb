{
 "cells": [
  {
   "cell_type": "code",
   "execution_count": 1,
   "metadata": {
    "collapsed": true,
    "ExecuteTime": {
     "start_time": "2024-01-09T16:06:15.344542Z",
     "end_time": "2024-01-09T16:06:16.149512Z"
    }
   },
   "outputs": [],
   "source": [
    "import pandas as pd\n",
    "import numpy as np"
   ]
  },
  {
   "cell_type": "code",
   "execution_count": 2,
   "outputs": [],
   "source": [
    "df_country= pd.read_excel(\"//Users/pkc/PycharmProjects/pythonProject/Automotive/data/Car-Models-List-by-Teoalida-SAMPLE.xlsx\",sheet_name='car_make_list')"
   ],
   "metadata": {
    "collapsed": false,
    "ExecuteTime": {
     "start_time": "2024-01-09T16:06:16.155862Z",
     "end_time": "2024-01-09T16:06:17.687924Z"
    }
   }
  },
  {
   "cell_type": "code",
   "execution_count": 3,
   "outputs": [
    {
     "data": {
      "text/plain": "    Unnamed: 0                                         Unnamed: 1   \n0          NaN                                               Make  \\\n1          NaN                                                NaN   \n2          NaN                                                222   \n3          NaN                                                NaN   \n4          NaN                             CAR MANUFACTURERS LIST   \n5          NaN  Original research by Teoalida © cardatabase.te...   \n6          NaN                                                NaN   \n7          NaN  This is NOT a list of all manufacturers ever e...   \n8          NaN  If you saw somewhere a list with 1000 manufact...   \n9          NaN  NOTE: Sold in Western Europe / North America i...   \n10         NaN                                                NaN   \n11         NaN  Car makes with list of models included (and nu...   \n12         NaN                                                NaN   \n13         NaN                                            AC Cars   \n14         NaN                                              Acura   \n15         NaN                       Aixam-Mega (including Arola)   \n16         NaN                                         Alfa Romeo   \n17         NaN                                             Alpine   \n18         NaN                                              Alvis   \n19         NaN                                         AMC, Eagle   \n\n        Unnamed: 2 Unnamed: 3               Unnamed: 4   \n0          Country       Size  Models included (World)  \\\n1              NaN        NaN                      NaN   \n2              222        222                     6264   \n3              NaN        NaN                      NaN   \n4              NaN        NaN                      NaN   \n5              NaN        NaN                      NaN   \n6              NaN        NaN                      NaN   \n7              NaN        NaN                      NaN   \n8              NaN        NaN                      NaN   \n9              NaN        NaN                      NaN   \n10             NaN        NaN                      NaN   \n11             NaN        NaN                      NaN   \n12             NaN        NaN                      NaN   \n13  United Kingdom      Small                       11   \n14           Japan      Large                       37   \n15          France      Small                       32   \n16           Italy      Large                       35   \n17          France     Medium                        7   \n18  United Kingdom     Medium                        9   \n19   United States      Large                       33   \n\n                  Unnamed: 5         Unnamed: 6       Unnamed: 7   \n0   Models included (Europe)  Timeline included  Company Founded  \\\n1                        NaN                NaN              NaN   \n2                       3320                104              198   \n3                        NaN                NaN              NaN   \n4                        NaN                NaN              NaN   \n5                        NaN                NaN              NaN   \n6                        NaN                NaN              NaN   \n7                        NaN                NaN              NaN   \n8                        NaN                NaN              NaN   \n9                        NaN                NaN              NaN   \n10                       NaN                NaN              NaN   \n11                       NaN                NaN              NaN   \n12                       NaN                NaN              NaN   \n13                        11                YES             1901   \n14                       NaN                YES             1986   \n15                        32                NaN       1975, 1983   \n16                        35                YES             1910   \n17                         7                YES             1955   \n18                         9                YES             1919   \n19                       NaN                YES             1954   \n\n            Unnamed: 8         Unnamed: 9  ... Unnamed: 16 Unnamed: 17   \n0   First car produced  Last car produced  ...         NaN         NaN  \\\n1                  NaN                NaN  ...       2010s       2020s   \n2                  178                222  ...          55          50   \n3                  NaN                NaN  ...         NaN         NaN   \n4                  NaN                NaN  ...         NaN         NaN   \n5                  NaN                NaN  ...         NaN         NaN   \n6                  NaN                NaN  ...         NaN         NaN   \n7                  NaN                NaN  ...         NaN         NaN   \n8                  NaN                NaN  ...         NaN         NaN   \n9                  NaN                NaN  ...         NaN         NaN   \n10                 NaN                NaN  ...         NaN         NaN   \n11                 NaN                NaN  ...         NaN         NaN   \n12                 NaN                NaN  ...         NaN         NaN   \n13                1903             Active  ...         NaN         NaN   \n14                1986             Active  ...         NaN         NaN   \n15                 NaN             Active  ...         NaN         NaN   \n16                1910             Active  ...           Y           Y   \n17                1955             Active  ...         NaN         NaN   \n18                1920               1967  ...         NaN         NaN   \n19                1954               1998  ...         NaN         NaN   \n\n              Unnamed: 18 Unnamed: 19 Unnamed: 20 Unnamed: 21 Unnamed: 22   \n0   Sold in North America         NaN         NaN         NaN         NaN  \\\n1                   1960s       1970s       1980s       1990s       2000s   \n2                      54          57          56          51          54   \n3                     NaN         NaN         NaN         NaN         NaN   \n4                     NaN         NaN         NaN         NaN         NaN   \n5                     NaN         NaN         NaN         NaN         NaN   \n6                     NaN         NaN         NaN         NaN         NaN   \n7                     NaN         NaN         NaN         NaN         NaN   \n8                     NaN         NaN         NaN         NaN         NaN   \n9                     NaN         NaN         NaN         NaN         NaN   \n10                    NaN         NaN         NaN         NaN         NaN   \n11                    NaN         NaN         NaN         NaN         NaN   \n12                    NaN         NaN         NaN         NaN         NaN   \n13                      Y           Y           Y           Y         NaN   \n14                    NaN         NaN         NaN           Y           Y   \n15                    NaN         NaN         NaN         NaN         NaN   \n16                      Y           Y           Y           Y         NaN   \n17                    NaN         NaN         NaN         NaN         NaN   \n18                      Y         NaN         NaN         NaN         NaN   \n19                      Y           Y           Y           Y         NaN   \n\n   Unnamed: 23 Unnamed: 24                                        Unnamed: 25  \n0          NaN         NaN                                        Description  \n1        2010s       2020s                                                NaN  \n2           48          45                                                 94  \n3          NaN         NaN                                                NaN  \n4          NaN         NaN                                                NaN  \n5          NaN         NaN                                                NaN  \n6          NaN         NaN                                                NaN  \n7          NaN         NaN                                                NaN  \n8          NaN         NaN                                                NaN  \n9          NaN         NaN                                                NaN  \n10         NaN         NaN                                                NaN  \n11         NaN         NaN                                                NaN  \n12         NaN         NaN                                                NaN  \n13         NaN         NaN                                                NaN  \n14           Y           Y                              Honda division for US  \n15         NaN         NaN                                                NaN  \n16           Y           Y                                                NaN  \n17         NaN         NaN  Bought by Renault in 1978, defunct 1995, relau...  \n18         NaN         NaN                          Car production ended 1967  \n19         NaN         NaN  Formed 1954 by merging of Hudson and Nash, bou...  \n\n[20 rows x 26 columns]",
      "text/html": "<div>\n<style scoped>\n    .dataframe tbody tr th:only-of-type {\n        vertical-align: middle;\n    }\n\n    .dataframe tbody tr th {\n        vertical-align: top;\n    }\n\n    .dataframe thead th {\n        text-align: right;\n    }\n</style>\n<table border=\"1\" class=\"dataframe\">\n  <thead>\n    <tr style=\"text-align: right;\">\n      <th></th>\n      <th>Unnamed: 0</th>\n      <th>Unnamed: 1</th>\n      <th>Unnamed: 2</th>\n      <th>Unnamed: 3</th>\n      <th>Unnamed: 4</th>\n      <th>Unnamed: 5</th>\n      <th>Unnamed: 6</th>\n      <th>Unnamed: 7</th>\n      <th>Unnamed: 8</th>\n      <th>Unnamed: 9</th>\n      <th>...</th>\n      <th>Unnamed: 16</th>\n      <th>Unnamed: 17</th>\n      <th>Unnamed: 18</th>\n      <th>Unnamed: 19</th>\n      <th>Unnamed: 20</th>\n      <th>Unnamed: 21</th>\n      <th>Unnamed: 22</th>\n      <th>Unnamed: 23</th>\n      <th>Unnamed: 24</th>\n      <th>Unnamed: 25</th>\n    </tr>\n  </thead>\n  <tbody>\n    <tr>\n      <th>0</th>\n      <td>NaN</td>\n      <td>Make</td>\n      <td>Country</td>\n      <td>Size</td>\n      <td>Models included (World)</td>\n      <td>Models included (Europe)</td>\n      <td>Timeline included</td>\n      <td>Company Founded</td>\n      <td>First car produced</td>\n      <td>Last car produced</td>\n      <td>...</td>\n      <td>NaN</td>\n      <td>NaN</td>\n      <td>Sold in North America</td>\n      <td>NaN</td>\n      <td>NaN</td>\n      <td>NaN</td>\n      <td>NaN</td>\n      <td>NaN</td>\n      <td>NaN</td>\n      <td>Description</td>\n    </tr>\n    <tr>\n      <th>1</th>\n      <td>NaN</td>\n      <td>NaN</td>\n      <td>NaN</td>\n      <td>NaN</td>\n      <td>NaN</td>\n      <td>NaN</td>\n      <td>NaN</td>\n      <td>NaN</td>\n      <td>NaN</td>\n      <td>NaN</td>\n      <td>...</td>\n      <td>2010s</td>\n      <td>2020s</td>\n      <td>1960s</td>\n      <td>1970s</td>\n      <td>1980s</td>\n      <td>1990s</td>\n      <td>2000s</td>\n      <td>2010s</td>\n      <td>2020s</td>\n      <td>NaN</td>\n    </tr>\n    <tr>\n      <th>2</th>\n      <td>NaN</td>\n      <td>222</td>\n      <td>222</td>\n      <td>222</td>\n      <td>6264</td>\n      <td>3320</td>\n      <td>104</td>\n      <td>198</td>\n      <td>178</td>\n      <td>222</td>\n      <td>...</td>\n      <td>55</td>\n      <td>50</td>\n      <td>54</td>\n      <td>57</td>\n      <td>56</td>\n      <td>51</td>\n      <td>54</td>\n      <td>48</td>\n      <td>45</td>\n      <td>94</td>\n    </tr>\n    <tr>\n      <th>3</th>\n      <td>NaN</td>\n      <td>NaN</td>\n      <td>NaN</td>\n      <td>NaN</td>\n      <td>NaN</td>\n      <td>NaN</td>\n      <td>NaN</td>\n      <td>NaN</td>\n      <td>NaN</td>\n      <td>NaN</td>\n      <td>...</td>\n      <td>NaN</td>\n      <td>NaN</td>\n      <td>NaN</td>\n      <td>NaN</td>\n      <td>NaN</td>\n      <td>NaN</td>\n      <td>NaN</td>\n      <td>NaN</td>\n      <td>NaN</td>\n      <td>NaN</td>\n    </tr>\n    <tr>\n      <th>4</th>\n      <td>NaN</td>\n      <td>CAR MANUFACTURERS LIST</td>\n      <td>NaN</td>\n      <td>NaN</td>\n      <td>NaN</td>\n      <td>NaN</td>\n      <td>NaN</td>\n      <td>NaN</td>\n      <td>NaN</td>\n      <td>NaN</td>\n      <td>...</td>\n      <td>NaN</td>\n      <td>NaN</td>\n      <td>NaN</td>\n      <td>NaN</td>\n      <td>NaN</td>\n      <td>NaN</td>\n      <td>NaN</td>\n      <td>NaN</td>\n      <td>NaN</td>\n      <td>NaN</td>\n    </tr>\n    <tr>\n      <th>5</th>\n      <td>NaN</td>\n      <td>Original research by Teoalida © cardatabase.te...</td>\n      <td>NaN</td>\n      <td>NaN</td>\n      <td>NaN</td>\n      <td>NaN</td>\n      <td>NaN</td>\n      <td>NaN</td>\n      <td>NaN</td>\n      <td>NaN</td>\n      <td>...</td>\n      <td>NaN</td>\n      <td>NaN</td>\n      <td>NaN</td>\n      <td>NaN</td>\n      <td>NaN</td>\n      <td>NaN</td>\n      <td>NaN</td>\n      <td>NaN</td>\n      <td>NaN</td>\n      <td>NaN</td>\n    </tr>\n    <tr>\n      <th>6</th>\n      <td>NaN</td>\n      <td>NaN</td>\n      <td>NaN</td>\n      <td>NaN</td>\n      <td>NaN</td>\n      <td>NaN</td>\n      <td>NaN</td>\n      <td>NaN</td>\n      <td>NaN</td>\n      <td>NaN</td>\n      <td>...</td>\n      <td>NaN</td>\n      <td>NaN</td>\n      <td>NaN</td>\n      <td>NaN</td>\n      <td>NaN</td>\n      <td>NaN</td>\n      <td>NaN</td>\n      <td>NaN</td>\n      <td>NaN</td>\n      <td>NaN</td>\n    </tr>\n    <tr>\n      <th>7</th>\n      <td>NaN</td>\n      <td>This is NOT a list of all manufacturers ever e...</td>\n      <td>NaN</td>\n      <td>NaN</td>\n      <td>NaN</td>\n      <td>NaN</td>\n      <td>NaN</td>\n      <td>NaN</td>\n      <td>NaN</td>\n      <td>NaN</td>\n      <td>...</td>\n      <td>NaN</td>\n      <td>NaN</td>\n      <td>NaN</td>\n      <td>NaN</td>\n      <td>NaN</td>\n      <td>NaN</td>\n      <td>NaN</td>\n      <td>NaN</td>\n      <td>NaN</td>\n      <td>NaN</td>\n    </tr>\n    <tr>\n      <th>8</th>\n      <td>NaN</td>\n      <td>If you saw somewhere a list with 1000 manufact...</td>\n      <td>NaN</td>\n      <td>NaN</td>\n      <td>NaN</td>\n      <td>NaN</td>\n      <td>NaN</td>\n      <td>NaN</td>\n      <td>NaN</td>\n      <td>NaN</td>\n      <td>...</td>\n      <td>NaN</td>\n      <td>NaN</td>\n      <td>NaN</td>\n      <td>NaN</td>\n      <td>NaN</td>\n      <td>NaN</td>\n      <td>NaN</td>\n      <td>NaN</td>\n      <td>NaN</td>\n      <td>NaN</td>\n    </tr>\n    <tr>\n      <th>9</th>\n      <td>NaN</td>\n      <td>NOTE: Sold in Western Europe / North America i...</td>\n      <td>NaN</td>\n      <td>NaN</td>\n      <td>NaN</td>\n      <td>NaN</td>\n      <td>NaN</td>\n      <td>NaN</td>\n      <td>NaN</td>\n      <td>NaN</td>\n      <td>...</td>\n      <td>NaN</td>\n      <td>NaN</td>\n      <td>NaN</td>\n      <td>NaN</td>\n      <td>NaN</td>\n      <td>NaN</td>\n      <td>NaN</td>\n      <td>NaN</td>\n      <td>NaN</td>\n      <td>NaN</td>\n    </tr>\n    <tr>\n      <th>10</th>\n      <td>NaN</td>\n      <td>NaN</td>\n      <td>NaN</td>\n      <td>NaN</td>\n      <td>NaN</td>\n      <td>NaN</td>\n      <td>NaN</td>\n      <td>NaN</td>\n      <td>NaN</td>\n      <td>NaN</td>\n      <td>...</td>\n      <td>NaN</td>\n      <td>NaN</td>\n      <td>NaN</td>\n      <td>NaN</td>\n      <td>NaN</td>\n      <td>NaN</td>\n      <td>NaN</td>\n      <td>NaN</td>\n      <td>NaN</td>\n      <td>NaN</td>\n    </tr>\n    <tr>\n      <th>11</th>\n      <td>NaN</td>\n      <td>Car makes with list of models included (and nu...</td>\n      <td>NaN</td>\n      <td>NaN</td>\n      <td>NaN</td>\n      <td>NaN</td>\n      <td>NaN</td>\n      <td>NaN</td>\n      <td>NaN</td>\n      <td>NaN</td>\n      <td>...</td>\n      <td>NaN</td>\n      <td>NaN</td>\n      <td>NaN</td>\n      <td>NaN</td>\n      <td>NaN</td>\n      <td>NaN</td>\n      <td>NaN</td>\n      <td>NaN</td>\n      <td>NaN</td>\n      <td>NaN</td>\n    </tr>\n    <tr>\n      <th>12</th>\n      <td>NaN</td>\n      <td>NaN</td>\n      <td>NaN</td>\n      <td>NaN</td>\n      <td>NaN</td>\n      <td>NaN</td>\n      <td>NaN</td>\n      <td>NaN</td>\n      <td>NaN</td>\n      <td>NaN</td>\n      <td>...</td>\n      <td>NaN</td>\n      <td>NaN</td>\n      <td>NaN</td>\n      <td>NaN</td>\n      <td>NaN</td>\n      <td>NaN</td>\n      <td>NaN</td>\n      <td>NaN</td>\n      <td>NaN</td>\n      <td>NaN</td>\n    </tr>\n    <tr>\n      <th>13</th>\n      <td>NaN</td>\n      <td>AC Cars</td>\n      <td>United Kingdom</td>\n      <td>Small</td>\n      <td>11</td>\n      <td>11</td>\n      <td>YES</td>\n      <td>1901</td>\n      <td>1903</td>\n      <td>Active</td>\n      <td>...</td>\n      <td>NaN</td>\n      <td>NaN</td>\n      <td>Y</td>\n      <td>Y</td>\n      <td>Y</td>\n      <td>Y</td>\n      <td>NaN</td>\n      <td>NaN</td>\n      <td>NaN</td>\n      <td>NaN</td>\n    </tr>\n    <tr>\n      <th>14</th>\n      <td>NaN</td>\n      <td>Acura</td>\n      <td>Japan</td>\n      <td>Large</td>\n      <td>37</td>\n      <td>NaN</td>\n      <td>YES</td>\n      <td>1986</td>\n      <td>1986</td>\n      <td>Active</td>\n      <td>...</td>\n      <td>NaN</td>\n      <td>NaN</td>\n      <td>NaN</td>\n      <td>NaN</td>\n      <td>NaN</td>\n      <td>Y</td>\n      <td>Y</td>\n      <td>Y</td>\n      <td>Y</td>\n      <td>Honda division for US</td>\n    </tr>\n    <tr>\n      <th>15</th>\n      <td>NaN</td>\n      <td>Aixam-Mega (including Arola)</td>\n      <td>France</td>\n      <td>Small</td>\n      <td>32</td>\n      <td>32</td>\n      <td>NaN</td>\n      <td>1975, 1983</td>\n      <td>NaN</td>\n      <td>Active</td>\n      <td>...</td>\n      <td>NaN</td>\n      <td>NaN</td>\n      <td>NaN</td>\n      <td>NaN</td>\n      <td>NaN</td>\n      <td>NaN</td>\n      <td>NaN</td>\n      <td>NaN</td>\n      <td>NaN</td>\n      <td>NaN</td>\n    </tr>\n    <tr>\n      <th>16</th>\n      <td>NaN</td>\n      <td>Alfa Romeo</td>\n      <td>Italy</td>\n      <td>Large</td>\n      <td>35</td>\n      <td>35</td>\n      <td>YES</td>\n      <td>1910</td>\n      <td>1910</td>\n      <td>Active</td>\n      <td>...</td>\n      <td>Y</td>\n      <td>Y</td>\n      <td>Y</td>\n      <td>Y</td>\n      <td>Y</td>\n      <td>Y</td>\n      <td>NaN</td>\n      <td>Y</td>\n      <td>Y</td>\n      <td>NaN</td>\n    </tr>\n    <tr>\n      <th>17</th>\n      <td>NaN</td>\n      <td>Alpine</td>\n      <td>France</td>\n      <td>Medium</td>\n      <td>7</td>\n      <td>7</td>\n      <td>YES</td>\n      <td>1955</td>\n      <td>1955</td>\n      <td>Active</td>\n      <td>...</td>\n      <td>NaN</td>\n      <td>NaN</td>\n      <td>NaN</td>\n      <td>NaN</td>\n      <td>NaN</td>\n      <td>NaN</td>\n      <td>NaN</td>\n      <td>NaN</td>\n      <td>NaN</td>\n      <td>Bought by Renault in 1978, defunct 1995, relau...</td>\n    </tr>\n    <tr>\n      <th>18</th>\n      <td>NaN</td>\n      <td>Alvis</td>\n      <td>United Kingdom</td>\n      <td>Medium</td>\n      <td>9</td>\n      <td>9</td>\n      <td>YES</td>\n      <td>1919</td>\n      <td>1920</td>\n      <td>1967</td>\n      <td>...</td>\n      <td>NaN</td>\n      <td>NaN</td>\n      <td>Y</td>\n      <td>NaN</td>\n      <td>NaN</td>\n      <td>NaN</td>\n      <td>NaN</td>\n      <td>NaN</td>\n      <td>NaN</td>\n      <td>Car production ended 1967</td>\n    </tr>\n    <tr>\n      <th>19</th>\n      <td>NaN</td>\n      <td>AMC, Eagle</td>\n      <td>United States</td>\n      <td>Large</td>\n      <td>33</td>\n      <td>NaN</td>\n      <td>YES</td>\n      <td>1954</td>\n      <td>1954</td>\n      <td>1998</td>\n      <td>...</td>\n      <td>NaN</td>\n      <td>NaN</td>\n      <td>Y</td>\n      <td>Y</td>\n      <td>Y</td>\n      <td>Y</td>\n      <td>NaN</td>\n      <td>NaN</td>\n      <td>NaN</td>\n      <td>Formed 1954 by merging of Hudson and Nash, bou...</td>\n    </tr>\n  </tbody>\n</table>\n<p>20 rows × 26 columns</p>\n</div>"
     },
     "execution_count": 3,
     "metadata": {},
     "output_type": "execute_result"
    }
   ],
   "source": [
    "df_country.head(20)"
   ],
   "metadata": {
    "collapsed": false,
    "ExecuteTime": {
     "start_time": "2024-01-09T16:06:17.696572Z",
     "end_time": "2024-01-09T16:06:17.766557Z"
    }
   }
  },
  {
   "cell_type": "markdown",
   "source": [
    "imported looks terrible, need to make first row the column list, and remove like the first ten rows which are text, not data."
   ],
   "metadata": {
    "collapsed": false
   }
  },
  {
   "cell_type": "code",
   "execution_count": 4,
   "outputs": [],
   "source": [
    "df_country.columns= df_country.iloc[0]"
   ],
   "metadata": {
    "collapsed": false,
    "ExecuteTime": {
     "start_time": "2024-01-09T16:06:17.743809Z",
     "end_time": "2024-01-09T16:06:17.767185Z"
    }
   }
  },
  {
   "cell_type": "code",
   "execution_count": 5,
   "outputs": [
    {
     "data": {
      "text/plain": "0  NaN                                               Make         Country   \n0  NaN                                               Make         Country  \\\n1  NaN                                                NaN             NaN   \n2  NaN                                                222             222   \n3  NaN                                                NaN             NaN   \n4  NaN                             CAR MANUFACTURERS LIST             NaN   \n5  NaN  Original research by Teoalida © cardatabase.te...             NaN   \n6  NaN                                                NaN             NaN   \n7  NaN  This is NOT a list of all manufacturers ever e...             NaN   \n8  NaN  If you saw somewhere a list with 1000 manufact...             NaN   \n9  NaN  NOTE: Sold in Western Europe / North America i...             NaN   \n10 NaN                                                NaN             NaN   \n11 NaN  Car makes with list of models included (and nu...             NaN   \n12 NaN                                                NaN             NaN   \n13 NaN                                            AC Cars  United Kingdom   \n14 NaN                                              Acura           Japan   \n\n0    Size  Models included (World)  Models included (Europe)   \n0    Size  Models included (World)  Models included (Europe)  \\\n1     NaN                      NaN                       NaN   \n2     222                     6264                      3320   \n3     NaN                      NaN                       NaN   \n4     NaN                      NaN                       NaN   \n5     NaN                      NaN                       NaN   \n6     NaN                      NaN                       NaN   \n7     NaN                      NaN                       NaN   \n8     NaN                      NaN                       NaN   \n9     NaN                      NaN                       NaN   \n10    NaN                      NaN                       NaN   \n11    NaN                      NaN                       NaN   \n12    NaN                      NaN                       NaN   \n13  Small                       11                        11   \n14  Large                       37                       NaN   \n\n0   Timeline included  Company Founded  First car produced  Last car produced   \n0   Timeline included  Company Founded  First car produced  Last car produced  \\\n1                 NaN              NaN                 NaN                NaN   \n2                 104              198                 178                222   \n3                 NaN              NaN                 NaN                NaN   \n4                 NaN              NaN                 NaN                NaN   \n5                 NaN              NaN                 NaN                NaN   \n6                 NaN              NaN                 NaN                NaN   \n7                 NaN              NaN                 NaN                NaN   \n8                 NaN              NaN                 NaN                NaN   \n9                 NaN              NaN                 NaN                NaN   \n10                NaN              NaN                 NaN                NaN   \n11                NaN              NaN                 NaN                NaN   \n12                NaN              NaN                 NaN                NaN   \n13                YES             1901                1903             Active   \n14                YES             1986                1986             Active   \n\n0   ...    NaN    NaN  Sold in North America    NaN    NaN    NaN    NaN   \n0   ...    NaN    NaN  Sold in North America    NaN    NaN    NaN    NaN  \\\n1   ...  2010s  2020s                  1960s  1970s  1980s  1990s  2000s   \n2   ...     55     50                     54     57     56     51     54   \n3   ...    NaN    NaN                    NaN    NaN    NaN    NaN    NaN   \n4   ...    NaN    NaN                    NaN    NaN    NaN    NaN    NaN   \n5   ...    NaN    NaN                    NaN    NaN    NaN    NaN    NaN   \n6   ...    NaN    NaN                    NaN    NaN    NaN    NaN    NaN   \n7   ...    NaN    NaN                    NaN    NaN    NaN    NaN    NaN   \n8   ...    NaN    NaN                    NaN    NaN    NaN    NaN    NaN   \n9   ...    NaN    NaN                    NaN    NaN    NaN    NaN    NaN   \n10  ...    NaN    NaN                    NaN    NaN    NaN    NaN    NaN   \n11  ...    NaN    NaN                    NaN    NaN    NaN    NaN    NaN   \n12  ...    NaN    NaN                    NaN    NaN    NaN    NaN    NaN   \n13  ...    NaN    NaN                      Y      Y      Y      Y    NaN   \n14  ...    NaN    NaN                    NaN    NaN    NaN      Y      Y   \n\n0     NaN    NaN            Description  \n0     NaN    NaN            Description  \n1   2010s  2020s                    NaN  \n2      48     45                     94  \n3     NaN    NaN                    NaN  \n4     NaN    NaN                    NaN  \n5     NaN    NaN                    NaN  \n6     NaN    NaN                    NaN  \n7     NaN    NaN                    NaN  \n8     NaN    NaN                    NaN  \n9     NaN    NaN                    NaN  \n10    NaN    NaN                    NaN  \n11    NaN    NaN                    NaN  \n12    NaN    NaN                    NaN  \n13    NaN    NaN                    NaN  \n14      Y      Y  Honda division for US  \n\n[15 rows x 26 columns]",
      "text/html": "<div>\n<style scoped>\n    .dataframe tbody tr th:only-of-type {\n        vertical-align: middle;\n    }\n\n    .dataframe tbody tr th {\n        vertical-align: top;\n    }\n\n    .dataframe thead th {\n        text-align: right;\n    }\n</style>\n<table border=\"1\" class=\"dataframe\">\n  <thead>\n    <tr style=\"text-align: right;\">\n      <th></th>\n      <th>NaN</th>\n      <th>Make</th>\n      <th>Country</th>\n      <th>Size</th>\n      <th>Models included (World)</th>\n      <th>Models included (Europe)</th>\n      <th>Timeline included</th>\n      <th>Company Founded</th>\n      <th>First car produced</th>\n      <th>Last car produced</th>\n      <th>...</th>\n      <th>NaN</th>\n      <th>NaN</th>\n      <th>Sold in North America</th>\n      <th>NaN</th>\n      <th>NaN</th>\n      <th>NaN</th>\n      <th>NaN</th>\n      <th>NaN</th>\n      <th>NaN</th>\n      <th>Description</th>\n    </tr>\n  </thead>\n  <tbody>\n    <tr>\n      <th>0</th>\n      <td>NaN</td>\n      <td>Make</td>\n      <td>Country</td>\n      <td>Size</td>\n      <td>Models included (World)</td>\n      <td>Models included (Europe)</td>\n      <td>Timeline included</td>\n      <td>Company Founded</td>\n      <td>First car produced</td>\n      <td>Last car produced</td>\n      <td>...</td>\n      <td>NaN</td>\n      <td>NaN</td>\n      <td>Sold in North America</td>\n      <td>NaN</td>\n      <td>NaN</td>\n      <td>NaN</td>\n      <td>NaN</td>\n      <td>NaN</td>\n      <td>NaN</td>\n      <td>Description</td>\n    </tr>\n    <tr>\n      <th>1</th>\n      <td>NaN</td>\n      <td>NaN</td>\n      <td>NaN</td>\n      <td>NaN</td>\n      <td>NaN</td>\n      <td>NaN</td>\n      <td>NaN</td>\n      <td>NaN</td>\n      <td>NaN</td>\n      <td>NaN</td>\n      <td>...</td>\n      <td>2010s</td>\n      <td>2020s</td>\n      <td>1960s</td>\n      <td>1970s</td>\n      <td>1980s</td>\n      <td>1990s</td>\n      <td>2000s</td>\n      <td>2010s</td>\n      <td>2020s</td>\n      <td>NaN</td>\n    </tr>\n    <tr>\n      <th>2</th>\n      <td>NaN</td>\n      <td>222</td>\n      <td>222</td>\n      <td>222</td>\n      <td>6264</td>\n      <td>3320</td>\n      <td>104</td>\n      <td>198</td>\n      <td>178</td>\n      <td>222</td>\n      <td>...</td>\n      <td>55</td>\n      <td>50</td>\n      <td>54</td>\n      <td>57</td>\n      <td>56</td>\n      <td>51</td>\n      <td>54</td>\n      <td>48</td>\n      <td>45</td>\n      <td>94</td>\n    </tr>\n    <tr>\n      <th>3</th>\n      <td>NaN</td>\n      <td>NaN</td>\n      <td>NaN</td>\n      <td>NaN</td>\n      <td>NaN</td>\n      <td>NaN</td>\n      <td>NaN</td>\n      <td>NaN</td>\n      <td>NaN</td>\n      <td>NaN</td>\n      <td>...</td>\n      <td>NaN</td>\n      <td>NaN</td>\n      <td>NaN</td>\n      <td>NaN</td>\n      <td>NaN</td>\n      <td>NaN</td>\n      <td>NaN</td>\n      <td>NaN</td>\n      <td>NaN</td>\n      <td>NaN</td>\n    </tr>\n    <tr>\n      <th>4</th>\n      <td>NaN</td>\n      <td>CAR MANUFACTURERS LIST</td>\n      <td>NaN</td>\n      <td>NaN</td>\n      <td>NaN</td>\n      <td>NaN</td>\n      <td>NaN</td>\n      <td>NaN</td>\n      <td>NaN</td>\n      <td>NaN</td>\n      <td>...</td>\n      <td>NaN</td>\n      <td>NaN</td>\n      <td>NaN</td>\n      <td>NaN</td>\n      <td>NaN</td>\n      <td>NaN</td>\n      <td>NaN</td>\n      <td>NaN</td>\n      <td>NaN</td>\n      <td>NaN</td>\n    </tr>\n    <tr>\n      <th>5</th>\n      <td>NaN</td>\n      <td>Original research by Teoalida © cardatabase.te...</td>\n      <td>NaN</td>\n      <td>NaN</td>\n      <td>NaN</td>\n      <td>NaN</td>\n      <td>NaN</td>\n      <td>NaN</td>\n      <td>NaN</td>\n      <td>NaN</td>\n      <td>...</td>\n      <td>NaN</td>\n      <td>NaN</td>\n      <td>NaN</td>\n      <td>NaN</td>\n      <td>NaN</td>\n      <td>NaN</td>\n      <td>NaN</td>\n      <td>NaN</td>\n      <td>NaN</td>\n      <td>NaN</td>\n    </tr>\n    <tr>\n      <th>6</th>\n      <td>NaN</td>\n      <td>NaN</td>\n      <td>NaN</td>\n      <td>NaN</td>\n      <td>NaN</td>\n      <td>NaN</td>\n      <td>NaN</td>\n      <td>NaN</td>\n      <td>NaN</td>\n      <td>NaN</td>\n      <td>...</td>\n      <td>NaN</td>\n      <td>NaN</td>\n      <td>NaN</td>\n      <td>NaN</td>\n      <td>NaN</td>\n      <td>NaN</td>\n      <td>NaN</td>\n      <td>NaN</td>\n      <td>NaN</td>\n      <td>NaN</td>\n    </tr>\n    <tr>\n      <th>7</th>\n      <td>NaN</td>\n      <td>This is NOT a list of all manufacturers ever e...</td>\n      <td>NaN</td>\n      <td>NaN</td>\n      <td>NaN</td>\n      <td>NaN</td>\n      <td>NaN</td>\n      <td>NaN</td>\n      <td>NaN</td>\n      <td>NaN</td>\n      <td>...</td>\n      <td>NaN</td>\n      <td>NaN</td>\n      <td>NaN</td>\n      <td>NaN</td>\n      <td>NaN</td>\n      <td>NaN</td>\n      <td>NaN</td>\n      <td>NaN</td>\n      <td>NaN</td>\n      <td>NaN</td>\n    </tr>\n    <tr>\n      <th>8</th>\n      <td>NaN</td>\n      <td>If you saw somewhere a list with 1000 manufact...</td>\n      <td>NaN</td>\n      <td>NaN</td>\n      <td>NaN</td>\n      <td>NaN</td>\n      <td>NaN</td>\n      <td>NaN</td>\n      <td>NaN</td>\n      <td>NaN</td>\n      <td>...</td>\n      <td>NaN</td>\n      <td>NaN</td>\n      <td>NaN</td>\n      <td>NaN</td>\n      <td>NaN</td>\n      <td>NaN</td>\n      <td>NaN</td>\n      <td>NaN</td>\n      <td>NaN</td>\n      <td>NaN</td>\n    </tr>\n    <tr>\n      <th>9</th>\n      <td>NaN</td>\n      <td>NOTE: Sold in Western Europe / North America i...</td>\n      <td>NaN</td>\n      <td>NaN</td>\n      <td>NaN</td>\n      <td>NaN</td>\n      <td>NaN</td>\n      <td>NaN</td>\n      <td>NaN</td>\n      <td>NaN</td>\n      <td>...</td>\n      <td>NaN</td>\n      <td>NaN</td>\n      <td>NaN</td>\n      <td>NaN</td>\n      <td>NaN</td>\n      <td>NaN</td>\n      <td>NaN</td>\n      <td>NaN</td>\n      <td>NaN</td>\n      <td>NaN</td>\n    </tr>\n    <tr>\n      <th>10</th>\n      <td>NaN</td>\n      <td>NaN</td>\n      <td>NaN</td>\n      <td>NaN</td>\n      <td>NaN</td>\n      <td>NaN</td>\n      <td>NaN</td>\n      <td>NaN</td>\n      <td>NaN</td>\n      <td>NaN</td>\n      <td>...</td>\n      <td>NaN</td>\n      <td>NaN</td>\n      <td>NaN</td>\n      <td>NaN</td>\n      <td>NaN</td>\n      <td>NaN</td>\n      <td>NaN</td>\n      <td>NaN</td>\n      <td>NaN</td>\n      <td>NaN</td>\n    </tr>\n    <tr>\n      <th>11</th>\n      <td>NaN</td>\n      <td>Car makes with list of models included (and nu...</td>\n      <td>NaN</td>\n      <td>NaN</td>\n      <td>NaN</td>\n      <td>NaN</td>\n      <td>NaN</td>\n      <td>NaN</td>\n      <td>NaN</td>\n      <td>NaN</td>\n      <td>...</td>\n      <td>NaN</td>\n      <td>NaN</td>\n      <td>NaN</td>\n      <td>NaN</td>\n      <td>NaN</td>\n      <td>NaN</td>\n      <td>NaN</td>\n      <td>NaN</td>\n      <td>NaN</td>\n      <td>NaN</td>\n    </tr>\n    <tr>\n      <th>12</th>\n      <td>NaN</td>\n      <td>NaN</td>\n      <td>NaN</td>\n      <td>NaN</td>\n      <td>NaN</td>\n      <td>NaN</td>\n      <td>NaN</td>\n      <td>NaN</td>\n      <td>NaN</td>\n      <td>NaN</td>\n      <td>...</td>\n      <td>NaN</td>\n      <td>NaN</td>\n      <td>NaN</td>\n      <td>NaN</td>\n      <td>NaN</td>\n      <td>NaN</td>\n      <td>NaN</td>\n      <td>NaN</td>\n      <td>NaN</td>\n      <td>NaN</td>\n    </tr>\n    <tr>\n      <th>13</th>\n      <td>NaN</td>\n      <td>AC Cars</td>\n      <td>United Kingdom</td>\n      <td>Small</td>\n      <td>11</td>\n      <td>11</td>\n      <td>YES</td>\n      <td>1901</td>\n      <td>1903</td>\n      <td>Active</td>\n      <td>...</td>\n      <td>NaN</td>\n      <td>NaN</td>\n      <td>Y</td>\n      <td>Y</td>\n      <td>Y</td>\n      <td>Y</td>\n      <td>NaN</td>\n      <td>NaN</td>\n      <td>NaN</td>\n      <td>NaN</td>\n    </tr>\n    <tr>\n      <th>14</th>\n      <td>NaN</td>\n      <td>Acura</td>\n      <td>Japan</td>\n      <td>Large</td>\n      <td>37</td>\n      <td>NaN</td>\n      <td>YES</td>\n      <td>1986</td>\n      <td>1986</td>\n      <td>Active</td>\n      <td>...</td>\n      <td>NaN</td>\n      <td>NaN</td>\n      <td>NaN</td>\n      <td>NaN</td>\n      <td>NaN</td>\n      <td>Y</td>\n      <td>Y</td>\n      <td>Y</td>\n      <td>Y</td>\n      <td>Honda division for US</td>\n    </tr>\n  </tbody>\n</table>\n<p>15 rows × 26 columns</p>\n</div>"
     },
     "execution_count": 5,
     "metadata": {},
     "output_type": "execute_result"
    }
   ],
   "source": [
    "df_country.head(15)"
   ],
   "metadata": {
    "collapsed": false,
    "ExecuteTime": {
     "start_time": "2024-01-09T16:06:17.765391Z",
     "end_time": "2024-01-09T16:06:17.913201Z"
    }
   }
  },
  {
   "cell_type": "code",
   "execution_count": 6,
   "outputs": [
    {
     "data": {
      "text/plain": "0  NaN                          Make         Country    Size   \n13 NaN                       AC Cars  United Kingdom   Small  \\\n14 NaN                         Acura           Japan   Large   \n15 NaN  Aixam-Mega (including Arola)          France   Small   \n16 NaN                    Alfa Romeo           Italy   Large   \n17 NaN                        Alpine          France  Medium   \n\n0  Models included (World) Models included (Europe) Timeline included   \n13                      11                       11               YES  \\\n14                      37                      NaN               YES   \n15                      32                       32               NaN   \n16                      35                       35               YES   \n17                       7                        7               YES   \n\n0  Company Founded First car produced Last car produced  ...  NaN  NaN   \n13            1901               1903            Active  ...  NaN  NaN  \\\n14            1986               1986            Active  ...  NaN  NaN   \n15      1975, 1983                NaN            Active  ...  NaN  NaN   \n16            1910               1910            Active  ...    Y    Y   \n17            1955               1955            Active  ...  NaN  NaN   \n\n0  Sold in North America  NaN  NaN  NaN  NaN  NaN  NaN   \n13                     Y    Y    Y    Y  NaN  NaN  NaN  \\\n14                   NaN  NaN  NaN    Y    Y    Y    Y   \n15                   NaN  NaN  NaN  NaN  NaN  NaN  NaN   \n16                     Y    Y    Y    Y  NaN    Y    Y   \n17                   NaN  NaN  NaN  NaN  NaN  NaN  NaN   \n\n0                                         Description  \n13                                                NaN  \n14                              Honda division for US  \n15                                                NaN  \n16                                                NaN  \n17  Bought by Renault in 1978, defunct 1995, relau...  \n\n[5 rows x 26 columns]",
      "text/html": "<div>\n<style scoped>\n    .dataframe tbody tr th:only-of-type {\n        vertical-align: middle;\n    }\n\n    .dataframe tbody tr th {\n        vertical-align: top;\n    }\n\n    .dataframe thead th {\n        text-align: right;\n    }\n</style>\n<table border=\"1\" class=\"dataframe\">\n  <thead>\n    <tr style=\"text-align: right;\">\n      <th></th>\n      <th>NaN</th>\n      <th>Make</th>\n      <th>Country</th>\n      <th>Size</th>\n      <th>Models included (World)</th>\n      <th>Models included (Europe)</th>\n      <th>Timeline included</th>\n      <th>Company Founded</th>\n      <th>First car produced</th>\n      <th>Last car produced</th>\n      <th>...</th>\n      <th>NaN</th>\n      <th>NaN</th>\n      <th>Sold in North America</th>\n      <th>NaN</th>\n      <th>NaN</th>\n      <th>NaN</th>\n      <th>NaN</th>\n      <th>NaN</th>\n      <th>NaN</th>\n      <th>Description</th>\n    </tr>\n  </thead>\n  <tbody>\n    <tr>\n      <th>13</th>\n      <td>NaN</td>\n      <td>AC Cars</td>\n      <td>United Kingdom</td>\n      <td>Small</td>\n      <td>11</td>\n      <td>11</td>\n      <td>YES</td>\n      <td>1901</td>\n      <td>1903</td>\n      <td>Active</td>\n      <td>...</td>\n      <td>NaN</td>\n      <td>NaN</td>\n      <td>Y</td>\n      <td>Y</td>\n      <td>Y</td>\n      <td>Y</td>\n      <td>NaN</td>\n      <td>NaN</td>\n      <td>NaN</td>\n      <td>NaN</td>\n    </tr>\n    <tr>\n      <th>14</th>\n      <td>NaN</td>\n      <td>Acura</td>\n      <td>Japan</td>\n      <td>Large</td>\n      <td>37</td>\n      <td>NaN</td>\n      <td>YES</td>\n      <td>1986</td>\n      <td>1986</td>\n      <td>Active</td>\n      <td>...</td>\n      <td>NaN</td>\n      <td>NaN</td>\n      <td>NaN</td>\n      <td>NaN</td>\n      <td>NaN</td>\n      <td>Y</td>\n      <td>Y</td>\n      <td>Y</td>\n      <td>Y</td>\n      <td>Honda division for US</td>\n    </tr>\n    <tr>\n      <th>15</th>\n      <td>NaN</td>\n      <td>Aixam-Mega (including Arola)</td>\n      <td>France</td>\n      <td>Small</td>\n      <td>32</td>\n      <td>32</td>\n      <td>NaN</td>\n      <td>1975, 1983</td>\n      <td>NaN</td>\n      <td>Active</td>\n      <td>...</td>\n      <td>NaN</td>\n      <td>NaN</td>\n      <td>NaN</td>\n      <td>NaN</td>\n      <td>NaN</td>\n      <td>NaN</td>\n      <td>NaN</td>\n      <td>NaN</td>\n      <td>NaN</td>\n      <td>NaN</td>\n    </tr>\n    <tr>\n      <th>16</th>\n      <td>NaN</td>\n      <td>Alfa Romeo</td>\n      <td>Italy</td>\n      <td>Large</td>\n      <td>35</td>\n      <td>35</td>\n      <td>YES</td>\n      <td>1910</td>\n      <td>1910</td>\n      <td>Active</td>\n      <td>...</td>\n      <td>Y</td>\n      <td>Y</td>\n      <td>Y</td>\n      <td>Y</td>\n      <td>Y</td>\n      <td>Y</td>\n      <td>NaN</td>\n      <td>Y</td>\n      <td>Y</td>\n      <td>NaN</td>\n    </tr>\n    <tr>\n      <th>17</th>\n      <td>NaN</td>\n      <td>Alpine</td>\n      <td>France</td>\n      <td>Medium</td>\n      <td>7</td>\n      <td>7</td>\n      <td>YES</td>\n      <td>1955</td>\n      <td>1955</td>\n      <td>Active</td>\n      <td>...</td>\n      <td>NaN</td>\n      <td>NaN</td>\n      <td>NaN</td>\n      <td>NaN</td>\n      <td>NaN</td>\n      <td>NaN</td>\n      <td>NaN</td>\n      <td>NaN</td>\n      <td>NaN</td>\n      <td>Bought by Renault in 1978, defunct 1995, relau...</td>\n    </tr>\n  </tbody>\n</table>\n<p>5 rows × 26 columns</p>\n</div>"
     },
     "execution_count": 6,
     "metadata": {},
     "output_type": "execute_result"
    }
   ],
   "source": [
    "df_country[13:].head()"
   ],
   "metadata": {
    "collapsed": false,
    "ExecuteTime": {
     "start_time": "2024-01-09T16:06:17.866721Z",
     "end_time": "2024-01-09T16:06:18.333031Z"
    }
   }
  },
  {
   "cell_type": "code",
   "execution_count": 7,
   "outputs": [],
   "source": [
    "df_country= df_country[13:].copy()"
   ],
   "metadata": {
    "collapsed": false,
    "ExecuteTime": {
     "start_time": "2024-01-09T16:06:17.880660Z",
     "end_time": "2024-01-09T16:06:18.499268Z"
    }
   }
  },
  {
   "cell_type": "code",
   "execution_count": 8,
   "outputs": [
    {
     "data": {
      "text/plain": "0  NaN                          Make         Country    Size   \n13 NaN                       AC Cars  United Kingdom   Small  \\\n14 NaN                         Acura           Japan   Large   \n15 NaN  Aixam-Mega (including Arola)          France   Small   \n16 NaN                    Alfa Romeo           Italy   Large   \n17 NaN                        Alpine          France  Medium   \n\n0  Models included (World) Models included (Europe) Timeline included   \n13                      11                       11               YES  \\\n14                      37                      NaN               YES   \n15                      32                       32               NaN   \n16                      35                       35               YES   \n17                       7                        7               YES   \n\n0  Company Founded First car produced Last car produced  ...  NaN  NaN   \n13            1901               1903            Active  ...  NaN  NaN  \\\n14            1986               1986            Active  ...  NaN  NaN   \n15      1975, 1983                NaN            Active  ...  NaN  NaN   \n16            1910               1910            Active  ...    Y    Y   \n17            1955               1955            Active  ...  NaN  NaN   \n\n0  Sold in North America  NaN  NaN  NaN  NaN  NaN  NaN   \n13                     Y    Y    Y    Y  NaN  NaN  NaN  \\\n14                   NaN  NaN  NaN    Y    Y    Y    Y   \n15                   NaN  NaN  NaN  NaN  NaN  NaN  NaN   \n16                     Y    Y    Y    Y  NaN    Y    Y   \n17                   NaN  NaN  NaN  NaN  NaN  NaN  NaN   \n\n0                                         Description  \n13                                                NaN  \n14                              Honda division for US  \n15                                                NaN  \n16                                                NaN  \n17  Bought by Renault in 1978, defunct 1995, relau...  \n\n[5 rows x 26 columns]",
      "text/html": "<div>\n<style scoped>\n    .dataframe tbody tr th:only-of-type {\n        vertical-align: middle;\n    }\n\n    .dataframe tbody tr th {\n        vertical-align: top;\n    }\n\n    .dataframe thead th {\n        text-align: right;\n    }\n</style>\n<table border=\"1\" class=\"dataframe\">\n  <thead>\n    <tr style=\"text-align: right;\">\n      <th></th>\n      <th>NaN</th>\n      <th>Make</th>\n      <th>Country</th>\n      <th>Size</th>\n      <th>Models included (World)</th>\n      <th>Models included (Europe)</th>\n      <th>Timeline included</th>\n      <th>Company Founded</th>\n      <th>First car produced</th>\n      <th>Last car produced</th>\n      <th>...</th>\n      <th>NaN</th>\n      <th>NaN</th>\n      <th>Sold in North America</th>\n      <th>NaN</th>\n      <th>NaN</th>\n      <th>NaN</th>\n      <th>NaN</th>\n      <th>NaN</th>\n      <th>NaN</th>\n      <th>Description</th>\n    </tr>\n  </thead>\n  <tbody>\n    <tr>\n      <th>13</th>\n      <td>NaN</td>\n      <td>AC Cars</td>\n      <td>United Kingdom</td>\n      <td>Small</td>\n      <td>11</td>\n      <td>11</td>\n      <td>YES</td>\n      <td>1901</td>\n      <td>1903</td>\n      <td>Active</td>\n      <td>...</td>\n      <td>NaN</td>\n      <td>NaN</td>\n      <td>Y</td>\n      <td>Y</td>\n      <td>Y</td>\n      <td>Y</td>\n      <td>NaN</td>\n      <td>NaN</td>\n      <td>NaN</td>\n      <td>NaN</td>\n    </tr>\n    <tr>\n      <th>14</th>\n      <td>NaN</td>\n      <td>Acura</td>\n      <td>Japan</td>\n      <td>Large</td>\n      <td>37</td>\n      <td>NaN</td>\n      <td>YES</td>\n      <td>1986</td>\n      <td>1986</td>\n      <td>Active</td>\n      <td>...</td>\n      <td>NaN</td>\n      <td>NaN</td>\n      <td>NaN</td>\n      <td>NaN</td>\n      <td>NaN</td>\n      <td>Y</td>\n      <td>Y</td>\n      <td>Y</td>\n      <td>Y</td>\n      <td>Honda division for US</td>\n    </tr>\n    <tr>\n      <th>15</th>\n      <td>NaN</td>\n      <td>Aixam-Mega (including Arola)</td>\n      <td>France</td>\n      <td>Small</td>\n      <td>32</td>\n      <td>32</td>\n      <td>NaN</td>\n      <td>1975, 1983</td>\n      <td>NaN</td>\n      <td>Active</td>\n      <td>...</td>\n      <td>NaN</td>\n      <td>NaN</td>\n      <td>NaN</td>\n      <td>NaN</td>\n      <td>NaN</td>\n      <td>NaN</td>\n      <td>NaN</td>\n      <td>NaN</td>\n      <td>NaN</td>\n      <td>NaN</td>\n    </tr>\n    <tr>\n      <th>16</th>\n      <td>NaN</td>\n      <td>Alfa Romeo</td>\n      <td>Italy</td>\n      <td>Large</td>\n      <td>35</td>\n      <td>35</td>\n      <td>YES</td>\n      <td>1910</td>\n      <td>1910</td>\n      <td>Active</td>\n      <td>...</td>\n      <td>Y</td>\n      <td>Y</td>\n      <td>Y</td>\n      <td>Y</td>\n      <td>Y</td>\n      <td>Y</td>\n      <td>NaN</td>\n      <td>Y</td>\n      <td>Y</td>\n      <td>NaN</td>\n    </tr>\n    <tr>\n      <th>17</th>\n      <td>NaN</td>\n      <td>Alpine</td>\n      <td>France</td>\n      <td>Medium</td>\n      <td>7</td>\n      <td>7</td>\n      <td>YES</td>\n      <td>1955</td>\n      <td>1955</td>\n      <td>Active</td>\n      <td>...</td>\n      <td>NaN</td>\n      <td>NaN</td>\n      <td>NaN</td>\n      <td>NaN</td>\n      <td>NaN</td>\n      <td>NaN</td>\n      <td>NaN</td>\n      <td>NaN</td>\n      <td>NaN</td>\n      <td>Bought by Renault in 1978, defunct 1995, relau...</td>\n    </tr>\n  </tbody>\n</table>\n<p>5 rows × 26 columns</p>\n</div>"
     },
     "execution_count": 8,
     "metadata": {},
     "output_type": "execute_result"
    }
   ],
   "source": [
    "df_country.head()"
   ],
   "metadata": {
    "collapsed": false,
    "ExecuteTime": {
     "start_time": "2024-01-09T16:06:17.889006Z",
     "end_time": "2024-01-09T16:06:18.501566Z"
    }
   }
  },
  {
   "cell_type": "code",
   "execution_count": 9,
   "outputs": [
    {
     "data": {
      "text/plain": "Index([                          nan,                        'Make',\n                           'Country',                        'Size',\n           'Models included (World)',    'Models included (Europe)',\n                 'Timeline included',             'Company Founded',\n                'First car produced',           'Last car produced',\n       'Model Years (North America)',      'Sold in Western Europe',\n                                 nan,                           nan,\n                                 nan,                           nan,\n                                 nan,                           nan,\n             'Sold in North America',                           nan,\n                                 nan,                           nan,\n                                 nan,                           nan,\n                                 nan,                 'Description'],\n      dtype='object', name=0)"
     },
     "execution_count": 9,
     "metadata": {},
     "output_type": "execute_result"
    }
   ],
   "source": [
    "df_country.columns"
   ],
   "metadata": {
    "collapsed": false,
    "ExecuteTime": {
     "start_time": "2024-01-09T16:06:17.945819Z",
     "end_time": "2024-01-09T16:06:18.502325Z"
    }
   }
  },
  {
   "cell_type": "code",
   "execution_count": 10,
   "outputs": [
    {
     "data": {
      "text/plain": "0    index NaN                                  Make         Country    Size   \n0       13 NaN                               AC Cars  United Kingdom   Small  \\\n1       14 NaN                                 Acura           Japan   Large   \n2       15 NaN          Aixam-Mega (including Arola)          France   Small   \n3       16 NaN                            Alfa Romeo           Italy   Large   \n4       17 NaN                                Alpine          France  Medium   \n..     ...  ..                                   ...             ...     ...   \n234    247 NaN              Austin (included in BMC)  United Kingdom   Large   \n235    248 NaN               Riley (included in BMC)  United Kingdom   Large   \n236    249 NaN            Wolseley (included in BMC)  United Kingdom   Large   \n237    250 NaN            Standard (included in BMC)  United Kingdom   Large   \n238    251 NaN  Talbot (included in Chrysler Europe)  United Kingdom   Large   \n\n0   Models included (World) Models included (Europe) Timeline included   \n0                        11                       11               YES  \\\n1                        37                      NaN               YES   \n2                        32                       32               NaN   \n3                        35                       35               YES   \n4                         7                        7               YES   \n..                      ...                      ...               ...   \n234                       -                        -               NaN   \n235                       -                        -               NaN   \n236                       -                        -               NaN   \n237                       -                        -               NaN   \n238                       -                        -               NaN   \n\n0   Company Founded First car produced  ...  NaN  NaN Sold in North America   \n0              1901               1903  ...  NaN  NaN                     Y  \\\n1              1986               1986  ...  NaN  NaN                   NaN   \n2        1975, 1983                NaN  ...  NaN  NaN                   NaN   \n3              1910               1910  ...    Y    Y                     Y   \n4              1955               1955  ...  NaN  NaN                   NaN   \n..              ...                ...  ...  ...  ...                   ...   \n234            1905               1906  ...  NaN  NaN                     Y   \n235            1896                NaN  ...  NaN  NaN                     Y   \n236            1901                NaN  ...  NaN  NaN                   NaN   \n237            1903                NaN  ...  NaN  NaN                   NaN   \n238            1903                NaN  ...  NaN  NaN                   NaN   \n\n0    NaN  NaN  NaN  NaN  NaN  NaN   \n0      Y    Y    Y  NaN  NaN  NaN  \\\n1    NaN  NaN    Y    Y    Y    Y   \n2    NaN  NaN  NaN  NaN  NaN  NaN   \n3      Y    Y    Y  NaN    Y    Y   \n4    NaN  NaN  NaN  NaN  NaN  NaN   \n..   ...  ...  ...  ...  ...  ...   \n234    Y  NaN  NaN  NaN  NaN  NaN   \n235  NaN  NaN  NaN  NaN  NaN  NaN   \n236  NaN  NaN  NaN  NaN  NaN  NaN   \n237  NaN  NaN  NaN  NaN  NaN  NaN   \n238  NaN  NaN  NaN  NaN  NaN  NaN   \n\n0                                          Description  \n0                                                  NaN  \n1                                Honda division for US  \n2                                                  NaN  \n3                                                  NaN  \n4    Bought by Renault in 1978, defunct 1995, relau...  \n..                                                 ...  \n234   Merged in British Leyland, brand used until 1994  \n235   Merged in British Leyland, brand used until 1969  \n236   Merged in British Leyland, brand used until 1975  \n237   Merged in British Leyland, brand used until 1963  \n238  Revived by PSA in 1979, passager cars disconti...  \n\n[239 rows x 27 columns]",
      "text/html": "<div>\n<style scoped>\n    .dataframe tbody tr th:only-of-type {\n        vertical-align: middle;\n    }\n\n    .dataframe tbody tr th {\n        vertical-align: top;\n    }\n\n    .dataframe thead th {\n        text-align: right;\n    }\n</style>\n<table border=\"1\" class=\"dataframe\">\n  <thead>\n    <tr style=\"text-align: right;\">\n      <th></th>\n      <th>index</th>\n      <th>NaN</th>\n      <th>Make</th>\n      <th>Country</th>\n      <th>Size</th>\n      <th>Models included (World)</th>\n      <th>Models included (Europe)</th>\n      <th>Timeline included</th>\n      <th>Company Founded</th>\n      <th>First car produced</th>\n      <th>...</th>\n      <th>NaN</th>\n      <th>NaN</th>\n      <th>Sold in North America</th>\n      <th>NaN</th>\n      <th>NaN</th>\n      <th>NaN</th>\n      <th>NaN</th>\n      <th>NaN</th>\n      <th>NaN</th>\n      <th>Description</th>\n    </tr>\n  </thead>\n  <tbody>\n    <tr>\n      <th>0</th>\n      <td>13</td>\n      <td>NaN</td>\n      <td>AC Cars</td>\n      <td>United Kingdom</td>\n      <td>Small</td>\n      <td>11</td>\n      <td>11</td>\n      <td>YES</td>\n      <td>1901</td>\n      <td>1903</td>\n      <td>...</td>\n      <td>NaN</td>\n      <td>NaN</td>\n      <td>Y</td>\n      <td>Y</td>\n      <td>Y</td>\n      <td>Y</td>\n      <td>NaN</td>\n      <td>NaN</td>\n      <td>NaN</td>\n      <td>NaN</td>\n    </tr>\n    <tr>\n      <th>1</th>\n      <td>14</td>\n      <td>NaN</td>\n      <td>Acura</td>\n      <td>Japan</td>\n      <td>Large</td>\n      <td>37</td>\n      <td>NaN</td>\n      <td>YES</td>\n      <td>1986</td>\n      <td>1986</td>\n      <td>...</td>\n      <td>NaN</td>\n      <td>NaN</td>\n      <td>NaN</td>\n      <td>NaN</td>\n      <td>NaN</td>\n      <td>Y</td>\n      <td>Y</td>\n      <td>Y</td>\n      <td>Y</td>\n      <td>Honda division for US</td>\n    </tr>\n    <tr>\n      <th>2</th>\n      <td>15</td>\n      <td>NaN</td>\n      <td>Aixam-Mega (including Arola)</td>\n      <td>France</td>\n      <td>Small</td>\n      <td>32</td>\n      <td>32</td>\n      <td>NaN</td>\n      <td>1975, 1983</td>\n      <td>NaN</td>\n      <td>...</td>\n      <td>NaN</td>\n      <td>NaN</td>\n      <td>NaN</td>\n      <td>NaN</td>\n      <td>NaN</td>\n      <td>NaN</td>\n      <td>NaN</td>\n      <td>NaN</td>\n      <td>NaN</td>\n      <td>NaN</td>\n    </tr>\n    <tr>\n      <th>3</th>\n      <td>16</td>\n      <td>NaN</td>\n      <td>Alfa Romeo</td>\n      <td>Italy</td>\n      <td>Large</td>\n      <td>35</td>\n      <td>35</td>\n      <td>YES</td>\n      <td>1910</td>\n      <td>1910</td>\n      <td>...</td>\n      <td>Y</td>\n      <td>Y</td>\n      <td>Y</td>\n      <td>Y</td>\n      <td>Y</td>\n      <td>Y</td>\n      <td>NaN</td>\n      <td>Y</td>\n      <td>Y</td>\n      <td>NaN</td>\n    </tr>\n    <tr>\n      <th>4</th>\n      <td>17</td>\n      <td>NaN</td>\n      <td>Alpine</td>\n      <td>France</td>\n      <td>Medium</td>\n      <td>7</td>\n      <td>7</td>\n      <td>YES</td>\n      <td>1955</td>\n      <td>1955</td>\n      <td>...</td>\n      <td>NaN</td>\n      <td>NaN</td>\n      <td>NaN</td>\n      <td>NaN</td>\n      <td>NaN</td>\n      <td>NaN</td>\n      <td>NaN</td>\n      <td>NaN</td>\n      <td>NaN</td>\n      <td>Bought by Renault in 1978, defunct 1995, relau...</td>\n    </tr>\n    <tr>\n      <th>...</th>\n      <td>...</td>\n      <td>...</td>\n      <td>...</td>\n      <td>...</td>\n      <td>...</td>\n      <td>...</td>\n      <td>...</td>\n      <td>...</td>\n      <td>...</td>\n      <td>...</td>\n      <td>...</td>\n      <td>...</td>\n      <td>...</td>\n      <td>...</td>\n      <td>...</td>\n      <td>...</td>\n      <td>...</td>\n      <td>...</td>\n      <td>...</td>\n      <td>...</td>\n      <td>...</td>\n    </tr>\n    <tr>\n      <th>234</th>\n      <td>247</td>\n      <td>NaN</td>\n      <td>Austin (included in BMC)</td>\n      <td>United Kingdom</td>\n      <td>Large</td>\n      <td>-</td>\n      <td>-</td>\n      <td>NaN</td>\n      <td>1905</td>\n      <td>1906</td>\n      <td>...</td>\n      <td>NaN</td>\n      <td>NaN</td>\n      <td>Y</td>\n      <td>Y</td>\n      <td>NaN</td>\n      <td>NaN</td>\n      <td>NaN</td>\n      <td>NaN</td>\n      <td>NaN</td>\n      <td>Merged in British Leyland, brand used until 1994</td>\n    </tr>\n    <tr>\n      <th>235</th>\n      <td>248</td>\n      <td>NaN</td>\n      <td>Riley (included in BMC)</td>\n      <td>United Kingdom</td>\n      <td>Large</td>\n      <td>-</td>\n      <td>-</td>\n      <td>NaN</td>\n      <td>1896</td>\n      <td>NaN</td>\n      <td>...</td>\n      <td>NaN</td>\n      <td>NaN</td>\n      <td>Y</td>\n      <td>NaN</td>\n      <td>NaN</td>\n      <td>NaN</td>\n      <td>NaN</td>\n      <td>NaN</td>\n      <td>NaN</td>\n      <td>Merged in British Leyland, brand used until 1969</td>\n    </tr>\n    <tr>\n      <th>236</th>\n      <td>249</td>\n      <td>NaN</td>\n      <td>Wolseley (included in BMC)</td>\n      <td>United Kingdom</td>\n      <td>Large</td>\n      <td>-</td>\n      <td>-</td>\n      <td>NaN</td>\n      <td>1901</td>\n      <td>NaN</td>\n      <td>...</td>\n      <td>NaN</td>\n      <td>NaN</td>\n      <td>NaN</td>\n      <td>NaN</td>\n      <td>NaN</td>\n      <td>NaN</td>\n      <td>NaN</td>\n      <td>NaN</td>\n      <td>NaN</td>\n      <td>Merged in British Leyland, brand used until 1975</td>\n    </tr>\n    <tr>\n      <th>237</th>\n      <td>250</td>\n      <td>NaN</td>\n      <td>Standard (included in BMC)</td>\n      <td>United Kingdom</td>\n      <td>Large</td>\n      <td>-</td>\n      <td>-</td>\n      <td>NaN</td>\n      <td>1903</td>\n      <td>NaN</td>\n      <td>...</td>\n      <td>NaN</td>\n      <td>NaN</td>\n      <td>NaN</td>\n      <td>NaN</td>\n      <td>NaN</td>\n      <td>NaN</td>\n      <td>NaN</td>\n      <td>NaN</td>\n      <td>NaN</td>\n      <td>Merged in British Leyland, brand used until 1963</td>\n    </tr>\n    <tr>\n      <th>238</th>\n      <td>251</td>\n      <td>NaN</td>\n      <td>Talbot (included in Chrysler Europe)</td>\n      <td>United Kingdom</td>\n      <td>Large</td>\n      <td>-</td>\n      <td>-</td>\n      <td>NaN</td>\n      <td>1903</td>\n      <td>NaN</td>\n      <td>...</td>\n      <td>NaN</td>\n      <td>NaN</td>\n      <td>NaN</td>\n      <td>NaN</td>\n      <td>NaN</td>\n      <td>NaN</td>\n      <td>NaN</td>\n      <td>NaN</td>\n      <td>NaN</td>\n      <td>Revived by PSA in 1979, passager cars disconti...</td>\n    </tr>\n  </tbody>\n</table>\n<p>239 rows × 27 columns</p>\n</div>"
     },
     "execution_count": 10,
     "metadata": {},
     "output_type": "execute_result"
    }
   ],
   "source": [
    "df_country.reset_index()"
   ],
   "metadata": {
    "collapsed": false,
    "ExecuteTime": {
     "start_time": "2024-01-09T16:06:17.977461Z",
     "end_time": "2024-01-09T16:06:18.503427Z"
    }
   }
  },
  {
   "cell_type": "code",
   "execution_count": 11,
   "outputs": [],
   "source": [
    "df_country= df_country.reset_index()"
   ],
   "metadata": {
    "collapsed": false,
    "ExecuteTime": {
     "start_time": "2024-01-09T16:06:18.019609Z",
     "end_time": "2024-01-09T16:06:18.650777Z"
    }
   }
  },
  {
   "cell_type": "code",
   "execution_count": 12,
   "outputs": [],
   "source": [
    "df_make_origin= df_country[['Make','Country']].copy()"
   ],
   "metadata": {
    "collapsed": false,
    "ExecuteTime": {
     "start_time": "2024-01-09T16:06:18.032767Z",
     "end_time": "2024-01-09T16:06:18.682749Z"
    }
   }
  },
  {
   "cell_type": "code",
   "execution_count": 13,
   "outputs": [
    {
     "data": {
      "text/plain": "0                          Make         Country\n0                       AC Cars  United Kingdom\n1                         Acura           Japan\n2  Aixam-Mega (including Arola)          France\n3                    Alfa Romeo           Italy\n4                        Alpine          France",
      "text/html": "<div>\n<style scoped>\n    .dataframe tbody tr th:only-of-type {\n        vertical-align: middle;\n    }\n\n    .dataframe tbody tr th {\n        vertical-align: top;\n    }\n\n    .dataframe thead th {\n        text-align: right;\n    }\n</style>\n<table border=\"1\" class=\"dataframe\">\n  <thead>\n    <tr style=\"text-align: right;\">\n      <th></th>\n      <th>Make</th>\n      <th>Country</th>\n    </tr>\n  </thead>\n  <tbody>\n    <tr>\n      <th>0</th>\n      <td>AC Cars</td>\n      <td>United Kingdom</td>\n    </tr>\n    <tr>\n      <th>1</th>\n      <td>Acura</td>\n      <td>Japan</td>\n    </tr>\n    <tr>\n      <th>2</th>\n      <td>Aixam-Mega (including Arola)</td>\n      <td>France</td>\n    </tr>\n    <tr>\n      <th>3</th>\n      <td>Alfa Romeo</td>\n      <td>Italy</td>\n    </tr>\n    <tr>\n      <th>4</th>\n      <td>Alpine</td>\n      <td>France</td>\n    </tr>\n  </tbody>\n</table>\n</div>"
     },
     "execution_count": 13,
     "metadata": {},
     "output_type": "execute_result"
    }
   ],
   "source": [
    "df_make_origin.head()"
   ],
   "metadata": {
    "collapsed": false,
    "ExecuteTime": {
     "start_time": "2024-01-09T16:06:18.047387Z",
     "end_time": "2024-01-09T16:06:18.684032Z"
    }
   }
  },
  {
   "cell_type": "code",
   "execution_count": 14,
   "outputs": [],
   "source": [
    "df_make_origin.rename(columns={'Make':'make','Country':'country'},inplace=True)"
   ],
   "metadata": {
    "collapsed": false,
    "ExecuteTime": {
     "start_time": "2024-01-09T16:06:18.061141Z",
     "end_time": "2024-01-09T16:06:18.684621Z"
    }
   }
  },
  {
   "cell_type": "code",
   "execution_count": 15,
   "outputs": [
    {
     "data": {
      "text/plain": "0                          make         country\n0                       AC Cars  United Kingdom\n1                         Acura           Japan\n2  Aixam-Mega (including Arola)          France\n3                    Alfa Romeo           Italy\n4                        Alpine          France",
      "text/html": "<div>\n<style scoped>\n    .dataframe tbody tr th:only-of-type {\n        vertical-align: middle;\n    }\n\n    .dataframe tbody tr th {\n        vertical-align: top;\n    }\n\n    .dataframe thead th {\n        text-align: right;\n    }\n</style>\n<table border=\"1\" class=\"dataframe\">\n  <thead>\n    <tr style=\"text-align: right;\">\n      <th></th>\n      <th>make</th>\n      <th>country</th>\n    </tr>\n  </thead>\n  <tbody>\n    <tr>\n      <th>0</th>\n      <td>AC Cars</td>\n      <td>United Kingdom</td>\n    </tr>\n    <tr>\n      <th>1</th>\n      <td>Acura</td>\n      <td>Japan</td>\n    </tr>\n    <tr>\n      <th>2</th>\n      <td>Aixam-Mega (including Arola)</td>\n      <td>France</td>\n    </tr>\n    <tr>\n      <th>3</th>\n      <td>Alfa Romeo</td>\n      <td>Italy</td>\n    </tr>\n    <tr>\n      <th>4</th>\n      <td>Alpine</td>\n      <td>France</td>\n    </tr>\n  </tbody>\n</table>\n</div>"
     },
     "execution_count": 15,
     "metadata": {},
     "output_type": "execute_result"
    }
   ],
   "source": [
    "df_make_origin.head()"
   ],
   "metadata": {
    "collapsed": false,
    "ExecuteTime": {
     "start_time": "2024-01-09T16:06:18.075757Z",
     "end_time": "2024-01-09T16:06:18.685696Z"
    }
   }
  },
  {
   "cell_type": "code",
   "execution_count": 16,
   "outputs": [
    {
     "data": {
      "text/plain": "make\nBuick                                   2\nAudi                                    2\nAC Cars                                 1\nPlymouth                                1\nOpel                                    1\n                                       ..\nHindustan                               1\nHolden                                  1\nHonda                                   1\nHonda India                             1\nTalbot (included in Chrysler Europe)    1\nName: count, Length: 235, dtype: int64"
     },
     "execution_count": 16,
     "metadata": {},
     "output_type": "execute_result"
    }
   ],
   "source": [
    "df_make_origin.make.value_counts()"
   ],
   "metadata": {
    "collapsed": false,
    "ExecuteTime": {
     "start_time": "2024-01-09T16:06:18.091700Z",
     "end_time": "2024-01-09T16:06:18.686718Z"
    }
   }
  },
  {
   "cell_type": "code",
   "execution_count": 17,
   "outputs": [
    {
     "data": {
      "text/plain": "0     make        country\n13    Audi        Germany\n28   Buick  United States\n29   Buick          China\n225   Audi        Germany",
      "text/html": "<div>\n<style scoped>\n    .dataframe tbody tr th:only-of-type {\n        vertical-align: middle;\n    }\n\n    .dataframe tbody tr th {\n        vertical-align: top;\n    }\n\n    .dataframe thead th {\n        text-align: right;\n    }\n</style>\n<table border=\"1\" class=\"dataframe\">\n  <thead>\n    <tr style=\"text-align: right;\">\n      <th></th>\n      <th>make</th>\n      <th>country</th>\n    </tr>\n  </thead>\n  <tbody>\n    <tr>\n      <th>13</th>\n      <td>Audi</td>\n      <td>Germany</td>\n    </tr>\n    <tr>\n      <th>28</th>\n      <td>Buick</td>\n      <td>United States</td>\n    </tr>\n    <tr>\n      <th>29</th>\n      <td>Buick</td>\n      <td>China</td>\n    </tr>\n    <tr>\n      <th>225</th>\n      <td>Audi</td>\n      <td>Germany</td>\n    </tr>\n  </tbody>\n</table>\n</div>"
     },
     "execution_count": 17,
     "metadata": {},
     "output_type": "execute_result"
    }
   ],
   "source": [
    "df_make_origin[(df_make_origin.make=='Buick')|(df_make_origin.make=='Audi')]"
   ],
   "metadata": {
    "collapsed": false,
    "ExecuteTime": {
     "start_time": "2024-01-09T16:06:18.109374Z",
     "end_time": "2024-01-09T16:06:18.687522Z"
    }
   }
  },
  {
   "cell_type": "code",
   "execution_count": 18,
   "outputs": [],
   "source": [
    "df_make_origin= df_make_origin.drop(29)"
   ],
   "metadata": {
    "collapsed": false,
    "ExecuteTime": {
     "start_time": "2024-01-09T16:06:18.125092Z",
     "end_time": "2024-01-09T16:06:18.688118Z"
    }
   }
  },
  {
   "cell_type": "code",
   "execution_count": 19,
   "outputs": [],
   "source": [
    "df_make_origin= df_make_origin.drop(225)"
   ],
   "metadata": {
    "collapsed": false,
    "ExecuteTime": {
     "start_time": "2024-01-09T16:06:18.141051Z",
     "end_time": "2024-01-09T16:06:18.703360Z"
    }
   }
  },
  {
   "cell_type": "code",
   "execution_count": 20,
   "outputs": [],
   "source": [
    "df_autos= pd.read_pickle('/Users/pkc/PycharmProjects/pythonProject/Automotive/pickles/df_autos.pickle')"
   ],
   "metadata": {
    "collapsed": false,
    "ExecuteTime": {
     "start_time": "2024-01-09T16:06:18.159271Z",
     "end_time": "2024-01-09T16:06:18.705064Z"
    }
   }
  },
  {
   "cell_type": "code",
   "execution_count": 21,
   "outputs": [
    {
     "data": {
      "text/plain": "(46405, 9)"
     },
     "execution_count": 21,
     "metadata": {},
     "output_type": "execute_result"
    }
   ],
   "source": [
    "df_autos.shape"
   ],
   "metadata": {
    "collapsed": false,
    "ExecuteTime": {
     "start_time": "2024-01-09T16:06:18.190994Z",
     "end_time": "2024-01-09T16:06:18.813875Z"
    }
   }
  },
  {
   "cell_type": "code",
   "execution_count": 22,
   "outputs": [
    {
     "data": {
      "text/plain": "   mileage        make    model               fuel       gear offerType   \n0   235000         BMW      316             Diesel     Manual      Used  \\\n1    92800  Volkswagen     Golf           Gasoline     Manual      Used   \n2   149300        SEAT     Exeo           Gasoline     Manual      Used   \n3    96200     Renault   Megane           Gasoline     Manual      Used   \n4   156000     Peugeot      308           Gasoline     Manual      Used   \n5   147000      Toyota    Auris  Electric/Gasoline  Automatic      Used   \n6    91894     Renault   Scenic             Diesel     Manual      Used   \n7   127500        Opel   Zafira           Gasoline     Manual      Used   \n8   115000       Mazda        3           Gasoline  Automatic      Used   \n9      104        Ford  Transit             Diesel     Manual      Used   \n\n   price     hp  year  \n0   6800  116.0  2011  \n1   6877  122.0  2011  \n2   6900  160.0  2011  \n3   6950  110.0  2011  \n4   6950  156.0  2011  \n5   6950   99.0  2011  \n6   6970  131.0  2011  \n7   6972  116.0  2011  \n8   6980  150.0  2011  \n9   6990   86.0  2011  ",
      "text/html": "<div>\n<style scoped>\n    .dataframe tbody tr th:only-of-type {\n        vertical-align: middle;\n    }\n\n    .dataframe tbody tr th {\n        vertical-align: top;\n    }\n\n    .dataframe thead th {\n        text-align: right;\n    }\n</style>\n<table border=\"1\" class=\"dataframe\">\n  <thead>\n    <tr style=\"text-align: right;\">\n      <th></th>\n      <th>mileage</th>\n      <th>make</th>\n      <th>model</th>\n      <th>fuel</th>\n      <th>gear</th>\n      <th>offerType</th>\n      <th>price</th>\n      <th>hp</th>\n      <th>year</th>\n    </tr>\n  </thead>\n  <tbody>\n    <tr>\n      <th>0</th>\n      <td>235000</td>\n      <td>BMW</td>\n      <td>316</td>\n      <td>Diesel</td>\n      <td>Manual</td>\n      <td>Used</td>\n      <td>6800</td>\n      <td>116.0</td>\n      <td>2011</td>\n    </tr>\n    <tr>\n      <th>1</th>\n      <td>92800</td>\n      <td>Volkswagen</td>\n      <td>Golf</td>\n      <td>Gasoline</td>\n      <td>Manual</td>\n      <td>Used</td>\n      <td>6877</td>\n      <td>122.0</td>\n      <td>2011</td>\n    </tr>\n    <tr>\n      <th>2</th>\n      <td>149300</td>\n      <td>SEAT</td>\n      <td>Exeo</td>\n      <td>Gasoline</td>\n      <td>Manual</td>\n      <td>Used</td>\n      <td>6900</td>\n      <td>160.0</td>\n      <td>2011</td>\n    </tr>\n    <tr>\n      <th>3</th>\n      <td>96200</td>\n      <td>Renault</td>\n      <td>Megane</td>\n      <td>Gasoline</td>\n      <td>Manual</td>\n      <td>Used</td>\n      <td>6950</td>\n      <td>110.0</td>\n      <td>2011</td>\n    </tr>\n    <tr>\n      <th>4</th>\n      <td>156000</td>\n      <td>Peugeot</td>\n      <td>308</td>\n      <td>Gasoline</td>\n      <td>Manual</td>\n      <td>Used</td>\n      <td>6950</td>\n      <td>156.0</td>\n      <td>2011</td>\n    </tr>\n    <tr>\n      <th>5</th>\n      <td>147000</td>\n      <td>Toyota</td>\n      <td>Auris</td>\n      <td>Electric/Gasoline</td>\n      <td>Automatic</td>\n      <td>Used</td>\n      <td>6950</td>\n      <td>99.0</td>\n      <td>2011</td>\n    </tr>\n    <tr>\n      <th>6</th>\n      <td>91894</td>\n      <td>Renault</td>\n      <td>Scenic</td>\n      <td>Diesel</td>\n      <td>Manual</td>\n      <td>Used</td>\n      <td>6970</td>\n      <td>131.0</td>\n      <td>2011</td>\n    </tr>\n    <tr>\n      <th>7</th>\n      <td>127500</td>\n      <td>Opel</td>\n      <td>Zafira</td>\n      <td>Gasoline</td>\n      <td>Manual</td>\n      <td>Used</td>\n      <td>6972</td>\n      <td>116.0</td>\n      <td>2011</td>\n    </tr>\n    <tr>\n      <th>8</th>\n      <td>115000</td>\n      <td>Mazda</td>\n      <td>3</td>\n      <td>Gasoline</td>\n      <td>Automatic</td>\n      <td>Used</td>\n      <td>6980</td>\n      <td>150.0</td>\n      <td>2011</td>\n    </tr>\n    <tr>\n      <th>9</th>\n      <td>104</td>\n      <td>Ford</td>\n      <td>Transit</td>\n      <td>Diesel</td>\n      <td>Manual</td>\n      <td>Used</td>\n      <td>6990</td>\n      <td>86.0</td>\n      <td>2011</td>\n    </tr>\n  </tbody>\n</table>\n</div>"
     },
     "execution_count": 22,
     "metadata": {},
     "output_type": "execute_result"
    }
   ],
   "source": [
    "df_autos.head(10)"
   ],
   "metadata": {
    "collapsed": false,
    "ExecuteTime": {
     "start_time": "2024-01-09T16:06:18.233775Z",
     "end_time": "2024-01-09T16:06:18.816364Z"
    }
   }
  },
  {
   "cell_type": "code",
   "execution_count": 23,
   "outputs": [
    {
     "data": {
      "text/plain": "   mileage        make    model               fuel       gear offerType   \n0   235000         BMW      316             Diesel     Manual      Used  \\\n1    92800  Volkswagen     Golf           Gasoline     Manual      Used   \n2   149300        SEAT     Exeo           Gasoline     Manual      Used   \n3    96200     Renault   Megane           Gasoline     Manual      Used   \n4   156000     Peugeot      308           Gasoline     Manual      Used   \n5   147000      Toyota    Auris  Electric/Gasoline  Automatic      Used   \n6    91894     Renault   Scenic             Diesel     Manual      Used   \n7   127500        Opel   Zafira           Gasoline     Manual      Used   \n8   115000       Mazda        3           Gasoline  Automatic      Used   \n9      104        Ford  Transit             Diesel     Manual      Used   \n\n   price     hp  year  \n0   6800  116.0  2011  \n1   6877  122.0  2011  \n2   6900  160.0  2011  \n3   6950  110.0  2011  \n4   6950  156.0  2011  \n5   6950   99.0  2011  \n6   6970  131.0  2011  \n7   6972  116.0  2011  \n8   6980  150.0  2011  \n9   6990   86.0  2011  ",
      "text/html": "<div>\n<style scoped>\n    .dataframe tbody tr th:only-of-type {\n        vertical-align: middle;\n    }\n\n    .dataframe tbody tr th {\n        vertical-align: top;\n    }\n\n    .dataframe thead th {\n        text-align: right;\n    }\n</style>\n<table border=\"1\" class=\"dataframe\">\n  <thead>\n    <tr style=\"text-align: right;\">\n      <th></th>\n      <th>mileage</th>\n      <th>make</th>\n      <th>model</th>\n      <th>fuel</th>\n      <th>gear</th>\n      <th>offerType</th>\n      <th>price</th>\n      <th>hp</th>\n      <th>year</th>\n    </tr>\n  </thead>\n  <tbody>\n    <tr>\n      <th>0</th>\n      <td>235000</td>\n      <td>BMW</td>\n      <td>316</td>\n      <td>Diesel</td>\n      <td>Manual</td>\n      <td>Used</td>\n      <td>6800</td>\n      <td>116.0</td>\n      <td>2011</td>\n    </tr>\n    <tr>\n      <th>1</th>\n      <td>92800</td>\n      <td>Volkswagen</td>\n      <td>Golf</td>\n      <td>Gasoline</td>\n      <td>Manual</td>\n      <td>Used</td>\n      <td>6877</td>\n      <td>122.0</td>\n      <td>2011</td>\n    </tr>\n    <tr>\n      <th>2</th>\n      <td>149300</td>\n      <td>SEAT</td>\n      <td>Exeo</td>\n      <td>Gasoline</td>\n      <td>Manual</td>\n      <td>Used</td>\n      <td>6900</td>\n      <td>160.0</td>\n      <td>2011</td>\n    </tr>\n    <tr>\n      <th>3</th>\n      <td>96200</td>\n      <td>Renault</td>\n      <td>Megane</td>\n      <td>Gasoline</td>\n      <td>Manual</td>\n      <td>Used</td>\n      <td>6950</td>\n      <td>110.0</td>\n      <td>2011</td>\n    </tr>\n    <tr>\n      <th>4</th>\n      <td>156000</td>\n      <td>Peugeot</td>\n      <td>308</td>\n      <td>Gasoline</td>\n      <td>Manual</td>\n      <td>Used</td>\n      <td>6950</td>\n      <td>156.0</td>\n      <td>2011</td>\n    </tr>\n    <tr>\n      <th>5</th>\n      <td>147000</td>\n      <td>Toyota</td>\n      <td>Auris</td>\n      <td>Electric/Gasoline</td>\n      <td>Automatic</td>\n      <td>Used</td>\n      <td>6950</td>\n      <td>99.0</td>\n      <td>2011</td>\n    </tr>\n    <tr>\n      <th>6</th>\n      <td>91894</td>\n      <td>Renault</td>\n      <td>Scenic</td>\n      <td>Diesel</td>\n      <td>Manual</td>\n      <td>Used</td>\n      <td>6970</td>\n      <td>131.0</td>\n      <td>2011</td>\n    </tr>\n    <tr>\n      <th>7</th>\n      <td>127500</td>\n      <td>Opel</td>\n      <td>Zafira</td>\n      <td>Gasoline</td>\n      <td>Manual</td>\n      <td>Used</td>\n      <td>6972</td>\n      <td>116.0</td>\n      <td>2011</td>\n    </tr>\n    <tr>\n      <th>8</th>\n      <td>115000</td>\n      <td>Mazda</td>\n      <td>3</td>\n      <td>Gasoline</td>\n      <td>Automatic</td>\n      <td>Used</td>\n      <td>6980</td>\n      <td>150.0</td>\n      <td>2011</td>\n    </tr>\n    <tr>\n      <th>9</th>\n      <td>104</td>\n      <td>Ford</td>\n      <td>Transit</td>\n      <td>Diesel</td>\n      <td>Manual</td>\n      <td>Used</td>\n      <td>6990</td>\n      <td>86.0</td>\n      <td>2011</td>\n    </tr>\n  </tbody>\n</table>\n</div>"
     },
     "execution_count": 23,
     "metadata": {},
     "output_type": "execute_result"
    }
   ],
   "source": [
    "df_autos.head(10)"
   ],
   "metadata": {
    "collapsed": false,
    "ExecuteTime": {
     "start_time": "2024-01-09T16:06:18.265531Z",
     "end_time": "2024-01-09T16:06:18.817536Z"
    }
   }
  },
  {
   "cell_type": "code",
   "execution_count": 24,
   "outputs": [],
   "source": [
    "df_joined_countries= pd.merge(df_autos,df_make_origin,left_on='make',right_on='make',how='left')"
   ],
   "metadata": {
    "collapsed": false,
    "ExecuteTime": {
     "start_time": "2024-01-09T16:06:18.282928Z",
     "end_time": "2024-01-09T16:06:18.818105Z"
    }
   }
  },
  {
   "cell_type": "code",
   "execution_count": 25,
   "outputs": [
    {
     "data": {
      "text/plain": "   mileage        make    model               fuel       gear offerType   \n0   235000         BMW      316             Diesel     Manual      Used  \\\n1    92800  Volkswagen     Golf           Gasoline     Manual      Used   \n2   149300        SEAT     Exeo           Gasoline     Manual      Used   \n3    96200     Renault   Megane           Gasoline     Manual      Used   \n4   156000     Peugeot      308           Gasoline     Manual      Used   \n5   147000      Toyota    Auris  Electric/Gasoline  Automatic      Used   \n6    91894     Renault   Scenic             Diesel     Manual      Used   \n7   127500        Opel   Zafira           Gasoline     Manual      Used   \n8   115000       Mazda        3           Gasoline  Automatic      Used   \n9      104        Ford  Transit             Diesel     Manual      Used   \n\n   price     hp  year  country  \n0   6800  116.0  2011  Germany  \n1   6877  122.0  2011  Germany  \n2   6900  160.0  2011      NaN  \n3   6950  110.0  2011   France  \n4   6950  156.0  2011   France  \n5   6950   99.0  2011    Japan  \n6   6970  131.0  2011   France  \n7   6972  116.0  2011  Germany  \n8   6980  150.0  2011    Japan  \n9   6990   86.0  2011      NaN  ",
      "text/html": "<div>\n<style scoped>\n    .dataframe tbody tr th:only-of-type {\n        vertical-align: middle;\n    }\n\n    .dataframe tbody tr th {\n        vertical-align: top;\n    }\n\n    .dataframe thead th {\n        text-align: right;\n    }\n</style>\n<table border=\"1\" class=\"dataframe\">\n  <thead>\n    <tr style=\"text-align: right;\">\n      <th></th>\n      <th>mileage</th>\n      <th>make</th>\n      <th>model</th>\n      <th>fuel</th>\n      <th>gear</th>\n      <th>offerType</th>\n      <th>price</th>\n      <th>hp</th>\n      <th>year</th>\n      <th>country</th>\n    </tr>\n  </thead>\n  <tbody>\n    <tr>\n      <th>0</th>\n      <td>235000</td>\n      <td>BMW</td>\n      <td>316</td>\n      <td>Diesel</td>\n      <td>Manual</td>\n      <td>Used</td>\n      <td>6800</td>\n      <td>116.0</td>\n      <td>2011</td>\n      <td>Germany</td>\n    </tr>\n    <tr>\n      <th>1</th>\n      <td>92800</td>\n      <td>Volkswagen</td>\n      <td>Golf</td>\n      <td>Gasoline</td>\n      <td>Manual</td>\n      <td>Used</td>\n      <td>6877</td>\n      <td>122.0</td>\n      <td>2011</td>\n      <td>Germany</td>\n    </tr>\n    <tr>\n      <th>2</th>\n      <td>149300</td>\n      <td>SEAT</td>\n      <td>Exeo</td>\n      <td>Gasoline</td>\n      <td>Manual</td>\n      <td>Used</td>\n      <td>6900</td>\n      <td>160.0</td>\n      <td>2011</td>\n      <td>NaN</td>\n    </tr>\n    <tr>\n      <th>3</th>\n      <td>96200</td>\n      <td>Renault</td>\n      <td>Megane</td>\n      <td>Gasoline</td>\n      <td>Manual</td>\n      <td>Used</td>\n      <td>6950</td>\n      <td>110.0</td>\n      <td>2011</td>\n      <td>France</td>\n    </tr>\n    <tr>\n      <th>4</th>\n      <td>156000</td>\n      <td>Peugeot</td>\n      <td>308</td>\n      <td>Gasoline</td>\n      <td>Manual</td>\n      <td>Used</td>\n      <td>6950</td>\n      <td>156.0</td>\n      <td>2011</td>\n      <td>France</td>\n    </tr>\n    <tr>\n      <th>5</th>\n      <td>147000</td>\n      <td>Toyota</td>\n      <td>Auris</td>\n      <td>Electric/Gasoline</td>\n      <td>Automatic</td>\n      <td>Used</td>\n      <td>6950</td>\n      <td>99.0</td>\n      <td>2011</td>\n      <td>Japan</td>\n    </tr>\n    <tr>\n      <th>6</th>\n      <td>91894</td>\n      <td>Renault</td>\n      <td>Scenic</td>\n      <td>Diesel</td>\n      <td>Manual</td>\n      <td>Used</td>\n      <td>6970</td>\n      <td>131.0</td>\n      <td>2011</td>\n      <td>France</td>\n    </tr>\n    <tr>\n      <th>7</th>\n      <td>127500</td>\n      <td>Opel</td>\n      <td>Zafira</td>\n      <td>Gasoline</td>\n      <td>Manual</td>\n      <td>Used</td>\n      <td>6972</td>\n      <td>116.0</td>\n      <td>2011</td>\n      <td>Germany</td>\n    </tr>\n    <tr>\n      <th>8</th>\n      <td>115000</td>\n      <td>Mazda</td>\n      <td>3</td>\n      <td>Gasoline</td>\n      <td>Automatic</td>\n      <td>Used</td>\n      <td>6980</td>\n      <td>150.0</td>\n      <td>2011</td>\n      <td>Japan</td>\n    </tr>\n    <tr>\n      <th>9</th>\n      <td>104</td>\n      <td>Ford</td>\n      <td>Transit</td>\n      <td>Diesel</td>\n      <td>Manual</td>\n      <td>Used</td>\n      <td>6990</td>\n      <td>86.0</td>\n      <td>2011</td>\n      <td>NaN</td>\n    </tr>\n  </tbody>\n</table>\n</div>"
     },
     "execution_count": 25,
     "metadata": {},
     "output_type": "execute_result"
    }
   ],
   "source": [
    "df_joined_countries.head(10)"
   ],
   "metadata": {
    "collapsed": false,
    "ExecuteTime": {
     "start_time": "2024-01-09T16:06:18.319428Z",
     "end_time": "2024-01-09T16:06:18.818990Z"
    }
   }
  },
  {
   "cell_type": "code",
   "execution_count": 26,
   "outputs": [
    {
     "data": {
      "text/plain": "country\nFalse    35732\nTrue     10673\nName: count, dtype: int64"
     },
     "execution_count": 26,
     "metadata": {},
     "output_type": "execute_result"
    }
   ],
   "source": [
    "df_joined_countries.country.isnull().value_counts()"
   ],
   "metadata": {
    "collapsed": false,
    "ExecuteTime": {
     "start_time": "2024-01-09T16:06:18.341260Z",
     "end_time": "2024-01-09T16:06:19.084031Z"
    }
   }
  },
  {
   "cell_type": "code",
   "execution_count": 27,
   "outputs": [
    {
     "data": {
      "text/plain": "make\nFord                4442\nMercedes-Benz       2354\nSEAT                1924\nCitroen              957\nMINI                 469\nLand                 164\nAlfa                 132\nCupra                 65\nAbarth                43\nAston                 30\nOthers                25\nDS                    16\nMicrocar              12\nAlpina                10\nTrailer-Anhänger       4\nBaic                   3\nCaravans-Wohnm         3\nAixam                  3\nMaybach                3\nCorvette               3\nRAM                    2\nDFSK                   2\nEstrima                2\n9ff                    1\nZhidou                 1\nTrucks-Lkw             1\nBrilliance             1\nFISKER                 1\nName: count, dtype: int64"
     },
     "execution_count": 27,
     "metadata": {},
     "output_type": "execute_result"
    }
   ],
   "source": [
    "df_joined_countries[df_joined_countries.country.isnull()].make.value_counts()"
   ],
   "metadata": {
    "collapsed": false,
    "ExecuteTime": {
     "start_time": "2024-01-09T16:06:18.367277Z",
     "end_time": "2024-01-09T16:06:19.084798Z"
    }
   }
  },
  {
   "cell_type": "code",
   "execution_count": 28,
   "outputs": [
    {
     "data": {
      "text/plain": "51            DeSoto\n52         De Tomaso\n53             Dodge\n54       Donkervoort\n55             Edsel\n56       e.GO Mobile\n57    Eicher Polaris\n58              Elva\n59        Facel Vega\n60           Ferrari\n61              Fiat\n62    Fiat do Brasil\n63        Fiat India\n64     Fisker, Karma\n65      Ford America\n66    Ford Australia\n67    Ford do Brasil\n68       Ford Europe\n69        Ford India\n70      Freightliner\n71               FSO\n72               GAZ\n73             Geely\n74               Geo\n75           Gilbern\nName: make, dtype: object"
     },
     "execution_count": 28,
     "metadata": {},
     "output_type": "execute_result"
    }
   ],
   "source": [
    "df_make_origin.make[50:75]"
   ],
   "metadata": {
    "collapsed": false,
    "ExecuteTime": {
     "start_time": "2024-01-09T16:06:18.411345Z",
     "end_time": "2024-01-09T16:06:19.086000Z"
    }
   }
  },
  {
   "cell_type": "code",
   "execution_count": 29,
   "outputs": [],
   "source": [
    "df_autos['make']=df_autos['make'].replace(to_replace='Cupra',value='SEAT')"
   ],
   "metadata": {
    "collapsed": false,
    "ExecuteTime": {
     "start_time": "2024-01-09T16:06:18.427426Z",
     "end_time": "2024-01-09T16:06:19.086388Z"
    }
   }
  },
  {
   "cell_type": "code",
   "execution_count": 30,
   "outputs": [],
   "source": [
    "df_make_origin[\"make\"]= df_make_origin['make'].replace(to_replace='Ford America',value=\"Ford\")"
   ],
   "metadata": {
    "collapsed": false,
    "ExecuteTime": {
     "start_time": "2024-01-09T16:06:18.444706Z",
     "end_time": "2024-01-09T16:06:19.086769Z"
    }
   }
  },
  {
   "cell_type": "code",
   "execution_count": 31,
   "outputs": [
    {
     "data": {
      "text/plain": "0       make        country\n132  Mercury  United States",
      "text/html": "<div>\n<style scoped>\n    .dataframe tbody tr th:only-of-type {\n        vertical-align: middle;\n    }\n\n    .dataframe tbody tr th {\n        vertical-align: top;\n    }\n\n    .dataframe thead th {\n        text-align: right;\n    }\n</style>\n<table border=\"1\" class=\"dataframe\">\n  <thead>\n    <tr style=\"text-align: right;\">\n      <th></th>\n      <th>make</th>\n      <th>country</th>\n    </tr>\n  </thead>\n  <tbody>\n    <tr>\n      <th>132</th>\n      <td>Mercury</td>\n      <td>United States</td>\n    </tr>\n  </tbody>\n</table>\n</div>"
     },
     "execution_count": 31,
     "metadata": {},
     "output_type": "execute_result"
    }
   ],
   "source": [
    "df_make_origin[131:132]"
   ],
   "metadata": {
    "collapsed": false,
    "ExecuteTime": {
     "start_time": "2024-01-09T16:06:18.460713Z",
     "end_time": "2024-01-09T16:06:19.087598Z"
    }
   }
  },
  {
   "cell_type": "code",
   "execution_count": 32,
   "outputs": [],
   "source": [
    "df_make_origin['make']=df_make_origin['make'].replace(to_replace=\"Mercedes-Benz (including Maybach)\",value='Mercedes-Benz')"
   ],
   "metadata": {
    "collapsed": false,
    "ExecuteTime": {
     "start_time": "2024-01-09T16:06:18.474692Z",
     "end_time": "2024-01-09T16:06:19.088044Z"
    }
   }
  },
  {
   "cell_type": "code",
   "execution_count": 33,
   "outputs": [],
   "source": [
    "df_make_origin['make']=df_make_origin['make'].replace(to_replace=\"Seat\",value='SEAT')"
   ],
   "metadata": {
    "collapsed": false,
    "ExecuteTime": {
     "start_time": "2024-01-09T16:06:18.485309Z",
     "end_time": "2024-01-09T16:06:19.088321Z"
    }
   }
  },
  {
   "cell_type": "code",
   "execution_count": 34,
   "outputs": [],
   "source": [
    "df_make_origin['make']=df_make_origin['make'].replace(to_replace=\"Mini\",value='MINI')"
   ],
   "metadata": {
    "collapsed": false,
    "ExecuteTime": {
     "start_time": "2024-01-09T16:06:18.496158Z",
     "end_time": "2024-01-09T16:06:19.103884Z"
    }
   }
  },
  {
   "cell_type": "code",
   "execution_count": 35,
   "outputs": [],
   "source": [
    "df_make_origin['make']=df_make_origin['make'].replace(to_replace=\"Citroën\",value='Citroen')"
   ],
   "metadata": {
    "collapsed": false,
    "ExecuteTime": {
     "start_time": "2024-01-09T16:06:18.511291Z",
     "end_time": "2024-01-09T16:06:19.104283Z"
    }
   }
  },
  {
   "cell_type": "code",
   "execution_count": 36,
   "outputs": [],
   "source": [
    "df_make_origin['make']=df_make_origin['make'].replace(to_replace=\"Land Rover\",value='Land')"
   ],
   "metadata": {
    "collapsed": false,
    "ExecuteTime": {
     "start_time": "2024-01-09T16:06:18.522613Z",
     "end_time": "2024-01-09T16:06:19.104586Z"
    }
   }
  },
  {
   "cell_type": "code",
   "execution_count": 37,
   "outputs": [],
   "source": [
    "df_make_origin['make']=df_make_origin['make'].replace(to_replace=\"Aston Martin\",value='Aston')"
   ],
   "metadata": {
    "collapsed": false,
    "ExecuteTime": {
     "start_time": "2024-01-09T16:06:18.534813Z",
     "end_time": "2024-01-09T16:06:19.104838Z"
    }
   }
  },
  {
   "cell_type": "code",
   "execution_count": 38,
   "outputs": [],
   "source": [
    "df_make_origin['make']=df_make_origin['make'].replace(to_replace=\"Alfa Romeo\",value='Alfa')"
   ],
   "metadata": {
    "collapsed": false,
    "ExecuteTime": {
     "start_time": "2024-01-09T16:06:18.541776Z",
     "end_time": "2024-01-09T16:06:19.105012Z"
    }
   }
  },
  {
   "cell_type": "code",
   "execution_count": 39,
   "outputs": [
    {
     "data": {
      "text/plain": "0                                    make         country\n0                                 AC Cars  United Kingdom\n1                                   Acura           Japan\n2            Aixam-Mega (including Arola)          France\n3                                    Alfa           Italy\n4                                  Alpine          France\n..                                    ...             ...\n234              Austin (included in BMC)  United Kingdom\n235               Riley (included in BMC)  United Kingdom\n236            Wolseley (included in BMC)  United Kingdom\n237            Standard (included in BMC)  United Kingdom\n238  Talbot (included in Chrysler Europe)  United Kingdom\n\n[237 rows x 2 columns]",
      "text/html": "<div>\n<style scoped>\n    .dataframe tbody tr th:only-of-type {\n        vertical-align: middle;\n    }\n\n    .dataframe tbody tr th {\n        vertical-align: top;\n    }\n\n    .dataframe thead th {\n        text-align: right;\n    }\n</style>\n<table border=\"1\" class=\"dataframe\">\n  <thead>\n    <tr style=\"text-align: right;\">\n      <th></th>\n      <th>make</th>\n      <th>country</th>\n    </tr>\n  </thead>\n  <tbody>\n    <tr>\n      <th>0</th>\n      <td>AC Cars</td>\n      <td>United Kingdom</td>\n    </tr>\n    <tr>\n      <th>1</th>\n      <td>Acura</td>\n      <td>Japan</td>\n    </tr>\n    <tr>\n      <th>2</th>\n      <td>Aixam-Mega (including Arola)</td>\n      <td>France</td>\n    </tr>\n    <tr>\n      <th>3</th>\n      <td>Alfa</td>\n      <td>Italy</td>\n    </tr>\n    <tr>\n      <th>4</th>\n      <td>Alpine</td>\n      <td>France</td>\n    </tr>\n    <tr>\n      <th>...</th>\n      <td>...</td>\n      <td>...</td>\n    </tr>\n    <tr>\n      <th>234</th>\n      <td>Austin (included in BMC)</td>\n      <td>United Kingdom</td>\n    </tr>\n    <tr>\n      <th>235</th>\n      <td>Riley (included in BMC)</td>\n      <td>United Kingdom</td>\n    </tr>\n    <tr>\n      <th>236</th>\n      <td>Wolseley (included in BMC)</td>\n      <td>United Kingdom</td>\n    </tr>\n    <tr>\n      <th>237</th>\n      <td>Standard (included in BMC)</td>\n      <td>United Kingdom</td>\n    </tr>\n    <tr>\n      <th>238</th>\n      <td>Talbot (included in Chrysler Europe)</td>\n      <td>United Kingdom</td>\n    </tr>\n  </tbody>\n</table>\n<p>237 rows × 2 columns</p>\n</div>"
     },
     "execution_count": 39,
     "metadata": {},
     "output_type": "execute_result"
    }
   ],
   "source": [
    "df_make_origin"
   ],
   "metadata": {
    "collapsed": false,
    "ExecuteTime": {
     "start_time": "2024-01-09T16:06:18.553741Z",
     "end_time": "2024-01-09T16:06:19.105584Z"
    }
   }
  },
  {
   "cell_type": "code",
   "execution_count": 63,
   "outputs": [
    {
     "name": "stdout",
     "output_type": "stream",
     "text": [
      "<class 'pandas.core.frame.DataFrame'>\n",
      "RangeIndex: 46405 entries, 0 to 46404\n",
      "Data columns (total 9 columns):\n",
      " #   Column     Non-Null Count  Dtype  \n",
      "---  ------     --------------  -----  \n",
      " 0   mileage    46405 non-null  int64  \n",
      " 1   make       46405 non-null  object \n",
      " 2   model      46262 non-null  object \n",
      " 3   fuel       46405 non-null  object \n",
      " 4   gear       46223 non-null  object \n",
      " 5   offerType  46405 non-null  object \n",
      " 6   price      46405 non-null  int64  \n",
      " 7   hp         46376 non-null  float64\n",
      " 8   year       46405 non-null  int64  \n",
      "dtypes: float64(1), int64(3), object(5)\n",
      "memory usage: 3.2+ MB\n"
     ]
    }
   ],
   "source": [
    "df_autos.info()"
   ],
   "metadata": {
    "collapsed": false,
    "ExecuteTime": {
     "start_time": "2024-01-09T16:07:51.422664Z",
     "end_time": "2024-01-09T16:07:51.448053Z"
    }
   }
  },
  {
   "cell_type": "code",
   "execution_count": 40,
   "outputs": [],
   "source": [
    "df_join_country= pd.merge(df_autos,df_make_origin,how='left',on='make')"
   ],
   "metadata": {
    "collapsed": false,
    "ExecuteTime": {
     "start_time": "2024-01-09T16:06:18.581178Z",
     "end_time": "2024-01-09T16:06:19.105919Z"
    }
   }
  },
  {
   "cell_type": "code",
   "execution_count": 62,
   "outputs": [
    {
     "name": "stdout",
     "output_type": "stream",
     "text": [
      "<class 'pandas.core.frame.DataFrame'>\n",
      "RangeIndex: 46405 entries, 0 to 46404\n",
      "Data columns (total 10 columns):\n",
      " #   Column     Non-Null Count  Dtype \n",
      "---  ------     --------------  ----- \n",
      " 0   mileage    46405 non-null  int64 \n",
      " 1   make       46405 non-null  object\n",
      " 2   model      46297 non-null  object\n",
      " 3   fuel       46405 non-null  object\n",
      " 4   gear       46236 non-null  object\n",
      " 5   offerType  46405 non-null  object\n",
      " 6   price      46405 non-null  int64 \n",
      " 7   hp         46380 non-null  object\n",
      " 8   year       46405 non-null  int64 \n",
      " 9   country    46405 non-null  object\n",
      "dtypes: int64(3), object(7)\n",
      "memory usage: 3.5+ MB\n"
     ]
    }
   ],
   "source": [
    "df_join_country.info()"
   ],
   "metadata": {
    "collapsed": false
   }
  },
  {
   "cell_type": "markdown",
   "source": [
    "as an interesting note, the hp vairalbe was converted from a float to object. also the count increased from 46376 to 46380. I really am not all that interested in this but it's messing with my correlation analysis because I can't run an object data type in an array calculation."
   ],
   "metadata": {
    "collapsed": false
   }
  },
  {
   "cell_type": "code",
   "execution_count": 41,
   "outputs": [
    {
     "data": {
      "text/plain": "   mileage        make   model      fuel    gear offerType  price     hp   \n0   235000         BMW     316    Diesel  Manual      Used   6800  116.0  \\\n1    92800  Volkswagen    Golf  Gasoline  Manual      Used   6877  122.0   \n2   149300        SEAT    Exeo  Gasoline  Manual      Used   6900  160.0   \n3    96200     Renault  Megane  Gasoline  Manual      Used   6950  110.0   \n4   156000     Peugeot     308  Gasoline  Manual      Used   6950  156.0   \n\n   year  country  \n0  2011  Germany  \n1  2011  Germany  \n2  2011    Spain  \n3  2011   France  \n4  2011   France  ",
      "text/html": "<div>\n<style scoped>\n    .dataframe tbody tr th:only-of-type {\n        vertical-align: middle;\n    }\n\n    .dataframe tbody tr th {\n        vertical-align: top;\n    }\n\n    .dataframe thead th {\n        text-align: right;\n    }\n</style>\n<table border=\"1\" class=\"dataframe\">\n  <thead>\n    <tr style=\"text-align: right;\">\n      <th></th>\n      <th>mileage</th>\n      <th>make</th>\n      <th>model</th>\n      <th>fuel</th>\n      <th>gear</th>\n      <th>offerType</th>\n      <th>price</th>\n      <th>hp</th>\n      <th>year</th>\n      <th>country</th>\n    </tr>\n  </thead>\n  <tbody>\n    <tr>\n      <th>0</th>\n      <td>235000</td>\n      <td>BMW</td>\n      <td>316</td>\n      <td>Diesel</td>\n      <td>Manual</td>\n      <td>Used</td>\n      <td>6800</td>\n      <td>116.0</td>\n      <td>2011</td>\n      <td>Germany</td>\n    </tr>\n    <tr>\n      <th>1</th>\n      <td>92800</td>\n      <td>Volkswagen</td>\n      <td>Golf</td>\n      <td>Gasoline</td>\n      <td>Manual</td>\n      <td>Used</td>\n      <td>6877</td>\n      <td>122.0</td>\n      <td>2011</td>\n      <td>Germany</td>\n    </tr>\n    <tr>\n      <th>2</th>\n      <td>149300</td>\n      <td>SEAT</td>\n      <td>Exeo</td>\n      <td>Gasoline</td>\n      <td>Manual</td>\n      <td>Used</td>\n      <td>6900</td>\n      <td>160.0</td>\n      <td>2011</td>\n      <td>Spain</td>\n    </tr>\n    <tr>\n      <th>3</th>\n      <td>96200</td>\n      <td>Renault</td>\n      <td>Megane</td>\n      <td>Gasoline</td>\n      <td>Manual</td>\n      <td>Used</td>\n      <td>6950</td>\n      <td>110.0</td>\n      <td>2011</td>\n      <td>France</td>\n    </tr>\n    <tr>\n      <th>4</th>\n      <td>156000</td>\n      <td>Peugeot</td>\n      <td>308</td>\n      <td>Gasoline</td>\n      <td>Manual</td>\n      <td>Used</td>\n      <td>6950</td>\n      <td>156.0</td>\n      <td>2011</td>\n      <td>France</td>\n    </tr>\n  </tbody>\n</table>\n</div>"
     },
     "execution_count": 41,
     "metadata": {},
     "output_type": "execute_result"
    }
   ],
   "source": [
    "df_join_country.head()"
   ],
   "metadata": {
    "collapsed": false,
    "ExecuteTime": {
     "start_time": "2024-01-09T16:06:18.615678Z",
     "end_time": "2024-01-09T16:06:19.109211Z"
    }
   }
  },
  {
   "cell_type": "code",
   "execution_count": 42,
   "outputs": [
    {
     "data": {
      "text/plain": "country\nFalse    46269\nTrue       136\nName: count, dtype: int64"
     },
     "execution_count": 42,
     "metadata": {},
     "output_type": "execute_result"
    }
   ],
   "source": [
    "df_join_country.country.isnull().value_counts()"
   ],
   "metadata": {
    "collapsed": false,
    "ExecuteTime": {
     "start_time": "2024-01-09T16:06:18.632345Z",
     "end_time": "2024-01-09T16:06:19.182633Z"
    }
   }
  },
  {
   "cell_type": "code",
   "execution_count": 43,
   "outputs": [
    {
     "data": {
      "text/plain": "(46405, 10)"
     },
     "execution_count": 43,
     "metadata": {},
     "output_type": "execute_result"
    }
   ],
   "source": [
    "df_join_country.shape"
   ],
   "metadata": {
    "collapsed": false,
    "ExecuteTime": {
     "start_time": "2024-01-09T16:06:18.643517Z",
     "end_time": "2024-01-09T16:06:19.183368Z"
    }
   }
  },
  {
   "cell_type": "code",
   "execution_count": 44,
   "outputs": [
    {
     "data": {
      "text/plain": "       mileage  make            model      fuel       gear       offerType   \n1458    120000  Alfa  Romeo Giulietta  Gasoline     Manual            Used  \\\n2331    181382  Alfa  Romeo Giulietta  Gasoline     Manual            Used   \n2981     80000  Alfa  Romeo Giulietta  Gasoline     Manual            Used   \n3774        10  Alfa  Romeo Giulietta  Gasoline     Manual  Pre-registered   \n4464    143000  Alfa       Romeo MiTo  Gasoline     Manual            Used   \n...        ...   ...              ...       ...        ...             ...   \n45931       50  Alfa    Romeo Stelvio  Gasoline  Automatic  Pre-registered   \n45932       50  Alfa    Romeo Stelvio  Gasoline  Automatic  Pre-registered   \n46181      500  Alfa    Romeo Stelvio  Gasoline  Automatic   Demonstration   \n46212      500  Alfa    Romeo Stelvio  Gasoline  Automatic   Demonstration   \n46286       10  Alfa     Romeo Giulia  Gasoline  Automatic            Used   \n\n       price     hp  year country  \n1458    6000  120.0  2011   Italy  \n2331    5499  120.0  2013   Italy  \n2981    8750  105.0  2014   Italy  \n3774   18980  120.0  2021   Italy  \n4464    5400  135.0  2012   Italy  \n...      ...    ...   ...     ...  \n45931  45990  280.0  2021   Italy  \n45932  46500  280.0  2021   Italy  \n46181  44690  200.0  2021   Italy  \n46212  55290  280.0  2021   Italy  \n46286  88400  510.0  2021   Italy  \n\n[132 rows x 10 columns]",
      "text/html": "<div>\n<style scoped>\n    .dataframe tbody tr th:only-of-type {\n        vertical-align: middle;\n    }\n\n    .dataframe tbody tr th {\n        vertical-align: top;\n    }\n\n    .dataframe thead th {\n        text-align: right;\n    }\n</style>\n<table border=\"1\" class=\"dataframe\">\n  <thead>\n    <tr style=\"text-align: right;\">\n      <th></th>\n      <th>mileage</th>\n      <th>make</th>\n      <th>model</th>\n      <th>fuel</th>\n      <th>gear</th>\n      <th>offerType</th>\n      <th>price</th>\n      <th>hp</th>\n      <th>year</th>\n      <th>country</th>\n    </tr>\n  </thead>\n  <tbody>\n    <tr>\n      <th>1458</th>\n      <td>120000</td>\n      <td>Alfa</td>\n      <td>Romeo Giulietta</td>\n      <td>Gasoline</td>\n      <td>Manual</td>\n      <td>Used</td>\n      <td>6000</td>\n      <td>120.0</td>\n      <td>2011</td>\n      <td>Italy</td>\n    </tr>\n    <tr>\n      <th>2331</th>\n      <td>181382</td>\n      <td>Alfa</td>\n      <td>Romeo Giulietta</td>\n      <td>Gasoline</td>\n      <td>Manual</td>\n      <td>Used</td>\n      <td>5499</td>\n      <td>120.0</td>\n      <td>2013</td>\n      <td>Italy</td>\n    </tr>\n    <tr>\n      <th>2981</th>\n      <td>80000</td>\n      <td>Alfa</td>\n      <td>Romeo Giulietta</td>\n      <td>Gasoline</td>\n      <td>Manual</td>\n      <td>Used</td>\n      <td>8750</td>\n      <td>105.0</td>\n      <td>2014</td>\n      <td>Italy</td>\n    </tr>\n    <tr>\n      <th>3774</th>\n      <td>10</td>\n      <td>Alfa</td>\n      <td>Romeo Giulietta</td>\n      <td>Gasoline</td>\n      <td>Manual</td>\n      <td>Pre-registered</td>\n      <td>18980</td>\n      <td>120.0</td>\n      <td>2021</td>\n      <td>Italy</td>\n    </tr>\n    <tr>\n      <th>4464</th>\n      <td>143000</td>\n      <td>Alfa</td>\n      <td>Romeo MiTo</td>\n      <td>Gasoline</td>\n      <td>Manual</td>\n      <td>Used</td>\n      <td>5400</td>\n      <td>135.0</td>\n      <td>2012</td>\n      <td>Italy</td>\n    </tr>\n    <tr>\n      <th>...</th>\n      <td>...</td>\n      <td>...</td>\n      <td>...</td>\n      <td>...</td>\n      <td>...</td>\n      <td>...</td>\n      <td>...</td>\n      <td>...</td>\n      <td>...</td>\n      <td>...</td>\n    </tr>\n    <tr>\n      <th>45931</th>\n      <td>50</td>\n      <td>Alfa</td>\n      <td>Romeo Stelvio</td>\n      <td>Gasoline</td>\n      <td>Automatic</td>\n      <td>Pre-registered</td>\n      <td>45990</td>\n      <td>280.0</td>\n      <td>2021</td>\n      <td>Italy</td>\n    </tr>\n    <tr>\n      <th>45932</th>\n      <td>50</td>\n      <td>Alfa</td>\n      <td>Romeo Stelvio</td>\n      <td>Gasoline</td>\n      <td>Automatic</td>\n      <td>Pre-registered</td>\n      <td>46500</td>\n      <td>280.0</td>\n      <td>2021</td>\n      <td>Italy</td>\n    </tr>\n    <tr>\n      <th>46181</th>\n      <td>500</td>\n      <td>Alfa</td>\n      <td>Romeo Stelvio</td>\n      <td>Gasoline</td>\n      <td>Automatic</td>\n      <td>Demonstration</td>\n      <td>44690</td>\n      <td>200.0</td>\n      <td>2021</td>\n      <td>Italy</td>\n    </tr>\n    <tr>\n      <th>46212</th>\n      <td>500</td>\n      <td>Alfa</td>\n      <td>Romeo Stelvio</td>\n      <td>Gasoline</td>\n      <td>Automatic</td>\n      <td>Demonstration</td>\n      <td>55290</td>\n      <td>280.0</td>\n      <td>2021</td>\n      <td>Italy</td>\n    </tr>\n    <tr>\n      <th>46286</th>\n      <td>10</td>\n      <td>Alfa</td>\n      <td>Romeo Giulia</td>\n      <td>Gasoline</td>\n      <td>Automatic</td>\n      <td>Used</td>\n      <td>88400</td>\n      <td>510.0</td>\n      <td>2021</td>\n      <td>Italy</td>\n    </tr>\n  </tbody>\n</table>\n<p>132 rows × 10 columns</p>\n</div>"
     },
     "execution_count": 44,
     "metadata": {},
     "output_type": "execute_result"
    }
   ],
   "source": [
    "df_join_country[df_join_country.make=='Alfa']"
   ],
   "metadata": {
    "collapsed": false,
    "ExecuteTime": {
     "start_time": "2024-01-09T16:06:18.659779Z",
     "end_time": "2024-01-09T16:06:19.184702Z"
    }
   }
  },
  {
   "cell_type": "code",
   "execution_count": 45,
   "outputs": [
    {
     "data": {
      "text/plain": "       mileage            make             model               fuel   \n365       3500          Others               NaN           Electric  \\\n1985     21800        Microcar               Due             Diesel   \n2001      2900          Others               NaN           Electric   \n2843        25            Baic               NaN           Gasoline   \n3507     39500             9ff               NaN           Gasoline   \n5147     21500          Abarth               500           Gasoline   \n5308     73837              DS  Automobiles DS 4           Gasoline   \n5690     15000          Abarth  595 Competizione           Gasoline   \n7359         5          Abarth               500           Gasoline   \n7360         5          Abarth               500           Gasoline   \n7512     89900  Caravans-Wohnm               NaN             Diesel   \n7597         5           Aixam              City             Diesel   \n7900     96284              DS  Automobiles DS 3             Diesel   \n8518     61600          Abarth               500           Gasoline   \n9264         5           Aixam               NaN           Electric   \n9432        50          Others               NaN           Gasoline   \n10171    84510          Abarth               595           Gasoline   \n10366    64219          Abarth       595 Turismo           Gasoline   \n10900     3000          Zhidou               D2S           Electric   \n11753       90         Maybach           Pullman           Gasoline   \n12019     1820          Others               NaN             Diesel   \n12236    49670        Microcar              M.Go             Diesel   \n13030      800          Others               NaN             Others   \n13841    13680        Microcar              M.Go             Diesel   \n14602   168000          Abarth         Punto EVO           Gasoline   \n14675   312000      Trucks-Lkw              Ford             Diesel   \n15323    33000          Abarth               500           Gasoline   \n15500   103096              DS  Automobiles DS 5             Diesel   \n15765    46100             RAM              1500                LPG   \n16429     3400         Maybach           Pullman           Gasoline   \n17752      150          Others               NaN           Electric   \n18478    27223          Alpina                B3           Gasoline   \n18642        1          Others               NaN           Gasoline   \n19402    66900         Maybach               NaN           Gasoline   \n19742    74800              DS  Automobiles DS 3           Gasoline   \n19920    52000          Abarth               500           Gasoline   \n20296   100524      Brilliance               BS4                LPG   \n21032    67541          Abarth               595           Gasoline   \n21544       20          Abarth               595           Gasoline   \n21547       20          Abarth               595           Gasoline   \n21553       20          Abarth       595 Turismo           Gasoline   \n21555       20          Abarth              595C           Gasoline   \n22164    30180          Abarth               695           Gasoline   \n22281    53500        Microcar               Due             Diesel   \n22457     7500          FISKER             Karma  Electric/Gasoline   \n22792       10          Abarth               595           Gasoline   \n23220       20          Abarth               595           Gasoline   \n23815    53100          Alpina                D3             Diesel   \n24203   108500          Alpina                D3             Diesel   \n24277       10          Abarth               595           Gasoline   \n\n            gear       offerType   price     hp  year country  \n365       Manual            Used    5500   38.0  2018     NaN  \n1985   Automatic            Used    8490    5.0  2017     NaN  \n2001   Automatic            Used    7900    5.0  2018     NaN  \n2843   Automatic            Used   20900  136.0  2018     NaN  \n3507      Manual            Used    7000   20.0  2018     NaN  \n5147      Manual            Used   11850  160.0  2015     NaN  \n5308      Manual            Used    8990  120.0  2012     NaN  \n5690      Manual            Used   23975  179.0  2020     NaN  \n7359      Manual   Demonstration   24480  179.0  2020     NaN  \n7360      Manual   Demonstration   24480  179.0  2020     NaN  \n7512      Manual            Used   15990  102.0  2017     NaN  \n7597   Automatic            Used   17370    8.0  2021     NaN  \n7900      Manual            Used    7480   92.0  2014     NaN  \n8518      Manual   Demonstration   11890  135.0  2014     NaN  \n9264   Automatic  Pre-registered   22180    NaN  2021     NaN  \n9432   Automatic            Used   14990  111.0  2020     NaN  \n10171     Manual            Used   12490  160.0  2014     NaN  \n10366     Manual            Used   12990  160.0  2013     NaN  \n10900  Automatic   Demonstration   12500   24.0  2019     NaN  \n11753  Automatic            Used  717078  630.0  2019     NaN  \n12019        NaN            Used   15500   18.0  2011     NaN  \n12236  Automatic            Used    4950    5.0  2011     NaN  \n13030        NaN            Used    2450    1.0  2019     NaN  \n13841  Automatic            Used   10500    8.0  2018     NaN  \n14602     Manual            Used    6500  163.0  2012     NaN  \n14675        NaN            Used    8200  131.0  2016     NaN  \n15323     Manual            Used   12990  140.0  2016     NaN  \n15500  Automatic            Used   13489  179.0  2015     NaN  \n15765  Automatic            Used   40900  401.0  2018     NaN  \n16429  Automatic            Used  499800  530.0  2018     NaN  \n17752  Automatic  Employee's car    4490    NaN  2020     NaN  \n18478  Automatic            Used   80990  409.0  2013     NaN  \n18642     Manual  Pre-registered   23990  150.0  2021     NaN  \n19402  Automatic            Used  134560  469.0  2019     NaN  \n19742     Manual            Used    8500   82.0  2016     NaN  \n19920  Automatic            Used   13400  140.0  2014     NaN  \n20296     Manual            Used    1500  101.0  2011     NaN  \n21032     Manual            Used   13490  145.0  2017     NaN  \n21544     Manual  Pre-registered   19890  145.0  2021     NaN  \n21547     Manual  Pre-registered   20790  145.0  2021     NaN  \n21553     Manual  Pre-registered   23190  165.0  2021     NaN  \n21555     Manual  Pre-registered   23590  165.0  2021     NaN  \n22164     Manual            Used   24900  179.0  2019     NaN  \n22281  Automatic            Used    5000   10.0  2014     NaN  \n22457  Automatic            Used   69900  408.0  2012     NaN  \n22792     Manual  Pre-registered   20949  165.0  2020     NaN  \n23220     Manual  Pre-registered   20790  145.0  2020     NaN  \n23815  Automatic            Used   41853  349.0  2017     NaN  \n24203  Automatic            Used   34950  349.0  2015     NaN  \n24277     Manual   Demonstration   16690  145.0  2019     NaN  ",
      "text/html": "<div>\n<style scoped>\n    .dataframe tbody tr th:only-of-type {\n        vertical-align: middle;\n    }\n\n    .dataframe tbody tr th {\n        vertical-align: top;\n    }\n\n    .dataframe thead th {\n        text-align: right;\n    }\n</style>\n<table border=\"1\" class=\"dataframe\">\n  <thead>\n    <tr style=\"text-align: right;\">\n      <th></th>\n      <th>mileage</th>\n      <th>make</th>\n      <th>model</th>\n      <th>fuel</th>\n      <th>gear</th>\n      <th>offerType</th>\n      <th>price</th>\n      <th>hp</th>\n      <th>year</th>\n      <th>country</th>\n    </tr>\n  </thead>\n  <tbody>\n    <tr>\n      <th>365</th>\n      <td>3500</td>\n      <td>Others</td>\n      <td>NaN</td>\n      <td>Electric</td>\n      <td>Manual</td>\n      <td>Used</td>\n      <td>5500</td>\n      <td>38.0</td>\n      <td>2018</td>\n      <td>NaN</td>\n    </tr>\n    <tr>\n      <th>1985</th>\n      <td>21800</td>\n      <td>Microcar</td>\n      <td>Due</td>\n      <td>Diesel</td>\n      <td>Automatic</td>\n      <td>Used</td>\n      <td>8490</td>\n      <td>5.0</td>\n      <td>2017</td>\n      <td>NaN</td>\n    </tr>\n    <tr>\n      <th>2001</th>\n      <td>2900</td>\n      <td>Others</td>\n      <td>NaN</td>\n      <td>Electric</td>\n      <td>Automatic</td>\n      <td>Used</td>\n      <td>7900</td>\n      <td>5.0</td>\n      <td>2018</td>\n      <td>NaN</td>\n    </tr>\n    <tr>\n      <th>2843</th>\n      <td>25</td>\n      <td>Baic</td>\n      <td>NaN</td>\n      <td>Gasoline</td>\n      <td>Automatic</td>\n      <td>Used</td>\n      <td>20900</td>\n      <td>136.0</td>\n      <td>2018</td>\n      <td>NaN</td>\n    </tr>\n    <tr>\n      <th>3507</th>\n      <td>39500</td>\n      <td>9ff</td>\n      <td>NaN</td>\n      <td>Gasoline</td>\n      <td>Manual</td>\n      <td>Used</td>\n      <td>7000</td>\n      <td>20.0</td>\n      <td>2018</td>\n      <td>NaN</td>\n    </tr>\n    <tr>\n      <th>5147</th>\n      <td>21500</td>\n      <td>Abarth</td>\n      <td>500</td>\n      <td>Gasoline</td>\n      <td>Manual</td>\n      <td>Used</td>\n      <td>11850</td>\n      <td>160.0</td>\n      <td>2015</td>\n      <td>NaN</td>\n    </tr>\n    <tr>\n      <th>5308</th>\n      <td>73837</td>\n      <td>DS</td>\n      <td>Automobiles DS 4</td>\n      <td>Gasoline</td>\n      <td>Manual</td>\n      <td>Used</td>\n      <td>8990</td>\n      <td>120.0</td>\n      <td>2012</td>\n      <td>NaN</td>\n    </tr>\n    <tr>\n      <th>5690</th>\n      <td>15000</td>\n      <td>Abarth</td>\n      <td>595 Competizione</td>\n      <td>Gasoline</td>\n      <td>Manual</td>\n      <td>Used</td>\n      <td>23975</td>\n      <td>179.0</td>\n      <td>2020</td>\n      <td>NaN</td>\n    </tr>\n    <tr>\n      <th>7359</th>\n      <td>5</td>\n      <td>Abarth</td>\n      <td>500</td>\n      <td>Gasoline</td>\n      <td>Manual</td>\n      <td>Demonstration</td>\n      <td>24480</td>\n      <td>179.0</td>\n      <td>2020</td>\n      <td>NaN</td>\n    </tr>\n    <tr>\n      <th>7360</th>\n      <td>5</td>\n      <td>Abarth</td>\n      <td>500</td>\n      <td>Gasoline</td>\n      <td>Manual</td>\n      <td>Demonstration</td>\n      <td>24480</td>\n      <td>179.0</td>\n      <td>2020</td>\n      <td>NaN</td>\n    </tr>\n    <tr>\n      <th>7512</th>\n      <td>89900</td>\n      <td>Caravans-Wohnm</td>\n      <td>NaN</td>\n      <td>Diesel</td>\n      <td>Manual</td>\n      <td>Used</td>\n      <td>15990</td>\n      <td>102.0</td>\n      <td>2017</td>\n      <td>NaN</td>\n    </tr>\n    <tr>\n      <th>7597</th>\n      <td>5</td>\n      <td>Aixam</td>\n      <td>City</td>\n      <td>Diesel</td>\n      <td>Automatic</td>\n      <td>Used</td>\n      <td>17370</td>\n      <td>8.0</td>\n      <td>2021</td>\n      <td>NaN</td>\n    </tr>\n    <tr>\n      <th>7900</th>\n      <td>96284</td>\n      <td>DS</td>\n      <td>Automobiles DS 3</td>\n      <td>Diesel</td>\n      <td>Manual</td>\n      <td>Used</td>\n      <td>7480</td>\n      <td>92.0</td>\n      <td>2014</td>\n      <td>NaN</td>\n    </tr>\n    <tr>\n      <th>8518</th>\n      <td>61600</td>\n      <td>Abarth</td>\n      <td>500</td>\n      <td>Gasoline</td>\n      <td>Manual</td>\n      <td>Demonstration</td>\n      <td>11890</td>\n      <td>135.0</td>\n      <td>2014</td>\n      <td>NaN</td>\n    </tr>\n    <tr>\n      <th>9264</th>\n      <td>5</td>\n      <td>Aixam</td>\n      <td>NaN</td>\n      <td>Electric</td>\n      <td>Automatic</td>\n      <td>Pre-registered</td>\n      <td>22180</td>\n      <td>NaN</td>\n      <td>2021</td>\n      <td>NaN</td>\n    </tr>\n    <tr>\n      <th>9432</th>\n      <td>50</td>\n      <td>Others</td>\n      <td>NaN</td>\n      <td>Gasoline</td>\n      <td>Automatic</td>\n      <td>Used</td>\n      <td>14990</td>\n      <td>111.0</td>\n      <td>2020</td>\n      <td>NaN</td>\n    </tr>\n    <tr>\n      <th>10171</th>\n      <td>84510</td>\n      <td>Abarth</td>\n      <td>595</td>\n      <td>Gasoline</td>\n      <td>Manual</td>\n      <td>Used</td>\n      <td>12490</td>\n      <td>160.0</td>\n      <td>2014</td>\n      <td>NaN</td>\n    </tr>\n    <tr>\n      <th>10366</th>\n      <td>64219</td>\n      <td>Abarth</td>\n      <td>595 Turismo</td>\n      <td>Gasoline</td>\n      <td>Manual</td>\n      <td>Used</td>\n      <td>12990</td>\n      <td>160.0</td>\n      <td>2013</td>\n      <td>NaN</td>\n    </tr>\n    <tr>\n      <th>10900</th>\n      <td>3000</td>\n      <td>Zhidou</td>\n      <td>D2S</td>\n      <td>Electric</td>\n      <td>Automatic</td>\n      <td>Demonstration</td>\n      <td>12500</td>\n      <td>24.0</td>\n      <td>2019</td>\n      <td>NaN</td>\n    </tr>\n    <tr>\n      <th>11753</th>\n      <td>90</td>\n      <td>Maybach</td>\n      <td>Pullman</td>\n      <td>Gasoline</td>\n      <td>Automatic</td>\n      <td>Used</td>\n      <td>717078</td>\n      <td>630.0</td>\n      <td>2019</td>\n      <td>NaN</td>\n    </tr>\n    <tr>\n      <th>12019</th>\n      <td>1820</td>\n      <td>Others</td>\n      <td>NaN</td>\n      <td>Diesel</td>\n      <td>NaN</td>\n      <td>Used</td>\n      <td>15500</td>\n      <td>18.0</td>\n      <td>2011</td>\n      <td>NaN</td>\n    </tr>\n    <tr>\n      <th>12236</th>\n      <td>49670</td>\n      <td>Microcar</td>\n      <td>M.Go</td>\n      <td>Diesel</td>\n      <td>Automatic</td>\n      <td>Used</td>\n      <td>4950</td>\n      <td>5.0</td>\n      <td>2011</td>\n      <td>NaN</td>\n    </tr>\n    <tr>\n      <th>13030</th>\n      <td>800</td>\n      <td>Others</td>\n      <td>NaN</td>\n      <td>Others</td>\n      <td>NaN</td>\n      <td>Used</td>\n      <td>2450</td>\n      <td>1.0</td>\n      <td>2019</td>\n      <td>NaN</td>\n    </tr>\n    <tr>\n      <th>13841</th>\n      <td>13680</td>\n      <td>Microcar</td>\n      <td>M.Go</td>\n      <td>Diesel</td>\n      <td>Automatic</td>\n      <td>Used</td>\n      <td>10500</td>\n      <td>8.0</td>\n      <td>2018</td>\n      <td>NaN</td>\n    </tr>\n    <tr>\n      <th>14602</th>\n      <td>168000</td>\n      <td>Abarth</td>\n      <td>Punto EVO</td>\n      <td>Gasoline</td>\n      <td>Manual</td>\n      <td>Used</td>\n      <td>6500</td>\n      <td>163.0</td>\n      <td>2012</td>\n      <td>NaN</td>\n    </tr>\n    <tr>\n      <th>14675</th>\n      <td>312000</td>\n      <td>Trucks-Lkw</td>\n      <td>Ford</td>\n      <td>Diesel</td>\n      <td>NaN</td>\n      <td>Used</td>\n      <td>8200</td>\n      <td>131.0</td>\n      <td>2016</td>\n      <td>NaN</td>\n    </tr>\n    <tr>\n      <th>15323</th>\n      <td>33000</td>\n      <td>Abarth</td>\n      <td>500</td>\n      <td>Gasoline</td>\n      <td>Manual</td>\n      <td>Used</td>\n      <td>12990</td>\n      <td>140.0</td>\n      <td>2016</td>\n      <td>NaN</td>\n    </tr>\n    <tr>\n      <th>15500</th>\n      <td>103096</td>\n      <td>DS</td>\n      <td>Automobiles DS 5</td>\n      <td>Diesel</td>\n      <td>Automatic</td>\n      <td>Used</td>\n      <td>13489</td>\n      <td>179.0</td>\n      <td>2015</td>\n      <td>NaN</td>\n    </tr>\n    <tr>\n      <th>15765</th>\n      <td>46100</td>\n      <td>RAM</td>\n      <td>1500</td>\n      <td>LPG</td>\n      <td>Automatic</td>\n      <td>Used</td>\n      <td>40900</td>\n      <td>401.0</td>\n      <td>2018</td>\n      <td>NaN</td>\n    </tr>\n    <tr>\n      <th>16429</th>\n      <td>3400</td>\n      <td>Maybach</td>\n      <td>Pullman</td>\n      <td>Gasoline</td>\n      <td>Automatic</td>\n      <td>Used</td>\n      <td>499800</td>\n      <td>530.0</td>\n      <td>2018</td>\n      <td>NaN</td>\n    </tr>\n    <tr>\n      <th>17752</th>\n      <td>150</td>\n      <td>Others</td>\n      <td>NaN</td>\n      <td>Electric</td>\n      <td>Automatic</td>\n      <td>Employee's car</td>\n      <td>4490</td>\n      <td>NaN</td>\n      <td>2020</td>\n      <td>NaN</td>\n    </tr>\n    <tr>\n      <th>18478</th>\n      <td>27223</td>\n      <td>Alpina</td>\n      <td>B3</td>\n      <td>Gasoline</td>\n      <td>Automatic</td>\n      <td>Used</td>\n      <td>80990</td>\n      <td>409.0</td>\n      <td>2013</td>\n      <td>NaN</td>\n    </tr>\n    <tr>\n      <th>18642</th>\n      <td>1</td>\n      <td>Others</td>\n      <td>NaN</td>\n      <td>Gasoline</td>\n      <td>Manual</td>\n      <td>Pre-registered</td>\n      <td>23990</td>\n      <td>150.0</td>\n      <td>2021</td>\n      <td>NaN</td>\n    </tr>\n    <tr>\n      <th>19402</th>\n      <td>66900</td>\n      <td>Maybach</td>\n      <td>NaN</td>\n      <td>Gasoline</td>\n      <td>Automatic</td>\n      <td>Used</td>\n      <td>134560</td>\n      <td>469.0</td>\n      <td>2019</td>\n      <td>NaN</td>\n    </tr>\n    <tr>\n      <th>19742</th>\n      <td>74800</td>\n      <td>DS</td>\n      <td>Automobiles DS 3</td>\n      <td>Gasoline</td>\n      <td>Manual</td>\n      <td>Used</td>\n      <td>8500</td>\n      <td>82.0</td>\n      <td>2016</td>\n      <td>NaN</td>\n    </tr>\n    <tr>\n      <th>19920</th>\n      <td>52000</td>\n      <td>Abarth</td>\n      <td>500</td>\n      <td>Gasoline</td>\n      <td>Automatic</td>\n      <td>Used</td>\n      <td>13400</td>\n      <td>140.0</td>\n      <td>2014</td>\n      <td>NaN</td>\n    </tr>\n    <tr>\n      <th>20296</th>\n      <td>100524</td>\n      <td>Brilliance</td>\n      <td>BS4</td>\n      <td>LPG</td>\n      <td>Manual</td>\n      <td>Used</td>\n      <td>1500</td>\n      <td>101.0</td>\n      <td>2011</td>\n      <td>NaN</td>\n    </tr>\n    <tr>\n      <th>21032</th>\n      <td>67541</td>\n      <td>Abarth</td>\n      <td>595</td>\n      <td>Gasoline</td>\n      <td>Manual</td>\n      <td>Used</td>\n      <td>13490</td>\n      <td>145.0</td>\n      <td>2017</td>\n      <td>NaN</td>\n    </tr>\n    <tr>\n      <th>21544</th>\n      <td>20</td>\n      <td>Abarth</td>\n      <td>595</td>\n      <td>Gasoline</td>\n      <td>Manual</td>\n      <td>Pre-registered</td>\n      <td>19890</td>\n      <td>145.0</td>\n      <td>2021</td>\n      <td>NaN</td>\n    </tr>\n    <tr>\n      <th>21547</th>\n      <td>20</td>\n      <td>Abarth</td>\n      <td>595</td>\n      <td>Gasoline</td>\n      <td>Manual</td>\n      <td>Pre-registered</td>\n      <td>20790</td>\n      <td>145.0</td>\n      <td>2021</td>\n      <td>NaN</td>\n    </tr>\n    <tr>\n      <th>21553</th>\n      <td>20</td>\n      <td>Abarth</td>\n      <td>595 Turismo</td>\n      <td>Gasoline</td>\n      <td>Manual</td>\n      <td>Pre-registered</td>\n      <td>23190</td>\n      <td>165.0</td>\n      <td>2021</td>\n      <td>NaN</td>\n    </tr>\n    <tr>\n      <th>21555</th>\n      <td>20</td>\n      <td>Abarth</td>\n      <td>595C</td>\n      <td>Gasoline</td>\n      <td>Manual</td>\n      <td>Pre-registered</td>\n      <td>23590</td>\n      <td>165.0</td>\n      <td>2021</td>\n      <td>NaN</td>\n    </tr>\n    <tr>\n      <th>22164</th>\n      <td>30180</td>\n      <td>Abarth</td>\n      <td>695</td>\n      <td>Gasoline</td>\n      <td>Manual</td>\n      <td>Used</td>\n      <td>24900</td>\n      <td>179.0</td>\n      <td>2019</td>\n      <td>NaN</td>\n    </tr>\n    <tr>\n      <th>22281</th>\n      <td>53500</td>\n      <td>Microcar</td>\n      <td>Due</td>\n      <td>Diesel</td>\n      <td>Automatic</td>\n      <td>Used</td>\n      <td>5000</td>\n      <td>10.0</td>\n      <td>2014</td>\n      <td>NaN</td>\n    </tr>\n    <tr>\n      <th>22457</th>\n      <td>7500</td>\n      <td>FISKER</td>\n      <td>Karma</td>\n      <td>Electric/Gasoline</td>\n      <td>Automatic</td>\n      <td>Used</td>\n      <td>69900</td>\n      <td>408.0</td>\n      <td>2012</td>\n      <td>NaN</td>\n    </tr>\n    <tr>\n      <th>22792</th>\n      <td>10</td>\n      <td>Abarth</td>\n      <td>595</td>\n      <td>Gasoline</td>\n      <td>Manual</td>\n      <td>Pre-registered</td>\n      <td>20949</td>\n      <td>165.0</td>\n      <td>2020</td>\n      <td>NaN</td>\n    </tr>\n    <tr>\n      <th>23220</th>\n      <td>20</td>\n      <td>Abarth</td>\n      <td>595</td>\n      <td>Gasoline</td>\n      <td>Manual</td>\n      <td>Pre-registered</td>\n      <td>20790</td>\n      <td>145.0</td>\n      <td>2020</td>\n      <td>NaN</td>\n    </tr>\n    <tr>\n      <th>23815</th>\n      <td>53100</td>\n      <td>Alpina</td>\n      <td>D3</td>\n      <td>Diesel</td>\n      <td>Automatic</td>\n      <td>Used</td>\n      <td>41853</td>\n      <td>349.0</td>\n      <td>2017</td>\n      <td>NaN</td>\n    </tr>\n    <tr>\n      <th>24203</th>\n      <td>108500</td>\n      <td>Alpina</td>\n      <td>D3</td>\n      <td>Diesel</td>\n      <td>Automatic</td>\n      <td>Used</td>\n      <td>34950</td>\n      <td>349.0</td>\n      <td>2015</td>\n      <td>NaN</td>\n    </tr>\n    <tr>\n      <th>24277</th>\n      <td>10</td>\n      <td>Abarth</td>\n      <td>595</td>\n      <td>Gasoline</td>\n      <td>Manual</td>\n      <td>Demonstration</td>\n      <td>16690</td>\n      <td>145.0</td>\n      <td>2019</td>\n      <td>NaN</td>\n    </tr>\n  </tbody>\n</table>\n</div>"
     },
     "execution_count": 45,
     "metadata": {},
     "output_type": "execute_result"
    }
   ],
   "source": [
    "df_join_country[df_join_country.country.isnull()].head(50)\n"
   ],
   "metadata": {
    "collapsed": false,
    "ExecuteTime": {
     "start_time": "2024-01-09T16:06:18.701863Z",
     "end_time": "2024-01-09T16:06:19.233626Z"
    }
   }
  },
  {
   "cell_type": "code",
   "execution_count": 46,
   "outputs": [],
   "source": [
    "df_join_country[df_join_country.make==\"Abarth\"]=df_join_country[df_join_country.make==\"Abarth\"].fillna('Italy')"
   ],
   "metadata": {
    "collapsed": false,
    "ExecuteTime": {
     "start_time": "2024-01-09T16:06:18.752923Z",
     "end_time": "2024-01-09T16:06:19.234186Z"
    }
   }
  },
  {
   "cell_type": "code",
   "execution_count": 47,
   "outputs": [],
   "source": [
    "df_join_country[df_join_country.country.isnull()]= df_join_country[df_join_country.country.isnull()].fillna('undetermined')"
   ],
   "metadata": {
    "collapsed": false,
    "ExecuteTime": {
     "start_time": "2024-01-09T16:06:18.784030Z",
     "end_time": "2024-01-09T16:06:19.234607Z"
    }
   }
  },
  {
   "cell_type": "code",
   "execution_count": 48,
   "outputs": [
    {
     "data": {
      "text/plain": "country\nundetermined    93\nName: count, dtype: int64"
     },
     "execution_count": 48,
     "metadata": {},
     "output_type": "execute_result"
    }
   ],
   "source": [
    "df_join_country[df_join_country.country=='undetermined'].country.value_counts()"
   ],
   "metadata": {
    "collapsed": false,
    "ExecuteTime": {
     "start_time": "2024-01-09T16:06:18.804947Z",
     "end_time": "2024-01-09T16:06:19.235174Z"
    }
   }
  },
  {
   "cell_type": "code",
   "execution_count": 49,
   "outputs": [
    {
     "data": {
      "text/plain": "       mileage              make                       model   \n43610      700            Others                undetermined  \\\n43612      300            Others                undetermined   \n44072        1  Trailer-Anhänger                undetermined   \n45559      100                DS  Automobiles DS 7 Crossback   \n45571    14000                DS  Automobiles DS 7 Crossback   \n46074        1            Others                undetermined   \n46102        1            Others                undetermined   \n46234     1800                DS  Automobiles DS 7 Crossback   \n46334      100              DFSK                   Glory 580   \n46352     1000            Alpina                          B3   \n\n                    fuel          gear       offerType  price     hp  year   \n43610           Electric  undetermined            Used   6300    5.0  2019  \\\n43612           Electric     Automatic            Used   7000    5.0  2019   \n44072             Others  undetermined            Used   2500    1.0  2019   \n45559             Diesel     Automatic            Used  53995  177.0  2021   \n45571  Electric/Gasoline     Automatic            Used  59995  299.0  2021   \n46074           Gasoline        Manual  Pre-registered  23990  150.0  2021   \n46102           Gasoline        Manual  Pre-registered  23990  150.0  2021   \n46234  Electric/Gasoline     Automatic            Used  53690  299.0  2021   \n46334           Gasoline     Automatic            Used  19990  145.0  2021   \n46352           Gasoline     Automatic   Demonstration  89900  462.0  2021   \n\n            country  \n43610  undetermined  \n43612  undetermined  \n44072  undetermined  \n45559  undetermined  \n45571  undetermined  \n46074  undetermined  \n46102  undetermined  \n46234  undetermined  \n46334  undetermined  \n46352  undetermined  ",
      "text/html": "<div>\n<style scoped>\n    .dataframe tbody tr th:only-of-type {\n        vertical-align: middle;\n    }\n\n    .dataframe tbody tr th {\n        vertical-align: top;\n    }\n\n    .dataframe thead th {\n        text-align: right;\n    }\n</style>\n<table border=\"1\" class=\"dataframe\">\n  <thead>\n    <tr style=\"text-align: right;\">\n      <th></th>\n      <th>mileage</th>\n      <th>make</th>\n      <th>model</th>\n      <th>fuel</th>\n      <th>gear</th>\n      <th>offerType</th>\n      <th>price</th>\n      <th>hp</th>\n      <th>year</th>\n      <th>country</th>\n    </tr>\n  </thead>\n  <tbody>\n    <tr>\n      <th>43610</th>\n      <td>700</td>\n      <td>Others</td>\n      <td>undetermined</td>\n      <td>Electric</td>\n      <td>undetermined</td>\n      <td>Used</td>\n      <td>6300</td>\n      <td>5.0</td>\n      <td>2019</td>\n      <td>undetermined</td>\n    </tr>\n    <tr>\n      <th>43612</th>\n      <td>300</td>\n      <td>Others</td>\n      <td>undetermined</td>\n      <td>Electric</td>\n      <td>Automatic</td>\n      <td>Used</td>\n      <td>7000</td>\n      <td>5.0</td>\n      <td>2019</td>\n      <td>undetermined</td>\n    </tr>\n    <tr>\n      <th>44072</th>\n      <td>1</td>\n      <td>Trailer-Anhänger</td>\n      <td>undetermined</td>\n      <td>Others</td>\n      <td>undetermined</td>\n      <td>Used</td>\n      <td>2500</td>\n      <td>1.0</td>\n      <td>2019</td>\n      <td>undetermined</td>\n    </tr>\n    <tr>\n      <th>45559</th>\n      <td>100</td>\n      <td>DS</td>\n      <td>Automobiles DS 7 Crossback</td>\n      <td>Diesel</td>\n      <td>Automatic</td>\n      <td>Used</td>\n      <td>53995</td>\n      <td>177.0</td>\n      <td>2021</td>\n      <td>undetermined</td>\n    </tr>\n    <tr>\n      <th>45571</th>\n      <td>14000</td>\n      <td>DS</td>\n      <td>Automobiles DS 7 Crossback</td>\n      <td>Electric/Gasoline</td>\n      <td>Automatic</td>\n      <td>Used</td>\n      <td>59995</td>\n      <td>299.0</td>\n      <td>2021</td>\n      <td>undetermined</td>\n    </tr>\n    <tr>\n      <th>46074</th>\n      <td>1</td>\n      <td>Others</td>\n      <td>undetermined</td>\n      <td>Gasoline</td>\n      <td>Manual</td>\n      <td>Pre-registered</td>\n      <td>23990</td>\n      <td>150.0</td>\n      <td>2021</td>\n      <td>undetermined</td>\n    </tr>\n    <tr>\n      <th>46102</th>\n      <td>1</td>\n      <td>Others</td>\n      <td>undetermined</td>\n      <td>Gasoline</td>\n      <td>Manual</td>\n      <td>Pre-registered</td>\n      <td>23990</td>\n      <td>150.0</td>\n      <td>2021</td>\n      <td>undetermined</td>\n    </tr>\n    <tr>\n      <th>46234</th>\n      <td>1800</td>\n      <td>DS</td>\n      <td>Automobiles DS 7 Crossback</td>\n      <td>Electric/Gasoline</td>\n      <td>Automatic</td>\n      <td>Used</td>\n      <td>53690</td>\n      <td>299.0</td>\n      <td>2021</td>\n      <td>undetermined</td>\n    </tr>\n    <tr>\n      <th>46334</th>\n      <td>100</td>\n      <td>DFSK</td>\n      <td>Glory 580</td>\n      <td>Gasoline</td>\n      <td>Automatic</td>\n      <td>Used</td>\n      <td>19990</td>\n      <td>145.0</td>\n      <td>2021</td>\n      <td>undetermined</td>\n    </tr>\n    <tr>\n      <th>46352</th>\n      <td>1000</td>\n      <td>Alpina</td>\n      <td>B3</td>\n      <td>Gasoline</td>\n      <td>Automatic</td>\n      <td>Demonstration</td>\n      <td>89900</td>\n      <td>462.0</td>\n      <td>2021</td>\n      <td>undetermined</td>\n    </tr>\n  </tbody>\n</table>\n</div>"
     },
     "execution_count": 49,
     "metadata": {},
     "output_type": "execute_result"
    }
   ],
   "source": [
    "df_join_country[df_join_country.country == 'undetermined'].tail(10)"
   ],
   "metadata": {
    "collapsed": false,
    "ExecuteTime": {
     "start_time": "2024-01-09T16:06:18.823779Z",
     "end_time": "2024-01-09T16:06:19.236386Z"
    }
   }
  },
  {
   "cell_type": "code",
   "execution_count": 50,
   "outputs": [
    {
     "data": {
      "text/plain": "country\nGermany           20875\nFrance             5029\nUnited States      4882\nJapan              3825\nSouth Korea        2980\nCzech              2889\nSpain              1989\nItaly              1935\nSweden              808\nRomania             715\nUnited Kingdom      351\nundetermined         93\nRussia               33\nNetherlands           1\nName: count, dtype: int64"
     },
     "execution_count": 50,
     "metadata": {},
     "output_type": "execute_result"
    }
   ],
   "source": [
    "df_join_country.country.value_counts()"
   ],
   "metadata": {
    "collapsed": false,
    "ExecuteTime": {
     "start_time": "2024-01-09T16:06:18.873488Z",
     "end_time": "2024-01-09T16:06:19.355065Z"
    }
   }
  },
  {
   "cell_type": "code",
   "execution_count": 51,
   "outputs": [
    {
     "data": {
      "text/plain": "(46405, 10)"
     },
     "execution_count": 51,
     "metadata": {},
     "output_type": "execute_result"
    }
   ],
   "source": [
    "df_join_country.shape"
   ],
   "metadata": {
    "collapsed": false,
    "ExecuteTime": {
     "start_time": "2024-01-09T16:06:18.899833Z",
     "end_time": "2024-01-09T16:06:19.355961Z"
    }
   }
  },
  {
   "cell_type": "code",
   "execution_count": 52,
   "outputs": [
    {
     "data": {
      "text/plain": "19234.046562874253"
     },
     "execution_count": 52,
     "metadata": {},
     "output_type": "execute_result"
    }
   ],
   "source": [
    "df_join_country[df_join_country.country=='Germany'].price.mean()"
   ],
   "metadata": {
    "collapsed": false,
    "ExecuteTime": {
     "start_time": "2024-01-09T16:06:18.921479Z",
     "end_time": "2024-01-09T16:06:19.521849Z"
    }
   }
  },
  {
   "cell_type": "code",
   "execution_count": 53,
   "outputs": [
    {
     "data": {
      "text/plain": "13777.675716440423"
     },
     "execution_count": 53,
     "metadata": {},
     "output_type": "execute_result"
    }
   ],
   "source": [
    "df_join_country[df_join_country.country == 'Spain'].price.mean()"
   ],
   "metadata": {
    "collapsed": false,
    "ExecuteTime": {
     "start_time": "2024-01-09T16:06:18.968747Z",
     "end_time": "2024-01-09T16:06:19.522839Z"
    }
   }
  },
  {
   "cell_type": "code",
   "execution_count": 54,
   "outputs": [
    {
     "data": {
      "text/plain": "69797.99715099715"
     },
     "execution_count": 54,
     "metadata": {},
     "output_type": "execute_result"
    }
   ],
   "source": [
    "df_join_country[df_join_country.country == 'United Kingdom'].price.mean()"
   ],
   "metadata": {
    "collapsed": false,
    "ExecuteTime": {
     "start_time": "2024-01-09T16:06:18.985367Z",
     "end_time": "2024-01-09T16:06:19.567704Z"
    }
   }
  },
  {
   "cell_type": "code",
   "execution_count": 55,
   "outputs": [
    {
     "data": {
      "text/plain": "16572.33722659196"
     },
     "execution_count": 55,
     "metadata": {},
     "output_type": "execute_result"
    }
   ],
   "source": [
    "df_join_country.price.mean()"
   ],
   "metadata": {
    "collapsed": false,
    "ExecuteTime": {
     "start_time": "2024-01-09T16:06:19.012231Z",
     "end_time": "2024-01-09T16:06:19.653529Z"
    }
   }
  },
  {
   "cell_type": "code",
   "execution_count": 56,
   "outputs": [
    {
     "data": {
      "text/plain": "(46405, 10)"
     },
     "execution_count": 56,
     "metadata": {},
     "output_type": "execute_result"
    }
   ],
   "source": [
    "df_join_country.shape"
   ],
   "metadata": {
    "collapsed": false,
    "ExecuteTime": {
     "start_time": "2024-01-09T16:06:19.029497Z",
     "end_time": "2024-01-09T16:06:19.692025Z"
    }
   }
  },
  {
   "cell_type": "code",
   "execution_count": 58,
   "outputs": [
    {
     "data": {
      "text/plain": "            mileage         price          year\ncount  4.640500e+04  4.640500e+04  46405.000000\nmean   7.117786e+04  1.657234e+04   2016.012951\nstd    6.262531e+04  1.930470e+04      3.155214\nmin    0.000000e+00  1.100000e+03   2011.000000\n25%    1.980000e+04  7.490000e+03   2013.000000\n50%    6.000000e+04  1.099900e+04   2016.000000\n75%    1.050000e+05  1.949000e+04   2019.000000\nmax    1.111111e+06  1.199900e+06   2021.000000",
      "text/html": "<div>\n<style scoped>\n    .dataframe tbody tr th:only-of-type {\n        vertical-align: middle;\n    }\n\n    .dataframe tbody tr th {\n        vertical-align: top;\n    }\n\n    .dataframe thead th {\n        text-align: right;\n    }\n</style>\n<table border=\"1\" class=\"dataframe\">\n  <thead>\n    <tr style=\"text-align: right;\">\n      <th></th>\n      <th>mileage</th>\n      <th>price</th>\n      <th>year</th>\n    </tr>\n  </thead>\n  <tbody>\n    <tr>\n      <th>count</th>\n      <td>4.640500e+04</td>\n      <td>4.640500e+04</td>\n      <td>46405.000000</td>\n    </tr>\n    <tr>\n      <th>mean</th>\n      <td>7.117786e+04</td>\n      <td>1.657234e+04</td>\n      <td>2016.012951</td>\n    </tr>\n    <tr>\n      <th>std</th>\n      <td>6.262531e+04</td>\n      <td>1.930470e+04</td>\n      <td>3.155214</td>\n    </tr>\n    <tr>\n      <th>min</th>\n      <td>0.000000e+00</td>\n      <td>1.100000e+03</td>\n      <td>2011.000000</td>\n    </tr>\n    <tr>\n      <th>25%</th>\n      <td>1.980000e+04</td>\n      <td>7.490000e+03</td>\n      <td>2013.000000</td>\n    </tr>\n    <tr>\n      <th>50%</th>\n      <td>6.000000e+04</td>\n      <td>1.099900e+04</td>\n      <td>2016.000000</td>\n    </tr>\n    <tr>\n      <th>75%</th>\n      <td>1.050000e+05</td>\n      <td>1.949000e+04</td>\n      <td>2019.000000</td>\n    </tr>\n    <tr>\n      <th>max</th>\n      <td>1.111111e+06</td>\n      <td>1.199900e+06</td>\n      <td>2021.000000</td>\n    </tr>\n  </tbody>\n</table>\n</div>"
     },
     "execution_count": 58,
     "metadata": {},
     "output_type": "execute_result"
    }
   ],
   "source": [
    "df_join_country.describe()"
   ],
   "metadata": {
    "collapsed": false,
    "ExecuteTime": {
     "start_time": "2024-01-09T16:06:46.711321Z",
     "end_time": "2024-01-09T16:06:46.783848Z"
    }
   }
  },
  {
   "cell_type": "code",
   "execution_count": 57,
   "outputs": [],
   "source": [
    "#df_join_country.to_pickle('/Users/pkc/PycharmProjects/pythonProject/Automotive/df_join_lists.pickle')"
   ],
   "metadata": {
    "collapsed": false,
    "ExecuteTime": {
     "start_time": "2024-01-09T16:06:19.044623Z",
     "end_time": "2024-01-09T16:06:19.692714Z"
    }
   }
  }
 ],
 "metadata": {
  "kernelspec": {
   "display_name": "Python 3",
   "language": "python",
   "name": "python3"
  },
  "language_info": {
   "codemirror_mode": {
    "name": "ipython",
    "version": 2
   },
   "file_extension": ".py",
   "mimetype": "text/x-python",
   "name": "python",
   "nbconvert_exporter": "python",
   "pygments_lexer": "ipython2",
   "version": "2.7.6"
  }
 },
 "nbformat": 4,
 "nbformat_minor": 0
}
