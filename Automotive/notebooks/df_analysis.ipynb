{
 "cells": [
  {
   "cell_type": "markdown",
   "source": [
    "Analysis notebook"
   ],
   "metadata": {
    "collapsed": false
   }
  },
  {
   "cell_type": "code",
   "execution_count": 1,
   "metadata": {
    "collapsed": true,
    "ExecuteTime": {
     "start_time": "2024-01-09T17:09:38.625209Z",
     "end_time": "2024-01-09T17:10:38.997270Z"
    }
   },
   "outputs": [],
   "source": [
    "import pandas as pd"
   ]
  },
  {
   "cell_type": "code",
   "execution_count": 2,
   "outputs": [],
   "source": [
    "df_analysis= pd.read_pickle('/Users/pkc/PycharmProjects/pythonProject/Automotive/pickles/df_join_lists.pickle')"
   ],
   "metadata": {
    "collapsed": false,
    "ExecuteTime": {
     "start_time": "2024-01-09T17:10:38.971153Z",
     "end_time": "2024-01-09T17:10:39.124034Z"
    }
   }
  },
  {
   "cell_type": "code",
   "execution_count": 3,
   "outputs": [
    {
     "data": {
      "text/plain": "   mileage        make   model      fuel    gear offerType  price     hp   \n0   235000         BMW     316    Diesel  Manual      Used   6800  116.0  \\\n1    92800  Volkswagen    Golf  Gasoline  Manual      Used   6877  122.0   \n2   149300        SEAT    Exeo  Gasoline  Manual      Used   6900  160.0   \n3    96200     Renault  Megane  Gasoline  Manual      Used   6950  110.0   \n4   156000     Peugeot     308  Gasoline  Manual      Used   6950  156.0   \n\n   year  country  yrsOld  \n0  2011  Germany      10  \n1  2011  Germany      10  \n2  2011    Spain      10  \n3  2011   France      10  \n4  2011   France      10  ",
      "text/html": "<div>\n<style scoped>\n    .dataframe tbody tr th:only-of-type {\n        vertical-align: middle;\n    }\n\n    .dataframe tbody tr th {\n        vertical-align: top;\n    }\n\n    .dataframe thead th {\n        text-align: right;\n    }\n</style>\n<table border=\"1\" class=\"dataframe\">\n  <thead>\n    <tr style=\"text-align: right;\">\n      <th></th>\n      <th>mileage</th>\n      <th>make</th>\n      <th>model</th>\n      <th>fuel</th>\n      <th>gear</th>\n      <th>offerType</th>\n      <th>price</th>\n      <th>hp</th>\n      <th>year</th>\n      <th>country</th>\n      <th>yrsOld</th>\n    </tr>\n  </thead>\n  <tbody>\n    <tr>\n      <th>0</th>\n      <td>235000</td>\n      <td>BMW</td>\n      <td>316</td>\n      <td>Diesel</td>\n      <td>Manual</td>\n      <td>Used</td>\n      <td>6800</td>\n      <td>116.0</td>\n      <td>2011</td>\n      <td>Germany</td>\n      <td>10</td>\n    </tr>\n    <tr>\n      <th>1</th>\n      <td>92800</td>\n      <td>Volkswagen</td>\n      <td>Golf</td>\n      <td>Gasoline</td>\n      <td>Manual</td>\n      <td>Used</td>\n      <td>6877</td>\n      <td>122.0</td>\n      <td>2011</td>\n      <td>Germany</td>\n      <td>10</td>\n    </tr>\n    <tr>\n      <th>2</th>\n      <td>149300</td>\n      <td>SEAT</td>\n      <td>Exeo</td>\n      <td>Gasoline</td>\n      <td>Manual</td>\n      <td>Used</td>\n      <td>6900</td>\n      <td>160.0</td>\n      <td>2011</td>\n      <td>Spain</td>\n      <td>10</td>\n    </tr>\n    <tr>\n      <th>3</th>\n      <td>96200</td>\n      <td>Renault</td>\n      <td>Megane</td>\n      <td>Gasoline</td>\n      <td>Manual</td>\n      <td>Used</td>\n      <td>6950</td>\n      <td>110.0</td>\n      <td>2011</td>\n      <td>France</td>\n      <td>10</td>\n    </tr>\n    <tr>\n      <th>4</th>\n      <td>156000</td>\n      <td>Peugeot</td>\n      <td>308</td>\n      <td>Gasoline</td>\n      <td>Manual</td>\n      <td>Used</td>\n      <td>6950</td>\n      <td>156.0</td>\n      <td>2011</td>\n      <td>France</td>\n      <td>10</td>\n    </tr>\n  </tbody>\n</table>\n</div>"
     },
     "execution_count": 3,
     "metadata": {},
     "output_type": "execute_result"
    }
   ],
   "source": [
    "round(df_analysis.head())"
   ],
   "metadata": {
    "collapsed": false,
    "ExecuteTime": {
     "start_time": "2024-01-09T17:10:39.069806Z",
     "end_time": "2024-01-09T17:10:39.455961Z"
    }
   }
  },
  {
   "cell_type": "code",
   "execution_count": 4,
   "outputs": [
    {
     "data": {
      "text/plain": "price\nFalse    46405\nName: count, dtype: int64"
     },
     "execution_count": 4,
     "metadata": {},
     "output_type": "execute_result"
    }
   ],
   "source": [
    "df_analysis.price.isnull().value_counts()"
   ],
   "metadata": {
    "collapsed": false,
    "ExecuteTime": {
     "start_time": "2024-01-09T17:10:39.165831Z",
     "end_time": "2024-01-09T17:10:39.679650Z"
    }
   }
  },
  {
   "cell_type": "code",
   "execution_count": 5,
   "outputs": [
    {
     "data": {
      "text/plain": "hp\nFalse    46380\nTrue        25\nName: count, dtype: int64"
     },
     "execution_count": 5,
     "metadata": {},
     "output_type": "execute_result"
    }
   ],
   "source": [
    "df_analysis.hp.isnull().value_counts()"
   ],
   "metadata": {
    "collapsed": false,
    "ExecuteTime": {
     "start_time": "2024-01-09T17:10:39.221765Z",
     "end_time": "2024-01-09T17:10:39.932885Z"
    }
   }
  },
  {
   "cell_type": "code",
   "execution_count": 6,
   "outputs": [
    {
     "data": {
      "text/plain": "482      125\n2368     125\n5552     125\n5760     125\n8892     125\n10575    125\n10779    125\n10782    125\n12000    125\n12549    125\n12858    125\n14010    125\n24953    125\n26612    125\n27469    125\n27659    125\n30919    125\n30920    125\n31190    125\n34328    125\n38049    125\n44772    125\n45922    125\n45923    125\n45924    125\nName: hp, dtype: int64"
     },
     "execution_count": 6,
     "metadata": {},
     "output_type": "execute_result"
    }
   ],
   "source": [
    "df_analysis[df_analysis.hp.isnull()].hp.fillna(125)"
   ],
   "metadata": {
    "collapsed": false,
    "ExecuteTime": {
     "start_time": "2024-01-09T17:10:39.328969Z",
     "end_time": "2024-01-09T17:10:40.545600Z"
    }
   }
  },
  {
   "cell_type": "code",
   "execution_count": 7,
   "outputs": [
    {
     "name": "stdout",
     "output_type": "stream",
     "text": [
      "<class 'pandas.core.frame.DataFrame'>\n",
      "RangeIndex: 46405 entries, 0 to 46404\n",
      "Data columns (total 11 columns):\n",
      " #   Column     Non-Null Count  Dtype \n",
      "---  ------     --------------  ----- \n",
      " 0   mileage    46405 non-null  int64 \n",
      " 1   make       46405 non-null  object\n",
      " 2   model      46297 non-null  object\n",
      " 3   fuel       46405 non-null  object\n",
      " 4   gear       46236 non-null  object\n",
      " 5   offerType  46405 non-null  object\n",
      " 6   price      46405 non-null  int64 \n",
      " 7   hp         46380 non-null  object\n",
      " 8   year       46405 non-null  int64 \n",
      " 9   country    46405 non-null  object\n",
      " 10  yrsOld     46405 non-null  int64 \n",
      "dtypes: int64(4), object(7)\n",
      "memory usage: 3.9+ MB\n"
     ]
    }
   ],
   "source": [
    "df_analysis.info()"
   ],
   "metadata": {
    "collapsed": false,
    "ExecuteTime": {
     "start_time": "2024-01-09T17:10:39.399606Z",
     "end_time": "2024-01-09T17:10:40.792660Z"
    }
   }
  },
  {
   "cell_type": "code",
   "execution_count": 8,
   "outputs": [
    {
     "ename": "ValueError",
     "evalue": "could not convert string to float: 'undetermined'",
     "output_type": "error",
     "traceback": [
      "\u001B[0;31m---------------------------------------------------------------------------\u001B[0m",
      "\u001B[0;31mValueError\u001B[0m                                Traceback (most recent call last)",
      "Cell \u001B[0;32mIn[8], line 1\u001B[0m\n\u001B[0;32m----> 1\u001B[0m df_analysis[\u001B[38;5;124m'\u001B[39m\u001B[38;5;124mhp\u001B[39m\u001B[38;5;124m'\u001B[39m]\u001B[38;5;241m=\u001B[39m\u001B[43mdf_analysis\u001B[49m\u001B[43m[\u001B[49m\u001B[38;5;124;43m'\u001B[39;49m\u001B[38;5;124;43mhp\u001B[39;49m\u001B[38;5;124;43m'\u001B[39;49m\u001B[43m]\u001B[49m\u001B[38;5;241;43m.\u001B[39;49m\u001B[43mastype\u001B[49m\u001B[43m(\u001B[49m\u001B[38;5;28;43mfloat\u001B[39;49m\u001B[43m)\u001B[49m\n",
      "File \u001B[0;32m~/PycharmProjects/pythonProject/venv/lib/python3.9/site-packages/pandas/core/generic.py:6324\u001B[0m, in \u001B[0;36mNDFrame.astype\u001B[0;34m(self, dtype, copy, errors)\u001B[0m\n\u001B[1;32m   6317\u001B[0m     results \u001B[38;5;241m=\u001B[39m [\n\u001B[1;32m   6318\u001B[0m         \u001B[38;5;28mself\u001B[39m\u001B[38;5;241m.\u001B[39miloc[:, i]\u001B[38;5;241m.\u001B[39mastype(dtype, copy\u001B[38;5;241m=\u001B[39mcopy)\n\u001B[1;32m   6319\u001B[0m         \u001B[38;5;28;01mfor\u001B[39;00m i \u001B[38;5;129;01min\u001B[39;00m \u001B[38;5;28mrange\u001B[39m(\u001B[38;5;28mlen\u001B[39m(\u001B[38;5;28mself\u001B[39m\u001B[38;5;241m.\u001B[39mcolumns))\n\u001B[1;32m   6320\u001B[0m     ]\n\u001B[1;32m   6322\u001B[0m \u001B[38;5;28;01melse\u001B[39;00m:\n\u001B[1;32m   6323\u001B[0m     \u001B[38;5;66;03m# else, only a single dtype is given\u001B[39;00m\n\u001B[0;32m-> 6324\u001B[0m     new_data \u001B[38;5;241m=\u001B[39m \u001B[38;5;28;43mself\u001B[39;49m\u001B[38;5;241;43m.\u001B[39;49m\u001B[43m_mgr\u001B[49m\u001B[38;5;241;43m.\u001B[39;49m\u001B[43mastype\u001B[49m\u001B[43m(\u001B[49m\u001B[43mdtype\u001B[49m\u001B[38;5;241;43m=\u001B[39;49m\u001B[43mdtype\u001B[49m\u001B[43m,\u001B[49m\u001B[43m \u001B[49m\u001B[43mcopy\u001B[49m\u001B[38;5;241;43m=\u001B[39;49m\u001B[43mcopy\u001B[49m\u001B[43m,\u001B[49m\u001B[43m \u001B[49m\u001B[43merrors\u001B[49m\u001B[38;5;241;43m=\u001B[39;49m\u001B[43merrors\u001B[49m\u001B[43m)\u001B[49m\n\u001B[1;32m   6325\u001B[0m     \u001B[38;5;28;01mreturn\u001B[39;00m \u001B[38;5;28mself\u001B[39m\u001B[38;5;241m.\u001B[39m_constructor(new_data)\u001B[38;5;241m.\u001B[39m__finalize__(\u001B[38;5;28mself\u001B[39m, method\u001B[38;5;241m=\u001B[39m\u001B[38;5;124m\"\u001B[39m\u001B[38;5;124mastype\u001B[39m\u001B[38;5;124m\"\u001B[39m)\n\u001B[1;32m   6327\u001B[0m \u001B[38;5;66;03m# GH 33113: handle empty frame or series\u001B[39;00m\n",
      "File \u001B[0;32m~/PycharmProjects/pythonProject/venv/lib/python3.9/site-packages/pandas/core/internals/managers.py:451\u001B[0m, in \u001B[0;36mBaseBlockManager.astype\u001B[0;34m(self, dtype, copy, errors)\u001B[0m\n\u001B[1;32m    448\u001B[0m \u001B[38;5;28;01melif\u001B[39;00m using_copy_on_write():\n\u001B[1;32m    449\u001B[0m     copy \u001B[38;5;241m=\u001B[39m \u001B[38;5;28;01mFalse\u001B[39;00m\n\u001B[0;32m--> 451\u001B[0m \u001B[38;5;28;01mreturn\u001B[39;00m \u001B[38;5;28;43mself\u001B[39;49m\u001B[38;5;241;43m.\u001B[39;49m\u001B[43mapply\u001B[49m\u001B[43m(\u001B[49m\n\u001B[1;32m    452\u001B[0m \u001B[43m    \u001B[49m\u001B[38;5;124;43m\"\u001B[39;49m\u001B[38;5;124;43mastype\u001B[39;49m\u001B[38;5;124;43m\"\u001B[39;49m\u001B[43m,\u001B[49m\n\u001B[1;32m    453\u001B[0m \u001B[43m    \u001B[49m\u001B[43mdtype\u001B[49m\u001B[38;5;241;43m=\u001B[39;49m\u001B[43mdtype\u001B[49m\u001B[43m,\u001B[49m\n\u001B[1;32m    454\u001B[0m \u001B[43m    \u001B[49m\u001B[43mcopy\u001B[49m\u001B[38;5;241;43m=\u001B[39;49m\u001B[43mcopy\u001B[49m\u001B[43m,\u001B[49m\n\u001B[1;32m    455\u001B[0m \u001B[43m    \u001B[49m\u001B[43merrors\u001B[49m\u001B[38;5;241;43m=\u001B[39;49m\u001B[43merrors\u001B[49m\u001B[43m,\u001B[49m\n\u001B[1;32m    456\u001B[0m \u001B[43m    \u001B[49m\u001B[43musing_cow\u001B[49m\u001B[38;5;241;43m=\u001B[39;49m\u001B[43musing_copy_on_write\u001B[49m\u001B[43m(\u001B[49m\u001B[43m)\u001B[49m\u001B[43m,\u001B[49m\n\u001B[1;32m    457\u001B[0m \u001B[43m\u001B[49m\u001B[43m)\u001B[49m\n",
      "File \u001B[0;32m~/PycharmProjects/pythonProject/venv/lib/python3.9/site-packages/pandas/core/internals/managers.py:352\u001B[0m, in \u001B[0;36mBaseBlockManager.apply\u001B[0;34m(self, f, align_keys, **kwargs)\u001B[0m\n\u001B[1;32m    350\u001B[0m         applied \u001B[38;5;241m=\u001B[39m b\u001B[38;5;241m.\u001B[39mapply(f, \u001B[38;5;241m*\u001B[39m\u001B[38;5;241m*\u001B[39mkwargs)\n\u001B[1;32m    351\u001B[0m     \u001B[38;5;28;01melse\u001B[39;00m:\n\u001B[0;32m--> 352\u001B[0m         applied \u001B[38;5;241m=\u001B[39m \u001B[38;5;28;43mgetattr\u001B[39;49m\u001B[43m(\u001B[49m\u001B[43mb\u001B[49m\u001B[43m,\u001B[49m\u001B[43m \u001B[49m\u001B[43mf\u001B[49m\u001B[43m)\u001B[49m\u001B[43m(\u001B[49m\u001B[38;5;241;43m*\u001B[39;49m\u001B[38;5;241;43m*\u001B[39;49m\u001B[43mkwargs\u001B[49m\u001B[43m)\u001B[49m\n\u001B[1;32m    353\u001B[0m     result_blocks \u001B[38;5;241m=\u001B[39m extend_blocks(applied, result_blocks)\n\u001B[1;32m    355\u001B[0m out \u001B[38;5;241m=\u001B[39m \u001B[38;5;28mtype\u001B[39m(\u001B[38;5;28mself\u001B[39m)\u001B[38;5;241m.\u001B[39mfrom_blocks(result_blocks, \u001B[38;5;28mself\u001B[39m\u001B[38;5;241m.\u001B[39maxes)\n",
      "File \u001B[0;32m~/PycharmProjects/pythonProject/venv/lib/python3.9/site-packages/pandas/core/internals/blocks.py:511\u001B[0m, in \u001B[0;36mBlock.astype\u001B[0;34m(self, dtype, copy, errors, using_cow)\u001B[0m\n\u001B[1;32m    491\u001B[0m \u001B[38;5;250m\u001B[39m\u001B[38;5;124;03m\"\"\"\u001B[39;00m\n\u001B[1;32m    492\u001B[0m \u001B[38;5;124;03mCoerce to the new dtype.\u001B[39;00m\n\u001B[1;32m    493\u001B[0m \n\u001B[0;32m   (...)\u001B[0m\n\u001B[1;32m    507\u001B[0m \u001B[38;5;124;03mBlock\u001B[39;00m\n\u001B[1;32m    508\u001B[0m \u001B[38;5;124;03m\"\"\"\u001B[39;00m\n\u001B[1;32m    509\u001B[0m values \u001B[38;5;241m=\u001B[39m \u001B[38;5;28mself\u001B[39m\u001B[38;5;241m.\u001B[39mvalues\n\u001B[0;32m--> 511\u001B[0m new_values \u001B[38;5;241m=\u001B[39m \u001B[43mastype_array_safe\u001B[49m\u001B[43m(\u001B[49m\u001B[43mvalues\u001B[49m\u001B[43m,\u001B[49m\u001B[43m \u001B[49m\u001B[43mdtype\u001B[49m\u001B[43m,\u001B[49m\u001B[43m \u001B[49m\u001B[43mcopy\u001B[49m\u001B[38;5;241;43m=\u001B[39;49m\u001B[43mcopy\u001B[49m\u001B[43m,\u001B[49m\u001B[43m \u001B[49m\u001B[43merrors\u001B[49m\u001B[38;5;241;43m=\u001B[39;49m\u001B[43merrors\u001B[49m\u001B[43m)\u001B[49m\n\u001B[1;32m    513\u001B[0m new_values \u001B[38;5;241m=\u001B[39m maybe_coerce_values(new_values)\n\u001B[1;32m    515\u001B[0m refs \u001B[38;5;241m=\u001B[39m \u001B[38;5;28;01mNone\u001B[39;00m\n",
      "File \u001B[0;32m~/PycharmProjects/pythonProject/venv/lib/python3.9/site-packages/pandas/core/dtypes/astype.py:242\u001B[0m, in \u001B[0;36mastype_array_safe\u001B[0;34m(values, dtype, copy, errors)\u001B[0m\n\u001B[1;32m    239\u001B[0m     dtype \u001B[38;5;241m=\u001B[39m dtype\u001B[38;5;241m.\u001B[39mnumpy_dtype\n\u001B[1;32m    241\u001B[0m \u001B[38;5;28;01mtry\u001B[39;00m:\n\u001B[0;32m--> 242\u001B[0m     new_values \u001B[38;5;241m=\u001B[39m \u001B[43mastype_array\u001B[49m\u001B[43m(\u001B[49m\u001B[43mvalues\u001B[49m\u001B[43m,\u001B[49m\u001B[43m \u001B[49m\u001B[43mdtype\u001B[49m\u001B[43m,\u001B[49m\u001B[43m \u001B[49m\u001B[43mcopy\u001B[49m\u001B[38;5;241;43m=\u001B[39;49m\u001B[43mcopy\u001B[49m\u001B[43m)\u001B[49m\n\u001B[1;32m    243\u001B[0m \u001B[38;5;28;01mexcept\u001B[39;00m (\u001B[38;5;167;01mValueError\u001B[39;00m, \u001B[38;5;167;01mTypeError\u001B[39;00m):\n\u001B[1;32m    244\u001B[0m     \u001B[38;5;66;03m# e.g. _astype_nansafe can fail on object-dtype of strings\u001B[39;00m\n\u001B[1;32m    245\u001B[0m     \u001B[38;5;66;03m#  trying to convert to float\u001B[39;00m\n\u001B[1;32m    246\u001B[0m     \u001B[38;5;28;01mif\u001B[39;00m errors \u001B[38;5;241m==\u001B[39m \u001B[38;5;124m\"\u001B[39m\u001B[38;5;124mignore\u001B[39m\u001B[38;5;124m\"\u001B[39m:\n",
      "File \u001B[0;32m~/PycharmProjects/pythonProject/venv/lib/python3.9/site-packages/pandas/core/dtypes/astype.py:187\u001B[0m, in \u001B[0;36mastype_array\u001B[0;34m(values, dtype, copy)\u001B[0m\n\u001B[1;32m    184\u001B[0m     values \u001B[38;5;241m=\u001B[39m values\u001B[38;5;241m.\u001B[39mastype(dtype, copy\u001B[38;5;241m=\u001B[39mcopy)\n\u001B[1;32m    186\u001B[0m \u001B[38;5;28;01melse\u001B[39;00m:\n\u001B[0;32m--> 187\u001B[0m     values \u001B[38;5;241m=\u001B[39m \u001B[43m_astype_nansafe\u001B[49m\u001B[43m(\u001B[49m\u001B[43mvalues\u001B[49m\u001B[43m,\u001B[49m\u001B[43m \u001B[49m\u001B[43mdtype\u001B[49m\u001B[43m,\u001B[49m\u001B[43m \u001B[49m\u001B[43mcopy\u001B[49m\u001B[38;5;241;43m=\u001B[39;49m\u001B[43mcopy\u001B[49m\u001B[43m)\u001B[49m\n\u001B[1;32m    189\u001B[0m \u001B[38;5;66;03m# in pandas we don't store numpy str dtypes, so convert to object\u001B[39;00m\n\u001B[1;32m    190\u001B[0m \u001B[38;5;28;01mif\u001B[39;00m \u001B[38;5;28misinstance\u001B[39m(dtype, np\u001B[38;5;241m.\u001B[39mdtype) \u001B[38;5;129;01mand\u001B[39;00m \u001B[38;5;28missubclass\u001B[39m(values\u001B[38;5;241m.\u001B[39mdtype\u001B[38;5;241m.\u001B[39mtype, \u001B[38;5;28mstr\u001B[39m):\n",
      "File \u001B[0;32m~/PycharmProjects/pythonProject/venv/lib/python3.9/site-packages/pandas/core/dtypes/astype.py:138\u001B[0m, in \u001B[0;36m_astype_nansafe\u001B[0;34m(arr, dtype, copy, skipna)\u001B[0m\n\u001B[1;32m    134\u001B[0m     \u001B[38;5;28;01mraise\u001B[39;00m \u001B[38;5;167;01mValueError\u001B[39;00m(msg)\n\u001B[1;32m    136\u001B[0m \u001B[38;5;28;01mif\u001B[39;00m copy \u001B[38;5;129;01mor\u001B[39;00m is_object_dtype(arr\u001B[38;5;241m.\u001B[39mdtype) \u001B[38;5;129;01mor\u001B[39;00m is_object_dtype(dtype):\n\u001B[1;32m    137\u001B[0m     \u001B[38;5;66;03m# Explicit copy, or required since NumPy can't view from / to object.\u001B[39;00m\n\u001B[0;32m--> 138\u001B[0m     \u001B[38;5;28;01mreturn\u001B[39;00m \u001B[43marr\u001B[49m\u001B[38;5;241;43m.\u001B[39;49m\u001B[43mastype\u001B[49m\u001B[43m(\u001B[49m\u001B[43mdtype\u001B[49m\u001B[43m,\u001B[49m\u001B[43m \u001B[49m\u001B[43mcopy\u001B[49m\u001B[38;5;241;43m=\u001B[39;49m\u001B[38;5;28;43;01mTrue\u001B[39;49;00m\u001B[43m)\u001B[49m\n\u001B[1;32m    140\u001B[0m \u001B[38;5;28;01mreturn\u001B[39;00m arr\u001B[38;5;241m.\u001B[39mastype(dtype, copy\u001B[38;5;241m=\u001B[39mcopy)\n",
      "\u001B[0;31mValueError\u001B[0m: could not convert string to float: 'undetermined'"
     ]
    }
   ],
   "source": [
    "df_analysis['hp']=df_analysis['hp'].astype(float)"
   ],
   "metadata": {
    "collapsed": false
   }
  },
  {
   "cell_type": "code",
   "execution_count": 13,
   "outputs": [
    {
     "data": {
      "text/plain": "       mileage            make         model        fuel          gear   \n9264         5           Aixam  undetermined    Electric     Automatic  \\\n17752      150          Others  undetermined    Electric     Automatic   \n39762     2000  Caravans-Wohnm         Adria  -/- (Fuel)  undetermined   \n42111       20          Others  undetermined    Electric  undetermined   \n\n            offerType  price            hp  year       country  yrsOld  \n9264   Pre-registered  22180  undetermined  2021  undetermined       0  \n17752  Employee's car   4490  undetermined  2020  undetermined       1  \n39762            Used  24500  undetermined  2016  undetermined       5  \n42111            Used   4850  undetermined  2018  undetermined       3  ",
      "text/html": "<div>\n<style scoped>\n    .dataframe tbody tr th:only-of-type {\n        vertical-align: middle;\n    }\n\n    .dataframe tbody tr th {\n        vertical-align: top;\n    }\n\n    .dataframe thead th {\n        text-align: right;\n    }\n</style>\n<table border=\"1\" class=\"dataframe\">\n  <thead>\n    <tr style=\"text-align: right;\">\n      <th></th>\n      <th>mileage</th>\n      <th>make</th>\n      <th>model</th>\n      <th>fuel</th>\n      <th>gear</th>\n      <th>offerType</th>\n      <th>price</th>\n      <th>hp</th>\n      <th>year</th>\n      <th>country</th>\n      <th>yrsOld</th>\n    </tr>\n  </thead>\n  <tbody>\n    <tr>\n      <th>9264</th>\n      <td>5</td>\n      <td>Aixam</td>\n      <td>undetermined</td>\n      <td>Electric</td>\n      <td>Automatic</td>\n      <td>Pre-registered</td>\n      <td>22180</td>\n      <td>undetermined</td>\n      <td>2021</td>\n      <td>undetermined</td>\n      <td>0</td>\n    </tr>\n    <tr>\n      <th>17752</th>\n      <td>150</td>\n      <td>Others</td>\n      <td>undetermined</td>\n      <td>Electric</td>\n      <td>Automatic</td>\n      <td>Employee's car</td>\n      <td>4490</td>\n      <td>undetermined</td>\n      <td>2020</td>\n      <td>undetermined</td>\n      <td>1</td>\n    </tr>\n    <tr>\n      <th>39762</th>\n      <td>2000</td>\n      <td>Caravans-Wohnm</td>\n      <td>Adria</td>\n      <td>-/- (Fuel)</td>\n      <td>undetermined</td>\n      <td>Used</td>\n      <td>24500</td>\n      <td>undetermined</td>\n      <td>2016</td>\n      <td>undetermined</td>\n      <td>5</td>\n    </tr>\n    <tr>\n      <th>42111</th>\n      <td>20</td>\n      <td>Others</td>\n      <td>undetermined</td>\n      <td>Electric</td>\n      <td>undetermined</td>\n      <td>Used</td>\n      <td>4850</td>\n      <td>undetermined</td>\n      <td>2018</td>\n      <td>undetermined</td>\n      <td>3</td>\n    </tr>\n  </tbody>\n</table>\n</div>"
     },
     "execution_count": 13,
     "metadata": {},
     "output_type": "execute_result"
    }
   ],
   "source": [
    "df_analysis[df_analysis.hp=='undetermined'].head()"
   ],
   "metadata": {
    "collapsed": false,
    "ExecuteTime": {
     "start_time": "2024-01-09T17:13:15.764474Z",
     "end_time": "2024-01-09T17:13:15.783072Z"
    }
   }
  },
  {
   "cell_type": "code",
   "execution_count": null,
   "outputs": [],
   "source": [],
   "metadata": {
    "collapsed": false
   }
  },
  {
   "cell_type": "markdown",
   "source": [
    "During the join, the empty horsepower values were filled in with \"undermined\". This will just replace those values with the horsepower average."
   ],
   "metadata": {
    "collapsed": false
   }
  },
  {
   "cell_type": "code",
   "execution_count": 14,
   "outputs": [],
   "source": [
    "df_analysis['hp']= df_analysis['hp'].replace(['undetermined'],132)"
   ],
   "metadata": {
    "collapsed": false,
    "ExecuteTime": {
     "start_time": "2024-01-09T17:13:20.269705Z",
     "end_time": "2024-01-09T17:13:20.290266Z"
    }
   }
  },
  {
   "cell_type": "code",
   "execution_count": 15,
   "outputs": [
    {
     "data": {
      "text/plain": "132.99090125053903"
     },
     "execution_count": 15,
     "metadata": {},
     "output_type": "execute_result"
    }
   ],
   "source": [
    "df_analysis.hp.mean()"
   ],
   "metadata": {
    "collapsed": false,
    "ExecuteTime": {
     "start_time": "2024-01-09T17:13:22.188836Z",
     "end_time": "2024-01-09T17:13:22.217370Z"
    }
   }
  },
  {
   "cell_type": "markdown",
   "source": [
    "ok, so lesson learned, do something about null values before you start doing joins and all sorts of extra fancy stuff because now it's harder to correct the mistake."
   ],
   "metadata": {
    "collapsed": false
   }
  },
  {
   "cell_type": "code",
   "execution_count": 16,
   "outputs": [
    {
     "data": {
      "text/plain": "132.99090125053903"
     },
     "execution_count": 16,
     "metadata": {},
     "output_type": "execute_result"
    }
   ],
   "source": [
    "df_analysis.hp.mean()"
   ],
   "metadata": {
    "collapsed": false,
    "ExecuteTime": {
     "start_time": "2024-01-09T17:13:24.999965Z",
     "end_time": "2024-01-09T17:13:25.028576Z"
    }
   }
  },
  {
   "cell_type": "markdown",
   "source": [
    "now the hp is in the proper data format which is as a float"
   ],
   "metadata": {
    "collapsed": false
   }
  },
  {
   "cell_type": "code",
   "execution_count": 20,
   "outputs": [
    {
     "name": "stdout",
     "output_type": "stream",
     "text": [
      "<class 'pandas.core.series.Series'>\n",
      "RangeIndex: 46405 entries, 0 to 46404\n",
      "Series name: hp\n",
      "Non-Null Count  Dtype  \n",
      "--------------  -----  \n",
      "46380 non-null  float64\n",
      "dtypes: float64(1)\n",
      "memory usage: 362.7 KB\n"
     ]
    }
   ],
   "source": [
    "df_analysis.hp.info()"
   ],
   "metadata": {
    "collapsed": false,
    "ExecuteTime": {
     "start_time": "2024-01-09T17:14:23.121972Z",
     "end_time": "2024-01-09T17:14:23.210657Z"
    }
   }
  },
  {
   "cell_type": "code",
   "execution_count": 31,
   "outputs": [],
   "source": [
    "df_analysis.price = df_analysis.price.astype(float)"
   ],
   "metadata": {
    "collapsed": false,
    "ExecuteTime": {
     "start_time": "2024-01-09T17:18:19.160752Z",
     "end_time": "2024-01-09T17:18:19.210082Z"
    }
   }
  },
  {
   "cell_type": "code",
   "execution_count": 56,
   "outputs": [
    {
     "name": "stdout",
     "output_type": "stream",
     "text": [
      "<class 'pandas.core.frame.DataFrame'>\n",
      "RangeIndex: 46405 entries, 0 to 46404\n",
      "Data columns (total 11 columns):\n",
      " #   Column     Non-Null Count  Dtype  \n",
      "---  ------     --------------  -----  \n",
      " 0   mileage    46405 non-null  int64  \n",
      " 1   make       46405 non-null  object \n",
      " 2   model      46297 non-null  object \n",
      " 3   fuel       46405 non-null  object \n",
      " 4   gear       46236 non-null  object \n",
      " 5   offerType  46405 non-null  object \n",
      " 6   price      46405 non-null  float64\n",
      " 7   hp         46380 non-null  float64\n",
      " 8   year       46405 non-null  int64  \n",
      " 9   country    46405 non-null  object \n",
      " 10  yrsOld     46405 non-null  int64  \n",
      "dtypes: float64(2), int64(3), object(6)\n",
      "memory usage: 3.9+ MB\n"
     ]
    }
   ],
   "source": [
    "df_analysis.info()"
   ],
   "metadata": {
    "collapsed": false,
    "ExecuteTime": {
     "start_time": "2024-01-09T17:31:52.664003Z",
     "end_time": "2024-01-09T17:31:52.936061Z"
    }
   }
  },
  {
   "cell_type": "markdown",
   "source": [
    "Extract the quantitative column values and run a correlation calculation on them to see how correlated they are with each other."
   ],
   "metadata": {
    "collapsed": false
   }
  },
  {
   "cell_type": "code",
   "execution_count": 63,
   "outputs": [],
   "source": [
    "corrM= df_analysis[['mileage','price','hp','yrsOld']].corr()"
   ],
   "metadata": {
    "collapsed": false,
    "ExecuteTime": {
     "start_time": "2024-01-09T17:42:33.478899Z",
     "end_time": "2024-01-09T17:42:33.504001Z"
    }
   }
  },
  {
   "cell_type": "code",
   "execution_count": 64,
   "outputs": [
    {
     "data": {
      "text/plain": "          mileage     price        hp    yrsOld\nmileage  1.000000 -0.302788 -0.015084  0.676131\nprice   -0.302788  1.000000  0.747609 -0.405633\nhp      -0.015084  0.747609  1.000000 -0.167223\nyrsOld   0.676131 -0.405633 -0.167223  1.000000",
      "text/html": "<div>\n<style scoped>\n    .dataframe tbody tr th:only-of-type {\n        vertical-align: middle;\n    }\n\n    .dataframe tbody tr th {\n        vertical-align: top;\n    }\n\n    .dataframe thead th {\n        text-align: right;\n    }\n</style>\n<table border=\"1\" class=\"dataframe\">\n  <thead>\n    <tr style=\"text-align: right;\">\n      <th></th>\n      <th>mileage</th>\n      <th>price</th>\n      <th>hp</th>\n      <th>yrsOld</th>\n    </tr>\n  </thead>\n  <tbody>\n    <tr>\n      <th>mileage</th>\n      <td>1.000000</td>\n      <td>-0.302788</td>\n      <td>-0.015084</td>\n      <td>0.676131</td>\n    </tr>\n    <tr>\n      <th>price</th>\n      <td>-0.302788</td>\n      <td>1.000000</td>\n      <td>0.747609</td>\n      <td>-0.405633</td>\n    </tr>\n    <tr>\n      <th>hp</th>\n      <td>-0.015084</td>\n      <td>0.747609</td>\n      <td>1.000000</td>\n      <td>-0.167223</td>\n    </tr>\n    <tr>\n      <th>yrsOld</th>\n      <td>0.676131</td>\n      <td>-0.405633</td>\n      <td>-0.167223</td>\n      <td>1.000000</td>\n    </tr>\n  </tbody>\n</table>\n</div>"
     },
     "execution_count": 64,
     "metadata": {},
     "output_type": "execute_result"
    }
   ],
   "source": [
    "corrM"
   ],
   "metadata": {
    "collapsed": false,
    "ExecuteTime": {
     "start_time": "2024-01-09T17:42:38.818855Z",
     "end_time": "2024-01-09T17:42:38.856771Z"
    }
   }
  },
  {
   "cell_type": "markdown",
   "source": [
    "This is a little joke from South Park. Kenny McCormick is the kid from the low income family so this is just to see how the different correlation values are for cars under 10,000 Euros."
   ],
   "metadata": {
    "collapsed": false
   }
  },
  {
   "cell_type": "code",
   "execution_count": 97,
   "outputs": [],
   "source": [
    "kennyMcCormickCorrM= df_analysis[df_analysis.price<10000][['mileage','price','hp','yrsOld']].corr()"
   ],
   "metadata": {
    "collapsed": false,
    "ExecuteTime": {
     "start_time": "2024-01-09T17:58:16.413070Z",
     "end_time": "2024-01-09T17:58:16.438908Z"
    }
   }
  },
  {
   "cell_type": "code",
   "execution_count": 98,
   "outputs": [
    {
     "data": {
      "text/plain": "          mileage     price        hp    yrsOld\nmileage  1.000000 -0.244665  0.542468  0.407873\nprice   -0.244665  1.000000  0.281809 -0.488678\nhp       0.542468  0.281809  1.000000  0.322341\nyrsOld   0.407873 -0.488678  0.322341  1.000000",
      "text/html": "<div>\n<style scoped>\n    .dataframe tbody tr th:only-of-type {\n        vertical-align: middle;\n    }\n\n    .dataframe tbody tr th {\n        vertical-align: top;\n    }\n\n    .dataframe thead th {\n        text-align: right;\n    }\n</style>\n<table border=\"1\" class=\"dataframe\">\n  <thead>\n    <tr style=\"text-align: right;\">\n      <th></th>\n      <th>mileage</th>\n      <th>price</th>\n      <th>hp</th>\n      <th>yrsOld</th>\n    </tr>\n  </thead>\n  <tbody>\n    <tr>\n      <th>mileage</th>\n      <td>1.000000</td>\n      <td>-0.244665</td>\n      <td>0.542468</td>\n      <td>0.407873</td>\n    </tr>\n    <tr>\n      <th>price</th>\n      <td>-0.244665</td>\n      <td>1.000000</td>\n      <td>0.281809</td>\n      <td>-0.488678</td>\n    </tr>\n    <tr>\n      <th>hp</th>\n      <td>0.542468</td>\n      <td>0.281809</td>\n      <td>1.000000</td>\n      <td>0.322341</td>\n    </tr>\n    <tr>\n      <th>yrsOld</th>\n      <td>0.407873</td>\n      <td>-0.488678</td>\n      <td>0.322341</td>\n      <td>1.000000</td>\n    </tr>\n  </tbody>\n</table>\n</div>"
     },
     "execution_count": 98,
     "metadata": {},
     "output_type": "execute_result"
    }
   ],
   "source": [
    "kennyMcCormickCorrM"
   ],
   "metadata": {
    "collapsed": false,
    "ExecuteTime": {
     "start_time": "2024-01-09T17:58:17.669397Z",
     "end_time": "2024-01-09T17:58:17.702515Z"
    }
   }
  },
  {
   "cell_type": "markdown",
   "source": [
    "Doing the same for cars over 10,000 Euros. Tolkien Black is the name of a character from an affluent family."
   ],
   "metadata": {
    "collapsed": false
   }
  },
  {
   "cell_type": "code",
   "execution_count": 114,
   "outputs": [],
   "source": [
    "tolkienBlackCorrM = df_analysis[df_analysis.price > 10000][['mileage', 'price', 'hp', 'yrsOld']].corr()"
   ],
   "metadata": {
    "collapsed": false,
    "ExecuteTime": {
     "start_time": "2024-01-09T18:00:21.292744Z",
     "end_time": "2024-01-09T18:00:21.320525Z"
    }
   }
  },
  {
   "cell_type": "code",
   "execution_count": 115,
   "outputs": [
    {
     "data": {
      "text/plain": "          mileage     price        hp    yrsOld\nmileage  1.000000 -0.194201  0.130475  0.744867\nprice   -0.194201  1.000000  0.716613 -0.215160\nhp       0.130475  0.716613  1.000000  0.098986\nyrsOld   0.744867 -0.215160  0.098986  1.000000",
      "text/html": "<div>\n<style scoped>\n    .dataframe tbody tr th:only-of-type {\n        vertical-align: middle;\n    }\n\n    .dataframe tbody tr th {\n        vertical-align: top;\n    }\n\n    .dataframe thead th {\n        text-align: right;\n    }\n</style>\n<table border=\"1\" class=\"dataframe\">\n  <thead>\n    <tr style=\"text-align: right;\">\n      <th></th>\n      <th>mileage</th>\n      <th>price</th>\n      <th>hp</th>\n      <th>yrsOld</th>\n    </tr>\n  </thead>\n  <tbody>\n    <tr>\n      <th>mileage</th>\n      <td>1.000000</td>\n      <td>-0.194201</td>\n      <td>0.130475</td>\n      <td>0.744867</td>\n    </tr>\n    <tr>\n      <th>price</th>\n      <td>-0.194201</td>\n      <td>1.000000</td>\n      <td>0.716613</td>\n      <td>-0.215160</td>\n    </tr>\n    <tr>\n      <th>hp</th>\n      <td>0.130475</td>\n      <td>0.716613</td>\n      <td>1.000000</td>\n      <td>0.098986</td>\n    </tr>\n    <tr>\n      <th>yrsOld</th>\n      <td>0.744867</td>\n      <td>-0.215160</td>\n      <td>0.098986</td>\n      <td>1.000000</td>\n    </tr>\n  </tbody>\n</table>\n</div>"
     },
     "execution_count": 115,
     "metadata": {},
     "output_type": "execute_result"
    }
   ],
   "source": [
    "tolkienBlackCorrM"
   ],
   "metadata": {
    "collapsed": false,
    "ExecuteTime": {
     "start_time": "2024-01-09T18:00:22.875891Z",
     "end_time": "2024-01-09T18:00:22.892751Z"
    }
   }
  },
  {
   "cell_type": "markdown",
   "source": [
    "seems like the only strong correlations are between price and horsepower. Get's weaker as the car gets more expensive, probably because there's less differentiation in horsepower as the cars are more expensive. more expensive cars are usually more powerful in horsepower. we can chec that"
   ],
   "metadata": {
    "collapsed": false
   }
  },
  {
   "cell_type": "code",
   "execution_count": 116,
   "outputs": [
    {
     "data": {
      "text/plain": "count    46380.000000\nmean       132.990901\nstd         75.446031\nmin          1.000000\n25%         86.000000\n50%        116.000000\n75%        150.000000\nmax        850.000000\nName: hp, dtype: float64"
     },
     "execution_count": 116,
     "metadata": {},
     "output_type": "execute_result"
    }
   ],
   "source": [
    "df_analysis.hp.describe()"
   ],
   "metadata": {
    "collapsed": false,
    "ExecuteTime": {
     "start_time": "2024-01-09T18:01:25.609809Z",
     "end_time": "2024-01-09T18:01:25.653680Z"
    }
   }
  },
  {
   "cell_type": "markdown",
   "source": [
    "This is just to look at how horsepower varies over different price ranges. Those under 60k, those over, and those over 200k Euros."
   ],
   "metadata": {
    "collapsed": false
   }
  },
  {
   "cell_type": "code",
   "execution_count": 131,
   "outputs": [],
   "source": [
    "hp_over_60k= df_analysis[df_analysis.price>60000].hp\n",
    "hp_under_60k= df_analysis[df_analysis.price<60000].hp\n",
    "hp_over_200k= df_analysis[df_analysis.price>200000].hp"
   ],
   "metadata": {
    "collapsed": false,
    "ExecuteTime": {
     "start_time": "2024-01-09T18:08:15.560240Z",
     "end_time": "2024-01-09T18:08:15.587382Z"
    }
   }
  },
  {
   "cell_type": "code",
   "execution_count": 125,
   "outputs": [],
   "source": [
    "def findCoeffVar(input):\n",
    "    return input.std()/input.mean()"
   ],
   "metadata": {
    "collapsed": false,
    "ExecuteTime": {
     "start_time": "2024-01-09T18:06:34.853846Z",
     "end_time": "2024-01-09T18:06:34.882469Z"
    }
   }
  },
  {
   "cell_type": "code",
   "execution_count": 128,
   "outputs": [
    {
     "data": {
      "text/plain": "0.32750353666497484"
     },
     "execution_count": 128,
     "metadata": {},
     "output_type": "execute_result"
    }
   ],
   "source": [
    "findCoeffVar(hp_over_60k)"
   ],
   "metadata": {
    "collapsed": false,
    "ExecuteTime": {
     "start_time": "2024-01-09T18:07:18.045369Z",
     "end_time": "2024-01-09T18:07:18.096479Z"
    }
   }
  },
  {
   "cell_type": "code",
   "execution_count": 130,
   "outputs": [
    {
     "data": {
      "text/plain": "0.47121087097796316"
     },
     "execution_count": 130,
     "metadata": {},
     "output_type": "execute_result"
    }
   ],
   "source": [
    "findCoeffVar(hp_under_60k)"
   ],
   "metadata": {
    "collapsed": false,
    "ExecuteTime": {
     "start_time": "2024-01-09T18:07:51.273478Z",
     "end_time": "2024-01-09T18:07:51.321854Z"
    }
   }
  },
  {
   "cell_type": "code",
   "execution_count": 132,
   "outputs": [
    {
     "data": {
      "text/plain": "0.1273082688087778"
     },
     "execution_count": 132,
     "metadata": {},
     "output_type": "execute_result"
    }
   ],
   "source": [
    "findCoeffVar(hp_over_200k)"
   ],
   "metadata": {
    "collapsed": false,
    "ExecuteTime": {
     "start_time": "2024-01-09T18:08:23.912453Z",
     "end_time": "2024-01-09T18:08:23.942315Z"
    }
   }
  },
  {
   "cell_type": "code",
   "execution_count": 133,
   "outputs": [
    {
     "data": {
      "text/plain": "656.1632653061224"
     },
     "execution_count": 133,
     "metadata": {},
     "output_type": "execute_result"
    }
   ],
   "source": [
    "hp_over_200k.mean()"
   ],
   "metadata": {
    "collapsed": false,
    "ExecuteTime": {
     "start_time": "2024-01-09T18:08:50.530174Z",
     "end_time": "2024-01-09T18:08:50.563528Z"
    }
   }
  },
  {
   "cell_type": "code",
   "execution_count": 134,
   "outputs": [
    {
     "data": {
      "text/plain": "126.70078445198537"
     },
     "execution_count": 134,
     "metadata": {},
     "output_type": "execute_result"
    }
   ],
   "source": [
    "hp_under_60k.mean()"
   ],
   "metadata": {
    "collapsed": false,
    "ExecuteTime": {
     "start_time": "2024-01-09T18:09:14.456240Z",
     "end_time": "2024-01-09T18:09:14.473443Z"
    }
   }
  },
  {
   "cell_type": "code",
   "execution_count": 135,
   "outputs": [
    {
     "data": {
      "text/plain": "419.16850551654966"
     },
     "execution_count": 135,
     "metadata": {},
     "output_type": "execute_result"
    }
   ],
   "source": [
    "hp_over_60k.mean()"
   ],
   "metadata": {
    "collapsed": false,
    "ExecuteTime": {
     "start_time": "2024-01-09T18:09:21.013564Z",
     "end_time": "2024-01-09T18:09:21.051950Z"
    }
   }
  },
  {
   "cell_type": "code",
   "execution_count": 137,
   "outputs": [
    {
     "name": "stdout",
     "output_type": "stream",
     "text": [
      "<class 'pandas.core.frame.DataFrame'>\n",
      "RangeIndex: 46405 entries, 0 to 46404\n",
      "Data columns (total 11 columns):\n",
      " #   Column     Non-Null Count  Dtype  \n",
      "---  ------     --------------  -----  \n",
      " 0   mileage    46405 non-null  int64  \n",
      " 1   make       46405 non-null  object \n",
      " 2   model      46297 non-null  object \n",
      " 3   fuel       46405 non-null  object \n",
      " 4   gear       46236 non-null  object \n",
      " 5   offerType  46405 non-null  object \n",
      " 6   price      46405 non-null  float64\n",
      " 7   hp         46380 non-null  float64\n",
      " 8   year       46405 non-null  int64  \n",
      " 9   country    46405 non-null  object \n",
      " 10  yrsOld     46405 non-null  int64  \n",
      "dtypes: float64(2), int64(3), object(6)\n",
      "memory usage: 3.9+ MB\n"
     ]
    }
   ],
   "source": [
    "df_analysis.info()"
   ],
   "metadata": {
    "collapsed": false,
    "ExecuteTime": {
     "start_time": "2024-01-09T18:10:38.897278Z",
     "end_time": "2024-01-09T18:10:38.924970Z"
    }
   }
  },
  {
   "cell_type": "code",
   "execution_count": 138,
   "outputs": [],
   "source": [
    "#df_analysis.to_pickle('/Users/pkc/PycharmProjects/pythonProject/Automotive/pickles/df_analyzed.pickle')"
   ],
   "metadata": {
    "collapsed": false,
    "ExecuteTime": {
     "start_time": "2024-01-09T18:11:22.708275Z",
     "end_time": "2024-01-09T18:11:22.778818Z"
    }
   }
  }
 ],
 "metadata": {
  "kernelspec": {
   "display_name": "Python 3",
   "language": "python",
   "name": "python3"
  },
  "language_info": {
   "codemirror_mode": {
    "name": "ipython",
    "version": 2
   },
   "file_extension": ".py",
   "mimetype": "text/x-python",
   "name": "python",
   "nbconvert_exporter": "python",
   "pygments_lexer": "ipython2",
   "version": "2.7.6"
  }
 },
 "nbformat": 4,
 "nbformat_minor": 0
}
