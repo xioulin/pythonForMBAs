{
 "cells": [
  {
   "cell_type": "code",
   "execution_count": 52,
   "metadata": {
    "collapsed": true,
    "ExecuteTime": {
     "start_time": "2024-01-07T22:04:03.852860Z",
     "end_time": "2024-01-07T22:04:04.228981Z"
    }
   },
   "outputs": [],
   "source": [
    "import pandas as pd"
   ]
  },
  {
   "cell_type": "code",
   "execution_count": 53,
   "outputs": [],
   "source": [
    "df_autos= pd.read_pickle('/Users/pkc/PycharmProjects/pythonProject/Automotive/pickles/df_join_lists.pickle')"
   ],
   "metadata": {
    "collapsed": false,
    "ExecuteTime": {
     "start_time": "2024-01-07T22:04:03.952481Z",
     "end_time": "2024-01-07T22:04:05.340440Z"
    }
   }
  },
  {
   "cell_type": "code",
   "execution_count": 54,
   "outputs": [
    {
     "data": {
      "text/plain": "       mileage  make model               fuel    gear       offerType  price   \n46400       99  Fiat   500  Electric/Gasoline  Manual  Pre-registered  12990  \\\n46401       99  Fiat   500  Electric/Gasoline  Manual  Pre-registered  12990   \n46402       99  Fiat   500  Electric/Gasoline  Manual  Pre-registered  12990   \n46403       99  Fiat   500  Electric/Gasoline  Manual  Pre-registered  12990   \n46404       99  Fiat   500  Electric/Gasoline  Manual  Pre-registered  12990   \n\n         hp  year country  yrsOld  \n46400  71.0  2021   Italy       0  \n46401  71.0  2021   Italy       0  \n46402  71.0  2021   Italy       0  \n46403  71.0  2021   Italy       0  \n46404  71.0  2021   Italy       0  ",
      "text/html": "<div>\n<style scoped>\n    .dataframe tbody tr th:only-of-type {\n        vertical-align: middle;\n    }\n\n    .dataframe tbody tr th {\n        vertical-align: top;\n    }\n\n    .dataframe thead th {\n        text-align: right;\n    }\n</style>\n<table border=\"1\" class=\"dataframe\">\n  <thead>\n    <tr style=\"text-align: right;\">\n      <th></th>\n      <th>mileage</th>\n      <th>make</th>\n      <th>model</th>\n      <th>fuel</th>\n      <th>gear</th>\n      <th>offerType</th>\n      <th>price</th>\n      <th>hp</th>\n      <th>year</th>\n      <th>country</th>\n      <th>yrsOld</th>\n    </tr>\n  </thead>\n  <tbody>\n    <tr>\n      <th>46400</th>\n      <td>99</td>\n      <td>Fiat</td>\n      <td>500</td>\n      <td>Electric/Gasoline</td>\n      <td>Manual</td>\n      <td>Pre-registered</td>\n      <td>12990</td>\n      <td>71.0</td>\n      <td>2021</td>\n      <td>Italy</td>\n      <td>0</td>\n    </tr>\n    <tr>\n      <th>46401</th>\n      <td>99</td>\n      <td>Fiat</td>\n      <td>500</td>\n      <td>Electric/Gasoline</td>\n      <td>Manual</td>\n      <td>Pre-registered</td>\n      <td>12990</td>\n      <td>71.0</td>\n      <td>2021</td>\n      <td>Italy</td>\n      <td>0</td>\n    </tr>\n    <tr>\n      <th>46402</th>\n      <td>99</td>\n      <td>Fiat</td>\n      <td>500</td>\n      <td>Electric/Gasoline</td>\n      <td>Manual</td>\n      <td>Pre-registered</td>\n      <td>12990</td>\n      <td>71.0</td>\n      <td>2021</td>\n      <td>Italy</td>\n      <td>0</td>\n    </tr>\n    <tr>\n      <th>46403</th>\n      <td>99</td>\n      <td>Fiat</td>\n      <td>500</td>\n      <td>Electric/Gasoline</td>\n      <td>Manual</td>\n      <td>Pre-registered</td>\n      <td>12990</td>\n      <td>71.0</td>\n      <td>2021</td>\n      <td>Italy</td>\n      <td>0</td>\n    </tr>\n    <tr>\n      <th>46404</th>\n      <td>99</td>\n      <td>Fiat</td>\n      <td>500</td>\n      <td>Electric/Gasoline</td>\n      <td>Manual</td>\n      <td>Pre-registered</td>\n      <td>12990</td>\n      <td>71.0</td>\n      <td>2021</td>\n      <td>Italy</td>\n      <td>0</td>\n    </tr>\n  </tbody>\n</table>\n</div>"
     },
     "execution_count": 54,
     "metadata": {},
     "output_type": "execute_result"
    }
   ],
   "source": [
    "df_autos.tail()"
   ],
   "metadata": {
    "collapsed": false,
    "ExecuteTime": {
     "start_time": "2024-01-07T22:04:03.968370Z",
     "end_time": "2024-01-07T22:04:05.342926Z"
    }
   }
  },
  {
   "cell_type": "markdown",
   "source": [
    "how to find yr over yr depreciation for dataset:\n",
    "1. Identify top 5 or 10 most popular brand model (will give you the most sample space)\n",
    "2. topXList = df.model.value_counts().head(X).index.tolist()\n",
    "3. df_top_X_model= df[df.model.isin(topXList)].copy()\n",
    "4."
   ],
   "metadata": {
    "collapsed": false
   }
  },
  {
   "cell_type": "code",
   "execution_count": 55,
   "outputs": [
    {
     "data": {
      "text/plain": "model\nGolf      1492\nCorsa     1491\nFiesta    1289\nAstra     1191\nFocus      985\nName: count, dtype: int64"
     },
     "execution_count": 55,
     "metadata": {},
     "output_type": "execute_result"
    }
   ],
   "source": [
    "df_autos.model.value_counts().head()"
   ],
   "metadata": {
    "collapsed": false,
    "ExecuteTime": {
     "start_time": "2024-01-07T22:04:04.033824Z",
     "end_time": "2024-01-07T22:04:05.345621Z"
    }
   }
  },
  {
   "cell_type": "code",
   "execution_count": 56,
   "outputs": [],
   "source": [
    "top5List= df_autos.model.value_counts().head().index.tolist()"
   ],
   "metadata": {
    "collapsed": false,
    "ExecuteTime": {
     "start_time": "2024-01-07T22:04:04.061962Z",
     "end_time": "2024-01-07T22:04:05.346726Z"
    }
   }
  },
  {
   "cell_type": "code",
   "execution_count": 57,
   "outputs": [
    {
     "data": {
      "text/plain": "['Golf', 'Corsa', 'Fiesta', 'Astra', 'Focus']"
     },
     "execution_count": 57,
     "metadata": {},
     "output_type": "execute_result"
    }
   ],
   "source": [
    "top5List"
   ],
   "metadata": {
    "collapsed": false,
    "ExecuteTime": {
     "start_time": "2024-01-07T22:04:04.080686Z",
     "end_time": "2024-01-07T22:04:05.369869Z"
    }
   }
  },
  {
   "cell_type": "code",
   "execution_count": 58,
   "outputs": [],
   "source": [
    "df_top_5_models= df_autos[df_autos.model.isin(top5List)].copy()"
   ],
   "metadata": {
    "collapsed": false,
    "ExecuteTime": {
     "start_time": "2024-01-07T22:04:04.102669Z",
     "end_time": "2024-01-07T22:04:05.370518Z"
    }
   }
  },
  {
   "cell_type": "code",
   "execution_count": 85,
   "outputs": [
    {
     "data": {
      "text/plain": "       mileage        make   model      fuel       gear       offerType   \n1        92800  Volkswagen    Golf  Gasoline     Manual            Used  \\\n11       84000  Volkswagen    Golf  Gasoline     Manual            Used   \n19       82000        Opel   Corsa  Gasoline     Manual            Used   \n21       81970  Volkswagen    Golf  Gasoline     Manual            Used   \n27      104250        Opel   Astra  Gasoline     Manual            Used   \n...        ...         ...     ...       ...        ...             ...   \n46266       10        Opel   Corsa  Electric  Automatic            Used   \n46281     2000        Ford  Fiesta  Gasoline     Manual   Demonstration   \n46282     1570        Ford   Focus  Gasoline  Automatic   Demonstration   \n46312       10        Opel   Corsa  Electric  Automatic            Used   \n46377      100  Volkswagen    Golf    Diesel  Automatic  Pre-registered   \n\n       price     hp  year        country  yrsOld  \n1       6877  122.0  2011        Germany      10  \n11      6990  105.0  2011        Germany      10  \n19      7000  101.0  2011        Germany      10  \n21      7850  105.0  2012        Germany       9  \n27      7950  140.0  2012        Germany       9  \n...      ...    ...   ...            ...     ...  \n46266  28850  136.0  2021        Germany       0  \n46281  18990   95.0  2021  United States       0  \n46282  26990  150.0  2021  United States       0  \n46312  29440  136.0  2021        Germany       0  \n46377  32490  150.0  2021        Germany       0  \n\n[6448 rows x 11 columns]",
      "text/html": "<div>\n<style scoped>\n    .dataframe tbody tr th:only-of-type {\n        vertical-align: middle;\n    }\n\n    .dataframe tbody tr th {\n        vertical-align: top;\n    }\n\n    .dataframe thead th {\n        text-align: right;\n    }\n</style>\n<table border=\"1\" class=\"dataframe\">\n  <thead>\n    <tr style=\"text-align: right;\">\n      <th></th>\n      <th>mileage</th>\n      <th>make</th>\n      <th>model</th>\n      <th>fuel</th>\n      <th>gear</th>\n      <th>offerType</th>\n      <th>price</th>\n      <th>hp</th>\n      <th>year</th>\n      <th>country</th>\n      <th>yrsOld</th>\n    </tr>\n  </thead>\n  <tbody>\n    <tr>\n      <th>1</th>\n      <td>92800</td>\n      <td>Volkswagen</td>\n      <td>Golf</td>\n      <td>Gasoline</td>\n      <td>Manual</td>\n      <td>Used</td>\n      <td>6877</td>\n      <td>122.0</td>\n      <td>2011</td>\n      <td>Germany</td>\n      <td>10</td>\n    </tr>\n    <tr>\n      <th>11</th>\n      <td>84000</td>\n      <td>Volkswagen</td>\n      <td>Golf</td>\n      <td>Gasoline</td>\n      <td>Manual</td>\n      <td>Used</td>\n      <td>6990</td>\n      <td>105.0</td>\n      <td>2011</td>\n      <td>Germany</td>\n      <td>10</td>\n    </tr>\n    <tr>\n      <th>19</th>\n      <td>82000</td>\n      <td>Opel</td>\n      <td>Corsa</td>\n      <td>Gasoline</td>\n      <td>Manual</td>\n      <td>Used</td>\n      <td>7000</td>\n      <td>101.0</td>\n      <td>2011</td>\n      <td>Germany</td>\n      <td>10</td>\n    </tr>\n    <tr>\n      <th>21</th>\n      <td>81970</td>\n      <td>Volkswagen</td>\n      <td>Golf</td>\n      <td>Gasoline</td>\n      <td>Manual</td>\n      <td>Used</td>\n      <td>7850</td>\n      <td>105.0</td>\n      <td>2012</td>\n      <td>Germany</td>\n      <td>9</td>\n    </tr>\n    <tr>\n      <th>27</th>\n      <td>104250</td>\n      <td>Opel</td>\n      <td>Astra</td>\n      <td>Gasoline</td>\n      <td>Manual</td>\n      <td>Used</td>\n      <td>7950</td>\n      <td>140.0</td>\n      <td>2012</td>\n      <td>Germany</td>\n      <td>9</td>\n    </tr>\n    <tr>\n      <th>...</th>\n      <td>...</td>\n      <td>...</td>\n      <td>...</td>\n      <td>...</td>\n      <td>...</td>\n      <td>...</td>\n      <td>...</td>\n      <td>...</td>\n      <td>...</td>\n      <td>...</td>\n      <td>...</td>\n    </tr>\n    <tr>\n      <th>46266</th>\n      <td>10</td>\n      <td>Opel</td>\n      <td>Corsa</td>\n      <td>Electric</td>\n      <td>Automatic</td>\n      <td>Used</td>\n      <td>28850</td>\n      <td>136.0</td>\n      <td>2021</td>\n      <td>Germany</td>\n      <td>0</td>\n    </tr>\n    <tr>\n      <th>46281</th>\n      <td>2000</td>\n      <td>Ford</td>\n      <td>Fiesta</td>\n      <td>Gasoline</td>\n      <td>Manual</td>\n      <td>Demonstration</td>\n      <td>18990</td>\n      <td>95.0</td>\n      <td>2021</td>\n      <td>United States</td>\n      <td>0</td>\n    </tr>\n    <tr>\n      <th>46282</th>\n      <td>1570</td>\n      <td>Ford</td>\n      <td>Focus</td>\n      <td>Gasoline</td>\n      <td>Automatic</td>\n      <td>Demonstration</td>\n      <td>26990</td>\n      <td>150.0</td>\n      <td>2021</td>\n      <td>United States</td>\n      <td>0</td>\n    </tr>\n    <tr>\n      <th>46312</th>\n      <td>10</td>\n      <td>Opel</td>\n      <td>Corsa</td>\n      <td>Electric</td>\n      <td>Automatic</td>\n      <td>Used</td>\n      <td>29440</td>\n      <td>136.0</td>\n      <td>2021</td>\n      <td>Germany</td>\n      <td>0</td>\n    </tr>\n    <tr>\n      <th>46377</th>\n      <td>100</td>\n      <td>Volkswagen</td>\n      <td>Golf</td>\n      <td>Diesel</td>\n      <td>Automatic</td>\n      <td>Pre-registered</td>\n      <td>32490</td>\n      <td>150.0</td>\n      <td>2021</td>\n      <td>Germany</td>\n      <td>0</td>\n    </tr>\n  </tbody>\n</table>\n<p>6448 rows × 11 columns</p>\n</div>"
     },
     "execution_count": 85,
     "metadata": {},
     "output_type": "execute_result"
    }
   ],
   "source": [
    "df_top_5_models"
   ],
   "metadata": {
    "collapsed": false,
    "ExecuteTime": {
     "start_time": "2024-01-07T22:05:09.723790Z",
     "end_time": "2024-01-07T22:05:09.765126Z"
    }
   }
  },
  {
   "cell_type": "code",
   "execution_count": 104,
   "outputs": [],
   "source": [
    "series = round(df_top_5_models.groupby(['model','yrsOld']).price.mean())"
   ],
   "metadata": {
    "collapsed": false,
    "ExecuteTime": {
     "start_time": "2024-01-07T22:38:50.527078Z",
     "end_time": "2024-01-07T22:38:50.552834Z"
    }
   }
  },
  {
   "cell_type": "code",
   "execution_count": 111,
   "outputs": [],
   "source": [
    "df_series= series.to_frame()"
   ],
   "metadata": {
    "collapsed": false,
    "ExecuteTime": {
     "start_time": "2024-01-07T22:41:39.110272Z",
     "end_time": "2024-01-07T22:41:39.123094Z"
    }
   }
  },
  {
   "cell_type": "code",
   "execution_count": 116,
   "outputs": [
    {
     "data": {
      "text/plain": "<Axes: xlabel='model,yrsOld'>"
     },
     "execution_count": 116,
     "metadata": {},
     "output_type": "execute_result"
    },
    {
     "data": {
      "text/plain": "<Figure size 640x480 with 1 Axes>",
      "image/png": "[encoded data removed]"
     },
     "metadata": {},
     "output_type": "display_data"
    }
   ],
   "source": [
    "df_series.plot()"
   ],
   "metadata": {
    "collapsed": false,
    "ExecuteTime": {
     "start_time": "2024-01-07T22:42:16.614290Z",
     "end_time": "2024-01-07T22:42:17.583800Z"
    }
   }
  },
  {
   "cell_type": "code",
   "execution_count": 60,
   "outputs": [
    {
     "data": {
      "text/plain": "       mileage     make   model      fuel    gear offerType  price    hp   \n23464   204000  Citroen      C1  Gasoline  Manual      Used   1100  68.0  \\\n17155   100611     Lada  Priora  Gasoline  Manual      Used   1190  98.0   \n23487   153000   Toyota    Aygo  Gasoline  Manual      Used   1250  68.0   \n17811   222000  Peugeot     206    Diesel  Manual      Used   1299  68.0   \n24365   133000     Opel   Corsa  Gasoline  Manual      Used   1300  69.0   \n\n       year  country  yrsOld  \n23464  2011   France      10  \n17155  2011   Russia      10  \n23487  2012    Japan       9  \n17811  2011   France      10  \n24365  2012  Germany       9  ",
      "text/html": "<div>\n<style scoped>\n    .dataframe tbody tr th:only-of-type {\n        vertical-align: middle;\n    }\n\n    .dataframe tbody tr th {\n        vertical-align: top;\n    }\n\n    .dataframe thead th {\n        text-align: right;\n    }\n</style>\n<table border=\"1\" class=\"dataframe\">\n  <thead>\n    <tr style=\"text-align: right;\">\n      <th></th>\n      <th>mileage</th>\n      <th>make</th>\n      <th>model</th>\n      <th>fuel</th>\n      <th>gear</th>\n      <th>offerType</th>\n      <th>price</th>\n      <th>hp</th>\n      <th>year</th>\n      <th>country</th>\n      <th>yrsOld</th>\n    </tr>\n  </thead>\n  <tbody>\n    <tr>\n      <th>23464</th>\n      <td>204000</td>\n      <td>Citroen</td>\n      <td>C1</td>\n      <td>Gasoline</td>\n      <td>Manual</td>\n      <td>Used</td>\n      <td>1100</td>\n      <td>68.0</td>\n      <td>2011</td>\n      <td>France</td>\n      <td>10</td>\n    </tr>\n    <tr>\n      <th>17155</th>\n      <td>100611</td>\n      <td>Lada</td>\n      <td>Priora</td>\n      <td>Gasoline</td>\n      <td>Manual</td>\n      <td>Used</td>\n      <td>1190</td>\n      <td>98.0</td>\n      <td>2011</td>\n      <td>Russia</td>\n      <td>10</td>\n    </tr>\n    <tr>\n      <th>23487</th>\n      <td>153000</td>\n      <td>Toyota</td>\n      <td>Aygo</td>\n      <td>Gasoline</td>\n      <td>Manual</td>\n      <td>Used</td>\n      <td>1250</td>\n      <td>68.0</td>\n      <td>2012</td>\n      <td>Japan</td>\n      <td>9</td>\n    </tr>\n    <tr>\n      <th>17811</th>\n      <td>222000</td>\n      <td>Peugeot</td>\n      <td>206</td>\n      <td>Diesel</td>\n      <td>Manual</td>\n      <td>Used</td>\n      <td>1299</td>\n      <td>68.0</td>\n      <td>2011</td>\n      <td>France</td>\n      <td>10</td>\n    </tr>\n    <tr>\n      <th>24365</th>\n      <td>133000</td>\n      <td>Opel</td>\n      <td>Corsa</td>\n      <td>Gasoline</td>\n      <td>Manual</td>\n      <td>Used</td>\n      <td>1300</td>\n      <td>69.0</td>\n      <td>2012</td>\n      <td>Germany</td>\n      <td>9</td>\n    </tr>\n  </tbody>\n</table>\n</div>"
     },
     "execution_count": 60,
     "metadata": {},
     "output_type": "execute_result"
    }
   ],
   "source": [
    "df_autos.sort_values(by='price').head()"
   ],
   "metadata": {
    "collapsed": false,
    "ExecuteTime": {
     "start_time": "2024-01-07T22:04:04.185590Z",
     "end_time": "2024-01-07T22:04:05.373315Z"
    }
   }
  },
  {
   "cell_type": "code",
   "execution_count": 61,
   "outputs": [
    {
     "data": {
      "text/plain": "       mileage           make    model      fuel       gear offerType   \n21675      431        Ferrari      F12  Gasoline  Automatic      Used  \\\n11754       90  Mercedes-Benz    S 650  Gasoline  Automatic      Used   \n11753       90        Maybach  Pullman  Gasoline  Automatic      Used   \n16429     3400        Maybach  Pullman  Gasoline  Automatic      Used   \n29257      350  Mercedes-Benz      SLS  Gasoline  Automatic      Used   \n\n         price     hp  year       country  yrsOld  \n21675  1199900  775.0  2017         Italy       4  \n11754   717078  630.0  2019       Germany       2  \n11753   717078  630.0  2019  undetermined       2  \n16429   499800  530.0  2018  undetermined       3  \n29257   465000  591.0  2015       Germany       6  ",
      "text/html": "<div>\n<style scoped>\n    .dataframe tbody tr th:only-of-type {\n        vertical-align: middle;\n    }\n\n    .dataframe tbody tr th {\n        vertical-align: top;\n    }\n\n    .dataframe thead th {\n        text-align: right;\n    }\n</style>\n<table border=\"1\" class=\"dataframe\">\n  <thead>\n    <tr style=\"text-align: right;\">\n      <th></th>\n      <th>mileage</th>\n      <th>make</th>\n      <th>model</th>\n      <th>fuel</th>\n      <th>gear</th>\n      <th>offerType</th>\n      <th>price</th>\n      <th>hp</th>\n      <th>year</th>\n      <th>country</th>\n      <th>yrsOld</th>\n    </tr>\n  </thead>\n  <tbody>\n    <tr>\n      <th>21675</th>\n      <td>431</td>\n      <td>Ferrari</td>\n      <td>F12</td>\n      <td>Gasoline</td>\n      <td>Automatic</td>\n      <td>Used</td>\n      <td>1199900</td>\n      <td>775.0</td>\n      <td>2017</td>\n      <td>Italy</td>\n      <td>4</td>\n    </tr>\n    <tr>\n      <th>11754</th>\n      <td>90</td>\n      <td>Mercedes-Benz</td>\n      <td>S 650</td>\n      <td>Gasoline</td>\n      <td>Automatic</td>\n      <td>Used</td>\n      <td>717078</td>\n      <td>630.0</td>\n      <td>2019</td>\n      <td>Germany</td>\n      <td>2</td>\n    </tr>\n    <tr>\n      <th>11753</th>\n      <td>90</td>\n      <td>Maybach</td>\n      <td>Pullman</td>\n      <td>Gasoline</td>\n      <td>Automatic</td>\n      <td>Used</td>\n      <td>717078</td>\n      <td>630.0</td>\n      <td>2019</td>\n      <td>undetermined</td>\n      <td>2</td>\n    </tr>\n    <tr>\n      <th>16429</th>\n      <td>3400</td>\n      <td>Maybach</td>\n      <td>Pullman</td>\n      <td>Gasoline</td>\n      <td>Automatic</td>\n      <td>Used</td>\n      <td>499800</td>\n      <td>530.0</td>\n      <td>2018</td>\n      <td>undetermined</td>\n      <td>3</td>\n    </tr>\n    <tr>\n      <th>29257</th>\n      <td>350</td>\n      <td>Mercedes-Benz</td>\n      <td>SLS</td>\n      <td>Gasoline</td>\n      <td>Automatic</td>\n      <td>Used</td>\n      <td>465000</td>\n      <td>591.0</td>\n      <td>2015</td>\n      <td>Germany</td>\n      <td>6</td>\n    </tr>\n  </tbody>\n</table>\n</div>"
     },
     "execution_count": 61,
     "metadata": {},
     "output_type": "execute_result"
    }
   ],
   "source": [
    "df_autos.sort_values(by='price',ascending=False).head()"
   ],
   "metadata": {
    "collapsed": false,
    "ExecuteTime": {
     "start_time": "2024-01-07T22:04:04.238174Z",
     "end_time": "2024-01-07T22:04:05.556769Z"
    }
   }
  },
  {
   "cell_type": "code",
   "execution_count": 62,
   "outputs": [
    {
     "data": {
      "text/plain": "(42592, 11)"
     },
     "execution_count": 62,
     "metadata": {},
     "output_type": "execute_result"
    }
   ],
   "source": [
    "df_autos[df_autos.price<3.5*10**4].shape"
   ],
   "metadata": {
    "collapsed": false,
    "ExecuteTime": {
     "start_time": "2024-01-07T22:04:04.665828Z",
     "end_time": "2024-01-07T22:04:05.557646Z"
    }
   }
  },
  {
   "cell_type": "code",
   "execution_count": 63,
   "outputs": [
    {
     "data": {
      "text/plain": "10999.0"
     },
     "execution_count": 63,
     "metadata": {},
     "output_type": "execute_result"
    }
   ],
   "source": [
    "df_autos.price.median()"
   ],
   "metadata": {
    "collapsed": false,
    "ExecuteTime": {
     "start_time": "2024-01-07T22:04:04.666602Z",
     "end_time": "2024-01-07T22:04:05.559108Z"
    }
   }
  },
  {
   "cell_type": "code",
   "execution_count": 64,
   "outputs": [
    {
     "data": {
      "text/plain": "(45913, 11)"
     },
     "execution_count": 64,
     "metadata": {},
     "output_type": "execute_result"
    }
   ],
   "source": [
    "df_autos[df_autos.price < 8 * 10 ** 4].shape"
   ],
   "metadata": {
    "collapsed": false,
    "ExecuteTime": {
     "start_time": "2024-01-07T22:04:04.667284Z",
     "end_time": "2024-01-07T22:04:05.560341Z"
    }
   }
  },
  {
   "cell_type": "code",
   "execution_count": 65,
   "outputs": [
    {
     "data": {
      "text/plain": "(46405, 11)"
     },
     "execution_count": 65,
     "metadata": {},
     "output_type": "execute_result"
    }
   ],
   "source": [
    "df_autos.shape"
   ],
   "metadata": {
    "collapsed": false,
    "ExecuteTime": {
     "start_time": "2024-01-07T22:04:04.667852Z",
     "end_time": "2024-01-07T22:04:05.561102Z"
    }
   }
  },
  {
   "cell_type": "code",
   "execution_count": 66,
   "outputs": [
    {
     "data": {
      "text/plain": "            mileage         price          year        yrsOld\ncount  4.591300e+04  45913.000000  45913.000000  45913.000000\nmean   7.175356e+04  15299.327925   2015.980528      5.019472\nstd    6.266796e+04  11945.991911      3.147125      3.147125\nmin    0.000000e+00   1100.000000   2011.000000      0.000000\n25%    2.035000e+04   7490.000000   2013.000000      2.000000\n50%    6.061400e+04  10990.000000   2016.000000      5.000000\n75%    1.058770e+05  18980.000000   2019.000000      8.000000\nmax    1.111111e+06  79999.000000   2021.000000     10.000000",
      "text/html": "<div>\n<style scoped>\n    .dataframe tbody tr th:only-of-type {\n        vertical-align: middle;\n    }\n\n    .dataframe tbody tr th {\n        vertical-align: top;\n    }\n\n    .dataframe thead th {\n        text-align: right;\n    }\n</style>\n<table border=\"1\" class=\"dataframe\">\n  <thead>\n    <tr style=\"text-align: right;\">\n      <th></th>\n      <th>mileage</th>\n      <th>price</th>\n      <th>year</th>\n      <th>yrsOld</th>\n    </tr>\n  </thead>\n  <tbody>\n    <tr>\n      <th>count</th>\n      <td>4.591300e+04</td>\n      <td>45913.000000</td>\n      <td>45913.000000</td>\n      <td>45913.000000</td>\n    </tr>\n    <tr>\n      <th>mean</th>\n      <td>7.175356e+04</td>\n      <td>15299.327925</td>\n      <td>2015.980528</td>\n      <td>5.019472</td>\n    </tr>\n    <tr>\n      <th>std</th>\n      <td>6.266796e+04</td>\n      <td>11945.991911</td>\n      <td>3.147125</td>\n      <td>3.147125</td>\n    </tr>\n    <tr>\n      <th>min</th>\n      <td>0.000000e+00</td>\n      <td>1100.000000</td>\n      <td>2011.000000</td>\n      <td>0.000000</td>\n    </tr>\n    <tr>\n      <th>25%</th>\n      <td>2.035000e+04</td>\n      <td>7490.000000</td>\n      <td>2013.000000</td>\n      <td>2.000000</td>\n    </tr>\n    <tr>\n      <th>50%</th>\n      <td>6.061400e+04</td>\n      <td>10990.000000</td>\n      <td>2016.000000</td>\n      <td>5.000000</td>\n    </tr>\n    <tr>\n      <th>75%</th>\n      <td>1.058770e+05</td>\n      <td>18980.000000</td>\n      <td>2019.000000</td>\n      <td>8.000000</td>\n    </tr>\n    <tr>\n      <th>max</th>\n      <td>1.111111e+06</td>\n      <td>79999.000000</td>\n      <td>2021.000000</td>\n      <td>10.000000</td>\n    </tr>\n  </tbody>\n</table>\n</div>"
     },
     "execution_count": 66,
     "metadata": {},
     "output_type": "execute_result"
    }
   ],
   "source": [
    "df_autos[df_autos.price <8 * 10 ** 4].describe()"
   ],
   "metadata": {
    "collapsed": false,
    "ExecuteTime": {
     "start_time": "2024-01-07T22:04:04.668366Z",
     "end_time": "2024-01-07T22:04:05.561982Z"
    }
   }
  },
  {
   "cell_type": "code",
   "execution_count": 67,
   "outputs": [
    {
     "data": {
      "text/plain": "             mileage         price         year       yrsOld\ncount    1482.000000   1482.000000  1482.000000  1482.000000\nmean    25317.961538  57690.561404  2019.157220     1.842780\nstd     28735.661934   9876.388724     1.802236     1.802236\nmin         0.000000  45180.000000  2011.000000     0.000000\n25%      4900.000000  48996.000000  2018.000000     0.000000\n50%     14900.000000  54999.000000  2020.000000     1.000000\n75%     36402.500000  64900.000000  2021.000000     3.000000\nmax    220000.000000  79999.000000  2021.000000    10.000000",
      "text/html": "<div>\n<style scoped>\n    .dataframe tbody tr th:only-of-type {\n        vertical-align: middle;\n    }\n\n    .dataframe tbody tr th {\n        vertical-align: top;\n    }\n\n    .dataframe thead th {\n        text-align: right;\n    }\n</style>\n<table border=\"1\" class=\"dataframe\">\n  <thead>\n    <tr style=\"text-align: right;\">\n      <th></th>\n      <th>mileage</th>\n      <th>price</th>\n      <th>year</th>\n      <th>yrsOld</th>\n    </tr>\n  </thead>\n  <tbody>\n    <tr>\n      <th>count</th>\n      <td>1482.000000</td>\n      <td>1482.000000</td>\n      <td>1482.000000</td>\n      <td>1482.000000</td>\n    </tr>\n    <tr>\n      <th>mean</th>\n      <td>25317.961538</td>\n      <td>57690.561404</td>\n      <td>2019.157220</td>\n      <td>1.842780</td>\n    </tr>\n    <tr>\n      <th>std</th>\n      <td>28735.661934</td>\n      <td>9876.388724</td>\n      <td>1.802236</td>\n      <td>1.802236</td>\n    </tr>\n    <tr>\n      <th>min</th>\n      <td>0.000000</td>\n      <td>45180.000000</td>\n      <td>2011.000000</td>\n      <td>0.000000</td>\n    </tr>\n    <tr>\n      <th>25%</th>\n      <td>4900.000000</td>\n      <td>48996.000000</td>\n      <td>2018.000000</td>\n      <td>0.000000</td>\n    </tr>\n    <tr>\n      <th>50%</th>\n      <td>14900.000000</td>\n      <td>54999.000000</td>\n      <td>2020.000000</td>\n      <td>1.000000</td>\n    </tr>\n    <tr>\n      <th>75%</th>\n      <td>36402.500000</td>\n      <td>64900.000000</td>\n      <td>2021.000000</td>\n      <td>3.000000</td>\n    </tr>\n    <tr>\n      <th>max</th>\n      <td>220000.000000</td>\n      <td>79999.000000</td>\n      <td>2021.000000</td>\n      <td>10.000000</td>\n    </tr>\n  </tbody>\n</table>\n</div>"
     },
     "execution_count": 67,
     "metadata": {},
     "output_type": "execute_result"
    }
   ],
   "source": [
    "df_autos[(df_autos.price <8 * 10 ** 4) & (df_autos.price >4.5 * 10 ** 4)].describe()\n"
   ],
   "metadata": {
    "collapsed": false,
    "ExecuteTime": {
     "start_time": "2024-01-07T22:04:04.669207Z",
     "end_time": "2024-01-07T22:04:05.595460Z"
    }
   }
  },
  {
   "cell_type": "code",
   "execution_count": 68,
   "outputs": [
    {
     "data": {
      "text/plain": "        mileage      price    year  yrsOld\ncount     492.0      492.0   492.0   492.0\nmean    17454.0   135368.0  2019.0     2.0\nstd     22521.0    87086.0     2.0     2.0\nmin         1.0    80990.0  2011.0     0.0\n25%      3038.0    92792.0  2018.0     0.0\n50%      9900.0   109900.0  2020.0     1.0\n75%     22834.0   142048.0  2021.0     3.0\nmax    199789.0  1199900.0  2021.0    10.0",
      "text/html": "<div>\n<style scoped>\n    .dataframe tbody tr th:only-of-type {\n        vertical-align: middle;\n    }\n\n    .dataframe tbody tr th {\n        vertical-align: top;\n    }\n\n    .dataframe thead th {\n        text-align: right;\n    }\n</style>\n<table border=\"1\" class=\"dataframe\">\n  <thead>\n    <tr style=\"text-align: right;\">\n      <th></th>\n      <th>mileage</th>\n      <th>price</th>\n      <th>year</th>\n      <th>yrsOld</th>\n    </tr>\n  </thead>\n  <tbody>\n    <tr>\n      <th>count</th>\n      <td>492.0</td>\n      <td>492.0</td>\n      <td>492.0</td>\n      <td>492.0</td>\n    </tr>\n    <tr>\n      <th>mean</th>\n      <td>17454.0</td>\n      <td>135368.0</td>\n      <td>2019.0</td>\n      <td>2.0</td>\n    </tr>\n    <tr>\n      <th>std</th>\n      <td>22521.0</td>\n      <td>87086.0</td>\n      <td>2.0</td>\n      <td>2.0</td>\n    </tr>\n    <tr>\n      <th>min</th>\n      <td>1.0</td>\n      <td>80990.0</td>\n      <td>2011.0</td>\n      <td>0.0</td>\n    </tr>\n    <tr>\n      <th>25%</th>\n      <td>3038.0</td>\n      <td>92792.0</td>\n      <td>2018.0</td>\n      <td>0.0</td>\n    </tr>\n    <tr>\n      <th>50%</th>\n      <td>9900.0</td>\n      <td>109900.0</td>\n      <td>2020.0</td>\n      <td>1.0</td>\n    </tr>\n    <tr>\n      <th>75%</th>\n      <td>22834.0</td>\n      <td>142048.0</td>\n      <td>2021.0</td>\n      <td>3.0</td>\n    </tr>\n    <tr>\n      <th>max</th>\n      <td>199789.0</td>\n      <td>1199900.0</td>\n      <td>2021.0</td>\n      <td>10.0</td>\n    </tr>\n  </tbody>\n</table>\n</div>"
     },
     "execution_count": 68,
     "metadata": {},
     "output_type": "execute_result"
    }
   ],
   "source": [
    "round(df_autos[df_autos.price >8 * 10 ** 4].describe())"
   ],
   "metadata": {
    "collapsed": false,
    "ExecuteTime": {
     "start_time": "2024-01-07T22:04:04.669815Z",
     "end_time": "2024-01-07T22:04:05.598507Z"
    }
   }
  },
  {
   "cell_type": "code",
   "execution_count": 69,
   "outputs": [
    {
     "data": {
      "text/plain": "            mileage         price          year        yrsOld\ncount  4.442900e+04  44429.000000  44429.000000  44429.000000\nmean   7.330012e+04  13883.963875   2015.874586      5.125414\nstd    6.289922e+04   9068.360996      3.127153      3.127153\nmin    0.000000e+00   1100.000000   2011.000000      0.000000\n25%    2.200000e+04   7399.000000   2013.000000      2.000000\n50%    6.283100e+04  10880.000000   2016.000000      5.000000\n75%    1.077500e+05  17840.000000   2019.000000      8.000000\nmax    1.111111e+06  44999.000000   2021.000000     10.000000",
      "text/html": "<div>\n<style scoped>\n    .dataframe tbody tr th:only-of-type {\n        vertical-align: middle;\n    }\n\n    .dataframe tbody tr th {\n        vertical-align: top;\n    }\n\n    .dataframe thead th {\n        text-align: right;\n    }\n</style>\n<table border=\"1\" class=\"dataframe\">\n  <thead>\n    <tr style=\"text-align: right;\">\n      <th></th>\n      <th>mileage</th>\n      <th>price</th>\n      <th>year</th>\n      <th>yrsOld</th>\n    </tr>\n  </thead>\n  <tbody>\n    <tr>\n      <th>count</th>\n      <td>4.442900e+04</td>\n      <td>44429.000000</td>\n      <td>44429.000000</td>\n      <td>44429.000000</td>\n    </tr>\n    <tr>\n      <th>mean</th>\n      <td>7.330012e+04</td>\n      <td>13883.963875</td>\n      <td>2015.874586</td>\n      <td>5.125414</td>\n    </tr>\n    <tr>\n      <th>std</th>\n      <td>6.289922e+04</td>\n      <td>9068.360996</td>\n      <td>3.127153</td>\n      <td>3.127153</td>\n    </tr>\n    <tr>\n      <th>min</th>\n      <td>0.000000e+00</td>\n      <td>1100.000000</td>\n      <td>2011.000000</td>\n      <td>0.000000</td>\n    </tr>\n    <tr>\n      <th>25%</th>\n      <td>2.200000e+04</td>\n      <td>7399.000000</td>\n      <td>2013.000000</td>\n      <td>2.000000</td>\n    </tr>\n    <tr>\n      <th>50%</th>\n      <td>6.283100e+04</td>\n      <td>10880.000000</td>\n      <td>2016.000000</td>\n      <td>5.000000</td>\n    </tr>\n    <tr>\n      <th>75%</th>\n      <td>1.077500e+05</td>\n      <td>17840.000000</td>\n      <td>2019.000000</td>\n      <td>8.000000</td>\n    </tr>\n    <tr>\n      <th>max</th>\n      <td>1.111111e+06</td>\n      <td>44999.000000</td>\n      <td>2021.000000</td>\n      <td>10.000000</td>\n    </tr>\n  </tbody>\n</table>\n</div>"
     },
     "execution_count": 69,
     "metadata": {},
     "output_type": "execute_result"
    }
   ],
   "source": [
    "df_autos[df_autos.price < 4.5 * 10 ** 4].describe()"
   ],
   "metadata": {
    "collapsed": false,
    "ExecuteTime": {
     "start_time": "2024-01-07T22:04:04.781879Z",
     "end_time": "2024-01-07T22:04:05.599720Z"
    }
   }
  },
  {
   "cell_type": "code",
   "execution_count": 70,
   "outputs": [
    {
     "data": {
      "text/plain": "            mileage         price          year        yrsOld\ncount  4.442900e+04  44429.000000  44429.000000  44429.000000\nmean   7.330012e+04  13883.963875   2015.874586      5.125414\nstd    6.289922e+04   9068.360996      3.127153      3.127153\nmin    0.000000e+00   1100.000000   2011.000000      0.000000\n25%    2.200000e+04   7399.000000   2013.000000      2.000000\n50%    6.283100e+04  10880.000000   2016.000000      5.000000\n75%    1.077500e+05  17840.000000   2019.000000      8.000000\nmax    1.111111e+06  44999.000000   2021.000000     10.000000",
      "text/html": "<div>\n<style scoped>\n    .dataframe tbody tr th:only-of-type {\n        vertical-align: middle;\n    }\n\n    .dataframe tbody tr th {\n        vertical-align: top;\n    }\n\n    .dataframe thead th {\n        text-align: right;\n    }\n</style>\n<table border=\"1\" class=\"dataframe\">\n  <thead>\n    <tr style=\"text-align: right;\">\n      <th></th>\n      <th>mileage</th>\n      <th>price</th>\n      <th>year</th>\n      <th>yrsOld</th>\n    </tr>\n  </thead>\n  <tbody>\n    <tr>\n      <th>count</th>\n      <td>4.442900e+04</td>\n      <td>44429.000000</td>\n      <td>44429.000000</td>\n      <td>44429.000000</td>\n    </tr>\n    <tr>\n      <th>mean</th>\n      <td>7.330012e+04</td>\n      <td>13883.963875</td>\n      <td>2015.874586</td>\n      <td>5.125414</td>\n    </tr>\n    <tr>\n      <th>std</th>\n      <td>6.289922e+04</td>\n      <td>9068.360996</td>\n      <td>3.127153</td>\n      <td>3.127153</td>\n    </tr>\n    <tr>\n      <th>min</th>\n      <td>0.000000e+00</td>\n      <td>1100.000000</td>\n      <td>2011.000000</td>\n      <td>0.000000</td>\n    </tr>\n    <tr>\n      <th>25%</th>\n      <td>2.200000e+04</td>\n      <td>7399.000000</td>\n      <td>2013.000000</td>\n      <td>2.000000</td>\n    </tr>\n    <tr>\n      <th>50%</th>\n      <td>6.283100e+04</td>\n      <td>10880.000000</td>\n      <td>2016.000000</td>\n      <td>5.000000</td>\n    </tr>\n    <tr>\n      <th>75%</th>\n      <td>1.077500e+05</td>\n      <td>17840.000000</td>\n      <td>2019.000000</td>\n      <td>8.000000</td>\n    </tr>\n    <tr>\n      <th>max</th>\n      <td>1.111111e+06</td>\n      <td>44999.000000</td>\n      <td>2021.000000</td>\n      <td>10.000000</td>\n    </tr>\n  </tbody>\n</table>\n</div>"
     },
     "execution_count": 70,
     "metadata": {},
     "output_type": "execute_result"
    }
   ],
   "source": [
    "df_autos[df_autos.price < 4.5 * 10 ** 4].describe()"
   ],
   "metadata": {
    "collapsed": false,
    "ExecuteTime": {
     "start_time": "2024-01-07T22:04:04.900963Z",
     "end_time": "2024-01-07T22:04:05.615292Z"
    }
   }
  },
  {
   "cell_type": "code",
   "execution_count": 71,
   "outputs": [
    {
     "data": {
      "text/plain": "             mileage         price          year        yrsOld\ncount   11736.000000  11736.000000  11736.000000  11736.000000\nmean   109749.139826   5741.823620   2013.120825      7.879175\nstd     63034.656405   1242.010099      1.864308      1.864308\nmin         0.000000   1100.000000   2011.000000      1.000000\n25%     66773.500000   4950.000000   2012.000000      7.000000\n50%     97943.500000   5990.000000   2013.000000      8.000000\n75%    140054.500000   6800.000000   2014.000000      9.000000\nmax    999999.000000   7499.000000   2020.000000     10.000000",
      "text/html": "<div>\n<style scoped>\n    .dataframe tbody tr th:only-of-type {\n        vertical-align: middle;\n    }\n\n    .dataframe tbody tr th {\n        vertical-align: top;\n    }\n\n    .dataframe thead th {\n        text-align: right;\n    }\n</style>\n<table border=\"1\" class=\"dataframe\">\n  <thead>\n    <tr style=\"text-align: right;\">\n      <th></th>\n      <th>mileage</th>\n      <th>price</th>\n      <th>year</th>\n      <th>yrsOld</th>\n    </tr>\n  </thead>\n  <tbody>\n    <tr>\n      <th>count</th>\n      <td>11736.000000</td>\n      <td>11736.000000</td>\n      <td>11736.000000</td>\n      <td>11736.000000</td>\n    </tr>\n    <tr>\n      <th>mean</th>\n      <td>109749.139826</td>\n      <td>5741.823620</td>\n      <td>2013.120825</td>\n      <td>7.879175</td>\n    </tr>\n    <tr>\n      <th>std</th>\n      <td>63034.656405</td>\n      <td>1242.010099</td>\n      <td>1.864308</td>\n      <td>1.864308</td>\n    </tr>\n    <tr>\n      <th>min</th>\n      <td>0.000000</td>\n      <td>1100.000000</td>\n      <td>2011.000000</td>\n      <td>1.000000</td>\n    </tr>\n    <tr>\n      <th>25%</th>\n      <td>66773.500000</td>\n      <td>4950.000000</td>\n      <td>2012.000000</td>\n      <td>7.000000</td>\n    </tr>\n    <tr>\n      <th>50%</th>\n      <td>97943.500000</td>\n      <td>5990.000000</td>\n      <td>2013.000000</td>\n      <td>8.000000</td>\n    </tr>\n    <tr>\n      <th>75%</th>\n      <td>140054.500000</td>\n      <td>6800.000000</td>\n      <td>2014.000000</td>\n      <td>9.000000</td>\n    </tr>\n    <tr>\n      <th>max</th>\n      <td>999999.000000</td>\n      <td>7499.000000</td>\n      <td>2020.000000</td>\n      <td>10.000000</td>\n    </tr>\n  </tbody>\n</table>\n</div>"
     },
     "execution_count": 71,
     "metadata": {},
     "output_type": "execute_result"
    }
   ],
   "source": [
    "df_autos[df_autos.price<7500].describe()"
   ],
   "metadata": {
    "collapsed": false,
    "ExecuteTime": {
     "start_time": "2024-01-07T22:04:04.982026Z",
     "end_time": "2024-01-07T22:04:05.616357Z"
    }
   }
  },
  {
   "cell_type": "code",
   "execution_count": 72,
   "outputs": [
    {
     "data": {
      "text/plain": "<Axes: >"
     },
     "execution_count": 72,
     "metadata": {},
     "output_type": "execute_result"
    },
    {
     "data": {
      "text/plain": "<Figure size 640x480 with 1 Axes>",
      "image/png": "[encoded data removed]"
     },
     "metadata": {},
     "output_type": "display_data"
    }
   ],
   "source": [
    "df_autos[df_autos.price < 3500].price.plot(kind='box')"
   ],
   "metadata": {
    "collapsed": false,
    "ExecuteTime": {
     "start_time": "2024-01-07T22:04:05.184970Z",
     "end_time": "2024-01-07T22:04:06.243813Z"
    }
   }
  },
  {
   "cell_type": "code",
   "execution_count": 73,
   "outputs": [
    {
     "data": {
      "text/plain": "<Axes: ylabel='Frequency'>"
     },
     "execution_count": 73,
     "metadata": {},
     "output_type": "execute_result"
    },
    {
     "data": {
      "text/plain": "<Figure size 640x480 with 1 Axes>",
      "image/png": "[encoded data removed]"
     },
     "metadata": {},
     "output_type": "display_data"
    }
   ],
   "source": [
    "df_autos[df_autos.price<45000].price.plot(kind='hist',bins=40)"
   ],
   "metadata": {
    "collapsed": false,
    "ExecuteTime": {
     "start_time": "2024-01-07T22:04:05.675732Z",
     "end_time": "2024-01-07T22:04:07.285593Z"
    }
   }
  },
  {
   "cell_type": "code",
   "execution_count": 74,
   "outputs": [
    {
     "data": {
      "text/plain": "(41152, 11)"
     },
     "execution_count": 74,
     "metadata": {},
     "output_type": "execute_result"
    }
   ],
   "source": [
    "df_autos[df_autos.price<30500].shape"
   ],
   "metadata": {
    "collapsed": false,
    "ExecuteTime": {
     "start_time": "2024-01-07T22:04:06.495937Z",
     "end_time": "2024-01-07T22:04:07.286431Z"
    }
   }
  },
  {
   "cell_type": "code",
   "execution_count": 75,
   "outputs": [
    {
     "data": {
      "text/plain": "(4761, 11)"
     },
     "execution_count": 75,
     "metadata": {},
     "output_type": "execute_result"
    }
   ],
   "source": [
    "df_autos[(df_autos.price>=30500)&(df_autos.price<80000)].shape"
   ],
   "metadata": {
    "collapsed": false,
    "ExecuteTime": {
     "start_time": "2024-01-07T22:04:06.530109Z",
     "end_time": "2024-01-07T22:04:07.287180Z"
    }
   }
  },
  {
   "cell_type": "code",
   "execution_count": 76,
   "outputs": [],
   "source": [
    "#df_luxury= df_autos[df_autos.price>=8*10**4].copy().reset_index()"
   ],
   "metadata": {
    "collapsed": false,
    "ExecuteTime": {
     "start_time": "2024-01-07T22:04:06.568002Z",
     "end_time": "2024-01-07T22:04:07.364415Z"
    }
   }
  },
  {
   "cell_type": "code",
   "execution_count": 77,
   "outputs": [],
   "source": [
    "#df_luxury.groupby('make').price.mean()"
   ],
   "metadata": {
    "collapsed": false,
    "ExecuteTime": {
     "start_time": "2024-01-07T22:04:06.597475Z",
     "end_time": "2024-01-07T22:04:07.430557Z"
    }
   }
  },
  {
   "cell_type": "code",
   "execution_count": 78,
   "outputs": [],
   "source": [
    "#df_luxury.hp.mean()"
   ],
   "metadata": {
    "collapsed": false,
    "ExecuteTime": {
     "start_time": "2024-01-07T22:04:06.624180Z",
     "end_time": "2024-01-07T22:04:07.432711Z"
    }
   }
  },
  {
   "cell_type": "code",
   "execution_count": 79,
   "outputs": [],
   "source": [
    "#df_luxury.make.value_counts().head(10)"
   ],
   "metadata": {
    "collapsed": false,
    "ExecuteTime": {
     "start_time": "2024-01-07T22:04:06.649686Z",
     "end_time": "2024-01-07T22:04:07.434260Z"
    }
   }
  },
  {
   "cell_type": "code",
   "execution_count": 80,
   "outputs": [],
   "source": [
    "#top_lux_10= df_luxury.make.value_counts().head(10).index.tolist()"
   ],
   "metadata": {
    "collapsed": false,
    "ExecuteTime": {
     "start_time": "2024-01-07T22:04:06.664626Z",
     "end_time": "2024-01-07T22:04:07.435077Z"
    }
   }
  },
  {
   "cell_type": "code",
   "execution_count": 81,
   "outputs": [],
   "source": [
    "#top_lux_10"
   ],
   "metadata": {
    "collapsed": false,
    "ExecuteTime": {
     "start_time": "2024-01-07T22:04:06.684470Z",
     "end_time": "2024-01-07T22:04:07.488200Z"
    }
   }
  },
  {
   "cell_type": "code",
   "execution_count": 82,
   "outputs": [],
   "source": [
    "#round(df_luxury[df_luxury.make.isin(top_lux_10)].groupby('make').price.mean())"
   ],
   "metadata": {
    "collapsed": false,
    "ExecuteTime": {
     "start_time": "2024-01-07T22:04:06.700393Z",
     "end_time": "2024-01-07T22:04:07.488988Z"
    }
   }
  },
  {
   "cell_type": "markdown",
   "source": [
    "the price correlation. How is price correlated with a) mileage or b)horsepower? Also, can"
   ],
   "metadata": {
    "collapsed": false
   }
  }
 ],
 "metadata": {
  "kernelspec": {
   "display_name": "Python 3",
   "language": "python",
   "name": "python3"
  },
  "language_info": {
   "codemirror_mode": {
    "name": "ipython",
    "version": 2
   },
   "file_extension": ".py",
   "mimetype": "text/x-python",
   "name": "python",
   "nbconvert_exporter": "python",
   "pygments_lexer": "ipython2",
   "version": "2.7.6"
  }
 },
 "nbformat": 4,
 "nbformat_minor": 0
}
