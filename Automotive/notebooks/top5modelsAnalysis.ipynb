{
 "cells": [
  {
   "cell_type": "code",
   "execution_count": 68,
   "metadata": {
    "collapsed": true,
    "ExecuteTime": {
     "start_time": "2023-12-30T17:17:45.148828Z",
     "end_time": "2023-12-30T17:17:45.240432Z"
    }
   },
   "outputs": [],
   "source": [
    "import pandas as pd\n",
    "import numpy as np\n",
    "import matplotlib.pyplot as plt"
   ]
  },
  {
   "cell_type": "code",
   "execution_count": 69,
   "outputs": [],
   "source": [
    "df_joined_stuff = pd.read_pickle('/Users/pkc/PycharmProjects/pythonProject/Automotive/df_joined_country.pickle')"
   ],
   "metadata": {
    "collapsed": false,
    "ExecuteTime": {
     "start_time": "2023-12-30T17:17:45.177168Z",
     "end_time": "2023-12-30T17:17:45.266989Z"
    }
   }
  },
  {
   "cell_type": "code",
   "execution_count": 70,
   "outputs": [
    {
     "data": {
      "text/plain": "   mileage        make   model      fuel    gear offerType  price     hp   \n0   235000         BMW     316    Diesel  Manual      Used   6800  116.0  \\\n1    92800  Volkswagen    Golf  Gasoline  Manual      Used   6877  122.0   \n2   149300        SEAT    Exeo  Gasoline  Manual      Used   6900  160.0   \n3    96200     Renault  Megane  Gasoline  Manual      Used   6950  110.0   \n4   156000     Peugeot     308  Gasoline  Manual      Used   6950  156.0   \n\n   year  country  \n0  2011  Germany  \n1  2011  Germany  \n2  2011    Spain  \n3  2011   France  \n4  2011   France  ",
      "text/html": "<div>\n<style scoped>\n    .dataframe tbody tr th:only-of-type {\n        vertical-align: middle;\n    }\n\n    .dataframe tbody tr th {\n        vertical-align: top;\n    }\n\n    .dataframe thead th {\n        text-align: right;\n    }\n</style>\n<table border=\"1\" class=\"dataframe\">\n  <thead>\n    <tr style=\"text-align: right;\">\n      <th></th>\n      <th>mileage</th>\n      <th>make</th>\n      <th>model</th>\n      <th>fuel</th>\n      <th>gear</th>\n      <th>offerType</th>\n      <th>price</th>\n      <th>hp</th>\n      <th>year</th>\n      <th>country</th>\n    </tr>\n  </thead>\n  <tbody>\n    <tr>\n      <th>0</th>\n      <td>235000</td>\n      <td>BMW</td>\n      <td>316</td>\n      <td>Diesel</td>\n      <td>Manual</td>\n      <td>Used</td>\n      <td>6800</td>\n      <td>116.0</td>\n      <td>2011</td>\n      <td>Germany</td>\n    </tr>\n    <tr>\n      <th>1</th>\n      <td>92800</td>\n      <td>Volkswagen</td>\n      <td>Golf</td>\n      <td>Gasoline</td>\n      <td>Manual</td>\n      <td>Used</td>\n      <td>6877</td>\n      <td>122.0</td>\n      <td>2011</td>\n      <td>Germany</td>\n    </tr>\n    <tr>\n      <th>2</th>\n      <td>149300</td>\n      <td>SEAT</td>\n      <td>Exeo</td>\n      <td>Gasoline</td>\n      <td>Manual</td>\n      <td>Used</td>\n      <td>6900</td>\n      <td>160.0</td>\n      <td>2011</td>\n      <td>Spain</td>\n    </tr>\n    <tr>\n      <th>3</th>\n      <td>96200</td>\n      <td>Renault</td>\n      <td>Megane</td>\n      <td>Gasoline</td>\n      <td>Manual</td>\n      <td>Used</td>\n      <td>6950</td>\n      <td>110.0</td>\n      <td>2011</td>\n      <td>France</td>\n    </tr>\n    <tr>\n      <th>4</th>\n      <td>156000</td>\n      <td>Peugeot</td>\n      <td>308</td>\n      <td>Gasoline</td>\n      <td>Manual</td>\n      <td>Used</td>\n      <td>6950</td>\n      <td>156.0</td>\n      <td>2011</td>\n      <td>France</td>\n    </tr>\n  </tbody>\n</table>\n</div>"
     },
     "execution_count": 70,
     "metadata": {},
     "output_type": "execute_result"
    }
   ],
   "source": [
    "df_joined_stuff.head()"
   ],
   "metadata": {
    "collapsed": false,
    "ExecuteTime": {
     "start_time": "2023-12-30T17:17:45.276366Z",
     "end_time": "2023-12-30T17:17:45.297373Z"
    }
   }
  },
  {
   "cell_type": "code",
   "execution_count": 71,
   "outputs": [],
   "source": [
    "top5List= df_joined_stuff.model.value_counts().head().index.tolist()"
   ],
   "metadata": {
    "collapsed": false,
    "ExecuteTime": {
     "start_time": "2023-12-30T17:17:45.333067Z",
     "end_time": "2023-12-30T17:17:45.357847Z"
    }
   }
  },
  {
   "cell_type": "code",
   "execution_count": 72,
   "outputs": [],
   "source": [
    "df_top_5_models= df_joined_stuff[df_joined_stuff.model.isin(top5List)].copy()"
   ],
   "metadata": {
    "collapsed": false,
    "ExecuteTime": {
     "start_time": "2023-12-30T17:17:45.360808Z",
     "end_time": "2023-12-30T17:17:45.556411Z"
    }
   }
  },
  {
   "cell_type": "markdown",
   "source": [
    "how to find yr over yr depreciation for dataset:\n",
    "1. Identify top 5 or 10 most popular brand model (will give you the most sample space)\n",
    "2. topXList = df.model.value_counts().head(X).index.tolist()\n",
    "3. df_top_X_model= df[df.model.isin(topXList)].copy()\n",
    "4."
   ],
   "metadata": {
    "collapsed": false
   }
  },
  {
   "cell_type": "code",
   "execution_count": 73,
   "outputs": [
    {
     "data": {
      "text/plain": "['Golf', 'Corsa', 'Fiesta', 'Astra', 'Focus']"
     },
     "execution_count": 73,
     "metadata": {},
     "output_type": "execute_result"
    }
   ],
   "source": [
    "top5List"
   ],
   "metadata": {
    "collapsed": false,
    "ExecuteTime": {
     "start_time": "2023-12-30T17:17:45.393375Z",
     "end_time": "2023-12-30T17:17:45.600135Z"
    }
   }
  },
  {
   "cell_type": "code",
   "execution_count": 74,
   "outputs": [
    {
     "data": {
      "text/plain": "model   year\nAstra   2011     5668.5\n        2012     6441.7\n        2013     7356.9\n        2014     7732.4\n        2015     8397.2\n        2016    10030.8\n        2017     9686.2\n        2018    11312.8\n        2019    14631.9\n        2020    18579.4\n        2021    20635.3\nCorsa   2011     4613.4\n        2012     5195.3\n        2013     5615.2\n        2014     6263.4\n        2015     7553.6\n        2016     7710.5\n        2017     8692.2\n        2018     9777.8\n        2019    11747.9\n        2020    15313.2\n        2021    17204.7\nFiesta  2011     4912.1\n        2012     5668.8\n        2013     6222.9\n        2014     6963.7\n        2015     7488.3\n        2016     8352.3\n        2017     8963.7\n        2018    10595.1\n        2019    12464.7\n        2020    15453.1\n        2021    17625.0\nFocus   2011     5496.5\n        2012     6716.4\n        2013     7055.9\n        2014     8044.0\n        2015     9365.6\n        2016     9502.9\n        2017    11773.9\n        2018    12926.3\n        2019    19326.1\n        2020    22994.0\n        2021    25209.6\nGolf    2011     7144.7\n        2012     7643.3\n        2013     9917.3\n        2014    10815.5\n        2015    11461.4\n        2016    12366.5\n        2017    15449.4\n        2018    16492.5\n        2019    21596.4\n        2020    25178.1\n        2021    32598.9\nName: price, dtype: float64"
     },
     "execution_count": 74,
     "metadata": {},
     "output_type": "execute_result"
    }
   ],
   "source": [
    "round(df_top_5_models.groupby(['model','year']).price.mean(),1)"
   ],
   "metadata": {
    "collapsed": false,
    "ExecuteTime": {
     "start_time": "2023-12-30T17:17:45.413496Z",
     "end_time": "2023-12-30T17:17:45.608338Z"
    }
   }
  },
  {
   "cell_type": "code",
   "execution_count": 75,
   "outputs": [
    {
     "data": {
      "text/plain": "model   year\nAstra   2016    10031.0\n        2017     9686.0\n        2018    11313.0\n        2019    14632.0\n        2020    18579.0\n        2021    20635.0\nCorsa   2016     7710.0\n        2017     8692.0\n        2018     9778.0\n        2019    11748.0\n        2020    15313.0\n        2021    17205.0\nFiesta  2016     8352.0\n        2017     8964.0\n        2018    10595.0\n        2019    12465.0\n        2020    15453.0\n        2021    17625.0\nFocus   2016     9503.0\n        2017    11774.0\n        2018    12926.0\n        2019    19326.0\n        2020    22994.0\n        2021    25210.0\nGolf    2016    12367.0\n        2017    15449.0\n        2018    16492.0\n        2019    21596.0\n        2020    25178.0\n        2021    32599.0\nName: price, dtype: float64"
     },
     "execution_count": 75,
     "metadata": {},
     "output_type": "execute_result"
    }
   ],
   "source": [
    "round(df_top_5_models[df_top_5_models.year>2015].groupby(['model','year']).price.mean())"
   ],
   "metadata": {
    "collapsed": false,
    "ExecuteTime": {
     "start_time": "2023-12-30T17:17:45.446419Z",
     "end_time": "2023-12-30T17:17:45.613261Z"
    }
   }
  },
  {
   "cell_type": "code",
   "execution_count": 76,
   "outputs": [],
   "source": [
    "df_top_5_models['yrsOld']= abs(df_top_5_models.year-2021)"
   ],
   "metadata": {
    "collapsed": false,
    "ExecuteTime": {
     "start_time": "2023-12-30T17:17:45.472633Z",
     "end_time": "2023-12-30T17:17:45.637734Z"
    }
   }
  },
  {
   "cell_type": "code",
   "execution_count": 77,
   "outputs": [
    {
     "data": {
      "text/plain": "yrsOld\n0     19924.0\n1     19863.0\n2     15104.5\n3     11989.2\n4     10497.3\n5      9654.6\n6      9078.7\n7      8035.1\n8      7422.9\n9      6392.3\n10     5802.1\nName: price, dtype: float64"
     },
     "execution_count": 77,
     "metadata": {},
     "output_type": "execute_result"
    }
   ],
   "source": [
    "round(df_top_5_models.groupby(['yrsOld']).price.mean(),1)"
   ],
   "metadata": {
    "collapsed": false,
    "ExecuteTime": {
     "start_time": "2023-12-30T17:17:45.496929Z",
     "end_time": "2023-12-30T17:17:45.638440Z"
    }
   }
  },
  {
   "cell_type": "code",
   "execution_count": 80,
   "outputs": [
    {
     "data": {
      "text/plain": "model   yrsOld\nAstra   0         20635.3\n        1         18579.4\n        2         14631.9\n        3         11312.8\n        4          9686.2\n        5         10030.8\n        6          8397.2\n        7          7732.4\n        8          7356.9\n        9          6441.7\n        10         5668.5\nCorsa   0         17204.7\n        1         15313.2\n        2         11747.9\n        3          9777.8\n        4          8692.2\n        5          7710.5\n        6          7553.6\n        7          6263.4\n        8          5615.2\n        9          5195.3\n        10         4613.4\nFiesta  0         17625.0\n        1         15453.1\n        2         12464.7\n        3         10595.1\n        4          8963.7\n        5          8352.3\n        6          7488.3\n        7          6963.7\n        8          6222.9\n        9          5668.8\n        10         4912.1\nFocus   0         25209.6\n        1         22994.0\n        2         19326.1\n        3         12926.3\n        4         11773.9\n        5          9502.9\n        6          9365.6\n        7          8044.0\n        8          7055.9\n        9          6716.4\n        10         5496.5\nGolf    0         32598.9\n        1         25178.1\n        2         21596.4\n        3         16492.5\n        4         15449.4\n        5         12366.5\n        6         11461.4\n        7         10815.5\n        8          9917.3\n        9          7643.3\n        10         7144.7\nName: price, dtype: float64"
     },
     "execution_count": 80,
     "metadata": {},
     "output_type": "execute_result"
    }
   ],
   "source": [
    "round(df_top_5_models.groupby(['model','yrsOld']).price.mean(), 1)"
   ],
   "metadata": {
    "collapsed": false,
    "ExecuteTime": {
     "start_time": "2023-12-30T17:17:55.361915Z",
     "end_time": "2023-12-30T17:17:55.379414Z"
    }
   }
  },
  {
   "cell_type": "code",
   "execution_count": 117,
   "outputs": [
    {
     "data": {
      "text/plain": "yrsOld\n0     20635.0\n1     18579.0\n2     14632.0\n3     11313.0\n4      9686.0\n5     10031.0\n6      8397.0\n7      7732.0\n8      7357.0\n9      6442.0\n10     5669.0\nName: price, dtype: float64"
     },
     "execution_count": 117,
     "metadata": {},
     "output_type": "execute_result"
    }
   ],
   "source": [
    "round(df_top_5_models[df_top_5_models.model==\"Astra\"].groupby(['yrsOld']).price.mean())"
   ],
   "metadata": {
    "collapsed": false,
    "ExecuteTime": {
     "start_time": "2023-12-30T17:51:16.477834Z",
     "end_time": "2023-12-30T17:51:16.527991Z"
    }
   }
  },
  {
   "cell_type": "code",
   "execution_count": 93,
   "outputs": [],
   "source": [
    "prices=round(df_top_5_models[df_top_5_models.model=='Astra'].groupby('yrsOld').price.mean()).tolist()\n",
    "year=(df_top_5_models[df_top_5_models.model=='Astra'].groupby('yrsOld').price.mean()).index.tolist()"
   ],
   "metadata": {
    "collapsed": false,
    "ExecuteTime": {
     "start_time": "2023-12-30T17:36:02.724738Z",
     "end_time": "2023-12-30T17:36:02.740970Z"
    }
   }
  },
  {
   "cell_type": "code",
   "execution_count": 97,
   "outputs": [],
   "source": [
    "yearPriceArray= np.array([year,prices])"
   ],
   "metadata": {
    "collapsed": false,
    "ExecuteTime": {
     "start_time": "2023-12-30T17:43:26.685655Z",
     "end_time": "2023-12-30T17:43:26.694963Z"
    }
   }
  },
  {
   "cell_type": "code",
   "execution_count": 99,
   "outputs": [
    {
     "data": {
      "text/plain": "array([[0.0000e+00, 1.0000e+00, 2.0000e+00, 3.0000e+00, 4.0000e+00,\n        5.0000e+00, 6.0000e+00, 7.0000e+00, 8.0000e+00, 9.0000e+00,\n        1.0000e+01],\n       [2.0635e+04, 1.8579e+04, 1.4632e+04, 1.1313e+04, 9.6860e+03,\n        1.0031e+04, 8.3970e+03, 7.7320e+03, 7.3570e+03, 6.4420e+03,\n        5.6690e+03]])"
     },
     "execution_count": 99,
     "metadata": {},
     "output_type": "execute_result"
    }
   ],
   "source": [
    "yearPriceArray"
   ],
   "metadata": {
    "collapsed": false,
    "ExecuteTime": {
     "start_time": "2023-12-30T17:43:35.174194Z",
     "end_time": "2023-12-30T17:43:35.191532Z"
    }
   }
  },
  {
   "cell_type": "code",
   "execution_count": 101,
   "outputs": [],
   "source": [
    "newArray= yearPriceArray.astype(int)"
   ],
   "metadata": {
    "collapsed": false,
    "ExecuteTime": {
     "start_time": "2023-12-30T17:44:45.700751Z",
     "end_time": "2023-12-30T17:44:45.704471Z"
    }
   }
  },
  {
   "cell_type": "code",
   "execution_count": 105,
   "outputs": [],
   "source": [
    "makeList = [prices,year]"
   ],
   "metadata": {
    "collapsed": false,
    "ExecuteTime": {
     "start_time": "2023-12-30T17:46:08.362696Z",
     "end_time": "2023-12-30T17:46:08.376517Z"
    }
   }
  },
  {
   "cell_type": "code",
   "execution_count": 112,
   "outputs": [
    {
     "data": {
      "text/plain": "[[20635.0,\n  18579.0,\n  14632.0,\n  11313.0,\n  9686.0,\n  10031.0,\n  8397.0,\n  7732.0,\n  7357.0,\n  6442.0,\n  5669.0],\n [0, 1, 2, 3, 4, 5, 6, 7, 8, 9, 10]]"
     },
     "execution_count": 112,
     "metadata": {},
     "output_type": "execute_result"
    }
   ],
   "source": [
    "makeList"
   ],
   "metadata": {
    "collapsed": false,
    "ExecuteTime": {
     "start_time": "2023-12-30T17:46:58.912062Z",
     "end_time": "2023-12-30T17:46:58.930573Z"
    }
   }
  },
  {
   "cell_type": "code",
   "execution_count": 114,
   "outputs": [
    {
     "data": {
      "text/plain": "18579.0"
     },
     "execution_count": 114,
     "metadata": {},
     "output_type": "execute_result"
    }
   ],
   "source": [
    "makeList[0][1]"
   ],
   "metadata": {
    "collapsed": false,
    "ExecuteTime": {
     "start_time": "2023-12-30T17:49:13.674618Z",
     "end_time": "2023-12-30T17:49:13.700797Z"
    }
   }
  },
  {
   "cell_type": "code",
   "execution_count": 115,
   "outputs": [],
   "source": [
    "def findStraightLineDep(year):\n",
    "    salv_cost= makeList[0][0]-makeList[0][year]\n",
    "    return salv_cost/year"
   ],
   "metadata": {
    "collapsed": false,
    "ExecuteTime": {
     "start_time": "2023-12-30T17:49:40.807473Z",
     "end_time": "2023-12-30T17:49:40.821959Z"
    }
   }
  },
  {
   "cell_type": "code",
   "execution_count": 122,
   "outputs": [],
   "source": [
    "for i in range(1,10):\n",
    "    findStraightLineDep(i)"
   ],
   "metadata": {
    "collapsed": false,
    "ExecuteTime": {
     "start_time": "2023-12-30T17:52:49.131049Z",
     "end_time": "2023-12-30T17:52:49.138881Z"
    }
   }
  },
  {
   "cell_type": "code",
   "execution_count": 139,
   "outputs": [],
   "source": [
    "shitList = [findStraightLineDep(i) for i in year if i>0]"
   ],
   "metadata": {
    "collapsed": false,
    "ExecuteTime": {
     "start_time": "2023-12-30T17:55:40.614311Z",
     "end_time": "2023-12-30T17:55:40.633313Z"
    }
   }
  },
  {
   "cell_type": "code",
   "execution_count": 142,
   "outputs": [
    {
     "data": {
      "text/plain": "[2056.0,\n 3001.5,\n 3107.3333333333335,\n 2737.25,\n 2120.8,\n 2039.6666666666667,\n 1843.2857142857142,\n 1659.75,\n 1577.0,\n 1496.6]"
     },
     "execution_count": 142,
     "metadata": {},
     "output_type": "execute_result"
    }
   ],
   "source": [
    "shitList"
   ],
   "metadata": {
    "collapsed": false,
    "ExecuteTime": {
     "start_time": "2023-12-30T17:56:15.587547Z",
     "end_time": "2023-12-30T17:56:15.620247Z"
    }
   }
  },
  {
   "cell_type": "markdown",
   "source": [
    "i need to rework this so i don't get the division by zero for year zero, and then try to generalize this function for all models, that way you can see what the depreciation is for all models. This will allow you too see what the value retention is. But calculating the annual depreciation rate based on year, shows that the annual depreciation peaks at year three. this may confirm my hypothesis that owners want to move on from the car before it depreciates the most. Again, this is only one model, the Azteca, so I would have to apply this to more."
   ],
   "metadata": {
    "collapsed": false
   }
  }
 ],
 "metadata": {
  "kernelspec": {
   "display_name": "Python 3",
   "language": "python",
   "name": "python3"
  },
  "language_info": {
   "codemirror_mode": {
    "name": "ipython",
    "version": 2
   },
   "file_extension": ".py",
   "mimetype": "text/x-python",
   "name": "python",
   "nbconvert_exporter": "python",
   "pygments_lexer": "ipython2",
   "version": "2.7.6"
  }
 },
 "nbformat": 4,
 "nbformat_minor": 0
}
