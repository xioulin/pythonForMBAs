{
 "cells": [
  {
   "cell_type": "markdown",
   "source": [
    "a notebook to calculate value retention and depreciation. What statistical factors contribute to depreciation?"
   ],
   "metadata": {
    "collapsed": false
   }
  },
  {
   "cell_type": "code",
   "execution_count": 1,
   "metadata": {
    "collapsed": true,
    "ExecuteTime": {
     "end_time": "2024-02-21T18:20:45.966059Z",
     "start_time": "2024-02-21T18:20:44.492916Z"
    }
   },
   "outputs": [],
   "source": [
    "import pandas as pd"
   ]
  },
  {
   "cell_type": "code",
   "execution_count": 2,
   "outputs": [],
   "source": [
    "df = pd.read_pickle('/Users/pkc/PycharmProjects/pythonProject/Automotive/pickles/df_analyzed.pickle')"
   ],
   "metadata": {
    "collapsed": false,
    "ExecuteTime": {
     "end_time": "2024-02-21T18:20:46.057624Z",
     "start_time": "2024-02-21T18:20:45.969825Z"
    }
   }
  },
  {
   "cell_type": "markdown",
   "source": [
    "how to filter data down to all models with all ten years"
   ],
   "metadata": {
    "collapsed": false
   }
  },
  {
   "cell_type": "code",
   "execution_count": 19,
   "outputs": [],
   "source": [
    "year_list=df.year.value_counts().index.tolist()"
   ],
   "metadata": {
    "collapsed": false,
    "ExecuteTime": {
     "end_time": "2024-02-21T03:26:24.900271Z",
     "start_time": "2024-02-21T03:26:24.864338Z"
    }
   }
  },
  {
   "cell_type": "code",
   "execution_count": 20,
   "outputs": [],
   "source": [
    "year_list.sort()"
   ],
   "metadata": {
    "collapsed": false,
    "ExecuteTime": {
     "end_time": "2024-02-21T03:26:31.505250Z",
     "start_time": "2024-02-21T03:26:31.477046Z"
    }
   }
  },
  {
   "cell_type": "code",
   "execution_count": 21,
   "outputs": [
    {
     "data": {
      "text/plain": "[2011, 2012, 2013, 2014, 2015, 2016, 2017, 2018, 2019, 2020, 2021]"
     },
     "execution_count": 21,
     "metadata": {},
     "output_type": "execute_result"
    }
   ],
   "source": [
    "year_list"
   ],
   "metadata": {
    "collapsed": false,
    "ExecuteTime": {
     "end_time": "2024-02-21T03:26:37.505279Z",
     "start_time": "2024-02-21T03:26:37.464417Z"
    }
   }
  },
  {
   "cell_type": "markdown",
   "source": [
    "don't think this approach will work. need to just filter for where the len of hte set of years for each model is equal to ten"
   ],
   "metadata": {
    "collapsed": false
   }
  },
  {
   "cell_type": "code",
   "execution_count": 6,
   "outputs": [],
   "source": [
    "df_models_count= df.model.value_counts().to_frame()"
   ],
   "metadata": {
    "collapsed": false,
    "ExecuteTime": {
     "end_time": "2024-02-21T18:47:52.336328Z",
     "start_time": "2024-02-21T18:47:52.312109Z"
    }
   }
  },
  {
   "cell_type": "code",
   "execution_count": 12,
   "outputs": [
    {
     "data": {
      "text/plain": "          model  count\n0          Golf   1492\n1         Corsa   1491\n2        Fiesta   1289\n3         Astra   1191\n4         Focus    985\n..          ...    ...\n837     Huracan      1\n838       MUSSO      1\n839  Cross Golf      1\n840      SL 350      1\n841       NV250      1\n\n[842 rows x 2 columns]",
      "text/html": "<div>\n<style scoped>\n    .dataframe tbody tr th:only-of-type {\n        vertical-align: middle;\n    }\n\n    .dataframe tbody tr th {\n        vertical-align: top;\n    }\n\n    .dataframe thead th {\n        text-align: right;\n    }\n</style>\n<table border=\"1\" class=\"dataframe\">\n  <thead>\n    <tr style=\"text-align: right;\">\n      <th></th>\n      <th>model</th>\n      <th>count</th>\n    </tr>\n  </thead>\n  <tbody>\n    <tr>\n      <th>0</th>\n      <td>Golf</td>\n      <td>1492</td>\n    </tr>\n    <tr>\n      <th>1</th>\n      <td>Corsa</td>\n      <td>1491</td>\n    </tr>\n    <tr>\n      <th>2</th>\n      <td>Fiesta</td>\n      <td>1289</td>\n    </tr>\n    <tr>\n      <th>3</th>\n      <td>Astra</td>\n      <td>1191</td>\n    </tr>\n    <tr>\n      <th>4</th>\n      <td>Focus</td>\n      <td>985</td>\n    </tr>\n    <tr>\n      <th>...</th>\n      <td>...</td>\n      <td>...</td>\n    </tr>\n    <tr>\n      <th>837</th>\n      <td>Huracan</td>\n      <td>1</td>\n    </tr>\n    <tr>\n      <th>838</th>\n      <td>MUSSO</td>\n      <td>1</td>\n    </tr>\n    <tr>\n      <th>839</th>\n      <td>Cross Golf</td>\n      <td>1</td>\n    </tr>\n    <tr>\n      <th>840</th>\n      <td>SL 350</td>\n      <td>1</td>\n    </tr>\n    <tr>\n      <th>841</th>\n      <td>NV250</td>\n      <td>1</td>\n    </tr>\n  </tbody>\n</table>\n<p>842 rows × 2 columns</p>\n</div>"
     },
     "execution_count": 12,
     "metadata": {},
     "output_type": "execute_result"
    }
   ],
   "source": [
    "df_models_count.reset_index()"
   ],
   "metadata": {
    "collapsed": false,
    "ExecuteTime": {
     "end_time": "2024-02-21T18:51:55.506998Z",
     "start_time": "2024-02-21T18:51:55.391475Z"
    }
   }
  },
  {
   "cell_type": "code",
   "execution_count": 23,
   "outputs": [],
   "source": [
    "df_top20=df_models_count.head(20).copy()"
   ],
   "metadata": {
    "collapsed": false,
    "ExecuteTime": {
     "end_time": "2024-02-21T18:54:45.278498Z",
     "start_time": "2024-02-21T18:54:45.254755Z"
    }
   }
  },
  {
   "cell_type": "code",
   "execution_count": 25,
   "outputs": [],
   "source": [
    "top20list=df_top20.index.tolist()"
   ],
   "metadata": {
    "collapsed": false,
    "ExecuteTime": {
     "end_time": "2024-02-21T18:55:17.746680Z",
     "start_time": "2024-02-21T18:55:17.724242Z"
    }
   }
  },
  {
   "cell_type": "code",
   "execution_count": 31,
   "outputs": [],
   "source": [
    "df_top20=df[df.model.isin(top20list)].copy()"
   ],
   "metadata": {
    "collapsed": false,
    "ExecuteTime": {
     "end_time": "2024-02-21T18:57:30.085472Z",
     "start_time": "2024-02-21T18:57:30.062811Z"
    }
   }
  },
  {
   "cell_type": "code",
   "execution_count": 33,
   "outputs": [
    {
     "data": {
      "text/plain": "model  year\n500    2021    234\n       2020     86\n       2019     63\n       2014     51\n       2015     43\n              ... \nup!    2013     73\n       2019     45\n       2021     22\n       2020     21\n       2011      7\nName: count, Length: 220, dtype: int64"
     },
     "execution_count": 33,
     "metadata": {},
     "output_type": "execute_result"
    }
   ],
   "source": [
    "df_top20.groupby('model').year.value_counts()"
   ],
   "metadata": {
    "collapsed": false,
    "ExecuteTime": {
     "end_time": "2024-02-21T18:57:58.156276Z",
     "start_time": "2024-02-21T18:57:58.128406Z"
    }
   }
  },
  {
   "cell_type": "code",
   "execution_count": 37,
   "outputs": [],
   "source": [
    "df_model_year_price=df_top20.groupby(['model','year']).price.mean().copy().to_frame()"
   ],
   "metadata": {
    "collapsed": false,
    "ExecuteTime": {
     "end_time": "2024-02-21T19:11:41.534691Z",
     "start_time": "2024-02-21T19:11:41.507548Z"
    }
   }
  },
  {
   "cell_type": "code",
   "execution_count": 42,
   "outputs": [],
   "source": [
    "df_myp=df_model_year_price.reset_index()"
   ],
   "metadata": {
    "collapsed": false,
    "ExecuteTime": {
     "end_time": "2024-02-21T19:13:22.375058Z",
     "start_time": "2024-02-21T19:13:22.284742Z"
    }
   }
  },
  {
   "cell_type": "code",
   "execution_count": 43,
   "outputs": [
    {
     "data": {
      "text/plain": "Index(['model', 'year', 'price'], dtype='object')"
     },
     "execution_count": 43,
     "metadata": {},
     "output_type": "execute_result"
    }
   ],
   "source": [
    "df_myp.columns"
   ],
   "metadata": {
    "collapsed": false,
    "ExecuteTime": {
     "end_time": "2024-02-21T19:13:29.985951Z",
     "start_time": "2024-02-21T19:13:29.785966Z"
    }
   }
  },
  {
   "cell_type": "code",
   "execution_count": 44,
   "outputs": [
    {
     "data": {
      "text/plain": "model\n500        11\nA3         11\ni10        11\nforTwo     11\nTwingo     11\nTiguan     11\nPolo       11\nOctavia    11\nLeon       11\nIbiza      11\nGolf       11\nFocus      11\nFiesta     11\nFabia      11\nCorsa      11\nClio       11\nAygo       11\nAstra      11\nA4         11\nup!        11\nName: count, dtype: int64"
     },
     "execution_count": 44,
     "metadata": {},
     "output_type": "execute_result"
    }
   ],
   "source": [
    "df_myp.model.value_counts()"
   ],
   "metadata": {
    "collapsed": false,
    "ExecuteTime": {
     "end_time": "2024-02-21T19:13:41.523048Z",
     "start_time": "2024-02-21T19:13:41.477585Z"
    }
   }
  },
  {
   "cell_type": "code",
   "execution_count": 46,
   "outputs": [],
   "source": [
    "df_myp['yrsOld']= abs(df_myp.year-2021)"
   ],
   "metadata": {
    "collapsed": false,
    "ExecuteTime": {
     "end_time": "2024-02-21T19:17:56.347866Z",
     "start_time": "2024-02-21T19:17:56.328814Z"
    }
   }
  },
  {
   "cell_type": "code",
   "execution_count": 47,
   "outputs": [
    {
     "data": {
      "text/plain": "    model  year         price  yrsOld\n0     500  2011   5711.611111      10\n1     500  2012   6358.620690       9\n2     500  2013   6608.459459       8\n3     500  2014   7309.235294       7\n4     500  2015   7839.000000       6\n..    ...   ...           ...     ...\n215   up!  2017   7903.896907       4\n216   up!  2018   8476.690141       3\n217   up!  2019  10698.022222       2\n218   up!  2020  12025.761905       1\n219   up!  2021  14487.681818       0\n\n[220 rows x 4 columns]",
      "text/html": "<div>\n<style scoped>\n    .dataframe tbody tr th:only-of-type {\n        vertical-align: middle;\n    }\n\n    .dataframe tbody tr th {\n        vertical-align: top;\n    }\n\n    .dataframe thead th {\n        text-align: right;\n    }\n</style>\n<table border=\"1\" class=\"dataframe\">\n  <thead>\n    <tr style=\"text-align: right;\">\n      <th></th>\n      <th>model</th>\n      <th>year</th>\n      <th>price</th>\n      <th>yrsOld</th>\n    </tr>\n  </thead>\n  <tbody>\n    <tr>\n      <th>0</th>\n      <td>500</td>\n      <td>2011</td>\n      <td>5711.611111</td>\n      <td>10</td>\n    </tr>\n    <tr>\n      <th>1</th>\n      <td>500</td>\n      <td>2012</td>\n      <td>6358.620690</td>\n      <td>9</td>\n    </tr>\n    <tr>\n      <th>2</th>\n      <td>500</td>\n      <td>2013</td>\n      <td>6608.459459</td>\n      <td>8</td>\n    </tr>\n    <tr>\n      <th>3</th>\n      <td>500</td>\n      <td>2014</td>\n      <td>7309.235294</td>\n      <td>7</td>\n    </tr>\n    <tr>\n      <th>4</th>\n      <td>500</td>\n      <td>2015</td>\n      <td>7839.000000</td>\n      <td>6</td>\n    </tr>\n    <tr>\n      <th>...</th>\n      <td>...</td>\n      <td>...</td>\n      <td>...</td>\n      <td>...</td>\n    </tr>\n    <tr>\n      <th>215</th>\n      <td>up!</td>\n      <td>2017</td>\n      <td>7903.896907</td>\n      <td>4</td>\n    </tr>\n    <tr>\n      <th>216</th>\n      <td>up!</td>\n      <td>2018</td>\n      <td>8476.690141</td>\n      <td>3</td>\n    </tr>\n    <tr>\n      <th>217</th>\n      <td>up!</td>\n      <td>2019</td>\n      <td>10698.022222</td>\n      <td>2</td>\n    </tr>\n    <tr>\n      <th>218</th>\n      <td>up!</td>\n      <td>2020</td>\n      <td>12025.761905</td>\n      <td>1</td>\n    </tr>\n    <tr>\n      <th>219</th>\n      <td>up!</td>\n      <td>2021</td>\n      <td>14487.681818</td>\n      <td>0</td>\n    </tr>\n  </tbody>\n</table>\n<p>220 rows × 4 columns</p>\n</div>"
     },
     "execution_count": 47,
     "metadata": {},
     "output_type": "execute_result"
    }
   ],
   "source": [
    "df_myp"
   ],
   "metadata": {
    "collapsed": false,
    "ExecuteTime": {
     "end_time": "2024-02-21T19:18:08.295443Z",
     "start_time": "2024-02-21T19:18:08.251051Z"
    }
   }
  },
  {
   "cell_type": "code",
   "execution_count": 48,
   "outputs": [],
   "source": [
    "df_myp.price= round(df_myp.price)"
   ],
   "metadata": {
    "collapsed": false,
    "ExecuteTime": {
     "end_time": "2024-02-21T19:18:28.513762Z",
     "start_time": "2024-02-21T19:18:28.493031Z"
    }
   }
  },
  {
   "cell_type": "code",
   "execution_count": 49,
   "outputs": [],
   "source": [
    "df_myp= df_myp.rename(columns={'price':'avg_price'})"
   ],
   "metadata": {
    "collapsed": false,
    "ExecuteTime": {
     "end_time": "2024-02-21T19:18:51.267504Z",
     "start_time": "2024-02-21T19:18:51.253065Z"
    }
   }
  },
  {
   "cell_type": "code",
   "execution_count": 56,
   "outputs": [
    {
     "data": {
      "text/plain": "    model  year  avg_price  yrsOld\n10    500  2021    14157.0       0\n9     500  2020    13619.0       1\n8     500  2019    11490.0       2\n7     500  2018     9861.0       3\n6     500  2017     9149.0       4\n..    ...   ...        ...     ...\n213   up!  2015     7264.0       6\n212   up!  2014     6267.0       7\n211   up!  2013     6033.0       8\n210   up!  2012     5187.0       9\n209   up!  2011     4224.0      10\n\n[220 rows x 4 columns]",
      "text/html": "<div>\n<style scoped>\n    .dataframe tbody tr th:only-of-type {\n        vertical-align: middle;\n    }\n\n    .dataframe tbody tr th {\n        vertical-align: top;\n    }\n\n    .dataframe thead th {\n        text-align: right;\n    }\n</style>\n<table border=\"1\" class=\"dataframe\">\n  <thead>\n    <tr style=\"text-align: right;\">\n      <th></th>\n      <th>model</th>\n      <th>year</th>\n      <th>avg_price</th>\n      <th>yrsOld</th>\n    </tr>\n  </thead>\n  <tbody>\n    <tr>\n      <th>10</th>\n      <td>500</td>\n      <td>2021</td>\n      <td>14157.0</td>\n      <td>0</td>\n    </tr>\n    <tr>\n      <th>9</th>\n      <td>500</td>\n      <td>2020</td>\n      <td>13619.0</td>\n      <td>1</td>\n    </tr>\n    <tr>\n      <th>8</th>\n      <td>500</td>\n      <td>2019</td>\n      <td>11490.0</td>\n      <td>2</td>\n    </tr>\n    <tr>\n      <th>7</th>\n      <td>500</td>\n      <td>2018</td>\n      <td>9861.0</td>\n      <td>3</td>\n    </tr>\n    <tr>\n      <th>6</th>\n      <td>500</td>\n      <td>2017</td>\n      <td>9149.0</td>\n      <td>4</td>\n    </tr>\n    <tr>\n      <th>...</th>\n      <td>...</td>\n      <td>...</td>\n      <td>...</td>\n      <td>...</td>\n    </tr>\n    <tr>\n      <th>213</th>\n      <td>up!</td>\n      <td>2015</td>\n      <td>7264.0</td>\n      <td>6</td>\n    </tr>\n    <tr>\n      <th>212</th>\n      <td>up!</td>\n      <td>2014</td>\n      <td>6267.0</td>\n      <td>7</td>\n    </tr>\n    <tr>\n      <th>211</th>\n      <td>up!</td>\n      <td>2013</td>\n      <td>6033.0</td>\n      <td>8</td>\n    </tr>\n    <tr>\n      <th>210</th>\n      <td>up!</td>\n      <td>2012</td>\n      <td>5187.0</td>\n      <td>9</td>\n    </tr>\n    <tr>\n      <th>209</th>\n      <td>up!</td>\n      <td>2011</td>\n      <td>4224.0</td>\n      <td>10</td>\n    </tr>\n  </tbody>\n</table>\n<p>220 rows × 4 columns</p>\n</div>"
     },
     "execution_count": 56,
     "metadata": {},
     "output_type": "execute_result"
    }
   ],
   "source": [
    "df_myp.sort_values(['model','yrsOld'])"
   ],
   "metadata": {
    "collapsed": false,
    "ExecuteTime": {
     "end_time": "2024-02-21T19:27:46.422790Z",
     "start_time": "2024-02-21T19:27:46.367783Z"
    }
   }
  },
  {
   "cell_type": "markdown",
   "source": [
    "why is there a significant jump up from 2 yrs old to 3?"
   ],
   "metadata": {
    "collapsed": false
   }
  },
  {
   "cell_type": "markdown",
   "source": [
    "shows you when you max write off"
   ],
   "metadata": {
    "collapsed": false
   }
  }
 ],
 "metadata": {
  "kernelspec": {
   "display_name": "Python 3",
   "language": "python",
   "name": "python3"
  },
  "language_info": {
   "codemirror_mode": {
    "name": "ipython",
    "version": 2
   },
   "file_extension": ".py",
   "mimetype": "text/x-python",
   "name": "python",
   "nbconvert_exporter": "python",
   "pygments_lexer": "ipython2",
   "version": "2.7.6"
  }
 },
 "nbformat": 4,
 "nbformat_minor": 0
}
