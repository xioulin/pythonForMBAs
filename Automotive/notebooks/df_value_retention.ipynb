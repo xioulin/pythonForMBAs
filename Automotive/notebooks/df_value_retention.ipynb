{
 "cells": [
  {
   "cell_type": "code",
   "execution_count": 320,
   "metadata": {
    "collapsed": true,
    "ExecuteTime": {
     "start_time": "2024-01-10T00:12:31.931022Z",
     "end_time": "2024-01-10T00:12:32.516896Z"
    }
   },
   "outputs": [],
   "source": [
    "import pandas as pd"
   ]
  },
  {
   "cell_type": "code",
   "execution_count": 321,
   "outputs": [],
   "source": [
    "df_depreciation= pd.read_pickle('/Users/pkc/PycharmProjects/pythonProject/Automotive/pickles/df_analyzed.pickle')"
   ],
   "metadata": {
    "collapsed": false,
    "ExecuteTime": {
     "start_time": "2024-01-10T00:12:31.955689Z",
     "end_time": "2024-01-10T00:12:32.662535Z"
    }
   }
  },
  {
   "cell_type": "code",
   "execution_count": 322,
   "outputs": [
    {
     "data": {
      "text/plain": "make\n9ff            7000.000000\nAbarth        19998.395349\nAixam         16016.666667\nAlfa          22187.234848\nAlpina        66046.300000\n                  ...     \nTrucks-Lkw     8200.000000\nVolkswagen    16065.926995\nVolvo         31033.517413\nZhidou        12500.000000\nsmart          8308.073922\nName: price, Length: 76, dtype: float64"
     },
     "execution_count": 322,
     "metadata": {},
     "output_type": "execute_result"
    }
   ],
   "source": [
    "df_depreciation.groupby('make').price.mean()"
   ],
   "metadata": {
    "collapsed": false,
    "ExecuteTime": {
     "start_time": "2024-01-10T00:12:31.963287Z",
     "end_time": "2024-01-10T00:12:32.670191Z"
    }
   }
  },
  {
   "cell_type": "code",
   "execution_count": 323,
   "outputs": [
    {
     "data": {
      "text/plain": "make    year\n9ff     2018     7000.000000\nAbarth  2011     5990.000000\n        2012     8299.000000\n        2013    12990.000000\n        2014    12593.333333\n                    ...     \nsmart   2017     9353.130952\n        2018    10462.673469\n        2019    11882.527273\n        2020    16318.500000\n        2021    18526.222222\nName: price, Length: 527, dtype: float64"
     },
     "execution_count": 323,
     "metadata": {},
     "output_type": "execute_result"
    }
   ],
   "source": [
    "df_depreciation.groupby(['make','year']).price.mean()"
   ],
   "metadata": {
    "collapsed": false,
    "ExecuteTime": {
     "start_time": "2024-01-10T00:12:31.974121Z",
     "end_time": "2024-01-10T00:12:32.670879Z"
    }
   }
  },
  {
   "cell_type": "code",
   "execution_count": 324,
   "outputs": [],
   "source": [
    "df_by_make_yr= df_depreciation.groupby(['make','year']).price.mean().copy()"
   ],
   "metadata": {
    "collapsed": false,
    "ExecuteTime": {
     "start_time": "2024-01-10T00:12:31.993507Z",
     "end_time": "2024-01-10T00:12:32.670935Z"
    }
   }
  },
  {
   "cell_type": "code",
   "execution_count": 325,
   "outputs": [],
   "source": [
    "df_by_make_yr= df_by_make_yr.to_frame()"
   ],
   "metadata": {
    "collapsed": false,
    "ExecuteTime": {
     "start_time": "2024-01-10T00:12:32.011922Z",
     "end_time": "2024-01-10T00:12:32.670972Z"
    }
   }
  },
  {
   "cell_type": "code",
   "execution_count": 326,
   "outputs": [
    {
     "data": {
      "text/plain": "MultiIndex([(   '9ff', 2018),\n            ('Abarth', 2011),\n            ('Abarth', 2012),\n            ('Abarth', 2013),\n            ('Abarth', 2014),\n            ('Abarth', 2015),\n            ('Abarth', 2016),\n            ('Abarth', 2017),\n            ('Abarth', 2018),\n            ('Abarth', 2019),\n            ...\n            ( 'smart', 2012),\n            ( 'smart', 2013),\n            ( 'smart', 2014),\n            ( 'smart', 2015),\n            ( 'smart', 2016),\n            ( 'smart', 2017),\n            ( 'smart', 2018),\n            ( 'smart', 2019),\n            ( 'smart', 2020),\n            ( 'smart', 2021)],\n           names=['make', 'year'], length=527)"
     },
     "execution_count": 326,
     "metadata": {},
     "output_type": "execute_result"
    }
   ],
   "source": [
    "df_by_make_yr.index"
   ],
   "metadata": {
    "collapsed": false,
    "ExecuteTime": {
     "start_time": "2024-01-10T00:12:32.024235Z",
     "end_time": "2024-01-10T00:12:32.671075Z"
    }
   }
  },
  {
   "cell_type": "code",
   "execution_count": 327,
   "outputs": [
    {
     "name": "stdout",
     "output_type": "stream",
     "text": [
      "<class 'pandas.core.frame.DataFrame'>\n",
      "MultiIndex: 527 entries, ('9ff', 2018) to ('smart', 2021)\n",
      "Data columns (total 1 columns):\n",
      " #   Column  Non-Null Count  Dtype  \n",
      "---  ------  --------------  -----  \n",
      " 0   price   527 non-null    float64\n",
      "dtypes: float64(1)\n",
      "memory usage: 5.9+ KB\n"
     ]
    }
   ],
   "source": [
    "df_by_make_yr.info()"
   ],
   "metadata": {
    "collapsed": false,
    "ExecuteTime": {
     "start_time": "2024-01-10T00:12:32.038647Z",
     "end_time": "2024-01-10T00:12:32.671193Z"
    }
   }
  },
  {
   "cell_type": "code",
   "execution_count": 328,
   "outputs": [
    {
     "data": {
      "text/plain": "MultiIndex([(   '9ff', 2018),\n            ('Abarth', 2011),\n            ('Abarth', 2012),\n            ('Abarth', 2013),\n            ('Abarth', 2014),\n            ('Abarth', 2015),\n            ('Abarth', 2016),\n            ('Abarth', 2017),\n            ('Abarth', 2018),\n            ('Abarth', 2019),\n            ...\n            ( 'smart', 2012),\n            ( 'smart', 2013),\n            ( 'smart', 2014),\n            ( 'smart', 2015),\n            ( 'smart', 2016),\n            ( 'smart', 2017),\n            ( 'smart', 2018),\n            ( 'smart', 2019),\n            ( 'smart', 2020),\n            ( 'smart', 2021)],\n           names=['make', 'year'], length=527)"
     },
     "execution_count": 328,
     "metadata": {},
     "output_type": "execute_result"
    }
   ],
   "source": [
    "df_by_make_yr.index"
   ],
   "metadata": {
    "collapsed": false,
    "ExecuteTime": {
     "start_time": "2024-01-10T00:12:32.060626Z",
     "end_time": "2024-01-10T00:12:32.671308Z"
    }
   }
  },
  {
   "cell_type": "code",
   "execution_count": 329,
   "outputs": [
    {
     "data": {
      "text/plain": "MultiIndex([(   '9ff', 2018),\n            ('Abarth', 2011),\n            ('Abarth', 2012),\n            ('Abarth', 2013),\n            ('Abarth', 2014)],\n           names=['make', 'year'])"
     },
     "execution_count": 329,
     "metadata": {},
     "output_type": "execute_result"
    }
   ],
   "source": [
    "df_by_make_yr[:5].index"
   ],
   "metadata": {
    "collapsed": false,
    "ExecuteTime": {
     "start_time": "2024-01-10T00:12:32.073993Z",
     "end_time": "2024-01-10T00:12:32.671394Z"
    }
   }
  },
  {
   "cell_type": "code",
   "execution_count": 330,
   "outputs": [
    {
     "ename": "IndexError",
     "evalue": "index 13 is out of bounds for axis 0 with size 5",
     "output_type": "error",
     "traceback": [
      "\u001B[0;31m---------------------------------------------------------------------------\u001B[0m",
      "\u001B[0;31mIndexError\u001B[0m                                Traceback (most recent call last)",
      "Cell \u001B[0;32mIn[330], line 1\u001B[0m\n\u001B[0;32m----> 1\u001B[0m \u001B[43mdf_by_make_yr\u001B[49m\u001B[43m[\u001B[49m\u001B[43m:\u001B[49m\u001B[38;5;241;43m5\u001B[39;49m\u001B[43m]\u001B[49m\u001B[38;5;241;43m.\u001B[39;49m\u001B[43mindex\u001B[49m\u001B[43m[\u001B[49m\u001B[38;5;241;43m13\u001B[39;49m\u001B[43m]\u001B[49m[\u001B[38;5;241m0\u001B[39m]\n",
      "File \u001B[0;32m~/PycharmProjects/pythonProject/venv/lib/python3.9/site-packages/pandas/core/indexes/multi.py:2011\u001B[0m, in \u001B[0;36mMultiIndex.__getitem__\u001B[0;34m(self, key)\u001B[0m\n\u001B[1;32m   2009\u001B[0m retval \u001B[38;5;241m=\u001B[39m []\n\u001B[1;32m   2010\u001B[0m \u001B[38;5;28;01mfor\u001B[39;00m lev, level_codes \u001B[38;5;129;01min\u001B[39;00m \u001B[38;5;28mzip\u001B[39m(\u001B[38;5;28mself\u001B[39m\u001B[38;5;241m.\u001B[39mlevels, \u001B[38;5;28mself\u001B[39m\u001B[38;5;241m.\u001B[39mcodes):\n\u001B[0;32m-> 2011\u001B[0m     \u001B[38;5;28;01mif\u001B[39;00m \u001B[43mlevel_codes\u001B[49m\u001B[43m[\u001B[49m\u001B[43mkey\u001B[49m\u001B[43m]\u001B[49m \u001B[38;5;241m==\u001B[39m \u001B[38;5;241m-\u001B[39m\u001B[38;5;241m1\u001B[39m:\n\u001B[1;32m   2012\u001B[0m         retval\u001B[38;5;241m.\u001B[39mappend(np\u001B[38;5;241m.\u001B[39mnan)\n\u001B[1;32m   2013\u001B[0m     \u001B[38;5;28;01melse\u001B[39;00m:\n",
      "\u001B[0;31mIndexError\u001B[0m: index 13 is out of bounds for axis 0 with size 5"
     ]
    }
   ],
   "source": [
    "df_by_make_yr[:5].index[13][0]"
   ],
   "metadata": {
    "collapsed": false,
    "ExecuteTime": {
     "start_time": "2024-01-09T21:51:07.233713Z",
     "end_time": "2024-01-09T21:51:07.251727Z"
    }
   }
  },
  {
   "cell_type": "code",
   "execution_count": null,
   "outputs": [],
   "source": [
    "make_list= []\n",
    "for i in range(0,len(df_by_make_yr)):\n",
    "    make_list.append(df_by_make_yr.index[i][0])"
   ],
   "metadata": {
    "collapsed": false,
    "ExecuteTime": {
     "start_time": "2024-01-10T00:07:13.234036Z",
     "end_time": "2024-01-10T00:07:13.253420Z"
    }
   }
  },
  {
   "cell_type": "code",
   "execution_count": null,
   "outputs": [],
   "source": [
    "df_by_make_yr['make']= make_list"
   ],
   "metadata": {
    "collapsed": false,
    "ExecuteTime": {
     "start_time": "2024-01-10T00:07:14.488801Z",
     "end_time": "2024-01-10T00:07:14.508473Z"
    }
   }
  },
  {
   "cell_type": "code",
   "execution_count": null,
   "outputs": [],
   "source": [
    "df_by_make_yr.columns"
   ],
   "metadata": {
    "collapsed": false,
    "ExecuteTime": {
     "start_time": "2024-01-10T00:07:15.517702Z",
     "end_time": "2024-01-10T00:07:15.575976Z"
    }
   }
  },
  {
   "cell_type": "code",
   "execution_count": null,
   "outputs": [],
   "source": [
    "df_by_make_yr.columns"
   ],
   "metadata": {
    "collapsed": false,
    "ExecuteTime": {
     "start_time": "2024-01-10T00:07:17.330140Z",
     "end_time": "2024-01-10T00:07:17.366924Z"
    }
   }
  },
  {
   "cell_type": "code",
   "execution_count": null,
   "outputs": [],
   "source": [
    "year_list=[]\n",
    "for i in range(0,len(df_by_make_yr)):\n",
    "    year_list.append(df_by_make_yr.index[i][1])"
   ],
   "metadata": {
    "collapsed": false,
    "ExecuteTime": {
     "start_time": "2024-01-10T00:07:19.463869Z",
     "end_time": "2024-01-10T00:07:19.486480Z"
    }
   }
  },
  {
   "cell_type": "code",
   "execution_count": null,
   "outputs": [],
   "source": [
    "df_by_make_yr['year']=year_list"
   ],
   "metadata": {
    "collapsed": false,
    "ExecuteTime": {
     "start_time": "2024-01-10T00:07:20.369474Z",
     "end_time": "2024-01-10T00:07:20.380675Z"
    }
   }
  },
  {
   "cell_type": "code",
   "execution_count": null,
   "outputs": [],
   "source": [
    "df_by_make_yr"
   ],
   "metadata": {
    "collapsed": false,
    "ExecuteTime": {
     "start_time": "2024-01-10T00:07:21.600312Z",
     "end_time": "2024-01-10T00:07:21.626548Z"
    }
   }
  },
  {
   "cell_type": "code",
   "execution_count": null,
   "outputs": [],
   "source": [
    "df_by_make_yr = df_by_make_yr.reset_index(drop=True)"
   ],
   "metadata": {
    "collapsed": false,
    "ExecuteTime": {
     "start_time": "2024-01-10T00:07:27.775654Z",
     "end_time": "2024-01-10T00:07:27.962514Z"
    }
   }
  },
  {
   "cell_type": "code",
   "execution_count": null,
   "outputs": [],
   "source": [
    "df_by_make_yr['yrsOld']= abs(df_by_make_yr.year-2021)"
   ],
   "metadata": {
    "collapsed": false,
    "ExecuteTime": {
     "start_time": "2024-01-10T00:07:27.791557Z",
     "end_time": "2024-01-10T00:07:27.963870Z"
    }
   }
  },
  {
   "cell_type": "code",
   "execution_count": null,
   "outputs": [],
   "source": [
    "df_by_make_yr.price= round(df_by_make_yr.price)"
   ],
   "metadata": {
    "collapsed": false,
    "ExecuteTime": {
     "start_time": "2024-01-10T00:07:27.804196Z",
     "end_time": "2024-01-10T00:07:27.964272Z"
    }
   }
  },
  {
   "cell_type": "code",
   "execution_count": null,
   "outputs": [],
   "source": [
    "df_by_make_yr= df_by_make_yr.rename(columns={'price':'avg_price'})"
   ],
   "metadata": {
    "collapsed": false,
    "ExecuteTime": {
     "start_time": "2024-01-10T00:07:27.826060Z",
     "end_time": "2024-01-10T00:07:27.964447Z"
    }
   }
  },
  {
   "cell_type": "code",
   "execution_count": null,
   "outputs": [],
   "source": [
    "df_by_make_yr[df_by_make_yr.make=='BMW'].sort_values(by='yrsOld').plot(x='yrsOld',y='avg_price')"
   ],
   "metadata": {
    "collapsed": false,
    "ExecuteTime": {
     "start_time": "2024-01-10T00:07:27.846856Z",
     "end_time": "2024-01-10T00:07:28.256287Z"
    }
   }
  },
  {
   "cell_type": "code",
   "execution_count": null,
   "outputs": [],
   "source": [
    "df_by_make_yr[df_by_make_yr.make == 'Ford'].sort_values(by='yrsOld').plot(x='yrsOld', y='avg_price')"
   ],
   "metadata": {
    "collapsed": false,
    "ExecuteTime": {
     "start_time": "2024-01-10T00:07:28.251490Z",
     "end_time": "2024-01-10T00:07:28.570935Z"
    }
   }
  },
  {
   "cell_type": "code",
   "execution_count": null,
   "outputs": [],
   "source": [
    "df_by_make_yr[df_by_make_yr.make == 'Jaguar'].sort_values(by='yrsOld').plot(x='yrsOld', y='avg_price')"
   ],
   "metadata": {
    "collapsed": false,
    "ExecuteTime": {
     "start_time": "2024-01-10T00:07:28.562191Z",
     "end_time": "2024-01-10T00:07:28.913449Z"
    }
   }
  },
  {
   "cell_type": "code",
   "execution_count": null,
   "outputs": [],
   "source": [
    "df_by_make_yr.sort_values(by='avg_price',ascending=False).head(30)"
   ],
   "metadata": {
    "collapsed": false,
    "ExecuteTime": {
     "start_time": "2024-01-10T00:07:28.919056Z",
     "end_time": "2024-01-10T00:07:29.013025Z"
    }
   }
  },
  {
   "cell_type": "code",
   "execution_count": null,
   "outputs": [],
   "source": [
    "df_by_make_yr[df_by_make_yr.make == 'Ford'].sort_values(by='yrsOld').plot(x='yrsOld', y='avg_price')"
   ],
   "metadata": {
    "collapsed": false,
    "ExecuteTime": {
     "start_time": "2024-01-10T00:07:28.956028Z",
     "end_time": "2024-01-10T00:07:29.469541Z"
    }
   }
  },
  {
   "cell_type": "code",
   "execution_count": null,
   "outputs": [],
   "source": [
    "df_by_make_yr[df_by_make_yr.make == 'SEAT'].sort_values(by='yrsOld').plot(x='yrsOld', y='avg_price')"
   ],
   "metadata": {
    "collapsed": false,
    "ExecuteTime": {
     "start_time": "2024-01-09T23:04:45.000782Z",
     "end_time": "2024-01-09T23:04:45.542656Z"
    }
   }
  },
  {
   "cell_type": "code",
   "execution_count": null,
   "outputs": [],
   "source": [
    "df_depreciation.make.value_counts()"
   ],
   "metadata": {
    "collapsed": false,
    "ExecuteTime": {
     "start_time": "2024-01-09T23:05:09.093232Z",
     "end_time": "2024-01-09T23:05:09.128724Z"
    }
   }
  },
  {
   "cell_type": "code",
   "execution_count": null,
   "outputs": [],
   "source": [
    "df_by_make_yr[df_by_make_yr.make == 'Volkswagen'].sort_values(by='yrsOld').plot(x='yrsOld', y='avg_price')"
   ],
   "metadata": {
    "collapsed": false,
    "ExecuteTime": {
     "start_time": "2024-01-09T23:05:19.415412Z",
     "end_time": "2024-01-09T23:05:19.930707Z"
    }
   }
  },
  {
   "cell_type": "code",
   "execution_count": null,
   "outputs": [],
   "source": [
    "df_by_make_yr[df_by_make_yr.make == 'Opel'].sort_values(by='yrsOld').plot(x='yrsOld', y='avg_price')"
   ],
   "metadata": {
    "collapsed": false,
    "ExecuteTime": {
     "start_time": "2024-01-09T23:05:31.906252Z",
     "end_time": "2024-01-09T23:05:32.712584Z"
    }
   }
  },
  {
   "cell_type": "code",
   "execution_count": null,
   "outputs": [],
   "source": [
    "df_by_make_yr[df_by_make_yr.make == 'Skoda'].sort_values(by='yrsOld').plot(x='yrsOld', y='avg_price')"
   ],
   "metadata": {
    "collapsed": false,
    "ExecuteTime": {
     "start_time": "2024-01-09T23:05:43.813121Z",
     "end_time": "2024-01-09T23:05:44.397621Z"
    }
   }
  },
  {
   "cell_type": "code",
   "execution_count": null,
   "outputs": [],
   "source": [
    "df_depreciation[['price','yrsOld']].groupby(\"yrsOld\").price.mean()"
   ],
   "metadata": {
    "collapsed": false,
    "ExecuteTime": {
     "start_time": "2024-01-09T23:11:16.115874Z",
     "end_time": "2024-01-09T23:11:16.139598Z"
    }
   }
  },
  {
   "cell_type": "code",
   "execution_count": 336,
   "outputs": [
    {
     "data": {
      "text/plain": "yrsOld\n0       1102.0\n1       9623.0\n2      22979.0\n3      54679.0\n4      67456.0\n5      76848.0\n6      89196.0\n7      98605.0\n8     110139.0\n9     122794.0\n10    131339.0\nName: mileage, dtype: float64"
     },
     "execution_count": 336,
     "metadata": {},
     "output_type": "execute_result"
    }
   ],
   "source": [
    "round(df_depreciation.groupby('yrsOld').mileage.mean())"
   ],
   "metadata": {
    "collapsed": false,
    "ExecuteTime": {
     "start_time": "2024-01-10T00:15:59.248960Z",
     "end_time": "2024-01-10T00:15:59.296908Z"
    }
   }
  },
  {
   "cell_type": "markdown",
   "source": [
    "why is there a significant jump up from 2 yrs old to 3?"
   ],
   "metadata": {
    "collapsed": false
   }
  },
  {
   "cell_type": "code",
   "execution_count": 337,
   "outputs": [
    {
     "data": {
      "text/plain": "yrsOld\n0     29264.0\n1     28840.0\n2     24893.0\n3     22216.0\n4     18491.0\n5     12750.0\n6     11116.0\n7      9928.0\n8      9235.0\n9      8243.0\n10     7021.0\nName: price, dtype: float64"
     },
     "execution_count": 337,
     "metadata": {},
     "output_type": "execute_result"
    }
   ],
   "source": [
    "round(df_depreciation.groupby('yrsOld').price.mean())"
   ],
   "metadata": {
    "collapsed": false,
    "ExecuteTime": {
     "start_time": "2024-01-10T00:16:03.223401Z",
     "end_time": "2024-01-10T00:16:03.266603Z"
    }
   }
  },
  {
   "cell_type": "code",
   "execution_count": null,
   "outputs": [],
   "source": [
    "declineList= round(df_depreciation.groupby('yrsOld').price.mean()).tolist()"
   ],
   "metadata": {
    "collapsed": false,
    "ExecuteTime": {
     "start_time": "2024-01-10T00:07:51.783340Z",
     "end_time": "2024-01-10T00:07:51.878722Z"
    }
   }
  },
  {
   "cell_type": "code",
   "execution_count": null,
   "outputs": [],
   "source": [
    "df_avg_yrdecline=  pd.DataFrame(declineList, columns=['shit'])"
   ],
   "metadata": {
    "collapsed": false,
    "ExecuteTime": {
     "start_time": "2024-01-10T00:07:51.799749Z",
     "end_time": "2024-01-10T00:07:51.878848Z"
    }
   }
  },
  {
   "cell_type": "code",
   "execution_count": null,
   "outputs": [],
   "source": [
    "df_avg_yrdecline.columns"
   ],
   "metadata": {
    "collapsed": false,
    "ExecuteTime": {
     "start_time": "2024-01-10T00:07:51.810589Z",
     "end_time": "2024-01-10T00:07:51.879120Z"
    }
   }
  },
  {
   "cell_type": "code",
   "execution_count": null,
   "outputs": [],
   "source": [
    "df_avg_yrdecline"
   ],
   "metadata": {
    "collapsed": false,
    "ExecuteTime": {
     "start_time": "2024-01-10T00:07:51.829492Z",
     "end_time": "2024-01-10T00:07:51.879674Z"
    }
   }
  },
  {
   "cell_type": "code",
   "execution_count": null,
   "outputs": [],
   "source": [
    "df_avg_yrdecline['decline']= abs(29264-df_avg_yrdecline.shit)"
   ],
   "metadata": {
    "collapsed": false,
    "ExecuteTime": {
     "start_time": "2024-01-10T00:07:51.839040Z",
     "end_time": "2024-01-10T00:07:51.879822Z"
    }
   }
  },
  {
   "cell_type": "code",
   "execution_count": null,
   "outputs": [],
   "source": [
    "df_avg_yrdecline['yr_depr']= df_avg_yrdecline.decline/df_avg_yrdecline.index"
   ],
   "metadata": {
    "collapsed": false,
    "ExecuteTime": {
     "start_time": "2024-01-10T00:12:23.914125Z",
     "end_time": "2024-01-10T00:12:23.948485Z"
    }
   }
  },
  {
   "cell_type": "code",
   "execution_count": 331,
   "outputs": [
    {
     "data": {
      "text/plain": "       shit  decline  yr_over_yr_depr      yr_depr\n0   29264.0      0.0              NaN          NaN\n1   28840.0    424.0       424.000000   424.000000\n2   24893.0   4371.0      2185.500000  2185.500000\n3   22216.0   7048.0      2349.333333  2349.333333\n4   18491.0  10773.0      2693.250000  2693.250000\n5   12750.0  16514.0      3302.800000  3302.800000\n6   11116.0  18148.0      3024.666667  3024.666667\n7    9928.0  19336.0      2762.285714  2762.285714\n8    9235.0  20029.0      2503.625000  2503.625000\n9    8243.0  21021.0      2335.666667  2335.666667\n10   7021.0  22243.0      2224.300000  2224.300000",
      "text/html": "<div>\n<style scoped>\n    .dataframe tbody tr th:only-of-type {\n        vertical-align: middle;\n    }\n\n    .dataframe tbody tr th {\n        vertical-align: top;\n    }\n\n    .dataframe thead th {\n        text-align: right;\n    }\n</style>\n<table border=\"1\" class=\"dataframe\">\n  <thead>\n    <tr style=\"text-align: right;\">\n      <th></th>\n      <th>shit</th>\n      <th>decline</th>\n      <th>yr_over_yr_depr</th>\n      <th>yr_depr</th>\n    </tr>\n  </thead>\n  <tbody>\n    <tr>\n      <th>0</th>\n      <td>29264.0</td>\n      <td>0.0</td>\n      <td>NaN</td>\n      <td>NaN</td>\n    </tr>\n    <tr>\n      <th>1</th>\n      <td>28840.0</td>\n      <td>424.0</td>\n      <td>424.000000</td>\n      <td>424.000000</td>\n    </tr>\n    <tr>\n      <th>2</th>\n      <td>24893.0</td>\n      <td>4371.0</td>\n      <td>2185.500000</td>\n      <td>2185.500000</td>\n    </tr>\n    <tr>\n      <th>3</th>\n      <td>22216.0</td>\n      <td>7048.0</td>\n      <td>2349.333333</td>\n      <td>2349.333333</td>\n    </tr>\n    <tr>\n      <th>4</th>\n      <td>18491.0</td>\n      <td>10773.0</td>\n      <td>2693.250000</td>\n      <td>2693.250000</td>\n    </tr>\n    <tr>\n      <th>5</th>\n      <td>12750.0</td>\n      <td>16514.0</td>\n      <td>3302.800000</td>\n      <td>3302.800000</td>\n    </tr>\n    <tr>\n      <th>6</th>\n      <td>11116.0</td>\n      <td>18148.0</td>\n      <td>3024.666667</td>\n      <td>3024.666667</td>\n    </tr>\n    <tr>\n      <th>7</th>\n      <td>9928.0</td>\n      <td>19336.0</td>\n      <td>2762.285714</td>\n      <td>2762.285714</td>\n    </tr>\n    <tr>\n      <th>8</th>\n      <td>9235.0</td>\n      <td>20029.0</td>\n      <td>2503.625000</td>\n      <td>2503.625000</td>\n    </tr>\n    <tr>\n      <th>9</th>\n      <td>8243.0</td>\n      <td>21021.0</td>\n      <td>2335.666667</td>\n      <td>2335.666667</td>\n    </tr>\n    <tr>\n      <th>10</th>\n      <td>7021.0</td>\n      <td>22243.0</td>\n      <td>2224.300000</td>\n      <td>2224.300000</td>\n    </tr>\n  </tbody>\n</table>\n</div>"
     },
     "execution_count": 331,
     "metadata": {},
     "output_type": "execute_result"
    }
   ],
   "source": [
    "df_avg_yrdecline"
   ],
   "metadata": {
    "collapsed": false,
    "ExecuteTime": {
     "start_time": "2024-01-10T00:12:39.377977Z",
     "end_time": "2024-01-10T00:12:39.403898Z"
    }
   }
  },
  {
   "cell_type": "code",
   "execution_count": 335,
   "outputs": [
    {
     "data": {
      "text/plain": "<Axes: >"
     },
     "execution_count": 335,
     "metadata": {},
     "output_type": "execute_result"
    },
    {
     "data": {
      "text/plain": "<Figure size 640x480 with 1 Axes>",
      "image/png": "[encoded data removed]"
     },
     "metadata": {},
     "output_type": "display_data"
    }
   ],
   "source": [
    "df_avg_yrdecline.yr_depr.plot(xticks=range(1,10))"
   ],
   "metadata": {
    "collapsed": false,
    "ExecuteTime": {
     "start_time": "2024-01-10T00:15:26.912726Z",
     "end_time": "2024-01-10T00:15:27.161785Z"
    }
   }
  },
  {
   "cell_type": "markdown",
   "source": [
    "shows you when you max write off"
   ],
   "metadata": {
    "collapsed": false
   }
  }
 ],
 "metadata": {
  "kernelspec": {
   "display_name": "Python 3",
   "language": "python",
   "name": "python3"
  },
  "language_info": {
   "codemirror_mode": {
    "name": "ipython",
    "version": 2
   },
   "file_extension": ".py",
   "mimetype": "text/x-python",
   "name": "python",
   "nbconvert_exporter": "python",
   "pygments_lexer": "ipython2",
   "version": "2.7.6"
  }
 },
 "nbformat": 4,
 "nbformat_minor": 0
}
