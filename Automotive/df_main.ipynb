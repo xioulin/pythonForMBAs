{
 "cells": [
  {
   "cell_type": "code",
   "execution_count": 1,
   "metadata": {
    "collapsed": true,
    "ExecuteTime": {
     "start_time": "2024-01-09T14:56:52.260042Z",
     "end_time": "2024-01-09T14:57:03.577370Z"
    }
   },
   "outputs": [],
   "source": [
    "import pandas as pd"
   ]
  },
  {
   "cell_type": "code",
   "execution_count": 29,
   "outputs": [],
   "source": [
    "df_autos= pd.read_csv('/Users/pkc/PycharmProjects/pythonProject/Automotive/data/autoscout24-germany-dataset.csv')"
   ],
   "metadata": {
    "collapsed": false,
    "ExecuteTime": {
     "start_time": "2024-01-05T16:00:51.407735Z",
     "end_time": "2024-01-05T16:00:52.673852Z"
    }
   }
  },
  {
   "cell_type": "code",
   "execution_count": 30,
   "outputs": [
    {
     "data": {
      "text/plain": "       mileage        make   model               fuel    gear       offerType   \n0       235000         BMW     316             Diesel  Manual            Used  \\\n1        92800  Volkswagen    Golf           Gasoline  Manual            Used   \n2       149300        SEAT    Exeo           Gasoline  Manual            Used   \n3        96200     Renault  Megane           Gasoline  Manual            Used   \n4       156000     Peugeot     308           Gasoline  Manual            Used   \n...        ...         ...     ...                ...     ...             ...   \n46400       99        Fiat     500  Electric/Gasoline  Manual  Pre-registered   \n46401       99        Fiat     500  Electric/Gasoline  Manual  Pre-registered   \n46402       99        Fiat     500  Electric/Gasoline  Manual  Pre-registered   \n46403       99        Fiat     500  Electric/Gasoline  Manual  Pre-registered   \n46404       99        Fiat     500  Electric/Gasoline  Manual  Pre-registered   \n\n       price     hp  year  \n0       6800  116.0  2011  \n1       6877  122.0  2011  \n2       6900  160.0  2011  \n3       6950  110.0  2011  \n4       6950  156.0  2011  \n...      ...    ...   ...  \n46400  12990   71.0  2021  \n46401  12990   71.0  2021  \n46402  12990   71.0  2021  \n46403  12990   71.0  2021  \n46404  12990   71.0  2021  \n\n[46405 rows x 9 columns]",
      "text/html": "<div>\n<style scoped>\n    .dataframe tbody tr th:only-of-type {\n        vertical-align: middle;\n    }\n\n    .dataframe tbody tr th {\n        vertical-align: top;\n    }\n\n    .dataframe thead th {\n        text-align: right;\n    }\n</style>\n<table border=\"1\" class=\"dataframe\">\n  <thead>\n    <tr style=\"text-align: right;\">\n      <th></th>\n      <th>mileage</th>\n      <th>make</th>\n      <th>model</th>\n      <th>fuel</th>\n      <th>gear</th>\n      <th>offerType</th>\n      <th>price</th>\n      <th>hp</th>\n      <th>year</th>\n    </tr>\n  </thead>\n  <tbody>\n    <tr>\n      <th>0</th>\n      <td>235000</td>\n      <td>BMW</td>\n      <td>316</td>\n      <td>Diesel</td>\n      <td>Manual</td>\n      <td>Used</td>\n      <td>6800</td>\n      <td>116.0</td>\n      <td>2011</td>\n    </tr>\n    <tr>\n      <th>1</th>\n      <td>92800</td>\n      <td>Volkswagen</td>\n      <td>Golf</td>\n      <td>Gasoline</td>\n      <td>Manual</td>\n      <td>Used</td>\n      <td>6877</td>\n      <td>122.0</td>\n      <td>2011</td>\n    </tr>\n    <tr>\n      <th>2</th>\n      <td>149300</td>\n      <td>SEAT</td>\n      <td>Exeo</td>\n      <td>Gasoline</td>\n      <td>Manual</td>\n      <td>Used</td>\n      <td>6900</td>\n      <td>160.0</td>\n      <td>2011</td>\n    </tr>\n    <tr>\n      <th>3</th>\n      <td>96200</td>\n      <td>Renault</td>\n      <td>Megane</td>\n      <td>Gasoline</td>\n      <td>Manual</td>\n      <td>Used</td>\n      <td>6950</td>\n      <td>110.0</td>\n      <td>2011</td>\n    </tr>\n    <tr>\n      <th>4</th>\n      <td>156000</td>\n      <td>Peugeot</td>\n      <td>308</td>\n      <td>Gasoline</td>\n      <td>Manual</td>\n      <td>Used</td>\n      <td>6950</td>\n      <td>156.0</td>\n      <td>2011</td>\n    </tr>\n    <tr>\n      <th>...</th>\n      <td>...</td>\n      <td>...</td>\n      <td>...</td>\n      <td>...</td>\n      <td>...</td>\n      <td>...</td>\n      <td>...</td>\n      <td>...</td>\n      <td>...</td>\n    </tr>\n    <tr>\n      <th>46400</th>\n      <td>99</td>\n      <td>Fiat</td>\n      <td>500</td>\n      <td>Electric/Gasoline</td>\n      <td>Manual</td>\n      <td>Pre-registered</td>\n      <td>12990</td>\n      <td>71.0</td>\n      <td>2021</td>\n    </tr>\n    <tr>\n      <th>46401</th>\n      <td>99</td>\n      <td>Fiat</td>\n      <td>500</td>\n      <td>Electric/Gasoline</td>\n      <td>Manual</td>\n      <td>Pre-registered</td>\n      <td>12990</td>\n      <td>71.0</td>\n      <td>2021</td>\n    </tr>\n    <tr>\n      <th>46402</th>\n      <td>99</td>\n      <td>Fiat</td>\n      <td>500</td>\n      <td>Electric/Gasoline</td>\n      <td>Manual</td>\n      <td>Pre-registered</td>\n      <td>12990</td>\n      <td>71.0</td>\n      <td>2021</td>\n    </tr>\n    <tr>\n      <th>46403</th>\n      <td>99</td>\n      <td>Fiat</td>\n      <td>500</td>\n      <td>Electric/Gasoline</td>\n      <td>Manual</td>\n      <td>Pre-registered</td>\n      <td>12990</td>\n      <td>71.0</td>\n      <td>2021</td>\n    </tr>\n    <tr>\n      <th>46404</th>\n      <td>99</td>\n      <td>Fiat</td>\n      <td>500</td>\n      <td>Electric/Gasoline</td>\n      <td>Manual</td>\n      <td>Pre-registered</td>\n      <td>12990</td>\n      <td>71.0</td>\n      <td>2021</td>\n    </tr>\n  </tbody>\n</table>\n<p>46405 rows × 9 columns</p>\n</div>"
     },
     "execution_count": 30,
     "metadata": {},
     "output_type": "execute_result"
    }
   ],
   "source": [
    "df_autos"
   ],
   "metadata": {
    "collapsed": false,
    "ExecuteTime": {
     "start_time": "2024-01-05T16:00:51.805487Z",
     "end_time": "2024-01-05T16:00:52.678180Z"
    }
   }
  },
  {
   "cell_type": "code",
   "execution_count": 31,
   "outputs": [
    {
     "data": {
      "text/plain": "   mileage        make    model               fuel       gear offerType   \n0   235000         BMW      316             Diesel     Manual      Used  \\\n1    92800  Volkswagen     Golf           Gasoline     Manual      Used   \n2   149300        SEAT     Exeo           Gasoline     Manual      Used   \n3    96200     Renault   Megane           Gasoline     Manual      Used   \n4   156000     Peugeot      308           Gasoline     Manual      Used   \n5   147000      Toyota    Auris  Electric/Gasoline  Automatic      Used   \n6    91894     Renault   Scenic             Diesel     Manual      Used   \n7   127500        Opel   Zafira           Gasoline     Manual      Used   \n8   115000       Mazda        3           Gasoline  Automatic      Used   \n9      104        Ford  Transit             Diesel     Manual      Used   \n\n   price     hp  year  \n0   6800  116.0  2011  \n1   6877  122.0  2011  \n2   6900  160.0  2011  \n3   6950  110.0  2011  \n4   6950  156.0  2011  \n5   6950   99.0  2011  \n6   6970  131.0  2011  \n7   6972  116.0  2011  \n8   6980  150.0  2011  \n9   6990   86.0  2011  ",
      "text/html": "<div>\n<style scoped>\n    .dataframe tbody tr th:only-of-type {\n        vertical-align: middle;\n    }\n\n    .dataframe tbody tr th {\n        vertical-align: top;\n    }\n\n    .dataframe thead th {\n        text-align: right;\n    }\n</style>\n<table border=\"1\" class=\"dataframe\">\n  <thead>\n    <tr style=\"text-align: right;\">\n      <th></th>\n      <th>mileage</th>\n      <th>make</th>\n      <th>model</th>\n      <th>fuel</th>\n      <th>gear</th>\n      <th>offerType</th>\n      <th>price</th>\n      <th>hp</th>\n      <th>year</th>\n    </tr>\n  </thead>\n  <tbody>\n    <tr>\n      <th>0</th>\n      <td>235000</td>\n      <td>BMW</td>\n      <td>316</td>\n      <td>Diesel</td>\n      <td>Manual</td>\n      <td>Used</td>\n      <td>6800</td>\n      <td>116.0</td>\n      <td>2011</td>\n    </tr>\n    <tr>\n      <th>1</th>\n      <td>92800</td>\n      <td>Volkswagen</td>\n      <td>Golf</td>\n      <td>Gasoline</td>\n      <td>Manual</td>\n      <td>Used</td>\n      <td>6877</td>\n      <td>122.0</td>\n      <td>2011</td>\n    </tr>\n    <tr>\n      <th>2</th>\n      <td>149300</td>\n      <td>SEAT</td>\n      <td>Exeo</td>\n      <td>Gasoline</td>\n      <td>Manual</td>\n      <td>Used</td>\n      <td>6900</td>\n      <td>160.0</td>\n      <td>2011</td>\n    </tr>\n    <tr>\n      <th>3</th>\n      <td>96200</td>\n      <td>Renault</td>\n      <td>Megane</td>\n      <td>Gasoline</td>\n      <td>Manual</td>\n      <td>Used</td>\n      <td>6950</td>\n      <td>110.0</td>\n      <td>2011</td>\n    </tr>\n    <tr>\n      <th>4</th>\n      <td>156000</td>\n      <td>Peugeot</td>\n      <td>308</td>\n      <td>Gasoline</td>\n      <td>Manual</td>\n      <td>Used</td>\n      <td>6950</td>\n      <td>156.0</td>\n      <td>2011</td>\n    </tr>\n    <tr>\n      <th>5</th>\n      <td>147000</td>\n      <td>Toyota</td>\n      <td>Auris</td>\n      <td>Electric/Gasoline</td>\n      <td>Automatic</td>\n      <td>Used</td>\n      <td>6950</td>\n      <td>99.0</td>\n      <td>2011</td>\n    </tr>\n    <tr>\n      <th>6</th>\n      <td>91894</td>\n      <td>Renault</td>\n      <td>Scenic</td>\n      <td>Diesel</td>\n      <td>Manual</td>\n      <td>Used</td>\n      <td>6970</td>\n      <td>131.0</td>\n      <td>2011</td>\n    </tr>\n    <tr>\n      <th>7</th>\n      <td>127500</td>\n      <td>Opel</td>\n      <td>Zafira</td>\n      <td>Gasoline</td>\n      <td>Manual</td>\n      <td>Used</td>\n      <td>6972</td>\n      <td>116.0</td>\n      <td>2011</td>\n    </tr>\n    <tr>\n      <th>8</th>\n      <td>115000</td>\n      <td>Mazda</td>\n      <td>3</td>\n      <td>Gasoline</td>\n      <td>Automatic</td>\n      <td>Used</td>\n      <td>6980</td>\n      <td>150.0</td>\n      <td>2011</td>\n    </tr>\n    <tr>\n      <th>9</th>\n      <td>104</td>\n      <td>Ford</td>\n      <td>Transit</td>\n      <td>Diesel</td>\n      <td>Manual</td>\n      <td>Used</td>\n      <td>6990</td>\n      <td>86.0</td>\n      <td>2011</td>\n    </tr>\n  </tbody>\n</table>\n</div>"
     },
     "execution_count": 31,
     "metadata": {},
     "output_type": "execute_result"
    }
   ],
   "source": [
    "df_autos.head(10)"
   ],
   "metadata": {
    "collapsed": false,
    "ExecuteTime": {
     "start_time": "2024-01-05T16:00:52.025082Z",
     "end_time": "2024-01-05T16:00:52.789367Z"
    }
   }
  },
  {
   "cell_type": "code",
   "execution_count": 32,
   "outputs": [
    {
     "data": {
      "text/plain": "       mileage     make  model               fuel    gear       offerType   \n46395       10  Citroen     C1           Gasoline  Manual  Pre-registered  \\\n46396       99     Fiat    500  Electric/Gasoline  Manual  Pre-registered   \n46397      550     Fiat    500  Electric/Gasoline  Manual   Demonstration   \n46398      837     Fiat  Panda  Electric/Gasoline  Manual   Demonstration   \n46399     1500    Skoda  Fabia           Gasoline  Manual   Demonstration   \n46400       99     Fiat    500  Electric/Gasoline  Manual  Pre-registered   \n46401       99     Fiat    500  Electric/Gasoline  Manual  Pre-registered   \n46402       99     Fiat    500  Electric/Gasoline  Manual  Pre-registered   \n46403       99     Fiat    500  Electric/Gasoline  Manual  Pre-registered   \n46404       99     Fiat    500  Electric/Gasoline  Manual  Pre-registered   \n\n       price    hp  year  \n46395  12340  72.0  2021  \n46396  12490  71.0  2021  \n46397  12805  69.0  2021  \n46398  12805  69.0  2021  \n46399  12980  60.0  2021  \n46400  12990  71.0  2021  \n46401  12990  71.0  2021  \n46402  12990  71.0  2021  \n46403  12990  71.0  2021  \n46404  12990  71.0  2021  ",
      "text/html": "<div>\n<style scoped>\n    .dataframe tbody tr th:only-of-type {\n        vertical-align: middle;\n    }\n\n    .dataframe tbody tr th {\n        vertical-align: top;\n    }\n\n    .dataframe thead th {\n        text-align: right;\n    }\n</style>\n<table border=\"1\" class=\"dataframe\">\n  <thead>\n    <tr style=\"text-align: right;\">\n      <th></th>\n      <th>mileage</th>\n      <th>make</th>\n      <th>model</th>\n      <th>fuel</th>\n      <th>gear</th>\n      <th>offerType</th>\n      <th>price</th>\n      <th>hp</th>\n      <th>year</th>\n    </tr>\n  </thead>\n  <tbody>\n    <tr>\n      <th>46395</th>\n      <td>10</td>\n      <td>Citroen</td>\n      <td>C1</td>\n      <td>Gasoline</td>\n      <td>Manual</td>\n      <td>Pre-registered</td>\n      <td>12340</td>\n      <td>72.0</td>\n      <td>2021</td>\n    </tr>\n    <tr>\n      <th>46396</th>\n      <td>99</td>\n      <td>Fiat</td>\n      <td>500</td>\n      <td>Electric/Gasoline</td>\n      <td>Manual</td>\n      <td>Pre-registered</td>\n      <td>12490</td>\n      <td>71.0</td>\n      <td>2021</td>\n    </tr>\n    <tr>\n      <th>46397</th>\n      <td>550</td>\n      <td>Fiat</td>\n      <td>500</td>\n      <td>Electric/Gasoline</td>\n      <td>Manual</td>\n      <td>Demonstration</td>\n      <td>12805</td>\n      <td>69.0</td>\n      <td>2021</td>\n    </tr>\n    <tr>\n      <th>46398</th>\n      <td>837</td>\n      <td>Fiat</td>\n      <td>Panda</td>\n      <td>Electric/Gasoline</td>\n      <td>Manual</td>\n      <td>Demonstration</td>\n      <td>12805</td>\n      <td>69.0</td>\n      <td>2021</td>\n    </tr>\n    <tr>\n      <th>46399</th>\n      <td>1500</td>\n      <td>Skoda</td>\n      <td>Fabia</td>\n      <td>Gasoline</td>\n      <td>Manual</td>\n      <td>Demonstration</td>\n      <td>12980</td>\n      <td>60.0</td>\n      <td>2021</td>\n    </tr>\n    <tr>\n      <th>46400</th>\n      <td>99</td>\n      <td>Fiat</td>\n      <td>500</td>\n      <td>Electric/Gasoline</td>\n      <td>Manual</td>\n      <td>Pre-registered</td>\n      <td>12990</td>\n      <td>71.0</td>\n      <td>2021</td>\n    </tr>\n    <tr>\n      <th>46401</th>\n      <td>99</td>\n      <td>Fiat</td>\n      <td>500</td>\n      <td>Electric/Gasoline</td>\n      <td>Manual</td>\n      <td>Pre-registered</td>\n      <td>12990</td>\n      <td>71.0</td>\n      <td>2021</td>\n    </tr>\n    <tr>\n      <th>46402</th>\n      <td>99</td>\n      <td>Fiat</td>\n      <td>500</td>\n      <td>Electric/Gasoline</td>\n      <td>Manual</td>\n      <td>Pre-registered</td>\n      <td>12990</td>\n      <td>71.0</td>\n      <td>2021</td>\n    </tr>\n    <tr>\n      <th>46403</th>\n      <td>99</td>\n      <td>Fiat</td>\n      <td>500</td>\n      <td>Electric/Gasoline</td>\n      <td>Manual</td>\n      <td>Pre-registered</td>\n      <td>12990</td>\n      <td>71.0</td>\n      <td>2021</td>\n    </tr>\n    <tr>\n      <th>46404</th>\n      <td>99</td>\n      <td>Fiat</td>\n      <td>500</td>\n      <td>Electric/Gasoline</td>\n      <td>Manual</td>\n      <td>Pre-registered</td>\n      <td>12990</td>\n      <td>71.0</td>\n      <td>2021</td>\n    </tr>\n  </tbody>\n</table>\n</div>"
     },
     "execution_count": 32,
     "metadata": {},
     "output_type": "execute_result"
    }
   ],
   "source": [
    "df_autos.tail(10)"
   ],
   "metadata": {
    "collapsed": false,
    "ExecuteTime": {
     "start_time": "2024-01-05T16:00:52.143296Z",
     "end_time": "2024-01-05T16:00:52.791392Z"
    }
   }
  },
  {
   "cell_type": "code",
   "execution_count": 33,
   "outputs": [
    {
     "data": {
      "text/plain": "(46405, 9)"
     },
     "execution_count": 33,
     "metadata": {},
     "output_type": "execute_result"
    }
   ],
   "source": [
    "df_autos.shape"
   ],
   "metadata": {
    "collapsed": false,
    "ExecuteTime": {
     "start_time": "2024-01-05T16:00:52.210209Z",
     "end_time": "2024-01-05T16:00:52.793023Z"
    }
   }
  },
  {
   "cell_type": "code",
   "execution_count": 34,
   "outputs": [
    {
     "name": "stdout",
     "output_type": "stream",
     "text": [
      "<class 'pandas.core.frame.DataFrame'>\n",
      "RangeIndex: 46405 entries, 0 to 46404\n",
      "Data columns (total 9 columns):\n",
      " #   Column     Non-Null Count  Dtype  \n",
      "---  ------     --------------  -----  \n",
      " 0   mileage    46405 non-null  int64  \n",
      " 1   make       46405 non-null  object \n",
      " 2   model      46262 non-null  object \n",
      " 3   fuel       46405 non-null  object \n",
      " 4   gear       46223 non-null  object \n",
      " 5   offerType  46405 non-null  object \n",
      " 6   price      46405 non-null  int64  \n",
      " 7   hp         46376 non-null  float64\n",
      " 8   year       46405 non-null  int64  \n",
      "dtypes: float64(1), int64(3), object(5)\n",
      "memory usage: 3.2+ MB\n"
     ]
    }
   ],
   "source": [
    "df_autos.info()"
   ],
   "metadata": {
    "collapsed": false,
    "ExecuteTime": {
     "start_time": "2024-01-05T16:00:52.237869Z",
     "end_time": "2024-01-05T16:00:52.846184Z"
    }
   }
  },
  {
   "cell_type": "code",
   "execution_count": 35,
   "outputs": [
    {
     "data": {
      "text/plain": "            mileage         price            hp          year\ncount  4.640500e+04  4.640500e+04  46376.000000  46405.000000\nmean   7.117786e+04  1.657234e+04    132.990987   2016.012951\nstd    6.262531e+04  1.930470e+04     75.449284      3.155214\nmin    0.000000e+00  1.100000e+03      1.000000   2011.000000\n25%    1.980000e+04  7.490000e+03     86.000000   2013.000000\n50%    6.000000e+04  1.099900e+04    116.000000   2016.000000\n75%    1.050000e+05  1.949000e+04    150.000000   2019.000000\nmax    1.111111e+06  1.199900e+06    850.000000   2021.000000",
      "text/html": "<div>\n<style scoped>\n    .dataframe tbody tr th:only-of-type {\n        vertical-align: middle;\n    }\n\n    .dataframe tbody tr th {\n        vertical-align: top;\n    }\n\n    .dataframe thead th {\n        text-align: right;\n    }\n</style>\n<table border=\"1\" class=\"dataframe\">\n  <thead>\n    <tr style=\"text-align: right;\">\n      <th></th>\n      <th>mileage</th>\n      <th>price</th>\n      <th>hp</th>\n      <th>year</th>\n    </tr>\n  </thead>\n  <tbody>\n    <tr>\n      <th>count</th>\n      <td>4.640500e+04</td>\n      <td>4.640500e+04</td>\n      <td>46376.000000</td>\n      <td>46405.000000</td>\n    </tr>\n    <tr>\n      <th>mean</th>\n      <td>7.117786e+04</td>\n      <td>1.657234e+04</td>\n      <td>132.990987</td>\n      <td>2016.012951</td>\n    </tr>\n    <tr>\n      <th>std</th>\n      <td>6.262531e+04</td>\n      <td>1.930470e+04</td>\n      <td>75.449284</td>\n      <td>3.155214</td>\n    </tr>\n    <tr>\n      <th>min</th>\n      <td>0.000000e+00</td>\n      <td>1.100000e+03</td>\n      <td>1.000000</td>\n      <td>2011.000000</td>\n    </tr>\n    <tr>\n      <th>25%</th>\n      <td>1.980000e+04</td>\n      <td>7.490000e+03</td>\n      <td>86.000000</td>\n      <td>2013.000000</td>\n    </tr>\n    <tr>\n      <th>50%</th>\n      <td>6.000000e+04</td>\n      <td>1.099900e+04</td>\n      <td>116.000000</td>\n      <td>2016.000000</td>\n    </tr>\n    <tr>\n      <th>75%</th>\n      <td>1.050000e+05</td>\n      <td>1.949000e+04</td>\n      <td>150.000000</td>\n      <td>2019.000000</td>\n    </tr>\n    <tr>\n      <th>max</th>\n      <td>1.111111e+06</td>\n      <td>1.199900e+06</td>\n      <td>850.000000</td>\n      <td>2021.000000</td>\n    </tr>\n  </tbody>\n</table>\n</div>"
     },
     "execution_count": 35,
     "metadata": {},
     "output_type": "execute_result"
    }
   ],
   "source": [
    "df_autos.describe()"
   ],
   "metadata": {
    "collapsed": false,
    "ExecuteTime": {
     "start_time": "2024-01-05T16:00:52.434969Z",
     "end_time": "2024-01-05T16:00:53.383616Z"
    }
   }
  },
  {
   "cell_type": "code",
   "execution_count": 36,
   "outputs": [
    {
     "data": {
      "text/plain": "         mileage      price       hp     year\ncount    46405.0    46405.0  46376.0  46405.0\nmean     71177.9    16572.3    133.0   2016.0\nstd      62625.3    19304.7     75.4      3.2\nmin          0.0     1100.0      1.0   2011.0\n25%      19800.0     7490.0     86.0   2013.0\n50%      60000.0    10999.0    116.0   2016.0\n75%     105000.0    19490.0    150.0   2019.0\nmax    1111111.0  1199900.0    850.0   2021.0",
      "text/html": "<div>\n<style scoped>\n    .dataframe tbody tr th:only-of-type {\n        vertical-align: middle;\n    }\n\n    .dataframe tbody tr th {\n        vertical-align: top;\n    }\n\n    .dataframe thead th {\n        text-align: right;\n    }\n</style>\n<table border=\"1\" class=\"dataframe\">\n  <thead>\n    <tr style=\"text-align: right;\">\n      <th></th>\n      <th>mileage</th>\n      <th>price</th>\n      <th>hp</th>\n      <th>year</th>\n    </tr>\n  </thead>\n  <tbody>\n    <tr>\n      <th>count</th>\n      <td>46405.0</td>\n      <td>46405.0</td>\n      <td>46376.0</td>\n      <td>46405.0</td>\n    </tr>\n    <tr>\n      <th>mean</th>\n      <td>71177.9</td>\n      <td>16572.3</td>\n      <td>133.0</td>\n      <td>2016.0</td>\n    </tr>\n    <tr>\n      <th>std</th>\n      <td>62625.3</td>\n      <td>19304.7</td>\n      <td>75.4</td>\n      <td>3.2</td>\n    </tr>\n    <tr>\n      <th>min</th>\n      <td>0.0</td>\n      <td>1100.0</td>\n      <td>1.0</td>\n      <td>2011.0</td>\n    </tr>\n    <tr>\n      <th>25%</th>\n      <td>19800.0</td>\n      <td>7490.0</td>\n      <td>86.0</td>\n      <td>2013.0</td>\n    </tr>\n    <tr>\n      <th>50%</th>\n      <td>60000.0</td>\n      <td>10999.0</td>\n      <td>116.0</td>\n      <td>2016.0</td>\n    </tr>\n    <tr>\n      <th>75%</th>\n      <td>105000.0</td>\n      <td>19490.0</td>\n      <td>150.0</td>\n      <td>2019.0</td>\n    </tr>\n    <tr>\n      <th>max</th>\n      <td>1111111.0</td>\n      <td>1199900.0</td>\n      <td>850.0</td>\n      <td>2021.0</td>\n    </tr>\n  </tbody>\n</table>\n</div>"
     },
     "execution_count": 36,
     "metadata": {},
     "output_type": "execute_result"
    }
   ],
   "source": [
    "round(df_autos.describe(),1)"
   ],
   "metadata": {
    "collapsed": false,
    "ExecuteTime": {
     "start_time": "2024-01-05T16:00:52.741038Z",
     "end_time": "2024-01-05T16:00:53.630999Z"
    }
   }
  },
  {
   "cell_type": "code",
   "execution_count": 37,
   "outputs": [
    {
     "data": {
      "text/plain": "year\n2011    4112\n2012    4221\n2013    4266\n2014    4180\n2015    4214\n2016    4266\n2017    4223\n2018    4223\n2019    4233\n2020    4286\n2021    4181\nName: count, dtype: int64"
     },
     "execution_count": 37,
     "metadata": {},
     "output_type": "execute_result"
    }
   ],
   "source": [
    "df_autos.groupby('year').year.value_counts()"
   ],
   "metadata": {
    "collapsed": false,
    "ExecuteTime": {
     "start_time": "2024-01-05T16:00:53.005696Z",
     "end_time": "2024-01-05T16:00:53.710968Z"
    }
   }
  },
  {
   "cell_type": "code",
   "execution_count": 38,
   "outputs": [
    {
     "data": {
      "text/plain": "count      46405.0\nmean       16572.0\nstd        19305.0\nmin         1100.0\n25%         7490.0\n50%        10999.0\n75%        19490.0\nmax      1199900.0\nName: price, dtype: float64"
     },
     "execution_count": 38,
     "metadata": {},
     "output_type": "execute_result"
    }
   ],
   "source": [
    "round(df_autos.price.describe())"
   ],
   "metadata": {
    "collapsed": false,
    "ExecuteTime": {
     "start_time": "2024-01-05T16:00:53.104142Z",
     "end_time": "2024-01-05T16:00:53.828307Z"
    }
   }
  },
  {
   "cell_type": "code",
   "execution_count": 39,
   "outputs": [
    {
     "data": {
      "text/plain": "<Axes: ylabel='Frequency'>"
     },
     "execution_count": 39,
     "metadata": {},
     "output_type": "execute_result"
    },
    {
     "data": {
      "text/plain": "<Figure size 640x480 with 1 Axes>",
      "image/png": "[encoded data removed]"
     },
     "metadata": {},
     "output_type": "display_data"
    }
   ],
   "source": [
    "df_autos.price.plot(kind='hist',bins=40)"
   ],
   "metadata": {
    "collapsed": false,
    "ExecuteTime": {
     "start_time": "2024-01-05T16:00:53.148971Z",
     "end_time": "2024-01-05T16:00:55.408661Z"
    }
   }
  },
  {
   "cell_type": "code",
   "execution_count": 40,
   "outputs": [
    {
     "data": {
      "text/plain": "<Axes: >"
     },
     "execution_count": 40,
     "metadata": {},
     "output_type": "execute_result"
    },
    {
     "data": {
      "text/plain": "<Figure size 640x480 with 1 Axes>",
      "image/png": "[encoded data removed]"
     },
     "metadata": {},
     "output_type": "display_data"
    }
   ],
   "source": [
    "df_autos.price.plot(kind='box')"
   ],
   "metadata": {
    "collapsed": false,
    "ExecuteTime": {
     "start_time": "2024-01-05T16:00:55.058885Z",
     "end_time": "2024-01-05T16:00:56.969391Z"
    }
   }
  },
  {
   "cell_type": "code",
   "execution_count": 41,
   "outputs": [
    {
     "data": {
      "text/plain": "       mileage           make      model      fuel       gear       offerType   \n21675      431        Ferrari        F12  Gasoline  Automatic            Used  \\\n11754       90  Mercedes-Benz      S 650  Gasoline  Automatic            Used   \n11753       90        Maybach    Pullman  Gasoline  Automatic            Used   \n16429     3400        Maybach    Pullman  Gasoline  Automatic            Used   \n29257      350  Mercedes-Benz        SLS  Gasoline  Automatic            Used   \n7384      3600    Lamborghini  Aventador  Gasoline  Automatic            Used   \n18419     6500        Ferrari        812  Gasoline  Automatic   Demonstration   \n7383     14090    Lamborghini  Aventador  Gasoline  Automatic  Employee's car   \n2170      1200    Lamborghini  Aventador  Gasoline  Automatic            Used   \n42132     4624        Porsche        991  Gasoline  Automatic            Used   \n\n         price     hp  year  \n21675  1199900  775.0  2017  \n11754   717078  630.0  2019  \n11753   717078  630.0  2019  \n16429   499800  530.0  2018  \n29257   465000  591.0  2015  \n7384    449900  770.0  2021  \n18419   439900  799.0  2021  \n7383    439900  770.0  2021  \n2170    399999  700.0  2016  \n42132   399911  700.0  2018  ",
      "text/html": "<div>\n<style scoped>\n    .dataframe tbody tr th:only-of-type {\n        vertical-align: middle;\n    }\n\n    .dataframe tbody tr th {\n        vertical-align: top;\n    }\n\n    .dataframe thead th {\n        text-align: right;\n    }\n</style>\n<table border=\"1\" class=\"dataframe\">\n  <thead>\n    <tr style=\"text-align: right;\">\n      <th></th>\n      <th>mileage</th>\n      <th>make</th>\n      <th>model</th>\n      <th>fuel</th>\n      <th>gear</th>\n      <th>offerType</th>\n      <th>price</th>\n      <th>hp</th>\n      <th>year</th>\n    </tr>\n  </thead>\n  <tbody>\n    <tr>\n      <th>21675</th>\n      <td>431</td>\n      <td>Ferrari</td>\n      <td>F12</td>\n      <td>Gasoline</td>\n      <td>Automatic</td>\n      <td>Used</td>\n      <td>1199900</td>\n      <td>775.0</td>\n      <td>2017</td>\n    </tr>\n    <tr>\n      <th>11754</th>\n      <td>90</td>\n      <td>Mercedes-Benz</td>\n      <td>S 650</td>\n      <td>Gasoline</td>\n      <td>Automatic</td>\n      <td>Used</td>\n      <td>717078</td>\n      <td>630.0</td>\n      <td>2019</td>\n    </tr>\n    <tr>\n      <th>11753</th>\n      <td>90</td>\n      <td>Maybach</td>\n      <td>Pullman</td>\n      <td>Gasoline</td>\n      <td>Automatic</td>\n      <td>Used</td>\n      <td>717078</td>\n      <td>630.0</td>\n      <td>2019</td>\n    </tr>\n    <tr>\n      <th>16429</th>\n      <td>3400</td>\n      <td>Maybach</td>\n      <td>Pullman</td>\n      <td>Gasoline</td>\n      <td>Automatic</td>\n      <td>Used</td>\n      <td>499800</td>\n      <td>530.0</td>\n      <td>2018</td>\n    </tr>\n    <tr>\n      <th>29257</th>\n      <td>350</td>\n      <td>Mercedes-Benz</td>\n      <td>SLS</td>\n      <td>Gasoline</td>\n      <td>Automatic</td>\n      <td>Used</td>\n      <td>465000</td>\n      <td>591.0</td>\n      <td>2015</td>\n    </tr>\n    <tr>\n      <th>7384</th>\n      <td>3600</td>\n      <td>Lamborghini</td>\n      <td>Aventador</td>\n      <td>Gasoline</td>\n      <td>Automatic</td>\n      <td>Used</td>\n      <td>449900</td>\n      <td>770.0</td>\n      <td>2021</td>\n    </tr>\n    <tr>\n      <th>18419</th>\n      <td>6500</td>\n      <td>Ferrari</td>\n      <td>812</td>\n      <td>Gasoline</td>\n      <td>Automatic</td>\n      <td>Demonstration</td>\n      <td>439900</td>\n      <td>799.0</td>\n      <td>2021</td>\n    </tr>\n    <tr>\n      <th>7383</th>\n      <td>14090</td>\n      <td>Lamborghini</td>\n      <td>Aventador</td>\n      <td>Gasoline</td>\n      <td>Automatic</td>\n      <td>Employee's car</td>\n      <td>439900</td>\n      <td>770.0</td>\n      <td>2021</td>\n    </tr>\n    <tr>\n      <th>2170</th>\n      <td>1200</td>\n      <td>Lamborghini</td>\n      <td>Aventador</td>\n      <td>Gasoline</td>\n      <td>Automatic</td>\n      <td>Used</td>\n      <td>399999</td>\n      <td>700.0</td>\n      <td>2016</td>\n    </tr>\n    <tr>\n      <th>42132</th>\n      <td>4624</td>\n      <td>Porsche</td>\n      <td>991</td>\n      <td>Gasoline</td>\n      <td>Automatic</td>\n      <td>Used</td>\n      <td>399911</td>\n      <td>700.0</td>\n      <td>2018</td>\n    </tr>\n  </tbody>\n</table>\n</div>"
     },
     "execution_count": 41,
     "metadata": {},
     "output_type": "execute_result"
    }
   ],
   "source": [
    "df_autos.sort_values(by='price',ascending=False).head(10)"
   ],
   "metadata": {
    "collapsed": false,
    "ExecuteTime": {
     "start_time": "2024-01-05T16:00:56.489228Z",
     "end_time": "2024-01-05T16:00:57.042393Z"
    }
   }
  },
  {
   "cell_type": "code",
   "execution_count": 42,
   "outputs": [
    {
     "data": {
      "text/plain": "16572.33722659196"
     },
     "execution_count": 42,
     "metadata": {},
     "output_type": "execute_result"
    }
   ],
   "source": [
    "df_autos.price.mean()"
   ],
   "metadata": {
    "collapsed": false,
    "ExecuteTime": {
     "start_time": "2024-01-05T16:00:56.742600Z",
     "end_time": "2024-01-05T16:00:57.044938Z"
    }
   }
  },
  {
   "cell_type": "code",
   "execution_count": 43,
   "outputs": [
    {
     "data": {
      "text/plain": "16516.642666264386"
     },
     "execution_count": 43,
     "metadata": {},
     "output_type": "execute_result"
    }
   ],
   "source": [
    "df_autos[df_autos.price<7*10**5].price.mean()"
   ],
   "metadata": {
    "collapsed": false,
    "ExecuteTime": {
     "start_time": "2024-01-05T16:00:56.780163Z",
     "end_time": "2024-01-05T16:00:57.046161Z"
    }
   }
  },
  {
   "cell_type": "code",
   "execution_count": 44,
   "outputs": [
    {
     "data": {
      "text/plain": "15619.228323574062"
     },
     "execution_count": 44,
     "metadata": {},
     "output_type": "execute_result"
    }
   ],
   "source": [
    "df_autos[df_autos.price<1*10**5].price.mean()"
   ],
   "metadata": {
    "collapsed": false,
    "ExecuteTime": {
     "start_time": "2024-01-05T16:00:56.879693Z",
     "end_time": "2024-01-05T16:00:57.047475Z"
    }
   }
  },
  {
   "cell_type": "code",
   "execution_count": 45,
   "outputs": [
    {
     "data": {
      "text/plain": "15299.32792455296"
     },
     "execution_count": 45,
     "metadata": {},
     "output_type": "execute_result"
    }
   ],
   "source": [
    "df_autos[df_autos.price<80000].price.mean()"
   ],
   "metadata": {
    "collapsed": false,
    "ExecuteTime": {
     "start_time": "2024-01-05T16:00:56.940754Z",
     "end_time": "2024-01-05T16:00:57.560944Z"
    }
   }
  },
  {
   "cell_type": "code",
   "execution_count": 46,
   "outputs": [
    {
     "data": {
      "text/plain": "(46110, 9)"
     },
     "execution_count": 46,
     "metadata": {},
     "output_type": "execute_result"
    }
   ],
   "source": [
    "df_autos[df_autos.price<1*10**5].shape"
   ],
   "metadata": {
    "collapsed": false,
    "ExecuteTime": {
     "start_time": "2024-01-05T16:00:57.005585Z",
     "end_time": "2024-01-05T16:00:57.564869Z"
    }
   }
  },
  {
   "cell_type": "code",
   "execution_count": 47,
   "outputs": [
    {
     "data": {
      "text/plain": "(295, 9)"
     },
     "execution_count": 47,
     "metadata": {},
     "output_type": "execute_result"
    }
   ],
   "source": [
    "df_autos[df_autos.price > 1 * 10 ** 5].shape"
   ],
   "metadata": {
    "collapsed": false,
    "ExecuteTime": {
     "start_time": "2024-01-05T16:00:57.096691Z",
     "end_time": "2024-01-05T16:00:57.596688Z"
    }
   }
  },
  {
   "cell_type": "code",
   "execution_count": 48,
   "outputs": [
    {
     "data": {
      "text/plain": "<Axes: >"
     },
     "execution_count": 48,
     "metadata": {},
     "output_type": "execute_result"
    },
    {
     "data": {
      "text/plain": "<Figure size 640x480 with 1 Axes>",
      "image/png": "[encoded data removed]"
     },
     "metadata": {},
     "output_type": "display_data"
    }
   ],
   "source": [
    "df_autos[df_autos.price< 1*10**5].price.plot(kind='box')"
   ],
   "metadata": {
    "collapsed": false,
    "ExecuteTime": {
     "start_time": "2024-01-05T16:00:57.134768Z",
     "end_time": "2024-01-05T16:00:58.485341Z"
    }
   }
  },
  {
   "cell_type": "code",
   "execution_count": 49,
   "outputs": [
    {
     "data": {
      "text/plain": "<Axes: ylabel='Frequency'>"
     },
     "execution_count": 49,
     "metadata": {},
     "output_type": "execute_result"
    },
    {
     "data": {
      "text/plain": "<Figure size 640x480 with 1 Axes>",
      "image/png": "[encoded data removed]"
     },
     "metadata": {},
     "output_type": "display_data"
    }
   ],
   "source": [
    "df_autos[df_autos.price < 1 * 10 ** 5].price.plot(kind='hist',bins=40)"
   ],
   "metadata": {
    "collapsed": false,
    "ExecuteTime": {
     "start_time": "2024-01-05T16:00:58.189699Z",
     "end_time": "2024-01-05T16:01:00.880259Z"
    }
   }
  },
  {
   "cell_type": "code",
   "execution_count": 50,
   "outputs": [
    {
     "data": {
      "text/plain": "(43816, 9)"
     },
     "execution_count": 50,
     "metadata": {},
     "output_type": "execute_result"
    }
   ],
   "source": [
    "df_autos[df_autos.price < 40000].shape"
   ],
   "metadata": {
    "collapsed": false,
    "ExecuteTime": {
     "start_time": "2024-01-05T16:01:00.777529Z",
     "end_time": "2024-01-05T16:01:00.883159Z"
    }
   }
  },
  {
   "cell_type": "code",
   "execution_count": 51,
   "outputs": [
    {
     "data": {
      "text/plain": "0.9681284344359444"
     },
     "execution_count": 51,
     "metadata": {},
     "output_type": "execute_result"
    }
   ],
   "source": [
    "44926/46405"
   ],
   "metadata": {
    "collapsed": false,
    "ExecuteTime": {
     "start_time": "2024-01-05T16:01:00.867847Z",
     "end_time": "2024-01-05T16:01:01.405606Z"
    }
   }
  },
  {
   "cell_type": "code",
   "execution_count": 52,
   "outputs": [
    {
     "data": {
      "text/plain": "         mileage    price       hp     year\ncount    44926.0  44926.0  44897.0  44926.0\nmean     72811.0  14258.0    125.0   2016.0\nstd      62817.0   9689.0     56.0      3.0\nmin          0.0   1100.0      1.0   2011.0\n25%      21537.0   7440.0     86.0   2013.0\n50%      62100.0  10900.0    114.0   2016.0\n75%     107000.0  17990.0    150.0   2019.0\nmax    1111111.0  49999.0    571.0   2021.0",
      "text/html": "<div>\n<style scoped>\n    .dataframe tbody tr th:only-of-type {\n        vertical-align: middle;\n    }\n\n    .dataframe tbody tr th {\n        vertical-align: top;\n    }\n\n    .dataframe thead th {\n        text-align: right;\n    }\n</style>\n<table border=\"1\" class=\"dataframe\">\n  <thead>\n    <tr style=\"text-align: right;\">\n      <th></th>\n      <th>mileage</th>\n      <th>price</th>\n      <th>hp</th>\n      <th>year</th>\n    </tr>\n  </thead>\n  <tbody>\n    <tr>\n      <th>count</th>\n      <td>44926.0</td>\n      <td>44926.0</td>\n      <td>44897.0</td>\n      <td>44926.0</td>\n    </tr>\n    <tr>\n      <th>mean</th>\n      <td>72811.0</td>\n      <td>14258.0</td>\n      <td>125.0</td>\n      <td>2016.0</td>\n    </tr>\n    <tr>\n      <th>std</th>\n      <td>62817.0</td>\n      <td>9689.0</td>\n      <td>56.0</td>\n      <td>3.0</td>\n    </tr>\n    <tr>\n      <th>min</th>\n      <td>0.0</td>\n      <td>1100.0</td>\n      <td>1.0</td>\n      <td>2011.0</td>\n    </tr>\n    <tr>\n      <th>25%</th>\n      <td>21537.0</td>\n      <td>7440.0</td>\n      <td>86.0</td>\n      <td>2013.0</td>\n    </tr>\n    <tr>\n      <th>50%</th>\n      <td>62100.0</td>\n      <td>10900.0</td>\n      <td>114.0</td>\n      <td>2016.0</td>\n    </tr>\n    <tr>\n      <th>75%</th>\n      <td>107000.0</td>\n      <td>17990.0</td>\n      <td>150.0</td>\n      <td>2019.0</td>\n    </tr>\n    <tr>\n      <th>max</th>\n      <td>1111111.0</td>\n      <td>49999.0</td>\n      <td>571.0</td>\n      <td>2021.0</td>\n    </tr>\n  </tbody>\n</table>\n</div>"
     },
     "execution_count": 52,
     "metadata": {},
     "output_type": "execute_result"
    }
   ],
   "source": [
    "round(df_autos[df_autos.price < 50000].describe())"
   ],
   "metadata": {
    "collapsed": false,
    "ExecuteTime": {
     "start_time": "2024-01-05T16:01:00.919690Z",
     "end_time": "2024-01-05T16:01:01.493978Z"
    }
   }
  },
  {
   "cell_type": "code",
   "execution_count": 53,
   "outputs": [],
   "source": [
    "df_autos.to_pickle('/Users/pkc/PycharmProjects/pythonProject/Automotive/pickles/df_autos.pickle')"
   ],
   "metadata": {
    "collapsed": false,
    "ExecuteTime": {
     "start_time": "2024-01-05T16:01:01.075954Z",
     "end_time": "2024-01-05T16:01:01.496601Z"
    }
   }
  }
 ],
 "metadata": {
  "kernelspec": {
   "display_name": "Python 3",
   "language": "python",
   "name": "python3"
  },
  "language_info": {
   "codemirror_mode": {
    "name": "ipython",
    "version": 2
   },
   "file_extension": ".py",
   "mimetype": "text/x-python",
   "name": "python",
   "nbconvert_exporter": "python",
   "pygments_lexer": "ipython2",
   "version": "2.7.6"
  }
 },
 "nbformat": 4,
 "nbformat_minor": 0
}
