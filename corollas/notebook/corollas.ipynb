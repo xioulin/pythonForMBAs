{
 "cells": [
  {
   "cell_type": "code",
   "execution_count": 103,
   "metadata": {
    "collapsed": true,
    "ExecuteTime": {
     "start_time": "2024-01-15T16:32:21.273659Z",
     "end_time": "2024-01-15T16:32:22.209150Z"
    }
   },
   "outputs": [],
   "source": [
    "import pandas as pd\n",
    "import seaborn as sns"
   ]
  },
  {
   "cell_type": "code",
   "execution_count": 13,
   "outputs": [],
   "source": [
    "df= pd.read_csv('/Users/pkc/PycharmProjects/pythonProject/corollas/data/ToyotaCorolla.csv')"
   ],
   "metadata": {
    "collapsed": false,
    "ExecuteTime": {
     "start_time": "2024-01-15T14:42:36.428384Z",
     "end_time": "2024-01-15T14:42:36.456240Z"
    }
   }
  },
  {
   "cell_type": "code",
   "execution_count": 14,
   "outputs": [
    {
     "data": {
      "text/plain": "(1436, 39)"
     },
     "execution_count": 14,
     "metadata": {},
     "output_type": "execute_result"
    }
   ],
   "source": [
    "df.shape"
   ],
   "metadata": {
    "collapsed": false,
    "ExecuteTime": {
     "start_time": "2024-01-15T14:42:37.636137Z",
     "end_time": "2024-01-15T14:42:37.656168Z"
    }
   }
  },
  {
   "cell_type": "code",
   "execution_count": 20,
   "outputs": [
    {
     "data": {
      "text/plain": "Index(['Id', 'Model', 'Price', 'Age_08_04', 'Mfg_Month', 'Mfg_Year', 'KM',\n       'Fuel_Type', 'HP', 'Met_Color', 'Color', 'Automatic', 'CC', 'Doors',\n       'Cylinders', 'Gears', 'Quarterly_Tax', 'Weight', 'Mfr_Guarantee',\n       'BOVAG_Guarantee', 'Guarantee_Period', 'ABS', 'Airbag_1', 'Airbag_2',\n       'Airco', 'Automatic_airco', 'Boardcomputer', 'CD_Player',\n       'Central_Lock', 'Powered_Windows', 'Power_Steering', 'Radio',\n       'Mistlamps', 'Sport_Model', 'Backseat_Divider', 'Metallic_Rim',\n       'Radio_cassette', 'Parking_Assistant', 'Tow_Bar'],\n      dtype='object')"
     },
     "execution_count": 20,
     "metadata": {},
     "output_type": "execute_result"
    }
   ],
   "source": [
    "df.columns"
   ],
   "metadata": {
    "collapsed": false,
    "ExecuteTime": {
     "start_time": "2024-01-15T14:43:17.250095Z",
     "end_time": "2024-01-15T14:43:17.284354Z"
    }
   }
  },
  {
   "cell_type": "code",
   "execution_count": 25,
   "outputs": [
    {
     "data": {
      "text/plain": "   Price  Mfg_Year\n0  13500      2002\n1  13750      2002\n2  13950      2002\n3  14950      2002\n4  13750      2002",
      "text/html": "<div>\n<style scoped>\n    .dataframe tbody tr th:only-of-type {\n        vertical-align: middle;\n    }\n\n    .dataframe tbody tr th {\n        vertical-align: top;\n    }\n\n    .dataframe thead th {\n        text-align: right;\n    }\n</style>\n<table border=\"1\" class=\"dataframe\">\n  <thead>\n    <tr style=\"text-align: right;\">\n      <th></th>\n      <th>Price</th>\n      <th>Mfg_Year</th>\n    </tr>\n  </thead>\n  <tbody>\n    <tr>\n      <th>0</th>\n      <td>13500</td>\n      <td>2002</td>\n    </tr>\n    <tr>\n      <th>1</th>\n      <td>13750</td>\n      <td>2002</td>\n    </tr>\n    <tr>\n      <th>2</th>\n      <td>13950</td>\n      <td>2002</td>\n    </tr>\n    <tr>\n      <th>3</th>\n      <td>14950</td>\n      <td>2002</td>\n    </tr>\n    <tr>\n      <th>4</th>\n      <td>13750</td>\n      <td>2002</td>\n    </tr>\n  </tbody>\n</table>\n</div>"
     },
     "execution_count": 25,
     "metadata": {},
     "output_type": "execute_result"
    }
   ],
   "source": [
    "df[['Price','Mfg_Year']].head()"
   ],
   "metadata": {
    "collapsed": false,
    "ExecuteTime": {
     "start_time": "2024-01-15T14:45:02.179686Z",
     "end_time": "2024-01-15T14:45:02.210378Z"
    }
   }
  },
  {
   "cell_type": "code",
   "execution_count": 26,
   "outputs": [
    {
     "data": {
      "text/plain": "   Price  Mfg_Year\n0  13500      2002\n1  13750      2002\n2  13950      2002\n3  14950      2002\n4  13750      2002",
      "text/html": "<div>\n<style scoped>\n    .dataframe tbody tr th:only-of-type {\n        vertical-align: middle;\n    }\n\n    .dataframe tbody tr th {\n        vertical-align: top;\n    }\n\n    .dataframe thead th {\n        text-align: right;\n    }\n</style>\n<table border=\"1\" class=\"dataframe\">\n  <thead>\n    <tr style=\"text-align: right;\">\n      <th></th>\n      <th>Price</th>\n      <th>Mfg_Year</th>\n    </tr>\n  </thead>\n  <tbody>\n    <tr>\n      <th>0</th>\n      <td>13500</td>\n      <td>2002</td>\n    </tr>\n    <tr>\n      <th>1</th>\n      <td>13750</td>\n      <td>2002</td>\n    </tr>\n    <tr>\n      <th>2</th>\n      <td>13950</td>\n      <td>2002</td>\n    </tr>\n    <tr>\n      <th>3</th>\n      <td>14950</td>\n      <td>2002</td>\n    </tr>\n    <tr>\n      <th>4</th>\n      <td>13750</td>\n      <td>2002</td>\n    </tr>\n  </tbody>\n</table>\n</div>"
     },
     "execution_count": 26,
     "metadata": {},
     "output_type": "execute_result"
    }
   ],
   "source": [
    "df[['Price', 'Mfg_Year']].head()"
   ],
   "metadata": {
    "collapsed": false,
    "ExecuteTime": {
     "start_time": "2024-01-15T14:45:12.257401Z",
     "end_time": "2024-01-15T14:45:12.273605Z"
    }
   }
  },
  {
   "cell_type": "code",
   "execution_count": 27,
   "outputs": [
    {
     "data": {
      "text/plain": "Mfg_Year\n1999    441\n1998    392\n2000    225\n2001    192\n2002     87\n2003     75\n2004     24\nName: count, dtype: int64"
     },
     "execution_count": 27,
     "metadata": {},
     "output_type": "execute_result"
    }
   ],
   "source": [
    "df.Mfg_Year.value_counts()"
   ],
   "metadata": {
    "collapsed": false,
    "ExecuteTime": {
     "start_time": "2024-01-15T14:46:07.770887Z",
     "end_time": "2024-01-15T14:46:07.778540Z"
    }
   }
  },
  {
   "cell_type": "code",
   "execution_count": 28,
   "outputs": [
    {
     "data": {
      "text/plain": "Mfg_Year\n1998     7925.568878\n1999     9338.401361\n2000    10728.440000\n2001    12274.973958\n2002    16976.252874\n2003    18679.973333\n2004    22324.166667\nName: Price, dtype: float64"
     },
     "execution_count": 28,
     "metadata": {},
     "output_type": "execute_result"
    }
   ],
   "source": [
    "df.groupby('Mfg_Year').Price.mean()"
   ],
   "metadata": {
    "collapsed": false,
    "ExecuteTime": {
     "start_time": "2024-01-15T14:46:43.985821Z",
     "end_time": "2024-01-15T14:46:44.004256Z"
    }
   }
  },
  {
   "cell_type": "code",
   "execution_count": 35,
   "outputs": [
    {
     "data": {
      "text/plain": "<Axes: ylabel='Frequency'>"
     },
     "execution_count": 35,
     "metadata": {},
     "output_type": "execute_result"
    },
    {
     "data": {
      "text/plain": "<Figure size 640x480 with 1 Axes>",
      "image/png": "[encoded data removed]"
     },
     "metadata": {},
     "output_type": "display_data"
    }
   ],
   "source": [
    "df[df.Mfg_Year == 1998].Price.plot(kind='hist',bins=20)"
   ],
   "metadata": {
    "collapsed": false,
    "ExecuteTime": {
     "start_time": "2024-01-15T14:48:46.178359Z",
     "end_time": "2024-01-15T14:48:46.542595Z"
    }
   }
  },
  {
   "cell_type": "code",
   "execution_count": 37,
   "outputs": [
    {
     "data": {
      "text/plain": "7925.568877551021"
     },
     "execution_count": 37,
     "metadata": {},
     "output_type": "execute_result"
    }
   ],
   "source": [
    "df[df.Mfg_Year == 1998].Price.mean()"
   ],
   "metadata": {
    "collapsed": false,
    "ExecuteTime": {
     "start_time": "2024-01-15T14:49:17.732852Z",
     "end_time": "2024-01-15T14:49:17.748183Z"
    }
   }
  },
  {
   "cell_type": "code",
   "execution_count": 43,
   "outputs": [],
   "source": [
    "year_list = df.Mfg_Year.value_counts().index.tolist()"
   ],
   "metadata": {
    "collapsed": false,
    "ExecuteTime": {
     "start_time": "2024-01-15T14:52:57.097044Z",
     "end_time": "2024-01-15T14:52:57.107036Z"
    }
   }
  },
  {
   "cell_type": "code",
   "execution_count": 51,
   "outputs": [
    {
     "name": "stdout",
     "output_type": "stream",
     "text": [
      "1999 the average price for this year is $9338.4\n",
      "1998 the average price for this year is $7925.6\n",
      "2000 the average price for this year is $10728.4\n",
      "2001 the average price for this year is $12275.0\n",
      "2002 the average price for this year is $16976.3\n",
      "2003 the average price for this year is $18680.0\n",
      "2004 the average price for this year is $22324.2\n"
     ]
    }
   ],
   "source": [
    "for i in year_list:\n",
    "    print(str(i)+\" the average price for this year is $\"+str(round(df[df.Mfg_Year == i].Price.mean(),1)))"
   ],
   "metadata": {
    "collapsed": false,
    "ExecuteTime": {
     "start_time": "2024-01-15T14:55:13.860423Z",
     "end_time": "2024-01-15T14:55:13.884326Z"
    }
   }
  },
  {
   "cell_type": "code",
   "execution_count": 52,
   "outputs": [
    {
     "data": {
      "text/plain": "<Figure size 640x480 with 1 Axes>",
      "image/png": "[encoded data removed]"
     },
     "metadata": {},
     "output_type": "display_data"
    }
   ],
   "source": [
    "for i in year_list:\n",
    "    df[df.Mfg_Year == i].Price.plot(kind='hist',bins=20)"
   ],
   "metadata": {
    "collapsed": false,
    "ExecuteTime": {
     "start_time": "2024-01-15T14:56:07.387366Z",
     "end_time": "2024-01-15T14:56:08.025522Z"
    }
   }
  },
  {
   "cell_type": "code",
   "execution_count": 59,
   "outputs": [
    {
     "name": "stdout",
     "output_type": "stream",
     "text": [
      "<class 'pandas.core.frame.DataFrame'>\n",
      "RangeIndex: 1436 entries, 0 to 1435\n",
      "Data columns (total 39 columns):\n",
      " #   Column             Non-Null Count  Dtype \n",
      "---  ------             --------------  ----- \n",
      " 0   Id                 1436 non-null   int64 \n",
      " 1   Model              1436 non-null   object\n",
      " 2   Price              1436 non-null   int64 \n",
      " 3   Age_08_04          1436 non-null   int64 \n",
      " 4   Mfg_Month          1436 non-null   int64 \n",
      " 5   Mfg_Year           1436 non-null   int64 \n",
      " 6   KM                 1436 non-null   int64 \n",
      " 7   Fuel_Type          1436 non-null   object\n",
      " 8   HP                 1436 non-null   int64 \n",
      " 9   Met_Color          1436 non-null   int64 \n",
      " 10  Color              1436 non-null   object\n",
      " 11  Automatic          1436 non-null   int64 \n",
      " 12  CC                 1436 non-null   int64 \n",
      " 13  Doors              1436 non-null   int64 \n",
      " 14  Cylinders          1436 non-null   int64 \n",
      " 15  Gears              1436 non-null   int64 \n",
      " 16  Quarterly_Tax      1436 non-null   int64 \n",
      " 17  Weight             1436 non-null   int64 \n",
      " 18  Mfr_Guarantee      1436 non-null   int64 \n",
      " 19  BOVAG_Guarantee    1436 non-null   int64 \n",
      " 20  Guarantee_Period   1436 non-null   int64 \n",
      " 21  ABS                1436 non-null   int64 \n",
      " 22  Airbag_1           1436 non-null   int64 \n",
      " 23  Airbag_2           1436 non-null   int64 \n",
      " 24  Airco              1436 non-null   int64 \n",
      " 25  Automatic_airco    1436 non-null   int64 \n",
      " 26  Boardcomputer      1436 non-null   int64 \n",
      " 27  CD_Player          1436 non-null   int64 \n",
      " 28  Central_Lock       1436 non-null   int64 \n",
      " 29  Powered_Windows    1436 non-null   int64 \n",
      " 30  Power_Steering     1436 non-null   int64 \n",
      " 31  Radio              1436 non-null   int64 \n",
      " 32  Mistlamps          1436 non-null   int64 \n",
      " 33  Sport_Model        1436 non-null   int64 \n",
      " 34  Backseat_Divider   1436 non-null   int64 \n",
      " 35  Metallic_Rim       1436 non-null   int64 \n",
      " 36  Radio_cassette     1436 non-null   int64 \n",
      " 37  Parking_Assistant  1436 non-null   int64 \n",
      " 38  Tow_Bar            1436 non-null   int64 \n",
      "dtypes: int64(36), object(3)\n",
      "memory usage: 437.7+ KB\n"
     ]
    }
   ],
   "source": [
    "df.info()"
   ],
   "metadata": {
    "collapsed": false,
    "ExecuteTime": {
     "start_time": "2024-01-15T15:49:50.169526Z",
     "end_time": "2024-01-15T15:49:50.200405Z"
    }
   }
  },
  {
   "cell_type": "code",
   "execution_count": 68,
   "outputs": [],
   "source": [
    "object_list = ['Model','Fuel_Type','Color']"
   ],
   "metadata": {
    "collapsed": false,
    "ExecuteTime": {
     "start_time": "2024-01-15T16:10:57.171727Z",
     "end_time": "2024-01-15T16:10:57.191175Z"
    }
   }
  },
  {
   "cell_type": "code",
   "execution_count": 97,
   "outputs": [],
   "source": [
    "df_ints= df.copy()"
   ],
   "metadata": {
    "collapsed": false,
    "ExecuteTime": {
     "start_time": "2024-01-15T16:28:30.608198Z",
     "end_time": "2024-01-15T16:28:30.642649Z"
    }
   }
  },
  {
   "cell_type": "code",
   "execution_count": 98,
   "outputs": [
    {
     "data": {
      "text/plain": "0         Blue\n1       Silver\n2         Blue\n3        Black\n4        Black\n         ...  \n1431      Blue\n1432      Grey\n1433      Blue\n1434      Grey\n1435     Green\nName: Color, Length: 1436, dtype: object"
     },
     "execution_count": 98,
     "metadata": {},
     "output_type": "execute_result"
    }
   ],
   "source": [
    "df_ints.pop('Model')\n",
    "df_ints.pop('Fuel_Type')\n",
    "df_ints.pop('Color')"
   ],
   "metadata": {
    "collapsed": false,
    "ExecuteTime": {
     "start_time": "2024-01-15T16:29:55.790937Z",
     "end_time": "2024-01-15T16:29:55.850529Z"
    }
   }
  },
  {
   "cell_type": "code",
   "execution_count": 101,
   "outputs": [
    {
     "data": {
      "text/plain": "0          1\n1          2\n2          3\n3          4\n4          5\n        ... \n1431    1438\n1432    1439\n1433    1440\n1434    1441\n1435    1442\nName: Id, Length: 1436, dtype: int64"
     },
     "execution_count": 101,
     "metadata": {},
     "output_type": "execute_result"
    }
   ],
   "source": [
    "df_ints.pop('Id')"
   ],
   "metadata": {
    "collapsed": false,
    "ExecuteTime": {
     "start_time": "2024-01-15T16:30:23.648927Z",
     "end_time": "2024-01-15T16:30:23.670274Z"
    }
   }
  },
  {
   "cell_type": "code",
   "execution_count": 106,
   "outputs": [],
   "source": [
    "corr= df_ints.corr()"
   ],
   "metadata": {
    "collapsed": false,
    "ExecuteTime": {
     "start_time": "2024-01-15T16:41:47.276610Z",
     "end_time": "2024-01-15T16:41:47.302272Z"
    }
   }
  },
  {
   "cell_type": "code",
   "execution_count": 111,
   "outputs": [
    {
     "data": {
      "text/plain": "   Price  Age_08_04  Mfg_Month  Mfg_Year     KM  HP  Met_Color  Automatic   \n0  13500         23         10      2002  46986  90          1          0  \\\n1  13750         23         10      2002  72937  90          1          0   \n2  13950         24          9      2002  41711  90          1          0   \n3  14950         26          7      2002  48000  90          0          0   \n4  13750         30          3      2002  38500  90          0          0   \n\n     CC  Doors  ...  Powered_Windows  Power_Steering  Radio  Mistlamps   \n0  2000      3  ...                1               1      0          0  \\\n1  2000      3  ...                0               1      0          0   \n2  2000      3  ...                0               1      0          0   \n3  2000      3  ...                0               1      0          0   \n4  2000      3  ...                1               1      0          1   \n\n   Sport_Model  Backseat_Divider  Metallic_Rim  Radio_cassette   \n0            0                 1             0               0  \\\n1            0                 1             0               0   \n2            0                 1             0               0   \n3            0                 1             0               0   \n4            0                 1             0               0   \n\n   Parking_Assistant  Tow_Bar  \n0                  0        0  \n1                  0        0  \n2                  0        0  \n3                  0        0  \n4                  0        0  \n\n[5 rows x 35 columns]",
      "text/html": "<div>\n<style scoped>\n    .dataframe tbody tr th:only-of-type {\n        vertical-align: middle;\n    }\n\n    .dataframe tbody tr th {\n        vertical-align: top;\n    }\n\n    .dataframe thead th {\n        text-align: right;\n    }\n</style>\n<table border=\"1\" class=\"dataframe\">\n  <thead>\n    <tr style=\"text-align: right;\">\n      <th></th>\n      <th>Price</th>\n      <th>Age_08_04</th>\n      <th>Mfg_Month</th>\n      <th>Mfg_Year</th>\n      <th>KM</th>\n      <th>HP</th>\n      <th>Met_Color</th>\n      <th>Automatic</th>\n      <th>CC</th>\n      <th>Doors</th>\n      <th>...</th>\n      <th>Powered_Windows</th>\n      <th>Power_Steering</th>\n      <th>Radio</th>\n      <th>Mistlamps</th>\n      <th>Sport_Model</th>\n      <th>Backseat_Divider</th>\n      <th>Metallic_Rim</th>\n      <th>Radio_cassette</th>\n      <th>Parking_Assistant</th>\n      <th>Tow_Bar</th>\n    </tr>\n  </thead>\n  <tbody>\n    <tr>\n      <th>0</th>\n      <td>13500</td>\n      <td>23</td>\n      <td>10</td>\n      <td>2002</td>\n      <td>46986</td>\n      <td>90</td>\n      <td>1</td>\n      <td>0</td>\n      <td>2000</td>\n      <td>3</td>\n      <td>...</td>\n      <td>1</td>\n      <td>1</td>\n      <td>0</td>\n      <td>0</td>\n      <td>0</td>\n      <td>1</td>\n      <td>0</td>\n      <td>0</td>\n      <td>0</td>\n      <td>0</td>\n    </tr>\n    <tr>\n      <th>1</th>\n      <td>13750</td>\n      <td>23</td>\n      <td>10</td>\n      <td>2002</td>\n      <td>72937</td>\n      <td>90</td>\n      <td>1</td>\n      <td>0</td>\n      <td>2000</td>\n      <td>3</td>\n      <td>...</td>\n      <td>0</td>\n      <td>1</td>\n      <td>0</td>\n      <td>0</td>\n      <td>0</td>\n      <td>1</td>\n      <td>0</td>\n      <td>0</td>\n      <td>0</td>\n      <td>0</td>\n    </tr>\n    <tr>\n      <th>2</th>\n      <td>13950</td>\n      <td>24</td>\n      <td>9</td>\n      <td>2002</td>\n      <td>41711</td>\n      <td>90</td>\n      <td>1</td>\n      <td>0</td>\n      <td>2000</td>\n      <td>3</td>\n      <td>...</td>\n      <td>0</td>\n      <td>1</td>\n      <td>0</td>\n      <td>0</td>\n      <td>0</td>\n      <td>1</td>\n      <td>0</td>\n      <td>0</td>\n      <td>0</td>\n      <td>0</td>\n    </tr>\n    <tr>\n      <th>3</th>\n      <td>14950</td>\n      <td>26</td>\n      <td>7</td>\n      <td>2002</td>\n      <td>48000</td>\n      <td>90</td>\n      <td>0</td>\n      <td>0</td>\n      <td>2000</td>\n      <td>3</td>\n      <td>...</td>\n      <td>0</td>\n      <td>1</td>\n      <td>0</td>\n      <td>0</td>\n      <td>0</td>\n      <td>1</td>\n      <td>0</td>\n      <td>0</td>\n      <td>0</td>\n      <td>0</td>\n    </tr>\n    <tr>\n      <th>4</th>\n      <td>13750</td>\n      <td>30</td>\n      <td>3</td>\n      <td>2002</td>\n      <td>38500</td>\n      <td>90</td>\n      <td>0</td>\n      <td>0</td>\n      <td>2000</td>\n      <td>3</td>\n      <td>...</td>\n      <td>1</td>\n      <td>1</td>\n      <td>0</td>\n      <td>1</td>\n      <td>0</td>\n      <td>1</td>\n      <td>0</td>\n      <td>0</td>\n      <td>0</td>\n      <td>0</td>\n    </tr>\n  </tbody>\n</table>\n<p>5 rows × 35 columns</p>\n</div>"
     },
     "execution_count": 111,
     "metadata": {},
     "output_type": "execute_result"
    }
   ],
   "source": [
    "df_ints.head()"
   ],
   "metadata": {
    "collapsed": false,
    "ExecuteTime": {
     "start_time": "2024-01-15T16:59:57.241242Z",
     "end_time": "2024-01-15T16:59:57.277517Z"
    }
   }
  },
  {
   "cell_type": "code",
   "execution_count": 115,
   "outputs": [],
   "source": [
    "df_ints=df_ints.iloc[:,:6].copy()"
   ],
   "metadata": {
    "collapsed": false,
    "ExecuteTime": {
     "start_time": "2024-01-15T17:00:54.222502Z",
     "end_time": "2024-01-15T17:00:54.236829Z"
    }
   }
  },
  {
   "cell_type": "code",
   "execution_count": 117,
   "outputs": [
    {
     "data": {
      "text/plain": "0       10\n1       10\n2        9\n3        7\n4        3\n        ..\n1431    12\n1432     9\n1433    10\n1434    11\n1435     5\nName: Mfg_Month, Length: 1436, dtype: int64"
     },
     "execution_count": 117,
     "metadata": {},
     "output_type": "execute_result"
    }
   ],
   "source": [
    "df_ints.pop('Mfg_Month')"
   ],
   "metadata": {
    "collapsed": false,
    "ExecuteTime": {
     "start_time": "2024-01-15T17:01:14.166448Z",
     "end_time": "2024-01-15T17:01:14.172492Z"
    }
   }
  },
  {
   "cell_type": "code",
   "execution_count": 119,
   "outputs": [
    {
     "data": {
      "text/plain": "0       2002\n1       2002\n2       2002\n3       2002\n4       2002\n        ... \n1431    1998\n1432    1998\n1433    1998\n1434    1998\n1435    1998\nName: Mfg_Year, Length: 1436, dtype: int64"
     },
     "execution_count": 119,
     "metadata": {},
     "output_type": "execute_result"
    }
   ],
   "source": [
    "df_ints.pop('Mfg_Year')"
   ],
   "metadata": {
    "collapsed": false,
    "ExecuteTime": {
     "start_time": "2024-01-15T17:01:26.747290Z",
     "end_time": "2024-01-15T17:01:26.759212Z"
    }
   }
  },
  {
   "cell_type": "code",
   "execution_count": 121,
   "outputs": [],
   "source": [
    "df_stuff= df_ints.corr()"
   ],
   "metadata": {
    "collapsed": false,
    "ExecuteTime": {
     "start_time": "2024-01-15T17:01:48.582145Z",
     "end_time": "2024-01-15T17:01:48.596105Z"
    }
   }
  },
  {
   "cell_type": "code",
   "execution_count": 124,
   "outputs": [
    {
     "data": {
      "text/plain": "<Axes: >"
     },
     "execution_count": 124,
     "metadata": {},
     "output_type": "execute_result"
    },
    {
     "data": {
      "text/plain": "<Figure size 640x480 with 2 Axes>",
      "image/png": "[encoded data removed]"
     },
     "metadata": {},
     "output_type": "display_data"
    }
   ],
   "source": [
    "sns.heatmap(df_stuff,cmap='Blues',annot=True)"
   ],
   "metadata": {
    "collapsed": false,
    "ExecuteTime": {
     "start_time": "2024-01-15T17:04:34.996417Z",
     "end_time": "2024-01-15T17:04:35.332130Z"
    }
   }
  }
 ],
 "metadata": {
  "kernelspec": {
   "display_name": "Python 3",
   "language": "python",
   "name": "python3"
  },
  "language_info": {
   "codemirror_mode": {
    "name": "ipython",
    "version": 2
   },
   "file_extension": ".py",
   "mimetype": "text/x-python",
   "name": "python",
   "nbconvert_exporter": "python",
   "pygments_lexer": "ipython2",
   "version": "2.7.6"
  }
 },
 "nbformat": 4,
 "nbformat_minor": 0
}
