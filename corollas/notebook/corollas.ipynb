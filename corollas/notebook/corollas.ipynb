{
 "cells": [
  {
   "cell_type": "code",
   "execution_count": 10,
   "metadata": {
    "collapsed": true,
    "ExecuteTime": {
     "start_time": "2024-01-15T14:42:05.958253Z",
     "end_time": "2024-01-15T14:42:06.006531Z"
    }
   },
   "outputs": [],
   "source": [
    "import pandas as pd"
   ]
  },
  {
   "cell_type": "code",
   "execution_count": 13,
   "outputs": [],
   "source": [
    "df= pd.read_csv('/Users/pkc/PycharmProjects/pythonProject/corollas/data/ToyotaCorolla.csv')"
   ],
   "metadata": {
    "collapsed": false,
    "ExecuteTime": {
     "start_time": "2024-01-15T14:42:36.428384Z",
     "end_time": "2024-01-15T14:42:36.456240Z"
    }
   }
  },
  {
   "cell_type": "code",
   "execution_count": 14,
   "outputs": [
    {
     "data": {
      "text/plain": "(1436, 39)"
     },
     "execution_count": 14,
     "metadata": {},
     "output_type": "execute_result"
    }
   ],
   "source": [
    "df.shape"
   ],
   "metadata": {
    "collapsed": false,
    "ExecuteTime": {
     "start_time": "2024-01-15T14:42:37.636137Z",
     "end_time": "2024-01-15T14:42:37.656168Z"
    }
   }
  },
  {
   "cell_type": "code",
   "execution_count": 20,
   "outputs": [
    {
     "data": {
      "text/plain": "Index(['Id', 'Model', 'Price', 'Age_08_04', 'Mfg_Month', 'Mfg_Year', 'KM',\n       'Fuel_Type', 'HP', 'Met_Color', 'Color', 'Automatic', 'CC', 'Doors',\n       'Cylinders', 'Gears', 'Quarterly_Tax', 'Weight', 'Mfr_Guarantee',\n       'BOVAG_Guarantee', 'Guarantee_Period', 'ABS', 'Airbag_1', 'Airbag_2',\n       'Airco', 'Automatic_airco', 'Boardcomputer', 'CD_Player',\n       'Central_Lock', 'Powered_Windows', 'Power_Steering', 'Radio',\n       'Mistlamps', 'Sport_Model', 'Backseat_Divider', 'Metallic_Rim',\n       'Radio_cassette', 'Parking_Assistant', 'Tow_Bar'],\n      dtype='object')"
     },
     "execution_count": 20,
     "metadata": {},
     "output_type": "execute_result"
    }
   ],
   "source": [
    "df.columns"
   ],
   "metadata": {
    "collapsed": false,
    "ExecuteTime": {
     "start_time": "2024-01-15T14:43:17.250095Z",
     "end_time": "2024-01-15T14:43:17.284354Z"
    }
   }
  },
  {
   "cell_type": "code",
   "execution_count": 25,
   "outputs": [
    {
     "data": {
      "text/plain": "   Price  Mfg_Year\n0  13500      2002\n1  13750      2002\n2  13950      2002\n3  14950      2002\n4  13750      2002",
      "text/html": "<div>\n<style scoped>\n    .dataframe tbody tr th:only-of-type {\n        vertical-align: middle;\n    }\n\n    .dataframe tbody tr th {\n        vertical-align: top;\n    }\n\n    .dataframe thead th {\n        text-align: right;\n    }\n</style>\n<table border=\"1\" class=\"dataframe\">\n  <thead>\n    <tr style=\"text-align: right;\">\n      <th></th>\n      <th>Price</th>\n      <th>Mfg_Year</th>\n    </tr>\n  </thead>\n  <tbody>\n    <tr>\n      <th>0</th>\n      <td>13500</td>\n      <td>2002</td>\n    </tr>\n    <tr>\n      <th>1</th>\n      <td>13750</td>\n      <td>2002</td>\n    </tr>\n    <tr>\n      <th>2</th>\n      <td>13950</td>\n      <td>2002</td>\n    </tr>\n    <tr>\n      <th>3</th>\n      <td>14950</td>\n      <td>2002</td>\n    </tr>\n    <tr>\n      <th>4</th>\n      <td>13750</td>\n      <td>2002</td>\n    </tr>\n  </tbody>\n</table>\n</div>"
     },
     "execution_count": 25,
     "metadata": {},
     "output_type": "execute_result"
    }
   ],
   "source": [
    "df[['Price','Mfg_Year']].head()"
   ],
   "metadata": {
    "collapsed": false,
    "ExecuteTime": {
     "start_time": "2024-01-15T14:45:02.179686Z",
     "end_time": "2024-01-15T14:45:02.210378Z"
    }
   }
  },
  {
   "cell_type": "code",
   "execution_count": 26,
   "outputs": [
    {
     "data": {
      "text/plain": "   Price  Mfg_Year\n0  13500      2002\n1  13750      2002\n2  13950      2002\n3  14950      2002\n4  13750      2002",
      "text/html": "<div>\n<style scoped>\n    .dataframe tbody tr th:only-of-type {\n        vertical-align: middle;\n    }\n\n    .dataframe tbody tr th {\n        vertical-align: top;\n    }\n\n    .dataframe thead th {\n        text-align: right;\n    }\n</style>\n<table border=\"1\" class=\"dataframe\">\n  <thead>\n    <tr style=\"text-align: right;\">\n      <th></th>\n      <th>Price</th>\n      <th>Mfg_Year</th>\n    </tr>\n  </thead>\n  <tbody>\n    <tr>\n      <th>0</th>\n      <td>13500</td>\n      <td>2002</td>\n    </tr>\n    <tr>\n      <th>1</th>\n      <td>13750</td>\n      <td>2002</td>\n    </tr>\n    <tr>\n      <th>2</th>\n      <td>13950</td>\n      <td>2002</td>\n    </tr>\n    <tr>\n      <th>3</th>\n      <td>14950</td>\n      <td>2002</td>\n    </tr>\n    <tr>\n      <th>4</th>\n      <td>13750</td>\n      <td>2002</td>\n    </tr>\n  </tbody>\n</table>\n</div>"
     },
     "execution_count": 26,
     "metadata": {},
     "output_type": "execute_result"
    }
   ],
   "source": [
    "df[['Price', 'Mfg_Year']].head()"
   ],
   "metadata": {
    "collapsed": false,
    "ExecuteTime": {
     "start_time": "2024-01-15T14:45:12.257401Z",
     "end_time": "2024-01-15T14:45:12.273605Z"
    }
   }
  },
  {
   "cell_type": "code",
   "execution_count": 27,
   "outputs": [
    {
     "data": {
      "text/plain": "Mfg_Year\n1999    441\n1998    392\n2000    225\n2001    192\n2002     87\n2003     75\n2004     24\nName: count, dtype: int64"
     },
     "execution_count": 27,
     "metadata": {},
     "output_type": "execute_result"
    }
   ],
   "source": [
    "df.Mfg_Year.value_counts()"
   ],
   "metadata": {
    "collapsed": false,
    "ExecuteTime": {
     "start_time": "2024-01-15T14:46:07.770887Z",
     "end_time": "2024-01-15T14:46:07.778540Z"
    }
   }
  },
  {
   "cell_type": "code",
   "execution_count": 28,
   "outputs": [
    {
     "data": {
      "text/plain": "Mfg_Year\n1998     7925.568878\n1999     9338.401361\n2000    10728.440000\n2001    12274.973958\n2002    16976.252874\n2003    18679.973333\n2004    22324.166667\nName: Price, dtype: float64"
     },
     "execution_count": 28,
     "metadata": {},
     "output_type": "execute_result"
    }
   ],
   "source": [
    "df.groupby('Mfg_Year').Price.mean()"
   ],
   "metadata": {
    "collapsed": false,
    "ExecuteTime": {
     "start_time": "2024-01-15T14:46:43.985821Z",
     "end_time": "2024-01-15T14:46:44.004256Z"
    }
   }
  },
  {
   "cell_type": "code",
   "execution_count": 35,
   "outputs": [
    {
     "data": {
      "text/plain": "<Axes: ylabel='Frequency'>"
     },
     "execution_count": 35,
     "metadata": {},
     "output_type": "execute_result"
    },
    {
     "data": {
      "text/plain": "<Figure size 640x480 with 1 Axes>",
      "image/png": "[encoded data removed]"
     },
     "metadata": {},
     "output_type": "display_data"
    }
   ],
   "source": [
    "df[df.Mfg_Year == 1998].Price.plot(kind='hist',bins=20)"
   ],
   "metadata": {
    "collapsed": false,
    "ExecuteTime": {
     "start_time": "2024-01-15T14:48:46.178359Z",
     "end_time": "2024-01-15T14:48:46.542595Z"
    }
   }
  },
  {
   "cell_type": "code",
   "execution_count": 37,
   "outputs": [
    {
     "data": {
      "text/plain": "7925.568877551021"
     },
     "execution_count": 37,
     "metadata": {},
     "output_type": "execute_result"
    }
   ],
   "source": [
    "df[df.Mfg_Year == 1998].Price.mean()"
   ],
   "metadata": {
    "collapsed": false,
    "ExecuteTime": {
     "start_time": "2024-01-15T14:49:17.732852Z",
     "end_time": "2024-01-15T14:49:17.748183Z"
    }
   }
  }
 ],
 "metadata": {
  "kernelspec": {
   "display_name": "Python 3",
   "language": "python",
   "name": "python3"
  },
  "language_info": {
   "codemirror_mode": {
    "name": "ipython",
    "version": 2
   },
   "file_extension": ".py",
   "mimetype": "text/x-python",
   "name": "python",
   "nbconvert_exporter": "python",
   "pygments_lexer": "ipython2",
   "version": "2.7.6"
  }
 },
 "nbformat": 4,
 "nbformat_minor": 0
}
